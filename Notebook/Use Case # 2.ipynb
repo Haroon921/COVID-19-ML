{
  "nbformat": 4,
  "nbformat_minor": 0,
  "metadata": {
    "colab": {
      "name": "Saudi_Covid_Forecasting.ipynb",
      "provenance": [],
      "collapsed_sections": []
    },
    "kernelspec": {
      "name": "python3",
      "display_name": "Python 3"
    }
  },
  "cells": [
    {
      "cell_type": "code",
      "metadata": {
        "id": "N726tJvIyp2n",
        "colab_type": "code",
        "outputId": "ea3f2ac0-e161-4c37-eaee-39382bef65fe",
        "colab": {
          "base_uri": "https://localhost:8080/",
          "height": 74
        }
      },
      "source": [
        "# import packages\n",
        "import numpy as np\n",
        "import pandas as pd\n",
        "import matplotlib.pyplot as plt\n",
        "from scipy.optimize import curve_fit\n",
        "import datetime \n",
        "from datetime import timedelta\n",
        "import seaborn as sns\n",
        "from sklearn import linear_model\n",
        "%matplotlib inline\n",
        "\n",
        "# Intractive Plotly Viz\n",
        "!pip install plotly\n",
        "import plotly.express as px\n",
        "import plotly.graph_objects as go\n",
        "from plotly.subplots import make_subplots\n",
        "\n",
        "import warnings\n",
        "warnings.filterwarnings('ignore')"
      ],
      "execution_count": 0,
      "outputs": [
        {
          "output_type": "stream",
          "text": [
            "Requirement already satisfied: plotly in /usr/local/lib/python3.6/dist-packages (4.4.1)\n",
            "Requirement already satisfied: six in /usr/local/lib/python3.6/dist-packages (from plotly) (1.12.0)\n",
            "Requirement already satisfied: retrying>=1.3.3 in /usr/local/lib/python3.6/dist-packages (from plotly) (1.3.3)\n"
          ],
          "name": "stdout"
        }
      ]
    },
    {
      "cell_type": "markdown",
      "metadata": {
        "id": "oKStk4IT0fUz",
        "colab_type": "text"
      },
      "source": [
        "#Data input"
      ]
    },
    {
      "cell_type": "code",
      "metadata": {
        "id": "L88QlpN_0ikG",
        "colab_type": "code",
        "outputId": "7df557af-59f6-4785-95e0-fe6fa0b3ddc1",
        "colab": {
          "base_uri": "https://localhost:8080/",
          "height": 204
        }
      },
      "source": [
        "#check the old format\n",
        "confirmed = pd.read_csv('https://raw.githubusercontent.com/CSSEGISandData/COVID-19/master/csse_covid_19_data/csse_covid_19_time_series/time_series_covid19_confirmed_global.csv')\n",
        "deaths = pd.read_csv('https://raw.githubusercontent.com/CSSEGISandData/COVID-19/master/csse_covid_19_data/csse_covid_19_time_series/time_series_covid19_deaths_global.csv')\n",
        "recovered = pd.read_csv('https://raw.githubusercontent.com/CSSEGISandData/COVID-19/master/csse_covid_19_data/csse_covid_19_time_series/time_series_covid19_recovered_global.csv')\n",
        "\n",
        "confirmed_table = confirmed.melt(id_vars=[\"Province/State\", \"Country/Region\", \"Lat\", \"Long\"], var_name=\"Date\", value_name=\"Confirmed\").fillna('').drop(['Lat', 'Long'], axis=1)\n",
        "death_table = deaths.melt(id_vars=[\"Province/State\", \"Country/Region\", \"Lat\", \"Long\"], var_name=\"Date\", value_name=\"Deaths\").fillna('').drop(['Lat', 'Long'], axis=1)\n",
        "recovered_table = recovered.melt(id_vars=[\"Province/State\", \"Country/Region\", \"Lat\", \"Long\"], var_name=\"Date\", value_name=\"Recovered\").fillna('').drop(['Lat', 'Long'], axis=1)\n",
        "\n",
        "df = confirmed_table.merge(death_table).merge(recovered_table)\n",
        "\n",
        "df['Date'] = pd.to_datetime(df['Date'])\n",
        "df.head()"
      ],
      "execution_count": 0,
      "outputs": [
        {
          "output_type": "execute_result",
          "data": {
            "text/html": [
              "<div>\n",
              "<style scoped>\n",
              "    .dataframe tbody tr th:only-of-type {\n",
              "        vertical-align: middle;\n",
              "    }\n",
              "\n",
              "    .dataframe tbody tr th {\n",
              "        vertical-align: top;\n",
              "    }\n",
              "\n",
              "    .dataframe thead th {\n",
              "        text-align: right;\n",
              "    }\n",
              "</style>\n",
              "<table border=\"1\" class=\"dataframe\">\n",
              "  <thead>\n",
              "    <tr style=\"text-align: right;\">\n",
              "      <th></th>\n",
              "      <th>Province/State</th>\n",
              "      <th>Country/Region</th>\n",
              "      <th>Date</th>\n",
              "      <th>Confirmed</th>\n",
              "      <th>Deaths</th>\n",
              "      <th>Recovered</th>\n",
              "    </tr>\n",
              "  </thead>\n",
              "  <tbody>\n",
              "    <tr>\n",
              "      <th>0</th>\n",
              "      <td></td>\n",
              "      <td>Afghanistan</td>\n",
              "      <td>2020-01-22</td>\n",
              "      <td>0</td>\n",
              "      <td>0</td>\n",
              "      <td>0</td>\n",
              "    </tr>\n",
              "    <tr>\n",
              "      <th>1</th>\n",
              "      <td></td>\n",
              "      <td>Albania</td>\n",
              "      <td>2020-01-22</td>\n",
              "      <td>0</td>\n",
              "      <td>0</td>\n",
              "      <td>0</td>\n",
              "    </tr>\n",
              "    <tr>\n",
              "      <th>2</th>\n",
              "      <td></td>\n",
              "      <td>Algeria</td>\n",
              "      <td>2020-01-22</td>\n",
              "      <td>0</td>\n",
              "      <td>0</td>\n",
              "      <td>0</td>\n",
              "    </tr>\n",
              "    <tr>\n",
              "      <th>3</th>\n",
              "      <td></td>\n",
              "      <td>Andorra</td>\n",
              "      <td>2020-01-22</td>\n",
              "      <td>0</td>\n",
              "      <td>0</td>\n",
              "      <td>0</td>\n",
              "    </tr>\n",
              "    <tr>\n",
              "      <th>4</th>\n",
              "      <td></td>\n",
              "      <td>Angola</td>\n",
              "      <td>2020-01-22</td>\n",
              "      <td>0</td>\n",
              "      <td>0</td>\n",
              "      <td>0</td>\n",
              "    </tr>\n",
              "  </tbody>\n",
              "</table>\n",
              "</div>"
            ],
            "text/plain": [
              "  Province/State Country/Region       Date  Confirmed  Deaths  Recovered\n",
              "0                   Afghanistan 2020-01-22          0       0          0\n",
              "1                       Albania 2020-01-22          0       0          0\n",
              "2                       Algeria 2020-01-22          0       0          0\n",
              "3                       Andorra 2020-01-22          0       0          0\n",
              "4                        Angola 2020-01-22          0       0          0"
            ]
          },
          "metadata": {
            "tags": []
          },
          "execution_count": 63
        }
      ]
    },
    {
      "cell_type": "code",
      "metadata": {
        "id": "1igMdKoR1QsV",
        "colab_type": "code",
        "colab": {}
      },
      "source": [
        "owid = pd.read_csv('https://raw.githubusercontent.com/owid/covid-19-data/master/public/data/owid-covid-data.csv')\n",
        "owid['date'] = pd.to_datetime(owid['date'])\n",
        "owid.fillna('', inplace=True)"
      ],
      "execution_count": 0,
      "outputs": []
    },
    {
      "cell_type": "code",
      "metadata": {
        "id": "Qtn2sKSbQSSA",
        "colab_type": "code",
        "colab": {}
      },
      "source": [
        "def get_info(countries):\n",
        "    pop = owid.loc[(owid['location'] == countries) & (owid['date'] == owid['date'].max()), 'population_density']\n",
        "    med = owid.loc[(owid['location'] == countries) & (owid['date'] == owid['date'].max()), 'median_age']    \n",
        "    gdp = owid.loc[(owid['location'] == countries) & (owid['date'] == owid['date'].max()), 'gdp_per_capita']\n",
        "    bed = owid.loc[(owid['location'] == countries) & (owid['date'] == owid['date'].max()), 'hospital_beds_per_100k']\n",
        "    print('population density: '+ str(pop))\n",
        "    print('Median Age: '+ str(med))\n",
        "    print('GDP per capita: '+ str(gdp))\n",
        "    print('Hospital Bed: '+ str(bed))\n"
      ],
      "execution_count": 0,
      "outputs": []
    },
    {
      "cell_type": "code",
      "metadata": {
        "id": "SCVnPyDwV9ME",
        "colab_type": "code",
        "outputId": "b923d0e8-5fb8-4d02-d771-164bcf4363f6",
        "colab": {
          "base_uri": "https://localhost:8080/",
          "height": 169
        }
      },
      "source": [
        "get_info('Saudi Arabia')"
      ],
      "execution_count": 0,
      "outputs": [
        {
          "output_type": "stream",
          "text": [
            "population density: 16877   15.322000\n",
            "Name: population_density, dtype: object\n",
            "Median Age: 16877   31.900000\n",
            "Name: median_age, dtype: object\n",
            "GDP per capita: 16877   49045.411000\n",
            "Name: gdp_per_capita, dtype: object\n",
            "Hospital Bed: 16877   2.700000\n",
            "Name: hospital_beds_per_100k, dtype: object\n"
          ],
          "name": "stdout"
        }
      ]
    },
    {
      "cell_type": "markdown",
      "metadata": {
        "id": "MyXPLWaR9XWd",
        "colab_type": "text"
      },
      "source": [
        "## Exploring for Saudi Arabia based on the current data"
      ]
    },
    {
      "cell_type": "code",
      "metadata": {
        "id": "jdm2K_UuSW-R",
        "colab_type": "code",
        "colab": {}
      },
      "source": [
        "#Extracting Saudi Arabia's data \n",
        "covid_saudi=df[df['Country/Region']==\"Saudi Arabia\"]\n",
        "\n",
        "#Extracting other countries for comparison of worst affected countries\n",
        "covid_spain=df[df['Country/Region']==\"Spain\"]\n",
        "covid_us=df[df['Country/Region']==\"US\"]\n",
        "covid_italy=df[df['Country/Region']==\"Italy\"]\n",
        "covid_iran=df[df['Country/Region']==\"Iran\"]\n",
        "covid_france=df[df['Country/Region']==\"France\"]\n",
        "covid_uk=df[df['Country/Region']==\"UK\"]\n",
        "covid_br=df[df['Country/Region']==\"Brazil\"]"
      ],
      "execution_count": 0,
      "outputs": []
    },
    {
      "cell_type": "code",
      "metadata": {
        "id": "bQAFcb2aUYmw",
        "colab_type": "code",
        "colab": {}
      },
      "source": [
        "#Converting the date into Datetime format\n",
        "covid_saudi[\"Date\"]=pd.to_datetime(covid_saudi[\"Date\"])\n",
        "covid_spain[\"Date\"]=pd.to_datetime(covid_spain[\"Date\"])\n",
        "covid_us[\"Date\"]=pd.to_datetime(covid_us[\"Date\"])\n",
        "covid_italy[\"Date\"]=pd.to_datetime(covid_italy[\"Date\"])\n",
        "covid_iran[\"Date\"]=pd.to_datetime(covid_iran[\"Date\"])\n",
        "covid_france[\"Date\"]=pd.to_datetime(covid_france[\"Date\"])\n",
        "covid_uk[\"Date\"]=pd.to_datetime(covid_uk[\"Date\"])\n",
        "covid_br[\"Date\"]=pd.to_datetime(covid_br[\"Date\"])"
      ],
      "execution_count": 0,
      "outputs": []
    },
    {
      "cell_type": "code",
      "metadata": {
        "id": "NBTyqswtUm8P",
        "colab_type": "code",
        "colab": {}
      },
      "source": [
        "#Grouping the data based on the Date \n",
        "saudi_datewise=covid_saudi.groupby([\"Date\"]).agg({\"Confirmed\":'sum',\"Recovered\":'sum',\"Deaths\":'sum'})\n",
        "spain_datewise=covid_spain.groupby([\"Date\"]).agg({\"Confirmed\":'sum',\"Recovered\":'sum',\"Deaths\":'sum'})\n",
        "us_datewise=covid_us.groupby([\"Date\"]).agg({\"Confirmed\":'sum',\"Recovered\":'sum',\"Deaths\":'sum'})\n",
        "italy_datewise=covid_italy.groupby([\"Date\"]).agg({\"Confirmed\":'sum',\"Recovered\":'sum',\"Deaths\":'sum'})\n",
        "iran_datewise=covid_iran.groupby([\"Date\"]).agg({\"Confirmed\":'sum',\"Recovered\":'sum',\"Deaths\":'sum'})\n",
        "france_datewise=covid_france.groupby([\"Date\"]).agg({\"Confirmed\":'sum',\"Recovered\":'sum',\"Deaths\":'sum'})\n",
        "uk_datewise=covid_uk.groupby([\"Date\"]).agg({\"Confirmed\":'sum',\"Recovered\":'sum',\"Deaths\":'sum'})\n",
        "brazil_datewise=covid_br.groupby([\"Date\"]).agg({\"Confirmed\":'sum',\"Recovered\":'sum',\"Deaths\":'sum'})"
      ],
      "execution_count": 0,
      "outputs": []
    },
    {
      "cell_type": "code",
      "metadata": {
        "id": "jbEWh8B3a5EN",
        "colab_type": "code",
        "colab": {}
      },
      "source": [
        "saudi_datewise[\"Days Since\"]=(saudi_datewise.index-saudi_datewise.index[0])\n",
        "saudi_datewise[\"Days Since\"]=saudi_datewise[\"Days Since\"].dt.days"
      ],
      "execution_count": 0,
      "outputs": []
    },
    {
      "cell_type": "code",
      "metadata": {
        "id": "Xj_LKrs7U4dO",
        "colab_type": "code",
        "colab": {}
      },
      "source": [
        "#Adding week column to perfom weekly analysis further ahead\n",
        "saudi_datewise[\"WeekofYear\"]=saudi_datewise.index.weekofyear\n",
        "spain_datewise[\"WeekofYear\"]=spain_datewise.index.weekofyear\n",
        "us_datewise[\"WeekofYear\"]=us_datewise.index.weekofyear\n",
        "italy_datewise[\"WeekofYear\"]=italy_datewise.index.weekofyear\n",
        "iran_datewise[\"WeekofYear\"]=iran_datewise.index.weekofyear\n",
        "france_datewise[\"WeekofYear\"]=france_datewise.index.weekofyear\n",
        "uk_datewise[\"WeekofYear\"]=uk_datewise.index.weekofyear\n",
        "brazil_datewise[\"WeekofYear\"]=brazil_datewise.index.weekofyear"
      ],
      "execution_count": 0,
      "outputs": []
    },
    {
      "cell_type": "code",
      "metadata": {
        "id": "ArCqstZsU_AO",
        "colab_type": "code",
        "colab": {}
      },
      "source": [
        "df[\"Date\"]=pd.to_datetime(df[\"Date\"])\n",
        "grouped_country=df.groupby([\"Country/Region\",\"Date\"]).agg({\"Confirmed\":'sum',\n",
        "                                                                         \"Recovered\":'sum',\"Deaths\":'sum'})"
      ],
      "execution_count": 0,
      "outputs": []
    },
    {
      "cell_type": "code",
      "metadata": {
        "id": "_mXtBWi8VQ2G",
        "colab_type": "code",
        "colab": {}
      },
      "source": [
        "grouped_country[\"Active Cases\"]=grouped_country[\"Confirmed\"]-grouped_country[\"Recovered\"]-grouped_country[\"Deaths\"]\n",
        "grouped_country[\"log_confirmed\"]=np.log(grouped_country[\"Confirmed\"])\n",
        "grouped_country[\"log_active\"]=np.log(grouped_country[\"Active Cases\"])"
      ],
      "execution_count": 0,
      "outputs": []
    },
    {
      "cell_type": "code",
      "metadata": {
        "id": "EWUgI-wOVcNA",
        "colab_type": "code",
        "outputId": "193a5298-ad80-41e9-c7c0-f59af9f1b959",
        "colab": {
          "base_uri": "https://localhost:8080/",
          "height": 226
        }
      },
      "source": [
        "print(\"Number of Confirmed Cases\",saudi_datewise[\"Confirmed\"].iloc[-1])\n",
        "print(\"Number of Recovered Cases\",saudi_datewise[\"Recovered\"].iloc[-1])\n",
        "print(\"Number of Death Cases\",saudi_datewise[\"Deaths\"].iloc[-1])\n",
        "print(\"Number of Active Cases\",saudi_datewise[\"Confirmed\"].iloc[-1]-saudi_datewise[\"Recovered\"].iloc[-1]-saudi_datewise[\"Deaths\"].iloc[-1])\n",
        "print(\"Number of Closed Cases\",saudi_datewise[\"Recovered\"].iloc[-1]+saudi_datewise[\"Deaths\"].iloc[-1])\n",
        "print(\"Approximate Number of Confirmed Cases per day\",round(saudi_datewise[\"Confirmed\"].iloc[-1]/saudi_datewise.shape[0]))\n",
        "print(\"Approximate Number of Recovered Cases per day\",round(saudi_datewise[\"Recovered\"].iloc[-1]/saudi_datewise.shape[0]))\n",
        "print(\"Approximate Number of Death Cases per day\",round(saudi_datewise[\"Deaths\"].iloc[-1]/saudi_datewise.shape[0]))\n",
        "print(\"Number of New Cofirmed Cases in last 24 hours are\",saudi_datewise[\"Confirmed\"].iloc[-1]-saudi_datewise[\"Confirmed\"].iloc[-2])\n",
        "print(\"Number of New Recoverd Cases in last 24 hours are\",saudi_datewise[\"Recovered\"].iloc[-1]-saudi_datewise[\"Recovered\"].iloc[-2])\n",
        "print(\"Number of New Death Cases in last 24 hours are\",saudi_datewise[\"Deaths\"].iloc[-1]-saudi_datewise[\"Deaths\"].iloc[-2])"
      ],
      "execution_count": 0,
      "outputs": [
        {
          "output_type": "stream",
          "text": [
            "Number of Confirmed Cases 83384\n",
            "Number of Recovered Cases 58883\n",
            "Number of Death Cases 480\n",
            "Number of Active Cases 24021\n",
            "Number of Closed Cases 59363\n",
            "Approximate Number of Confirmed Cases per day 641.0\n",
            "Approximate Number of Recovered Cases per day 453.0\n",
            "Approximate Number of Death Cases per day 4.0\n",
            "Number of New Cofirmed Cases in last 24 hours are 1618\n",
            "Number of New Recoverd Cases in last 24 hours are 1870\n",
            "Number of New Death Cases in last 24 hours are 22\n"
          ],
          "name": "stdout"
        }
      ]
    },
    {
      "cell_type": "markdown",
      "metadata": {
        "id": "IBH47aUOV2Lz",
        "colab_type": "text"
      },
      "source": [
        "Active Cases = Number of Confirmed Cases - Number of Recovered Cases - Number of Death Cases"
      ]
    },
    {
      "cell_type": "code",
      "metadata": {
        "id": "NJYf6jtbVvv7",
        "colab_type": "code",
        "outputId": "81456363-7038-45dc-d194-d0e0d2e282f8",
        "colab": {
          "base_uri": "https://localhost:8080/",
          "height": 542
        }
      },
      "source": [
        "fig=px.bar(x=saudi_datewise.index,y=saudi_datewise[\"Confirmed\"]-saudi_datewise[\"Recovered\"]-saudi_datewise[\"Deaths\"])\n",
        "fig.update_layout(title=\"Distribution of Number of Active Cases\",\n",
        "                  xaxis_title=\"Date\",yaxis_title=\"Number of Cases\",)\n",
        "fig.show()"
      ],
      "execution_count": 0,
      "outputs": [
        {
          "output_type": "display_data",
          "data": {
            "text/html": [
              "<html>\n",
              "<head><meta charset=\"utf-8\" /></head>\n",
              "<body>\n",
              "    <div>\n",
              "            <script src=\"https://cdnjs.cloudflare.com/ajax/libs/mathjax/2.7.5/MathJax.js?config=TeX-AMS-MML_SVG\"></script><script type=\"text/javascript\">if (window.MathJax) {MathJax.Hub.Config({SVG: {font: \"STIX-Web\"}});}</script>\n",
              "                <script type=\"text/javascript\">window.PlotlyConfig = {MathJaxConfig: 'local'};</script>\n",
              "        <script src=\"https://cdn.plot.ly/plotly-latest.min.js\"></script>    \n",
              "            <div id=\"198b5c68-70db-46cb-aa20-72bdd58e0934\" class=\"plotly-graph-div\" style=\"height:525px; width:100%;\"></div>\n",
              "            <script type=\"text/javascript\">\n",
              "                \n",
              "                    window.PLOTLYENV=window.PLOTLYENV || {};\n",
              "                    \n",
              "                if (document.getElementById(\"198b5c68-70db-46cb-aa20-72bdd58e0934\")) {\n",
              "                    Plotly.newPlot(\n",
              "                        '198b5c68-70db-46cb-aa20-72bdd58e0934',\n",
              "                        [{\"alignmentgroup\": \"True\", \"hoverlabel\": {\"namelength\": 0}, \"hovertemplate\": \"x=%{x}<br>y=%{y}\", \"legendgroup\": \"\", \"marker\": {\"color\": \"#636efa\"}, \"name\": \"\", \"offsetgroup\": \"\", \"orientation\": \"v\", \"showlegend\": false, \"textposition\": \"auto\", \"type\": \"bar\", \"x\": [\"2020-01-22T00:00:00\", \"2020-01-23T00:00:00\", \"2020-01-24T00:00:00\", \"2020-01-25T00:00:00\", \"2020-01-26T00:00:00\", \"2020-01-27T00:00:00\", \"2020-01-28T00:00:00\", \"2020-01-29T00:00:00\", \"2020-01-30T00:00:00\", \"2020-01-31T00:00:00\", \"2020-02-01T00:00:00\", \"2020-02-02T00:00:00\", \"2020-02-03T00:00:00\", \"2020-02-04T00:00:00\", \"2020-02-05T00:00:00\", \"2020-02-06T00:00:00\", \"2020-02-07T00:00:00\", \"2020-02-08T00:00:00\", \"2020-02-09T00:00:00\", \"2020-02-10T00:00:00\", \"2020-02-11T00:00:00\", \"2020-02-12T00:00:00\", \"2020-02-13T00:00:00\", \"2020-02-14T00:00:00\", \"2020-02-15T00:00:00\", \"2020-02-16T00:00:00\", \"2020-02-17T00:00:00\", \"2020-02-18T00:00:00\", \"2020-02-19T00:00:00\", \"2020-02-20T00:00:00\", \"2020-02-21T00:00:00\", \"2020-02-22T00:00:00\", \"2020-02-23T00:00:00\", \"2020-02-24T00:00:00\", \"2020-02-25T00:00:00\", \"2020-02-26T00:00:00\", \"2020-02-27T00:00:00\", \"2020-02-28T00:00:00\", \"2020-02-29T00:00:00\", \"2020-03-01T00:00:00\", \"2020-03-02T00:00:00\", \"2020-03-03T00:00:00\", \"2020-03-04T00:00:00\", \"2020-03-05T00:00:00\", \"2020-03-06T00:00:00\", \"2020-03-07T00:00:00\", \"2020-03-08T00:00:00\", \"2020-03-09T00:00:00\", \"2020-03-10T00:00:00\", \"2020-03-11T00:00:00\", \"2020-03-12T00:00:00\", \"2020-03-13T00:00:00\", \"2020-03-14T00:00:00\", \"2020-03-15T00:00:00\", \"2020-03-16T00:00:00\", \"2020-03-17T00:00:00\", \"2020-03-18T00:00:00\", \"2020-03-19T00:00:00\", \"2020-03-20T00:00:00\", \"2020-03-21T00:00:00\", \"2020-03-22T00:00:00\", \"2020-03-23T00:00:00\", \"2020-03-24T00:00:00\", \"2020-03-25T00:00:00\", \"2020-03-26T00:00:00\", \"2020-03-27T00:00:00\", \"2020-03-28T00:00:00\", \"2020-03-29T00:00:00\", \"2020-03-30T00:00:00\", \"2020-03-31T00:00:00\", \"2020-04-01T00:00:00\", \"2020-04-02T00:00:00\", \"2020-04-03T00:00:00\", \"2020-04-04T00:00:00\", \"2020-04-05T00:00:00\", \"2020-04-06T00:00:00\", \"2020-04-07T00:00:00\", \"2020-04-08T00:00:00\", \"2020-04-09T00:00:00\", \"2020-04-10T00:00:00\", \"2020-04-11T00:00:00\", \"2020-04-12T00:00:00\", \"2020-04-13T00:00:00\", \"2020-04-14T00:00:00\", \"2020-04-15T00:00:00\", \"2020-04-16T00:00:00\", \"2020-04-17T00:00:00\", \"2020-04-18T00:00:00\", \"2020-04-19T00:00:00\", \"2020-04-20T00:00:00\", \"2020-04-21T00:00:00\", \"2020-04-22T00:00:00\", \"2020-04-23T00:00:00\", \"2020-04-24T00:00:00\", \"2020-04-25T00:00:00\", \"2020-04-26T00:00:00\", \"2020-04-27T00:00:00\", \"2020-04-28T00:00:00\", \"2020-04-29T00:00:00\", \"2020-04-30T00:00:00\", \"2020-05-01T00:00:00\", \"2020-05-02T00:00:00\", \"2020-05-03T00:00:00\", \"2020-05-04T00:00:00\", \"2020-05-05T00:00:00\", \"2020-05-06T00:00:00\", \"2020-05-07T00:00:00\", \"2020-05-08T00:00:00\", \"2020-05-09T00:00:00\", \"2020-05-10T00:00:00\", \"2020-05-11T00:00:00\", \"2020-05-12T00:00:00\", \"2020-05-13T00:00:00\", \"2020-05-14T00:00:00\", \"2020-05-15T00:00:00\", \"2020-05-16T00:00:00\", \"2020-05-17T00:00:00\", \"2020-05-18T00:00:00\", \"2020-05-19T00:00:00\", \"2020-05-20T00:00:00\", \"2020-05-21T00:00:00\", \"2020-05-22T00:00:00\", \"2020-05-23T00:00:00\", \"2020-05-24T00:00:00\", \"2020-05-25T00:00:00\", \"2020-05-26T00:00:00\", \"2020-05-27T00:00:00\", \"2020-05-28T00:00:00\", \"2020-05-29T00:00:00\", \"2020-05-30T00:00:00\"], \"xaxis\": \"x\", \"y\": [0, 0, 0, 0, 0, 0, 0, 0, 0, 0, 0, 0, 0, 0, 0, 0, 0, 0, 0, 0, 0, 0, 0, 0, 0, 0, 0, 0, 0, 0, 0, 0, 0, 0, 0, 0, 0, 0, 0, 0, 1, 1, 1, 5, 5, 5, 11, 15, 19, 20, 44, 85, 102, 102, 116, 165, 165, 268, 336, 376, 495, 546, 738, 869, 976, 1066, 1162, 1225, 1330, 1388, 1440, 1536, 1663, 1730, 1880, 2016, 2139, 2260, 2577, 2919, 3261, 3642, 4064, 4407, 4852, 5307, 6006, 6853, 7867, 8891, 9882, 10846, 11884, 12926, 13948, 15026, 16136, 17141, 18292, 19428, 20373, 21518, 22693, 23989, 24620, 24946, 25714, 26083, 26753, 27345, 28022, 27404, 26935, 27535, 27015, 28048, 28718, 28277, 27891, 28728, 28686, 28352, 28546, 28650, 28728, 27865, 27094, 25191, 24295, 24021], \"yaxis\": \"y\"}],\n",
              "                        {\"barmode\": \"relative\", \"legend\": {\"tracegroupgap\": 0}, \"margin\": {\"t\": 60}, \"template\": {\"data\": {\"bar\": [{\"error_x\": {\"color\": \"#2a3f5f\"}, \"error_y\": {\"color\": \"#2a3f5f\"}, \"marker\": {\"line\": {\"color\": \"#E5ECF6\", \"width\": 0.5}}, \"type\": \"bar\"}], \"barpolar\": [{\"marker\": {\"line\": {\"color\": \"#E5ECF6\", \"width\": 0.5}}, \"type\": \"barpolar\"}], \"carpet\": [{\"aaxis\": {\"endlinecolor\": \"#2a3f5f\", \"gridcolor\": \"white\", \"linecolor\": \"white\", \"minorgridcolor\": \"white\", \"startlinecolor\": \"#2a3f5f\"}, \"baxis\": {\"endlinecolor\": \"#2a3f5f\", \"gridcolor\": \"white\", \"linecolor\": \"white\", \"minorgridcolor\": \"white\", \"startlinecolor\": \"#2a3f5f\"}, \"type\": \"carpet\"}], \"choropleth\": [{\"colorbar\": {\"outlinewidth\": 0, \"ticks\": \"\"}, \"type\": \"choropleth\"}], \"contour\": [{\"colorbar\": {\"outlinewidth\": 0, \"ticks\": \"\"}, \"colorscale\": [[0.0, \"#0d0887\"], [0.1111111111111111, \"#46039f\"], [0.2222222222222222, \"#7201a8\"], [0.3333333333333333, \"#9c179e\"], [0.4444444444444444, \"#bd3786\"], [0.5555555555555556, \"#d8576b\"], [0.6666666666666666, \"#ed7953\"], [0.7777777777777778, \"#fb9f3a\"], [0.8888888888888888, \"#fdca26\"], [1.0, \"#f0f921\"]], \"type\": \"contour\"}], \"contourcarpet\": [{\"colorbar\": {\"outlinewidth\": 0, \"ticks\": \"\"}, \"type\": \"contourcarpet\"}], \"heatmap\": [{\"colorbar\": {\"outlinewidth\": 0, \"ticks\": \"\"}, \"colorscale\": [[0.0, \"#0d0887\"], [0.1111111111111111, \"#46039f\"], [0.2222222222222222, \"#7201a8\"], [0.3333333333333333, \"#9c179e\"], [0.4444444444444444, \"#bd3786\"], [0.5555555555555556, \"#d8576b\"], [0.6666666666666666, \"#ed7953\"], [0.7777777777777778, \"#fb9f3a\"], [0.8888888888888888, \"#fdca26\"], [1.0, \"#f0f921\"]], \"type\": \"heatmap\"}], \"heatmapgl\": [{\"colorbar\": {\"outlinewidth\": 0, \"ticks\": \"\"}, \"colorscale\": [[0.0, \"#0d0887\"], [0.1111111111111111, \"#46039f\"], [0.2222222222222222, \"#7201a8\"], [0.3333333333333333, \"#9c179e\"], [0.4444444444444444, \"#bd3786\"], [0.5555555555555556, \"#d8576b\"], [0.6666666666666666, \"#ed7953\"], [0.7777777777777778, \"#fb9f3a\"], [0.8888888888888888, \"#fdca26\"], [1.0, \"#f0f921\"]], \"type\": \"heatmapgl\"}], \"histogram\": [{\"marker\": {\"colorbar\": {\"outlinewidth\": 0, \"ticks\": \"\"}}, \"type\": \"histogram\"}], \"histogram2d\": [{\"colorbar\": {\"outlinewidth\": 0, \"ticks\": \"\"}, \"colorscale\": [[0.0, \"#0d0887\"], [0.1111111111111111, \"#46039f\"], [0.2222222222222222, \"#7201a8\"], [0.3333333333333333, \"#9c179e\"], [0.4444444444444444, \"#bd3786\"], [0.5555555555555556, \"#d8576b\"], [0.6666666666666666, \"#ed7953\"], [0.7777777777777778, \"#fb9f3a\"], [0.8888888888888888, \"#fdca26\"], [1.0, \"#f0f921\"]], \"type\": \"histogram2d\"}], \"histogram2dcontour\": [{\"colorbar\": {\"outlinewidth\": 0, \"ticks\": \"\"}, \"colorscale\": [[0.0, \"#0d0887\"], [0.1111111111111111, \"#46039f\"], [0.2222222222222222, \"#7201a8\"], [0.3333333333333333, \"#9c179e\"], [0.4444444444444444, \"#bd3786\"], [0.5555555555555556, \"#d8576b\"], [0.6666666666666666, \"#ed7953\"], [0.7777777777777778, \"#fb9f3a\"], [0.8888888888888888, \"#fdca26\"], [1.0, \"#f0f921\"]], \"type\": \"histogram2dcontour\"}], \"mesh3d\": [{\"colorbar\": {\"outlinewidth\": 0, \"ticks\": \"\"}, \"type\": \"mesh3d\"}], \"parcoords\": [{\"line\": {\"colorbar\": {\"outlinewidth\": 0, \"ticks\": \"\"}}, \"type\": \"parcoords\"}], \"pie\": [{\"automargin\": true, \"type\": \"pie\"}], \"scatter\": [{\"marker\": {\"colorbar\": {\"outlinewidth\": 0, \"ticks\": \"\"}}, \"type\": \"scatter\"}], \"scatter3d\": [{\"line\": {\"colorbar\": {\"outlinewidth\": 0, \"ticks\": \"\"}}, \"marker\": {\"colorbar\": {\"outlinewidth\": 0, \"ticks\": \"\"}}, \"type\": \"scatter3d\"}], \"scattercarpet\": [{\"marker\": {\"colorbar\": {\"outlinewidth\": 0, \"ticks\": \"\"}}, \"type\": \"scattercarpet\"}], \"scattergeo\": [{\"marker\": {\"colorbar\": {\"outlinewidth\": 0, \"ticks\": \"\"}}, \"type\": \"scattergeo\"}], \"scattergl\": [{\"marker\": {\"colorbar\": {\"outlinewidth\": 0, \"ticks\": \"\"}}, \"type\": \"scattergl\"}], \"scattermapbox\": [{\"marker\": {\"colorbar\": {\"outlinewidth\": 0, \"ticks\": \"\"}}, \"type\": \"scattermapbox\"}], \"scatterpolar\": [{\"marker\": {\"colorbar\": {\"outlinewidth\": 0, \"ticks\": \"\"}}, \"type\": \"scatterpolar\"}], \"scatterpolargl\": [{\"marker\": {\"colorbar\": {\"outlinewidth\": 0, \"ticks\": \"\"}}, \"type\": \"scatterpolargl\"}], \"scatterternary\": [{\"marker\": {\"colorbar\": {\"outlinewidth\": 0, \"ticks\": \"\"}}, \"type\": \"scatterternary\"}], \"surface\": [{\"colorbar\": {\"outlinewidth\": 0, \"ticks\": \"\"}, \"colorscale\": [[0.0, \"#0d0887\"], [0.1111111111111111, \"#46039f\"], [0.2222222222222222, \"#7201a8\"], [0.3333333333333333, \"#9c179e\"], [0.4444444444444444, \"#bd3786\"], [0.5555555555555556, \"#d8576b\"], [0.6666666666666666, \"#ed7953\"], [0.7777777777777778, \"#fb9f3a\"], [0.8888888888888888, \"#fdca26\"], [1.0, \"#f0f921\"]], \"type\": \"surface\"}], \"table\": [{\"cells\": {\"fill\": {\"color\": \"#EBF0F8\"}, \"line\": {\"color\": \"white\"}}, \"header\": {\"fill\": {\"color\": \"#C8D4E3\"}, \"line\": {\"color\": \"white\"}}, \"type\": \"table\"}]}, \"layout\": {\"annotationdefaults\": {\"arrowcolor\": \"#2a3f5f\", \"arrowhead\": 0, \"arrowwidth\": 1}, \"coloraxis\": {\"colorbar\": {\"outlinewidth\": 0, \"ticks\": \"\"}}, \"colorscale\": {\"diverging\": [[0, \"#8e0152\"], [0.1, \"#c51b7d\"], [0.2, \"#de77ae\"], [0.3, \"#f1b6da\"], [0.4, \"#fde0ef\"], [0.5, \"#f7f7f7\"], [0.6, \"#e6f5d0\"], [0.7, \"#b8e186\"], [0.8, \"#7fbc41\"], [0.9, \"#4d9221\"], [1, \"#276419\"]], \"sequential\": [[0.0, \"#0d0887\"], [0.1111111111111111, \"#46039f\"], [0.2222222222222222, \"#7201a8\"], [0.3333333333333333, \"#9c179e\"], [0.4444444444444444, \"#bd3786\"], [0.5555555555555556, \"#d8576b\"], [0.6666666666666666, \"#ed7953\"], [0.7777777777777778, \"#fb9f3a\"], [0.8888888888888888, \"#fdca26\"], [1.0, \"#f0f921\"]], \"sequentialminus\": [[0.0, \"#0d0887\"], [0.1111111111111111, \"#46039f\"], [0.2222222222222222, \"#7201a8\"], [0.3333333333333333, \"#9c179e\"], [0.4444444444444444, \"#bd3786\"], [0.5555555555555556, \"#d8576b\"], [0.6666666666666666, \"#ed7953\"], [0.7777777777777778, \"#fb9f3a\"], [0.8888888888888888, \"#fdca26\"], [1.0, \"#f0f921\"]]}, \"colorway\": [\"#636efa\", \"#EF553B\", \"#00cc96\", \"#ab63fa\", \"#FFA15A\", \"#19d3f3\", \"#FF6692\", \"#B6E880\", \"#FF97FF\", \"#FECB52\"], \"font\": {\"color\": \"#2a3f5f\"}, \"geo\": {\"bgcolor\": \"white\", \"lakecolor\": \"white\", \"landcolor\": \"#E5ECF6\", \"showlakes\": true, \"showland\": true, \"subunitcolor\": \"white\"}, \"hoverlabel\": {\"align\": \"left\"}, \"hovermode\": \"closest\", \"mapbox\": {\"style\": \"light\"}, \"paper_bgcolor\": \"white\", \"plot_bgcolor\": \"#E5ECF6\", \"polar\": {\"angularaxis\": {\"gridcolor\": \"white\", \"linecolor\": \"white\", \"ticks\": \"\"}, \"bgcolor\": \"#E5ECF6\", \"radialaxis\": {\"gridcolor\": \"white\", \"linecolor\": \"white\", \"ticks\": \"\"}}, \"scene\": {\"xaxis\": {\"backgroundcolor\": \"#E5ECF6\", \"gridcolor\": \"white\", \"gridwidth\": 2, \"linecolor\": \"white\", \"showbackground\": true, \"ticks\": \"\", \"zerolinecolor\": \"white\"}, \"yaxis\": {\"backgroundcolor\": \"#E5ECF6\", \"gridcolor\": \"white\", \"gridwidth\": 2, \"linecolor\": \"white\", \"showbackground\": true, \"ticks\": \"\", \"zerolinecolor\": \"white\"}, \"zaxis\": {\"backgroundcolor\": \"#E5ECF6\", \"gridcolor\": \"white\", \"gridwidth\": 2, \"linecolor\": \"white\", \"showbackground\": true, \"ticks\": \"\", \"zerolinecolor\": \"white\"}}, \"shapedefaults\": {\"line\": {\"color\": \"#2a3f5f\"}}, \"ternary\": {\"aaxis\": {\"gridcolor\": \"white\", \"linecolor\": \"white\", \"ticks\": \"\"}, \"baxis\": {\"gridcolor\": \"white\", \"linecolor\": \"white\", \"ticks\": \"\"}, \"bgcolor\": \"#E5ECF6\", \"caxis\": {\"gridcolor\": \"white\", \"linecolor\": \"white\", \"ticks\": \"\"}}, \"title\": {\"x\": 0.05}, \"xaxis\": {\"automargin\": true, \"gridcolor\": \"white\", \"linecolor\": \"white\", \"ticks\": \"\", \"title\": {\"standoff\": 15}, \"zerolinecolor\": \"white\", \"zerolinewidth\": 2}, \"yaxis\": {\"automargin\": true, \"gridcolor\": \"white\", \"linecolor\": \"white\", \"ticks\": \"\", \"title\": {\"standoff\": 15}, \"zerolinecolor\": \"white\", \"zerolinewidth\": 2}}}, \"title\": {\"text\": \"Distribution of Number of Active Cases\"}, \"xaxis\": {\"anchor\": \"y\", \"domain\": [0.0, 1.0], \"title\": {\"text\": \"Date\"}}, \"yaxis\": {\"anchor\": \"x\", \"domain\": [0.0, 1.0], \"title\": {\"text\": \"Number of Cases\"}}},\n",
              "                        {\"responsive\": true}\n",
              "                    ).then(function(){\n",
              "                            \n",
              "var gd = document.getElementById('198b5c68-70db-46cb-aa20-72bdd58e0934');\n",
              "var x = new MutationObserver(function (mutations, observer) {{\n",
              "        var display = window.getComputedStyle(gd).display;\n",
              "        if (!display || display === 'none') {{\n",
              "            console.log([gd, 'removed!']);\n",
              "            Plotly.purge(gd);\n",
              "            observer.disconnect();\n",
              "        }}\n",
              "}});\n",
              "\n",
              "// Listen for the removal of the full notebook cells\n",
              "var notebookContainer = gd.closest('#notebook-container');\n",
              "if (notebookContainer) {{\n",
              "    x.observe(notebookContainer, {childList: true});\n",
              "}}\n",
              "\n",
              "// Listen for the clearing of the current output cell\n",
              "var outputEl = gd.closest('.output');\n",
              "if (outputEl) {{\n",
              "    x.observe(outputEl, {childList: true});\n",
              "}}\n",
              "\n",
              "                        })\n",
              "                };\n",
              "                \n",
              "            </script>\n",
              "        </div>\n",
              "</body>\n",
              "</html>"
            ]
          },
          "metadata": {
            "tags": []
          }
        }
      ]
    },
    {
      "cell_type": "code",
      "metadata": {
        "id": "hQ62EdjZWHvL",
        "colab_type": "code",
        "outputId": "1022cfde-45d3-4ebc-fa90-5d62897e5e23",
        "colab": {
          "base_uri": "https://localhost:8080/",
          "height": 542
        }
      },
      "source": [
        "fig=go.Figure()\n",
        "fig.add_trace(go.Scatter(x=saudi_datewise.index, y=saudi_datewise[\"Confirmed\"],\n",
        "                    mode='lines+markers',\n",
        "                    name='Confirmed Cases'))\n",
        "fig.add_trace(go.Scatter(x=saudi_datewise.index, y=saudi_datewise[\"Recovered\"],\n",
        "                    mode='lines+markers',\n",
        "                    name='Recovered Cases'))\n",
        "fig.add_trace(go.Scatter(x=saudi_datewise.index, y=saudi_datewise[\"Deaths\"],\n",
        "                    mode='lines+markers',\n",
        "                    name='Death Cases'))\n",
        "fig.update_layout(title=\"Growth of different types of cases in Saudi Arabia\",\n",
        "                 xaxis_title=\"Date\",yaxis_title=\"Number of Cases\",legend=dict(x=0,y=1,traceorder=\"normal\"))\n",
        "fig.show()"
      ],
      "execution_count": 0,
      "outputs": [
        {
          "output_type": "display_data",
          "data": {
            "text/html": [
              "<html>\n",
              "<head><meta charset=\"utf-8\" /></head>\n",
              "<body>\n",
              "    <div>\n",
              "            <script src=\"https://cdnjs.cloudflare.com/ajax/libs/mathjax/2.7.5/MathJax.js?config=TeX-AMS-MML_SVG\"></script><script type=\"text/javascript\">if (window.MathJax) {MathJax.Hub.Config({SVG: {font: \"STIX-Web\"}});}</script>\n",
              "                <script type=\"text/javascript\">window.PlotlyConfig = {MathJaxConfig: 'local'};</script>\n",
              "        <script src=\"https://cdn.plot.ly/plotly-latest.min.js\"></script>    \n",
              "            <div id=\"ad8ab1eb-3583-4ea3-94c3-486f4858fe01\" class=\"plotly-graph-div\" style=\"height:525px; width:100%;\"></div>\n",
              "            <script type=\"text/javascript\">\n",
              "                \n",
              "                    window.PLOTLYENV=window.PLOTLYENV || {};\n",
              "                    \n",
              "                if (document.getElementById(\"ad8ab1eb-3583-4ea3-94c3-486f4858fe01\")) {\n",
              "                    Plotly.newPlot(\n",
              "                        'ad8ab1eb-3583-4ea3-94c3-486f4858fe01',\n",
              "                        [{\"mode\": \"lines+markers\", \"name\": \"Confirmed Cases\", \"type\": \"scatter\", \"x\": [\"2020-01-22T00:00:00\", \"2020-01-23T00:00:00\", \"2020-01-24T00:00:00\", \"2020-01-25T00:00:00\", \"2020-01-26T00:00:00\", \"2020-01-27T00:00:00\", \"2020-01-28T00:00:00\", \"2020-01-29T00:00:00\", \"2020-01-30T00:00:00\", \"2020-01-31T00:00:00\", \"2020-02-01T00:00:00\", \"2020-02-02T00:00:00\", \"2020-02-03T00:00:00\", \"2020-02-04T00:00:00\", \"2020-02-05T00:00:00\", \"2020-02-06T00:00:00\", \"2020-02-07T00:00:00\", \"2020-02-08T00:00:00\", \"2020-02-09T00:00:00\", \"2020-02-10T00:00:00\", \"2020-02-11T00:00:00\", \"2020-02-12T00:00:00\", \"2020-02-13T00:00:00\", \"2020-02-14T00:00:00\", \"2020-02-15T00:00:00\", \"2020-02-16T00:00:00\", \"2020-02-17T00:00:00\", \"2020-02-18T00:00:00\", \"2020-02-19T00:00:00\", \"2020-02-20T00:00:00\", \"2020-02-21T00:00:00\", \"2020-02-22T00:00:00\", \"2020-02-23T00:00:00\", \"2020-02-24T00:00:00\", \"2020-02-25T00:00:00\", \"2020-02-26T00:00:00\", \"2020-02-27T00:00:00\", \"2020-02-28T00:00:00\", \"2020-02-29T00:00:00\", \"2020-03-01T00:00:00\", \"2020-03-02T00:00:00\", \"2020-03-03T00:00:00\", \"2020-03-04T00:00:00\", \"2020-03-05T00:00:00\", \"2020-03-06T00:00:00\", \"2020-03-07T00:00:00\", \"2020-03-08T00:00:00\", \"2020-03-09T00:00:00\", \"2020-03-10T00:00:00\", \"2020-03-11T00:00:00\", \"2020-03-12T00:00:00\", \"2020-03-13T00:00:00\", \"2020-03-14T00:00:00\", \"2020-03-15T00:00:00\", \"2020-03-16T00:00:00\", \"2020-03-17T00:00:00\", \"2020-03-18T00:00:00\", \"2020-03-19T00:00:00\", \"2020-03-20T00:00:00\", \"2020-03-21T00:00:00\", \"2020-03-22T00:00:00\", \"2020-03-23T00:00:00\", \"2020-03-24T00:00:00\", \"2020-03-25T00:00:00\", \"2020-03-26T00:00:00\", \"2020-03-27T00:00:00\", \"2020-03-28T00:00:00\", \"2020-03-29T00:00:00\", \"2020-03-30T00:00:00\", \"2020-03-31T00:00:00\", \"2020-04-01T00:00:00\", \"2020-04-02T00:00:00\", \"2020-04-03T00:00:00\", \"2020-04-04T00:00:00\", \"2020-04-05T00:00:00\", \"2020-04-06T00:00:00\", \"2020-04-07T00:00:00\", \"2020-04-08T00:00:00\", \"2020-04-09T00:00:00\", \"2020-04-10T00:00:00\", \"2020-04-11T00:00:00\", \"2020-04-12T00:00:00\", \"2020-04-13T00:00:00\", \"2020-04-14T00:00:00\", \"2020-04-15T00:00:00\", \"2020-04-16T00:00:00\", \"2020-04-17T00:00:00\", \"2020-04-18T00:00:00\", \"2020-04-19T00:00:00\", \"2020-04-20T00:00:00\", \"2020-04-21T00:00:00\", \"2020-04-22T00:00:00\", \"2020-04-23T00:00:00\", \"2020-04-24T00:00:00\", \"2020-04-25T00:00:00\", \"2020-04-26T00:00:00\", \"2020-04-27T00:00:00\", \"2020-04-28T00:00:00\", \"2020-04-29T00:00:00\", \"2020-04-30T00:00:00\", \"2020-05-01T00:00:00\", \"2020-05-02T00:00:00\", \"2020-05-03T00:00:00\", \"2020-05-04T00:00:00\", \"2020-05-05T00:00:00\", \"2020-05-06T00:00:00\", \"2020-05-07T00:00:00\", \"2020-05-08T00:00:00\", \"2020-05-09T00:00:00\", \"2020-05-10T00:00:00\", \"2020-05-11T00:00:00\", \"2020-05-12T00:00:00\", \"2020-05-13T00:00:00\", \"2020-05-14T00:00:00\", \"2020-05-15T00:00:00\", \"2020-05-16T00:00:00\", \"2020-05-17T00:00:00\", \"2020-05-18T00:00:00\", \"2020-05-19T00:00:00\", \"2020-05-20T00:00:00\", \"2020-05-21T00:00:00\", \"2020-05-22T00:00:00\", \"2020-05-23T00:00:00\", \"2020-05-24T00:00:00\", \"2020-05-25T00:00:00\", \"2020-05-26T00:00:00\", \"2020-05-27T00:00:00\", \"2020-05-28T00:00:00\", \"2020-05-29T00:00:00\", \"2020-05-30T00:00:00\"], \"y\": [0, 0, 0, 0, 0, 0, 0, 0, 0, 0, 0, 0, 0, 0, 0, 0, 0, 0, 0, 0, 0, 0, 0, 0, 0, 0, 0, 0, 0, 0, 0, 0, 0, 0, 0, 0, 0, 0, 0, 0, 1, 1, 1, 5, 5, 5, 11, 15, 20, 21, 45, 86, 103, 103, 118, 171, 171, 274, 344, 392, 511, 562, 767, 900, 1012, 1104, 1203, 1299, 1453, 1563, 1720, 1885, 2039, 2179, 2402, 2605, 2795, 2932, 3287, 3651, 4033, 4462, 4934, 5369, 5862, 6380, 7142, 8274, 9362, 10484, 11631, 12772, 13930, 15102, 16299, 17522, 18811, 20077, 21402, 22753, 24097, 25459, 27011, 28656, 30251, 31938, 33731, 35432, 37136, 39048, 41014, 42925, 44830, 46869, 49176, 52016, 54752, 57345, 59854, 62545, 65077, 67719, 70161, 72560, 74795, 76726, 78541, 80185, 81766, 83384]}, {\"mode\": \"lines+markers\", \"name\": \"Recovered Cases\", \"type\": \"scatter\", \"x\": [\"2020-01-22T00:00:00\", \"2020-01-23T00:00:00\", \"2020-01-24T00:00:00\", \"2020-01-25T00:00:00\", \"2020-01-26T00:00:00\", \"2020-01-27T00:00:00\", \"2020-01-28T00:00:00\", \"2020-01-29T00:00:00\", \"2020-01-30T00:00:00\", \"2020-01-31T00:00:00\", \"2020-02-01T00:00:00\", \"2020-02-02T00:00:00\", \"2020-02-03T00:00:00\", \"2020-02-04T00:00:00\", \"2020-02-05T00:00:00\", \"2020-02-06T00:00:00\", \"2020-02-07T00:00:00\", \"2020-02-08T00:00:00\", \"2020-02-09T00:00:00\", \"2020-02-10T00:00:00\", \"2020-02-11T00:00:00\", \"2020-02-12T00:00:00\", \"2020-02-13T00:00:00\", \"2020-02-14T00:00:00\", \"2020-02-15T00:00:00\", \"2020-02-16T00:00:00\", \"2020-02-17T00:00:00\", \"2020-02-18T00:00:00\", \"2020-02-19T00:00:00\", \"2020-02-20T00:00:00\", \"2020-02-21T00:00:00\", \"2020-02-22T00:00:00\", \"2020-02-23T00:00:00\", \"2020-02-24T00:00:00\", \"2020-02-25T00:00:00\", \"2020-02-26T00:00:00\", \"2020-02-27T00:00:00\", \"2020-02-28T00:00:00\", \"2020-02-29T00:00:00\", \"2020-03-01T00:00:00\", \"2020-03-02T00:00:00\", \"2020-03-03T00:00:00\", \"2020-03-04T00:00:00\", \"2020-03-05T00:00:00\", \"2020-03-06T00:00:00\", \"2020-03-07T00:00:00\", \"2020-03-08T00:00:00\", \"2020-03-09T00:00:00\", \"2020-03-10T00:00:00\", \"2020-03-11T00:00:00\", \"2020-03-12T00:00:00\", \"2020-03-13T00:00:00\", \"2020-03-14T00:00:00\", \"2020-03-15T00:00:00\", \"2020-03-16T00:00:00\", \"2020-03-17T00:00:00\", \"2020-03-18T00:00:00\", \"2020-03-19T00:00:00\", \"2020-03-20T00:00:00\", \"2020-03-21T00:00:00\", \"2020-03-22T00:00:00\", \"2020-03-23T00:00:00\", \"2020-03-24T00:00:00\", \"2020-03-25T00:00:00\", \"2020-03-26T00:00:00\", \"2020-03-27T00:00:00\", \"2020-03-28T00:00:00\", \"2020-03-29T00:00:00\", \"2020-03-30T00:00:00\", \"2020-03-31T00:00:00\", \"2020-04-01T00:00:00\", \"2020-04-02T00:00:00\", \"2020-04-03T00:00:00\", \"2020-04-04T00:00:00\", \"2020-04-05T00:00:00\", \"2020-04-06T00:00:00\", \"2020-04-07T00:00:00\", \"2020-04-08T00:00:00\", \"2020-04-09T00:00:00\", \"2020-04-10T00:00:00\", \"2020-04-11T00:00:00\", \"2020-04-12T00:00:00\", \"2020-04-13T00:00:00\", \"2020-04-14T00:00:00\", \"2020-04-15T00:00:00\", \"2020-04-16T00:00:00\", \"2020-04-17T00:00:00\", \"2020-04-18T00:00:00\", \"2020-04-19T00:00:00\", \"2020-04-20T00:00:00\", \"2020-04-21T00:00:00\", \"2020-04-22T00:00:00\", \"2020-04-23T00:00:00\", \"2020-04-24T00:00:00\", \"2020-04-25T00:00:00\", \"2020-04-26T00:00:00\", \"2020-04-27T00:00:00\", \"2020-04-28T00:00:00\", \"2020-04-29T00:00:00\", \"2020-04-30T00:00:00\", \"2020-05-01T00:00:00\", \"2020-05-02T00:00:00\", \"2020-05-03T00:00:00\", \"2020-05-04T00:00:00\", \"2020-05-05T00:00:00\", \"2020-05-06T00:00:00\", \"2020-05-07T00:00:00\", \"2020-05-08T00:00:00\", \"2020-05-09T00:00:00\", \"2020-05-10T00:00:00\", \"2020-05-11T00:00:00\", \"2020-05-12T00:00:00\", \"2020-05-13T00:00:00\", \"2020-05-14T00:00:00\", \"2020-05-15T00:00:00\", \"2020-05-16T00:00:00\", \"2020-05-17T00:00:00\", \"2020-05-18T00:00:00\", \"2020-05-19T00:00:00\", \"2020-05-20T00:00:00\", \"2020-05-21T00:00:00\", \"2020-05-22T00:00:00\", \"2020-05-23T00:00:00\", \"2020-05-24T00:00:00\", \"2020-05-25T00:00:00\", \"2020-05-26T00:00:00\", \"2020-05-27T00:00:00\", \"2020-05-28T00:00:00\", \"2020-05-29T00:00:00\", \"2020-05-30T00:00:00\"], \"y\": [0, 0, 0, 0, 0, 0, 0, 0, 0, 0, 0, 0, 0, 0, 0, 0, 0, 0, 0, 0, 0, 0, 0, 0, 0, 0, 0, 0, 0, 0, 0, 0, 0, 0, 0, 0, 0, 0, 0, 0, 0, 0, 0, 0, 0, 0, 0, 0, 1, 1, 1, 1, 1, 1, 2, 6, 6, 6, 8, 16, 16, 16, 28, 29, 33, 35, 37, 66, 115, 165, 264, 328, 351, 420, 488, 551, 615, 631, 666, 685, 720, 761, 805, 889, 931, 990, 1049, 1329, 1398, 1490, 1640, 1812, 1925, 2049, 2215, 2357, 2531, 2784, 2953, 3163, 3555, 3765, 4134, 4476, 5431, 6783, 7798, 9120, 10144, 11457, 12737, 15257, 17622, 19051, 21869, 23666, 25722, 28748, 31634, 33478, 36040, 39003, 41236, 43520, 45668, 48450, 51022, 54553, 57013, 58883]}, {\"mode\": \"lines+markers\", \"name\": \"Death Cases\", \"type\": \"scatter\", \"x\": [\"2020-01-22T00:00:00\", \"2020-01-23T00:00:00\", \"2020-01-24T00:00:00\", \"2020-01-25T00:00:00\", \"2020-01-26T00:00:00\", \"2020-01-27T00:00:00\", \"2020-01-28T00:00:00\", \"2020-01-29T00:00:00\", \"2020-01-30T00:00:00\", \"2020-01-31T00:00:00\", \"2020-02-01T00:00:00\", \"2020-02-02T00:00:00\", \"2020-02-03T00:00:00\", \"2020-02-04T00:00:00\", \"2020-02-05T00:00:00\", \"2020-02-06T00:00:00\", \"2020-02-07T00:00:00\", \"2020-02-08T00:00:00\", \"2020-02-09T00:00:00\", \"2020-02-10T00:00:00\", \"2020-02-11T00:00:00\", \"2020-02-12T00:00:00\", \"2020-02-13T00:00:00\", \"2020-02-14T00:00:00\", \"2020-02-15T00:00:00\", \"2020-02-16T00:00:00\", \"2020-02-17T00:00:00\", \"2020-02-18T00:00:00\", \"2020-02-19T00:00:00\", \"2020-02-20T00:00:00\", \"2020-02-21T00:00:00\", \"2020-02-22T00:00:00\", \"2020-02-23T00:00:00\", \"2020-02-24T00:00:00\", \"2020-02-25T00:00:00\", \"2020-02-26T00:00:00\", \"2020-02-27T00:00:00\", \"2020-02-28T00:00:00\", \"2020-02-29T00:00:00\", \"2020-03-01T00:00:00\", \"2020-03-02T00:00:00\", \"2020-03-03T00:00:00\", \"2020-03-04T00:00:00\", \"2020-03-05T00:00:00\", \"2020-03-06T00:00:00\", \"2020-03-07T00:00:00\", \"2020-03-08T00:00:00\", \"2020-03-09T00:00:00\", \"2020-03-10T00:00:00\", \"2020-03-11T00:00:00\", \"2020-03-12T00:00:00\", \"2020-03-13T00:00:00\", \"2020-03-14T00:00:00\", \"2020-03-15T00:00:00\", \"2020-03-16T00:00:00\", \"2020-03-17T00:00:00\", \"2020-03-18T00:00:00\", \"2020-03-19T00:00:00\", \"2020-03-20T00:00:00\", \"2020-03-21T00:00:00\", \"2020-03-22T00:00:00\", \"2020-03-23T00:00:00\", \"2020-03-24T00:00:00\", \"2020-03-25T00:00:00\", \"2020-03-26T00:00:00\", \"2020-03-27T00:00:00\", \"2020-03-28T00:00:00\", \"2020-03-29T00:00:00\", \"2020-03-30T00:00:00\", \"2020-03-31T00:00:00\", \"2020-04-01T00:00:00\", \"2020-04-02T00:00:00\", \"2020-04-03T00:00:00\", \"2020-04-04T00:00:00\", \"2020-04-05T00:00:00\", \"2020-04-06T00:00:00\", \"2020-04-07T00:00:00\", \"2020-04-08T00:00:00\", \"2020-04-09T00:00:00\", \"2020-04-10T00:00:00\", \"2020-04-11T00:00:00\", \"2020-04-12T00:00:00\", \"2020-04-13T00:00:00\", \"2020-04-14T00:00:00\", \"2020-04-15T00:00:00\", \"2020-04-16T00:00:00\", \"2020-04-17T00:00:00\", \"2020-04-18T00:00:00\", \"2020-04-19T00:00:00\", \"2020-04-20T00:00:00\", \"2020-04-21T00:00:00\", \"2020-04-22T00:00:00\", \"2020-04-23T00:00:00\", \"2020-04-24T00:00:00\", \"2020-04-25T00:00:00\", \"2020-04-26T00:00:00\", \"2020-04-27T00:00:00\", \"2020-04-28T00:00:00\", \"2020-04-29T00:00:00\", \"2020-04-30T00:00:00\", \"2020-05-01T00:00:00\", \"2020-05-02T00:00:00\", \"2020-05-03T00:00:00\", \"2020-05-04T00:00:00\", \"2020-05-05T00:00:00\", \"2020-05-06T00:00:00\", \"2020-05-07T00:00:00\", \"2020-05-08T00:00:00\", \"2020-05-09T00:00:00\", \"2020-05-10T00:00:00\", \"2020-05-11T00:00:00\", \"2020-05-12T00:00:00\", \"2020-05-13T00:00:00\", \"2020-05-14T00:00:00\", \"2020-05-15T00:00:00\", \"2020-05-16T00:00:00\", \"2020-05-17T00:00:00\", \"2020-05-18T00:00:00\", \"2020-05-19T00:00:00\", \"2020-05-20T00:00:00\", \"2020-05-21T00:00:00\", \"2020-05-22T00:00:00\", \"2020-05-23T00:00:00\", \"2020-05-24T00:00:00\", \"2020-05-25T00:00:00\", \"2020-05-26T00:00:00\", \"2020-05-27T00:00:00\", \"2020-05-28T00:00:00\", \"2020-05-29T00:00:00\", \"2020-05-30T00:00:00\"], \"y\": [0, 0, 0, 0, 0, 0, 0, 0, 0, 0, 0, 0, 0, 0, 0, 0, 0, 0, 0, 0, 0, 0, 0, 0, 0, 0, 0, 0, 0, 0, 0, 0, 0, 0, 0, 0, 0, 0, 0, 0, 0, 0, 0, 0, 0, 0, 0, 0, 0, 0, 0, 0, 0, 0, 0, 0, 0, 0, 0, 0, 0, 0, 1, 2, 3, 3, 4, 8, 8, 10, 16, 21, 25, 29, 34, 38, 41, 41, 44, 47, 52, 59, 65, 73, 79, 83, 87, 92, 97, 103, 109, 114, 121, 127, 136, 139, 144, 152, 157, 162, 169, 176, 184, 191, 200, 209, 219, 229, 239, 246, 255, 264, 273, 283, 292, 302, 312, 320, 329, 339, 351, 364, 379, 390, 399, 411, 425, 441, 458, 480]}],\n",
              "                        {\"legend\": {\"traceorder\": \"normal\", \"x\": 0, \"y\": 1}, \"template\": {\"data\": {\"bar\": [{\"error_x\": {\"color\": \"#2a3f5f\"}, \"error_y\": {\"color\": \"#2a3f5f\"}, \"marker\": {\"line\": {\"color\": \"#E5ECF6\", \"width\": 0.5}}, \"type\": \"bar\"}], \"barpolar\": [{\"marker\": {\"line\": {\"color\": \"#E5ECF6\", \"width\": 0.5}}, \"type\": \"barpolar\"}], \"carpet\": [{\"aaxis\": {\"endlinecolor\": \"#2a3f5f\", \"gridcolor\": \"white\", \"linecolor\": \"white\", \"minorgridcolor\": \"white\", \"startlinecolor\": \"#2a3f5f\"}, \"baxis\": {\"endlinecolor\": \"#2a3f5f\", \"gridcolor\": \"white\", \"linecolor\": \"white\", \"minorgridcolor\": \"white\", \"startlinecolor\": \"#2a3f5f\"}, \"type\": \"carpet\"}], \"choropleth\": [{\"colorbar\": {\"outlinewidth\": 0, \"ticks\": \"\"}, \"type\": \"choropleth\"}], \"contour\": [{\"colorbar\": {\"outlinewidth\": 0, \"ticks\": \"\"}, \"colorscale\": [[0.0, \"#0d0887\"], [0.1111111111111111, \"#46039f\"], [0.2222222222222222, \"#7201a8\"], [0.3333333333333333, \"#9c179e\"], [0.4444444444444444, \"#bd3786\"], [0.5555555555555556, \"#d8576b\"], [0.6666666666666666, \"#ed7953\"], [0.7777777777777778, \"#fb9f3a\"], [0.8888888888888888, \"#fdca26\"], [1.0, \"#f0f921\"]], \"type\": \"contour\"}], \"contourcarpet\": [{\"colorbar\": {\"outlinewidth\": 0, \"ticks\": \"\"}, \"type\": \"contourcarpet\"}], \"heatmap\": [{\"colorbar\": {\"outlinewidth\": 0, \"ticks\": \"\"}, \"colorscale\": [[0.0, \"#0d0887\"], [0.1111111111111111, \"#46039f\"], [0.2222222222222222, \"#7201a8\"], [0.3333333333333333, \"#9c179e\"], [0.4444444444444444, \"#bd3786\"], [0.5555555555555556, \"#d8576b\"], [0.6666666666666666, \"#ed7953\"], [0.7777777777777778, \"#fb9f3a\"], [0.8888888888888888, \"#fdca26\"], [1.0, \"#f0f921\"]], \"type\": \"heatmap\"}], \"heatmapgl\": [{\"colorbar\": {\"outlinewidth\": 0, \"ticks\": \"\"}, \"colorscale\": [[0.0, \"#0d0887\"], [0.1111111111111111, \"#46039f\"], [0.2222222222222222, \"#7201a8\"], [0.3333333333333333, \"#9c179e\"], [0.4444444444444444, \"#bd3786\"], [0.5555555555555556, \"#d8576b\"], [0.6666666666666666, \"#ed7953\"], [0.7777777777777778, \"#fb9f3a\"], [0.8888888888888888, \"#fdca26\"], [1.0, \"#f0f921\"]], \"type\": \"heatmapgl\"}], \"histogram\": [{\"marker\": {\"colorbar\": {\"outlinewidth\": 0, \"ticks\": \"\"}}, \"type\": \"histogram\"}], \"histogram2d\": [{\"colorbar\": {\"outlinewidth\": 0, \"ticks\": \"\"}, \"colorscale\": [[0.0, \"#0d0887\"], [0.1111111111111111, \"#46039f\"], [0.2222222222222222, \"#7201a8\"], [0.3333333333333333, \"#9c179e\"], [0.4444444444444444, \"#bd3786\"], [0.5555555555555556, \"#d8576b\"], [0.6666666666666666, \"#ed7953\"], [0.7777777777777778, \"#fb9f3a\"], [0.8888888888888888, \"#fdca26\"], [1.0, \"#f0f921\"]], \"type\": \"histogram2d\"}], \"histogram2dcontour\": [{\"colorbar\": {\"outlinewidth\": 0, \"ticks\": \"\"}, \"colorscale\": [[0.0, \"#0d0887\"], [0.1111111111111111, \"#46039f\"], [0.2222222222222222, \"#7201a8\"], [0.3333333333333333, \"#9c179e\"], [0.4444444444444444, \"#bd3786\"], [0.5555555555555556, \"#d8576b\"], [0.6666666666666666, \"#ed7953\"], [0.7777777777777778, \"#fb9f3a\"], [0.8888888888888888, \"#fdca26\"], [1.0, \"#f0f921\"]], \"type\": \"histogram2dcontour\"}], \"mesh3d\": [{\"colorbar\": {\"outlinewidth\": 0, \"ticks\": \"\"}, \"type\": \"mesh3d\"}], \"parcoords\": [{\"line\": {\"colorbar\": {\"outlinewidth\": 0, \"ticks\": \"\"}}, \"type\": \"parcoords\"}], \"pie\": [{\"automargin\": true, \"type\": \"pie\"}], \"scatter\": [{\"marker\": {\"colorbar\": {\"outlinewidth\": 0, \"ticks\": \"\"}}, \"type\": \"scatter\"}], \"scatter3d\": [{\"line\": {\"colorbar\": {\"outlinewidth\": 0, \"ticks\": \"\"}}, \"marker\": {\"colorbar\": {\"outlinewidth\": 0, \"ticks\": \"\"}}, \"type\": \"scatter3d\"}], \"scattercarpet\": [{\"marker\": {\"colorbar\": {\"outlinewidth\": 0, \"ticks\": \"\"}}, \"type\": \"scattercarpet\"}], \"scattergeo\": [{\"marker\": {\"colorbar\": {\"outlinewidth\": 0, \"ticks\": \"\"}}, \"type\": \"scattergeo\"}], \"scattergl\": [{\"marker\": {\"colorbar\": {\"outlinewidth\": 0, \"ticks\": \"\"}}, \"type\": \"scattergl\"}], \"scattermapbox\": [{\"marker\": {\"colorbar\": {\"outlinewidth\": 0, \"ticks\": \"\"}}, \"type\": \"scattermapbox\"}], \"scatterpolar\": [{\"marker\": {\"colorbar\": {\"outlinewidth\": 0, \"ticks\": \"\"}}, \"type\": \"scatterpolar\"}], \"scatterpolargl\": [{\"marker\": {\"colorbar\": {\"outlinewidth\": 0, \"ticks\": \"\"}}, \"type\": \"scatterpolargl\"}], \"scatterternary\": [{\"marker\": {\"colorbar\": {\"outlinewidth\": 0, \"ticks\": \"\"}}, \"type\": \"scatterternary\"}], \"surface\": [{\"colorbar\": {\"outlinewidth\": 0, \"ticks\": \"\"}, \"colorscale\": [[0.0, \"#0d0887\"], [0.1111111111111111, \"#46039f\"], [0.2222222222222222, \"#7201a8\"], [0.3333333333333333, \"#9c179e\"], [0.4444444444444444, \"#bd3786\"], [0.5555555555555556, \"#d8576b\"], [0.6666666666666666, \"#ed7953\"], [0.7777777777777778, \"#fb9f3a\"], [0.8888888888888888, \"#fdca26\"], [1.0, \"#f0f921\"]], \"type\": \"surface\"}], \"table\": [{\"cells\": {\"fill\": {\"color\": \"#EBF0F8\"}, \"line\": {\"color\": \"white\"}}, \"header\": {\"fill\": {\"color\": \"#C8D4E3\"}, \"line\": {\"color\": \"white\"}}, \"type\": \"table\"}]}, \"layout\": {\"annotationdefaults\": {\"arrowcolor\": \"#2a3f5f\", \"arrowhead\": 0, \"arrowwidth\": 1}, \"coloraxis\": {\"colorbar\": {\"outlinewidth\": 0, \"ticks\": \"\"}}, \"colorscale\": {\"diverging\": [[0, \"#8e0152\"], [0.1, \"#c51b7d\"], [0.2, \"#de77ae\"], [0.3, \"#f1b6da\"], [0.4, \"#fde0ef\"], [0.5, \"#f7f7f7\"], [0.6, \"#e6f5d0\"], [0.7, \"#b8e186\"], [0.8, \"#7fbc41\"], [0.9, \"#4d9221\"], [1, \"#276419\"]], \"sequential\": [[0.0, \"#0d0887\"], [0.1111111111111111, \"#46039f\"], [0.2222222222222222, \"#7201a8\"], [0.3333333333333333, \"#9c179e\"], [0.4444444444444444, \"#bd3786\"], [0.5555555555555556, \"#d8576b\"], [0.6666666666666666, \"#ed7953\"], [0.7777777777777778, \"#fb9f3a\"], [0.8888888888888888, \"#fdca26\"], [1.0, \"#f0f921\"]], \"sequentialminus\": [[0.0, \"#0d0887\"], [0.1111111111111111, \"#46039f\"], [0.2222222222222222, \"#7201a8\"], [0.3333333333333333, \"#9c179e\"], [0.4444444444444444, \"#bd3786\"], [0.5555555555555556, \"#d8576b\"], [0.6666666666666666, \"#ed7953\"], [0.7777777777777778, \"#fb9f3a\"], [0.8888888888888888, \"#fdca26\"], [1.0, \"#f0f921\"]]}, \"colorway\": [\"#636efa\", \"#EF553B\", \"#00cc96\", \"#ab63fa\", \"#FFA15A\", \"#19d3f3\", \"#FF6692\", \"#B6E880\", \"#FF97FF\", \"#FECB52\"], \"font\": {\"color\": \"#2a3f5f\"}, \"geo\": {\"bgcolor\": \"white\", \"lakecolor\": \"white\", \"landcolor\": \"#E5ECF6\", \"showlakes\": true, \"showland\": true, \"subunitcolor\": \"white\"}, \"hoverlabel\": {\"align\": \"left\"}, \"hovermode\": \"closest\", \"mapbox\": {\"style\": \"light\"}, \"paper_bgcolor\": \"white\", \"plot_bgcolor\": \"#E5ECF6\", \"polar\": {\"angularaxis\": {\"gridcolor\": \"white\", \"linecolor\": \"white\", \"ticks\": \"\"}, \"bgcolor\": \"#E5ECF6\", \"radialaxis\": {\"gridcolor\": \"white\", \"linecolor\": \"white\", \"ticks\": \"\"}}, \"scene\": {\"xaxis\": {\"backgroundcolor\": \"#E5ECF6\", \"gridcolor\": \"white\", \"gridwidth\": 2, \"linecolor\": \"white\", \"showbackground\": true, \"ticks\": \"\", \"zerolinecolor\": \"white\"}, \"yaxis\": {\"backgroundcolor\": \"#E5ECF6\", \"gridcolor\": \"white\", \"gridwidth\": 2, \"linecolor\": \"white\", \"showbackground\": true, \"ticks\": \"\", \"zerolinecolor\": \"white\"}, \"zaxis\": {\"backgroundcolor\": \"#E5ECF6\", \"gridcolor\": \"white\", \"gridwidth\": 2, \"linecolor\": \"white\", \"showbackground\": true, \"ticks\": \"\", \"zerolinecolor\": \"white\"}}, \"shapedefaults\": {\"line\": {\"color\": \"#2a3f5f\"}}, \"ternary\": {\"aaxis\": {\"gridcolor\": \"white\", \"linecolor\": \"white\", \"ticks\": \"\"}, \"baxis\": {\"gridcolor\": \"white\", \"linecolor\": \"white\", \"ticks\": \"\"}, \"bgcolor\": \"#E5ECF6\", \"caxis\": {\"gridcolor\": \"white\", \"linecolor\": \"white\", \"ticks\": \"\"}}, \"title\": {\"x\": 0.05}, \"xaxis\": {\"automargin\": true, \"gridcolor\": \"white\", \"linecolor\": \"white\", \"ticks\": \"\", \"title\": {\"standoff\": 15}, \"zerolinecolor\": \"white\", \"zerolinewidth\": 2}, \"yaxis\": {\"automargin\": true, \"gridcolor\": \"white\", \"linecolor\": \"white\", \"ticks\": \"\", \"title\": {\"standoff\": 15}, \"zerolinecolor\": \"white\", \"zerolinewidth\": 2}}}, \"title\": {\"text\": \"Growth of different types of cases in Saudi Arabia\"}, \"xaxis\": {\"title\": {\"text\": \"Date\"}}, \"yaxis\": {\"title\": {\"text\": \"Number of Cases\"}}},\n",
              "                        {\"responsive\": true}\n",
              "                    ).then(function(){\n",
              "                            \n",
              "var gd = document.getElementById('ad8ab1eb-3583-4ea3-94c3-486f4858fe01');\n",
              "var x = new MutationObserver(function (mutations, observer) {{\n",
              "        var display = window.getComputedStyle(gd).display;\n",
              "        if (!display || display === 'none') {{\n",
              "            console.log([gd, 'removed!']);\n",
              "            Plotly.purge(gd);\n",
              "            observer.disconnect();\n",
              "        }}\n",
              "}});\n",
              "\n",
              "// Listen for the removal of the full notebook cells\n",
              "var notebookContainer = gd.closest('#notebook-container');\n",
              "if (notebookContainer) {{\n",
              "    x.observe(notebookContainer, {childList: true});\n",
              "}}\n",
              "\n",
              "// Listen for the clearing of the current output cell\n",
              "var outputEl = gd.closest('.output');\n",
              "if (outputEl) {{\n",
              "    x.observe(outputEl, {childList: true});\n",
              "}}\n",
              "\n",
              "                        })\n",
              "                };\n",
              "                \n",
              "            </script>\n",
              "        </div>\n",
              "</body>\n",
              "</html>"
            ]
          },
          "metadata": {
            "tags": []
          }
        }
      ]
    },
    {
      "cell_type": "code",
      "metadata": {
        "id": "ekLvA7HkXAd8",
        "colab_type": "code",
        "outputId": "8155d057-0e42-4e75-be10-84c150acc448",
        "colab": {
          "base_uri": "https://localhost:8080/",
          "height": 1000
        }
      },
      "source": [
        "print('Mean Recovery Rate: ',((saudi_datewise[\"Recovered\"]/saudi_datewise[\"Confirmed\"])*100).mean())\n",
        "print('Mean Mortality Rate: ',((saudi_datewise[\"Deaths\"]/saudi_datewise[\"Confirmed\"])*100).mean())\n",
        "print('Median Recovery Rate: ',((saudi_datewise[\"Recovered\"]/saudi_datewise[\"Confirmed\"])*100).median())\n",
        "print('Median Mortality Rate: ',((saudi_datewise[\"Deaths\"]/saudi_datewise[\"Confirmed\"])*100).median())\n",
        "\n",
        "fig = make_subplots(rows=2, cols=1,\n",
        "                   subplot_titles=(\"Recovery Rate\", \"Mortatlity Rate\"))\n",
        "fig.add_trace(\n",
        "    go.Scatter(x=saudi_datewise.index, y=(saudi_datewise[\"Recovered\"]/saudi_datewise[\"Confirmed\"])*100,\n",
        "              name=\"Recovery Rate\"),\n",
        "    row=1, col=1\n",
        ")\n",
        "fig.add_trace(\n",
        "    go.Scatter(x=saudi_datewise.index, y=(saudi_datewise[\"Deaths\"]/saudi_datewise[\"Confirmed\"])*100,\n",
        "              name=\"Mortality Rate\"),\n",
        "    row=2, col=1\n",
        ")\n",
        "fig.update_layout(height=1000,legend=dict(x=-0.1,y=1.2,traceorder=\"normal\"))\n",
        "fig.update_xaxes(title_text=\"Date\", row=1, col=1)\n",
        "fig.update_yaxes(title_text=\"Recovery Rate\", row=1, col=1)\n",
        "fig.update_xaxes(title_text=\"Date\", row=1, col=2)\n",
        "fig.update_yaxes(title_text=\"Mortality Rate\", row=1, col=2)\n",
        "fig.show()"
      ],
      "execution_count": 0,
      "outputs": [
        {
          "output_type": "stream",
          "text": [
            "Mean Recovery Rate:  20.475884185513372\n",
            "Mean Mortality Rate:  0.6040704531085832\n",
            "Median Recovery Rate:  15.118791238974847\n",
            "Median Mortality Rate:  0.6063889152753927\n"
          ],
          "name": "stdout"
        },
        {
          "output_type": "display_data",
          "data": {
            "text/html": [
              "<html>\n",
              "<head><meta charset=\"utf-8\" /></head>\n",
              "<body>\n",
              "    <div>\n",
              "            <script src=\"https://cdnjs.cloudflare.com/ajax/libs/mathjax/2.7.5/MathJax.js?config=TeX-AMS-MML_SVG\"></script><script type=\"text/javascript\">if (window.MathJax) {MathJax.Hub.Config({SVG: {font: \"STIX-Web\"}});}</script>\n",
              "                <script type=\"text/javascript\">window.PlotlyConfig = {MathJaxConfig: 'local'};</script>\n",
              "        <script src=\"https://cdn.plot.ly/plotly-latest.min.js\"></script>    \n",
              "            <div id=\"8fe3d1ba-1a92-4791-826f-bfdadcc88bd1\" class=\"plotly-graph-div\" style=\"height:1000px; width:100%;\"></div>\n",
              "            <script type=\"text/javascript\">\n",
              "                \n",
              "                    window.PLOTLYENV=window.PLOTLYENV || {};\n",
              "                    \n",
              "                if (document.getElementById(\"8fe3d1ba-1a92-4791-826f-bfdadcc88bd1\")) {\n",
              "                    Plotly.newPlot(\n",
              "                        '8fe3d1ba-1a92-4791-826f-bfdadcc88bd1',\n",
              "                        [{\"name\": \"Recovery Rate\", \"type\": \"scatter\", \"x\": [\"2020-01-22T00:00:00\", \"2020-01-23T00:00:00\", \"2020-01-24T00:00:00\", \"2020-01-25T00:00:00\", \"2020-01-26T00:00:00\", \"2020-01-27T00:00:00\", \"2020-01-28T00:00:00\", \"2020-01-29T00:00:00\", \"2020-01-30T00:00:00\", \"2020-01-31T00:00:00\", \"2020-02-01T00:00:00\", \"2020-02-02T00:00:00\", \"2020-02-03T00:00:00\", \"2020-02-04T00:00:00\", \"2020-02-05T00:00:00\", \"2020-02-06T00:00:00\", \"2020-02-07T00:00:00\", \"2020-02-08T00:00:00\", \"2020-02-09T00:00:00\", \"2020-02-10T00:00:00\", \"2020-02-11T00:00:00\", \"2020-02-12T00:00:00\", \"2020-02-13T00:00:00\", \"2020-02-14T00:00:00\", \"2020-02-15T00:00:00\", \"2020-02-16T00:00:00\", \"2020-02-17T00:00:00\", \"2020-02-18T00:00:00\", \"2020-02-19T00:00:00\", \"2020-02-20T00:00:00\", \"2020-02-21T00:00:00\", \"2020-02-22T00:00:00\", \"2020-02-23T00:00:00\", \"2020-02-24T00:00:00\", \"2020-02-25T00:00:00\", \"2020-02-26T00:00:00\", \"2020-02-27T00:00:00\", \"2020-02-28T00:00:00\", \"2020-02-29T00:00:00\", \"2020-03-01T00:00:00\", \"2020-03-02T00:00:00\", \"2020-03-03T00:00:00\", \"2020-03-04T00:00:00\", \"2020-03-05T00:00:00\", \"2020-03-06T00:00:00\", \"2020-03-07T00:00:00\", \"2020-03-08T00:00:00\", \"2020-03-09T00:00:00\", \"2020-03-10T00:00:00\", \"2020-03-11T00:00:00\", \"2020-03-12T00:00:00\", \"2020-03-13T00:00:00\", \"2020-03-14T00:00:00\", \"2020-03-15T00:00:00\", \"2020-03-16T00:00:00\", \"2020-03-17T00:00:00\", \"2020-03-18T00:00:00\", \"2020-03-19T00:00:00\", \"2020-03-20T00:00:00\", \"2020-03-21T00:00:00\", \"2020-03-22T00:00:00\", \"2020-03-23T00:00:00\", \"2020-03-24T00:00:00\", \"2020-03-25T00:00:00\", \"2020-03-26T00:00:00\", \"2020-03-27T00:00:00\", \"2020-03-28T00:00:00\", \"2020-03-29T00:00:00\", \"2020-03-30T00:00:00\", \"2020-03-31T00:00:00\", \"2020-04-01T00:00:00\", \"2020-04-02T00:00:00\", \"2020-04-03T00:00:00\", \"2020-04-04T00:00:00\", \"2020-04-05T00:00:00\", \"2020-04-06T00:00:00\", \"2020-04-07T00:00:00\", \"2020-04-08T00:00:00\", \"2020-04-09T00:00:00\", \"2020-04-10T00:00:00\", \"2020-04-11T00:00:00\", \"2020-04-12T00:00:00\", \"2020-04-13T00:00:00\", \"2020-04-14T00:00:00\", \"2020-04-15T00:00:00\", \"2020-04-16T00:00:00\", \"2020-04-17T00:00:00\", \"2020-04-18T00:00:00\", \"2020-04-19T00:00:00\", \"2020-04-20T00:00:00\", \"2020-04-21T00:00:00\", \"2020-04-22T00:00:00\", \"2020-04-23T00:00:00\", \"2020-04-24T00:00:00\", \"2020-04-25T00:00:00\", \"2020-04-26T00:00:00\", \"2020-04-27T00:00:00\", \"2020-04-28T00:00:00\", \"2020-04-29T00:00:00\", \"2020-04-30T00:00:00\", \"2020-05-01T00:00:00\", \"2020-05-02T00:00:00\", \"2020-05-03T00:00:00\", \"2020-05-04T00:00:00\", \"2020-05-05T00:00:00\", \"2020-05-06T00:00:00\", \"2020-05-07T00:00:00\", \"2020-05-08T00:00:00\", \"2020-05-09T00:00:00\", \"2020-05-10T00:00:00\", \"2020-05-11T00:00:00\", \"2020-05-12T00:00:00\", \"2020-05-13T00:00:00\", \"2020-05-14T00:00:00\", \"2020-05-15T00:00:00\", \"2020-05-16T00:00:00\", \"2020-05-17T00:00:00\", \"2020-05-18T00:00:00\", \"2020-05-19T00:00:00\", \"2020-05-20T00:00:00\", \"2020-05-21T00:00:00\", \"2020-05-22T00:00:00\", \"2020-05-23T00:00:00\", \"2020-05-24T00:00:00\", \"2020-05-25T00:00:00\", \"2020-05-26T00:00:00\", \"2020-05-27T00:00:00\", \"2020-05-28T00:00:00\", \"2020-05-29T00:00:00\", \"2020-05-30T00:00:00\"], \"xaxis\": \"x\", \"y\": [null, null, null, null, null, null, null, null, null, null, null, null, null, null, null, null, null, null, null, null, null, null, null, null, null, null, null, null, null, null, null, null, null, null, null, null, null, null, null, null, 0.0, 0.0, 0.0, 0.0, 0.0, 0.0, 0.0, 0.0, 5.0, 4.761904761904762, 2.2222222222222223, 1.1627906976744187, 0.9708737864077669, 0.9708737864077669, 1.694915254237288, 3.508771929824561, 3.508771929824561, 2.18978102189781, 2.3255813953488373, 4.081632653061225, 3.131115459882583, 2.8469750889679712, 3.650586701434159, 3.2222222222222223, 3.260869565217391, 3.170289855072464, 3.0756442227763925, 5.080831408775981, 7.91465932553338, 10.556621880998081, 15.348837209302326, 17.400530503978782, 17.214320745463464, 19.274896741624598, 20.31640299750208, 21.15163147792706, 22.003577817531305, 21.521145975443385, 20.26163675083663, 18.761983018351135, 17.852715100421523, 17.055132227700582, 16.315362788812322, 16.558018252933508, 15.881951552371204, 15.517241379310345, 14.68776253150378, 16.06236403190718, 14.932706686605426, 14.212132773750477, 14.100249333677242, 14.187284685248983, 13.819095477386934, 13.567739372268573, 13.589790784710717, 13.451660769318572, 13.454893413428312, 13.866613537879166, 13.797775908793572, 13.901463543269019, 14.752873801718055, 14.788483443968733, 15.304875791344266, 15.619765494137352, 17.95312551651185, 21.238023670862297, 23.11819987548546, 25.739444569880334, 27.31581214993537, 29.34081130915796, 31.05524942702492, 35.543389633080956, 39.308498773142986, 40.647336192365955, 44.47088010411583, 45.49753921870194, 46.97910578609001, 50.13165925538408, 52.851939719985296, 53.52626109201375, 55.38054919556833, 57.59535728525229, 58.77339262553271, 59.977949283351705, 61.05755732335049, 63.14678205562652, 64.96224901643728, 68.03392155640083, 69.72702590318714, 70.61666506763888], \"yaxis\": \"y\"}, {\"name\": \"Mortality Rate\", \"type\": \"scatter\", \"x\": [\"2020-01-22T00:00:00\", \"2020-01-23T00:00:00\", \"2020-01-24T00:00:00\", \"2020-01-25T00:00:00\", \"2020-01-26T00:00:00\", \"2020-01-27T00:00:00\", \"2020-01-28T00:00:00\", \"2020-01-29T00:00:00\", \"2020-01-30T00:00:00\", \"2020-01-31T00:00:00\", \"2020-02-01T00:00:00\", \"2020-02-02T00:00:00\", \"2020-02-03T00:00:00\", \"2020-02-04T00:00:00\", \"2020-02-05T00:00:00\", \"2020-02-06T00:00:00\", \"2020-02-07T00:00:00\", \"2020-02-08T00:00:00\", \"2020-02-09T00:00:00\", \"2020-02-10T00:00:00\", \"2020-02-11T00:00:00\", \"2020-02-12T00:00:00\", \"2020-02-13T00:00:00\", \"2020-02-14T00:00:00\", \"2020-02-15T00:00:00\", \"2020-02-16T00:00:00\", \"2020-02-17T00:00:00\", \"2020-02-18T00:00:00\", \"2020-02-19T00:00:00\", \"2020-02-20T00:00:00\", \"2020-02-21T00:00:00\", \"2020-02-22T00:00:00\", \"2020-02-23T00:00:00\", \"2020-02-24T00:00:00\", \"2020-02-25T00:00:00\", \"2020-02-26T00:00:00\", \"2020-02-27T00:00:00\", \"2020-02-28T00:00:00\", \"2020-02-29T00:00:00\", \"2020-03-01T00:00:00\", \"2020-03-02T00:00:00\", \"2020-03-03T00:00:00\", \"2020-03-04T00:00:00\", \"2020-03-05T00:00:00\", \"2020-03-06T00:00:00\", \"2020-03-07T00:00:00\", \"2020-03-08T00:00:00\", \"2020-03-09T00:00:00\", \"2020-03-10T00:00:00\", \"2020-03-11T00:00:00\", \"2020-03-12T00:00:00\", \"2020-03-13T00:00:00\", \"2020-03-14T00:00:00\", \"2020-03-15T00:00:00\", \"2020-03-16T00:00:00\", \"2020-03-17T00:00:00\", \"2020-03-18T00:00:00\", \"2020-03-19T00:00:00\", \"2020-03-20T00:00:00\", \"2020-03-21T00:00:00\", \"2020-03-22T00:00:00\", \"2020-03-23T00:00:00\", \"2020-03-24T00:00:00\", \"2020-03-25T00:00:00\", \"2020-03-26T00:00:00\", \"2020-03-27T00:00:00\", \"2020-03-28T00:00:00\", \"2020-03-29T00:00:00\", \"2020-03-30T00:00:00\", \"2020-03-31T00:00:00\", \"2020-04-01T00:00:00\", \"2020-04-02T00:00:00\", \"2020-04-03T00:00:00\", \"2020-04-04T00:00:00\", \"2020-04-05T00:00:00\", \"2020-04-06T00:00:00\", \"2020-04-07T00:00:00\", \"2020-04-08T00:00:00\", \"2020-04-09T00:00:00\", \"2020-04-10T00:00:00\", \"2020-04-11T00:00:00\", \"2020-04-12T00:00:00\", \"2020-04-13T00:00:00\", \"2020-04-14T00:00:00\", \"2020-04-15T00:00:00\", \"2020-04-16T00:00:00\", \"2020-04-17T00:00:00\", \"2020-04-18T00:00:00\", \"2020-04-19T00:00:00\", \"2020-04-20T00:00:00\", \"2020-04-21T00:00:00\", \"2020-04-22T00:00:00\", \"2020-04-23T00:00:00\", \"2020-04-24T00:00:00\", \"2020-04-25T00:00:00\", \"2020-04-26T00:00:00\", \"2020-04-27T00:00:00\", \"2020-04-28T00:00:00\", \"2020-04-29T00:00:00\", \"2020-04-30T00:00:00\", \"2020-05-01T00:00:00\", \"2020-05-02T00:00:00\", \"2020-05-03T00:00:00\", \"2020-05-04T00:00:00\", \"2020-05-05T00:00:00\", \"2020-05-06T00:00:00\", \"2020-05-07T00:00:00\", \"2020-05-08T00:00:00\", \"2020-05-09T00:00:00\", \"2020-05-10T00:00:00\", \"2020-05-11T00:00:00\", \"2020-05-12T00:00:00\", \"2020-05-13T00:00:00\", \"2020-05-14T00:00:00\", \"2020-05-15T00:00:00\", \"2020-05-16T00:00:00\", \"2020-05-17T00:00:00\", \"2020-05-18T00:00:00\", \"2020-05-19T00:00:00\", \"2020-05-20T00:00:00\", \"2020-05-21T00:00:00\", \"2020-05-22T00:00:00\", \"2020-05-23T00:00:00\", \"2020-05-24T00:00:00\", \"2020-05-25T00:00:00\", \"2020-05-26T00:00:00\", \"2020-05-27T00:00:00\", \"2020-05-28T00:00:00\", \"2020-05-29T00:00:00\", \"2020-05-30T00:00:00\"], \"xaxis\": \"x2\", \"y\": [null, null, null, null, null, null, null, null, null, null, null, null, null, null, null, null, null, null, null, null, null, null, null, null, null, null, null, null, null, null, null, null, null, null, null, null, null, null, null, null, 0.0, 0.0, 0.0, 0.0, 0.0, 0.0, 0.0, 0.0, 0.0, 0.0, 0.0, 0.0, 0.0, 0.0, 0.0, 0.0, 0.0, 0.0, 0.0, 0.0, 0.0, 0.0, 0.1303780964797914, 0.2222222222222222, 0.2964426877470355, 0.2717391304347826, 0.3325020781379884, 0.6158583525789069, 0.5505849965588437, 0.6397952655150352, 0.9302325581395349, 1.1140583554376657, 1.2260912211868562, 1.3308857273978891, 1.4154870940882598, 1.45873320537428, 1.4669051878354205, 1.3983628922237379, 1.3386066321874048, 1.2873185428649685, 1.2893627572526656, 1.3222770058269833, 1.31738954195379, 1.3596572918606817, 1.3476629136813374, 1.3009404388714734, 1.218146177541305, 1.111916847957457, 1.0361033967101048, 0.9824494467760396, 0.9371507179090361, 0.8925775133103664, 0.8686288585786073, 0.8409482187789696, 0.8344070188355113, 0.7932884373929916, 0.7655095422890862, 0.7570852218957015, 0.7335763012802542, 0.7119940227662287, 0.7013321160310412, 0.6913075925998664, 0.6812039539446892, 0.6665270798436628, 0.6611351690853194, 0.6543928862170455, 0.6492543950668525, 0.6463084217656355, 0.6435803532959931, 0.6299938537185003, 0.6217389184181011, 0.6150262085032032, 0.6089672094579524, 0.6038106210928331, 0.5937855864649422, 0.5805905875115349, 0.5698421975452952, 0.5580259830848374, 0.5496708657733819, 0.5420097529778559, 0.5393610645850301, 0.5375153206633293, 0.5401861432989837, 0.5374862183020949, 0.5334581188582125, 0.5356723926700206, 0.5411186514049987, 0.5499781754692274, 0.5601350194457354, 0.5756500047970834], \"yaxis\": \"y2\"}],\n",
              "                        {\"annotations\": [{\"font\": {\"size\": 16}, \"showarrow\": false, \"text\": \"Recovery Rate\", \"x\": 0.5, \"xanchor\": \"center\", \"xref\": \"paper\", \"y\": 1.0, \"yanchor\": \"bottom\", \"yref\": \"paper\"}, {\"font\": {\"size\": 16}, \"showarrow\": false, \"text\": \"Mortatlity Rate\", \"x\": 0.5, \"xanchor\": \"center\", \"xref\": \"paper\", \"y\": 0.375, \"yanchor\": \"bottom\", \"yref\": \"paper\"}], \"height\": 1000, \"legend\": {\"traceorder\": \"normal\", \"x\": -0.1, \"y\": 1.2}, \"template\": {\"data\": {\"bar\": [{\"error_x\": {\"color\": \"#2a3f5f\"}, \"error_y\": {\"color\": \"#2a3f5f\"}, \"marker\": {\"line\": {\"color\": \"#E5ECF6\", \"width\": 0.5}}, \"type\": \"bar\"}], \"barpolar\": [{\"marker\": {\"line\": {\"color\": \"#E5ECF6\", \"width\": 0.5}}, \"type\": \"barpolar\"}], \"carpet\": [{\"aaxis\": {\"endlinecolor\": \"#2a3f5f\", \"gridcolor\": \"white\", \"linecolor\": \"white\", \"minorgridcolor\": \"white\", \"startlinecolor\": \"#2a3f5f\"}, \"baxis\": {\"endlinecolor\": \"#2a3f5f\", \"gridcolor\": \"white\", \"linecolor\": \"white\", \"minorgridcolor\": \"white\", \"startlinecolor\": \"#2a3f5f\"}, \"type\": \"carpet\"}], \"choropleth\": [{\"colorbar\": {\"outlinewidth\": 0, \"ticks\": \"\"}, \"type\": \"choropleth\"}], \"contour\": [{\"colorbar\": {\"outlinewidth\": 0, \"ticks\": \"\"}, \"colorscale\": [[0.0, \"#0d0887\"], [0.1111111111111111, \"#46039f\"], [0.2222222222222222, \"#7201a8\"], [0.3333333333333333, \"#9c179e\"], [0.4444444444444444, \"#bd3786\"], [0.5555555555555556, \"#d8576b\"], [0.6666666666666666, \"#ed7953\"], [0.7777777777777778, \"#fb9f3a\"], [0.8888888888888888, \"#fdca26\"], [1.0, \"#f0f921\"]], \"type\": \"contour\"}], \"contourcarpet\": [{\"colorbar\": {\"outlinewidth\": 0, \"ticks\": \"\"}, \"type\": \"contourcarpet\"}], \"heatmap\": [{\"colorbar\": {\"outlinewidth\": 0, \"ticks\": \"\"}, \"colorscale\": [[0.0, \"#0d0887\"], [0.1111111111111111, \"#46039f\"], [0.2222222222222222, \"#7201a8\"], [0.3333333333333333, \"#9c179e\"], [0.4444444444444444, \"#bd3786\"], [0.5555555555555556, \"#d8576b\"], [0.6666666666666666, \"#ed7953\"], [0.7777777777777778, \"#fb9f3a\"], [0.8888888888888888, \"#fdca26\"], [1.0, \"#f0f921\"]], \"type\": \"heatmap\"}], \"heatmapgl\": [{\"colorbar\": {\"outlinewidth\": 0, \"ticks\": \"\"}, \"colorscale\": [[0.0, \"#0d0887\"], [0.1111111111111111, \"#46039f\"], [0.2222222222222222, \"#7201a8\"], [0.3333333333333333, \"#9c179e\"], [0.4444444444444444, \"#bd3786\"], [0.5555555555555556, \"#d8576b\"], [0.6666666666666666, \"#ed7953\"], [0.7777777777777778, \"#fb9f3a\"], [0.8888888888888888, \"#fdca26\"], [1.0, \"#f0f921\"]], \"type\": \"heatmapgl\"}], \"histogram\": [{\"marker\": {\"colorbar\": {\"outlinewidth\": 0, \"ticks\": \"\"}}, \"type\": \"histogram\"}], \"histogram2d\": [{\"colorbar\": {\"outlinewidth\": 0, \"ticks\": \"\"}, \"colorscale\": [[0.0, \"#0d0887\"], [0.1111111111111111, \"#46039f\"], [0.2222222222222222, \"#7201a8\"], [0.3333333333333333, \"#9c179e\"], [0.4444444444444444, \"#bd3786\"], [0.5555555555555556, \"#d8576b\"], [0.6666666666666666, \"#ed7953\"], [0.7777777777777778, \"#fb9f3a\"], [0.8888888888888888, \"#fdca26\"], [1.0, \"#f0f921\"]], \"type\": \"histogram2d\"}], \"histogram2dcontour\": [{\"colorbar\": {\"outlinewidth\": 0, \"ticks\": \"\"}, \"colorscale\": [[0.0, \"#0d0887\"], [0.1111111111111111, \"#46039f\"], [0.2222222222222222, \"#7201a8\"], [0.3333333333333333, \"#9c179e\"], [0.4444444444444444, \"#bd3786\"], [0.5555555555555556, \"#d8576b\"], [0.6666666666666666, \"#ed7953\"], [0.7777777777777778, \"#fb9f3a\"], [0.8888888888888888, \"#fdca26\"], [1.0, \"#f0f921\"]], \"type\": \"histogram2dcontour\"}], \"mesh3d\": [{\"colorbar\": {\"outlinewidth\": 0, \"ticks\": \"\"}, \"type\": \"mesh3d\"}], \"parcoords\": [{\"line\": {\"colorbar\": {\"outlinewidth\": 0, \"ticks\": \"\"}}, \"type\": \"parcoords\"}], \"pie\": [{\"automargin\": true, \"type\": \"pie\"}], \"scatter\": [{\"marker\": {\"colorbar\": {\"outlinewidth\": 0, \"ticks\": \"\"}}, \"type\": \"scatter\"}], \"scatter3d\": [{\"line\": {\"colorbar\": {\"outlinewidth\": 0, \"ticks\": \"\"}}, \"marker\": {\"colorbar\": {\"outlinewidth\": 0, \"ticks\": \"\"}}, \"type\": \"scatter3d\"}], \"scattercarpet\": [{\"marker\": {\"colorbar\": {\"outlinewidth\": 0, \"ticks\": \"\"}}, \"type\": \"scattercarpet\"}], \"scattergeo\": [{\"marker\": {\"colorbar\": {\"outlinewidth\": 0, \"ticks\": \"\"}}, \"type\": \"scattergeo\"}], \"scattergl\": [{\"marker\": {\"colorbar\": {\"outlinewidth\": 0, \"ticks\": \"\"}}, \"type\": \"scattergl\"}], \"scattermapbox\": [{\"marker\": {\"colorbar\": {\"outlinewidth\": 0, \"ticks\": \"\"}}, \"type\": \"scattermapbox\"}], \"scatterpolar\": [{\"marker\": {\"colorbar\": {\"outlinewidth\": 0, \"ticks\": \"\"}}, \"type\": \"scatterpolar\"}], \"scatterpolargl\": [{\"marker\": {\"colorbar\": {\"outlinewidth\": 0, \"ticks\": \"\"}}, \"type\": \"scatterpolargl\"}], \"scatterternary\": [{\"marker\": {\"colorbar\": {\"outlinewidth\": 0, \"ticks\": \"\"}}, \"type\": \"scatterternary\"}], \"surface\": [{\"colorbar\": {\"outlinewidth\": 0, \"ticks\": \"\"}, \"colorscale\": [[0.0, \"#0d0887\"], [0.1111111111111111, \"#46039f\"], [0.2222222222222222, \"#7201a8\"], [0.3333333333333333, \"#9c179e\"], [0.4444444444444444, \"#bd3786\"], [0.5555555555555556, \"#d8576b\"], [0.6666666666666666, \"#ed7953\"], [0.7777777777777778, \"#fb9f3a\"], [0.8888888888888888, \"#fdca26\"], [1.0, \"#f0f921\"]], \"type\": \"surface\"}], \"table\": [{\"cells\": {\"fill\": {\"color\": \"#EBF0F8\"}, \"line\": {\"color\": \"white\"}}, \"header\": {\"fill\": {\"color\": \"#C8D4E3\"}, \"line\": {\"color\": \"white\"}}, \"type\": \"table\"}]}, \"layout\": {\"annotationdefaults\": {\"arrowcolor\": \"#2a3f5f\", \"arrowhead\": 0, \"arrowwidth\": 1}, \"coloraxis\": {\"colorbar\": {\"outlinewidth\": 0, \"ticks\": \"\"}}, \"colorscale\": {\"diverging\": [[0, \"#8e0152\"], [0.1, \"#c51b7d\"], [0.2, \"#de77ae\"], [0.3, \"#f1b6da\"], [0.4, \"#fde0ef\"], [0.5, \"#f7f7f7\"], [0.6, \"#e6f5d0\"], [0.7, \"#b8e186\"], [0.8, \"#7fbc41\"], [0.9, \"#4d9221\"], [1, \"#276419\"]], \"sequential\": [[0.0, \"#0d0887\"], [0.1111111111111111, \"#46039f\"], [0.2222222222222222, \"#7201a8\"], [0.3333333333333333, \"#9c179e\"], [0.4444444444444444, \"#bd3786\"], [0.5555555555555556, \"#d8576b\"], [0.6666666666666666, \"#ed7953\"], [0.7777777777777778, \"#fb9f3a\"], [0.8888888888888888, \"#fdca26\"], [1.0, \"#f0f921\"]], \"sequentialminus\": [[0.0, \"#0d0887\"], [0.1111111111111111, \"#46039f\"], [0.2222222222222222, \"#7201a8\"], [0.3333333333333333, \"#9c179e\"], [0.4444444444444444, \"#bd3786\"], [0.5555555555555556, \"#d8576b\"], [0.6666666666666666, \"#ed7953\"], [0.7777777777777778, \"#fb9f3a\"], [0.8888888888888888, \"#fdca26\"], [1.0, \"#f0f921\"]]}, \"colorway\": [\"#636efa\", \"#EF553B\", \"#00cc96\", \"#ab63fa\", \"#FFA15A\", \"#19d3f3\", \"#FF6692\", \"#B6E880\", \"#FF97FF\", \"#FECB52\"], \"font\": {\"color\": \"#2a3f5f\"}, \"geo\": {\"bgcolor\": \"white\", \"lakecolor\": \"white\", \"landcolor\": \"#E5ECF6\", \"showlakes\": true, \"showland\": true, \"subunitcolor\": \"white\"}, \"hoverlabel\": {\"align\": \"left\"}, \"hovermode\": \"closest\", \"mapbox\": {\"style\": \"light\"}, \"paper_bgcolor\": \"white\", \"plot_bgcolor\": \"#E5ECF6\", \"polar\": {\"angularaxis\": {\"gridcolor\": \"white\", \"linecolor\": \"white\", \"ticks\": \"\"}, \"bgcolor\": \"#E5ECF6\", \"radialaxis\": {\"gridcolor\": \"white\", \"linecolor\": \"white\", \"ticks\": \"\"}}, \"scene\": {\"xaxis\": {\"backgroundcolor\": \"#E5ECF6\", \"gridcolor\": \"white\", \"gridwidth\": 2, \"linecolor\": \"white\", \"showbackground\": true, \"ticks\": \"\", \"zerolinecolor\": \"white\"}, \"yaxis\": {\"backgroundcolor\": \"#E5ECF6\", \"gridcolor\": \"white\", \"gridwidth\": 2, \"linecolor\": \"white\", \"showbackground\": true, \"ticks\": \"\", \"zerolinecolor\": \"white\"}, \"zaxis\": {\"backgroundcolor\": \"#E5ECF6\", \"gridcolor\": \"white\", \"gridwidth\": 2, \"linecolor\": \"white\", \"showbackground\": true, \"ticks\": \"\", \"zerolinecolor\": \"white\"}}, \"shapedefaults\": {\"line\": {\"color\": \"#2a3f5f\"}}, \"ternary\": {\"aaxis\": {\"gridcolor\": \"white\", \"linecolor\": \"white\", \"ticks\": \"\"}, \"baxis\": {\"gridcolor\": \"white\", \"linecolor\": \"white\", \"ticks\": \"\"}, \"bgcolor\": \"#E5ECF6\", \"caxis\": {\"gridcolor\": \"white\", \"linecolor\": \"white\", \"ticks\": \"\"}}, \"title\": {\"x\": 0.05}, \"xaxis\": {\"automargin\": true, \"gridcolor\": \"white\", \"linecolor\": \"white\", \"ticks\": \"\", \"title\": {\"standoff\": 15}, \"zerolinecolor\": \"white\", \"zerolinewidth\": 2}, \"yaxis\": {\"automargin\": true, \"gridcolor\": \"white\", \"linecolor\": \"white\", \"ticks\": \"\", \"title\": {\"standoff\": 15}, \"zerolinecolor\": \"white\", \"zerolinewidth\": 2}}}, \"xaxis\": {\"anchor\": \"y\", \"domain\": [0.0, 1.0], \"title\": {\"text\": \"Date\"}}, \"xaxis2\": {\"anchor\": \"y2\", \"domain\": [0.0, 1.0]}, \"yaxis\": {\"anchor\": \"x\", \"domain\": [0.625, 1.0], \"title\": {\"text\": \"Recovery Rate\"}}, \"yaxis2\": {\"anchor\": \"x2\", \"domain\": [0.0, 0.375]}},\n",
              "                        {\"responsive\": true}\n",
              "                    ).then(function(){\n",
              "                            \n",
              "var gd = document.getElementById('8fe3d1ba-1a92-4791-826f-bfdadcc88bd1');\n",
              "var x = new MutationObserver(function (mutations, observer) {{\n",
              "        var display = window.getComputedStyle(gd).display;\n",
              "        if (!display || display === 'none') {{\n",
              "            console.log([gd, 'removed!']);\n",
              "            Plotly.purge(gd);\n",
              "            observer.disconnect();\n",
              "        }}\n",
              "}});\n",
              "\n",
              "// Listen for the removal of the full notebook cells\n",
              "var notebookContainer = gd.closest('#notebook-container');\n",
              "if (notebookContainer) {{\n",
              "    x.observe(notebookContainer, {childList: true});\n",
              "}}\n",
              "\n",
              "// Listen for the clearing of the current output cell\n",
              "var outputEl = gd.closest('.output');\n",
              "if (outputEl) {{\n",
              "    x.observe(outputEl, {childList: true});\n",
              "}}\n",
              "\n",
              "                        })\n",
              "                };\n",
              "                \n",
              "            </script>\n",
              "        </div>\n",
              "</body>\n",
              "</html>"
            ]
          },
          "metadata": {
            "tags": []
          }
        }
      ]
    },
    {
      "cell_type": "markdown",
      "metadata": {
        "id": "6sRJ0i8LXeJh",
        "colab_type": "text"
      },
      "source": [
        "Mortality rate = (Number of Death Cases / Number of Confirmed Cases) x 100\n",
        "\n",
        "Recovery Rate= (Number of Recoverd Cases / Number of Confirmed Cases) x 100"
      ]
    },
    {
      "cell_type": "markdown",
      "metadata": {
        "id": "aRqK6RzGXlGf",
        "colab_type": "text"
      },
      "source": [
        "\n",
        "Growth Factor for different types of Cases¶\n",
        "\n",
        "Growth factor is the factor by which a quantity multiplies itself over time. The formula used is:\n",
        "\n",
        "Formula: Every day's new (Confirmed,Recovered,Deaths) / new (Confirmed,Recovered,Deaths) on the previous day.\n",
        "\n",
        "A growth factor above 1 indicates an increase correspoding cases.\n",
        "\n",
        "A growth factor above 1 but trending downward is a positive sign, whereas a growth factor constantly above 1 is the sign of exponential growth.\n",
        "\n",
        "A growth factor constant at 1 indicates there is no change in any kind of cases.\n"
      ]
    },
    {
      "cell_type": "code",
      "metadata": {
        "id": "LdUZx4A0XTSB",
        "colab_type": "code",
        "outputId": "4d638f37-5658-43a7-9a17-39d4af274f54",
        "colab": {
          "base_uri": "https://localhost:8080/",
          "height": 542
        }
      },
      "source": [
        "fig=go.Figure()\n",
        "fig.add_trace(go.Scatter(x=saudi_datewise.index, y=saudi_datewise[\"Confirmed\"]/saudi_datewise[\"Confirmed\"].shift(),\n",
        "                    mode='lines',\n",
        "                    name='Growth Factor of Confirmed Cases'))\n",
        "fig.add_trace(go.Scatter(x=saudi_datewise.index, y=saudi_datewise[\"Recovered\"]/saudi_datewise[\"Recovered\"].shift(),\n",
        "                    mode='lines',\n",
        "                    name='Growth Factor of Recovered Cases'))\n",
        "fig.add_trace(go.Scatter(x=saudi_datewise.index, y=saudi_datewise[\"Deaths\"]/saudi_datewise[\"Deaths\"].shift(),\n",
        "                    mode='lines',\n",
        "                    name='Growth Factor of Death Cases'))\n",
        "fig.update_layout(title=\"Datewise Growth Factor of different types of cases in Saudi Arabia\",\n",
        "                 xaxis_title=\"Date\",yaxis_title=\"Growth Factor\",\n",
        "                 legend=dict(x=0,y=1,traceorder=\"normal\"))\n",
        "fig.show()"
      ],
      "execution_count": 0,
      "outputs": [
        {
          "output_type": "display_data",
          "data": {
            "text/html": [
              "<html>\n",
              "<head><meta charset=\"utf-8\" /></head>\n",
              "<body>\n",
              "    <div>\n",
              "            <script src=\"https://cdnjs.cloudflare.com/ajax/libs/mathjax/2.7.5/MathJax.js?config=TeX-AMS-MML_SVG\"></script><script type=\"text/javascript\">if (window.MathJax) {MathJax.Hub.Config({SVG: {font: \"STIX-Web\"}});}</script>\n",
              "                <script type=\"text/javascript\">window.PlotlyConfig = {MathJaxConfig: 'local'};</script>\n",
              "        <script src=\"https://cdn.plot.ly/plotly-latest.min.js\"></script>    \n",
              "            <div id=\"25cf1f0d-84e1-406d-bb49-e893ba7b37ae\" class=\"plotly-graph-div\" style=\"height:525px; width:100%;\"></div>\n",
              "            <script type=\"text/javascript\">\n",
              "                \n",
              "                    window.PLOTLYENV=window.PLOTLYENV || {};\n",
              "                    \n",
              "                if (document.getElementById(\"25cf1f0d-84e1-406d-bb49-e893ba7b37ae\")) {\n",
              "                    Plotly.newPlot(\n",
              "                        '25cf1f0d-84e1-406d-bb49-e893ba7b37ae',\n",
              "                        [{\"mode\": \"lines\", \"name\": \"Growth Factor of Confirmed Cases\", \"type\": \"scatter\", \"x\": [\"2020-01-22T00:00:00\", \"2020-01-23T00:00:00\", \"2020-01-24T00:00:00\", \"2020-01-25T00:00:00\", \"2020-01-26T00:00:00\", \"2020-01-27T00:00:00\", \"2020-01-28T00:00:00\", \"2020-01-29T00:00:00\", \"2020-01-30T00:00:00\", \"2020-01-31T00:00:00\", \"2020-02-01T00:00:00\", \"2020-02-02T00:00:00\", \"2020-02-03T00:00:00\", \"2020-02-04T00:00:00\", \"2020-02-05T00:00:00\", \"2020-02-06T00:00:00\", \"2020-02-07T00:00:00\", \"2020-02-08T00:00:00\", \"2020-02-09T00:00:00\", \"2020-02-10T00:00:00\", \"2020-02-11T00:00:00\", \"2020-02-12T00:00:00\", \"2020-02-13T00:00:00\", \"2020-02-14T00:00:00\", \"2020-02-15T00:00:00\", \"2020-02-16T00:00:00\", \"2020-02-17T00:00:00\", \"2020-02-18T00:00:00\", \"2020-02-19T00:00:00\", \"2020-02-20T00:00:00\", \"2020-02-21T00:00:00\", \"2020-02-22T00:00:00\", \"2020-02-23T00:00:00\", \"2020-02-24T00:00:00\", \"2020-02-25T00:00:00\", \"2020-02-26T00:00:00\", \"2020-02-27T00:00:00\", \"2020-02-28T00:00:00\", \"2020-02-29T00:00:00\", \"2020-03-01T00:00:00\", \"2020-03-02T00:00:00\", \"2020-03-03T00:00:00\", \"2020-03-04T00:00:00\", \"2020-03-05T00:00:00\", \"2020-03-06T00:00:00\", \"2020-03-07T00:00:00\", \"2020-03-08T00:00:00\", \"2020-03-09T00:00:00\", \"2020-03-10T00:00:00\", \"2020-03-11T00:00:00\", \"2020-03-12T00:00:00\", \"2020-03-13T00:00:00\", \"2020-03-14T00:00:00\", \"2020-03-15T00:00:00\", \"2020-03-16T00:00:00\", \"2020-03-17T00:00:00\", \"2020-03-18T00:00:00\", \"2020-03-19T00:00:00\", \"2020-03-20T00:00:00\", \"2020-03-21T00:00:00\", \"2020-03-22T00:00:00\", \"2020-03-23T00:00:00\", \"2020-03-24T00:00:00\", \"2020-03-25T00:00:00\", \"2020-03-26T00:00:00\", \"2020-03-27T00:00:00\", \"2020-03-28T00:00:00\", \"2020-03-29T00:00:00\", \"2020-03-30T00:00:00\", \"2020-03-31T00:00:00\", \"2020-04-01T00:00:00\", \"2020-04-02T00:00:00\", \"2020-04-03T00:00:00\", \"2020-04-04T00:00:00\", \"2020-04-05T00:00:00\", \"2020-04-06T00:00:00\", \"2020-04-07T00:00:00\", \"2020-04-08T00:00:00\", \"2020-04-09T00:00:00\", \"2020-04-10T00:00:00\", \"2020-04-11T00:00:00\", \"2020-04-12T00:00:00\", \"2020-04-13T00:00:00\", \"2020-04-14T00:00:00\", \"2020-04-15T00:00:00\", \"2020-04-16T00:00:00\", \"2020-04-17T00:00:00\", \"2020-04-18T00:00:00\", \"2020-04-19T00:00:00\", \"2020-04-20T00:00:00\", \"2020-04-21T00:00:00\", \"2020-04-22T00:00:00\", \"2020-04-23T00:00:00\", \"2020-04-24T00:00:00\", \"2020-04-25T00:00:00\", \"2020-04-26T00:00:00\", \"2020-04-27T00:00:00\", \"2020-04-28T00:00:00\", \"2020-04-29T00:00:00\", \"2020-04-30T00:00:00\", \"2020-05-01T00:00:00\", \"2020-05-02T00:00:00\", \"2020-05-03T00:00:00\", \"2020-05-04T00:00:00\", \"2020-05-05T00:00:00\", \"2020-05-06T00:00:00\", \"2020-05-07T00:00:00\", \"2020-05-08T00:00:00\", \"2020-05-09T00:00:00\", \"2020-05-10T00:00:00\", \"2020-05-11T00:00:00\", \"2020-05-12T00:00:00\", \"2020-05-13T00:00:00\", \"2020-05-14T00:00:00\", \"2020-05-15T00:00:00\", \"2020-05-16T00:00:00\", \"2020-05-17T00:00:00\", \"2020-05-18T00:00:00\", \"2020-05-19T00:00:00\", \"2020-05-20T00:00:00\", \"2020-05-21T00:00:00\", \"2020-05-22T00:00:00\", \"2020-05-23T00:00:00\", \"2020-05-24T00:00:00\", \"2020-05-25T00:00:00\", \"2020-05-26T00:00:00\", \"2020-05-27T00:00:00\", \"2020-05-28T00:00:00\", \"2020-05-29T00:00:00\", \"2020-05-30T00:00:00\"], \"y\": [null, null, null, null, null, null, null, null, null, null, null, null, null, null, null, null, null, null, null, null, null, null, null, null, null, null, null, null, null, null, null, null, null, null, null, null, null, null, null, null, null, 1.0, 1.0, 5.0, 1.0, 1.0, 2.2, 1.3636363636363635, 1.3333333333333333, 1.05, 2.142857142857143, 1.9111111111111112, 1.197674418604651, 1.0, 1.145631067961165, 1.4491525423728813, 1.0, 1.6023391812865497, 1.2554744525547445, 1.1395348837209303, 1.3035714285714286, 1.0998043052837574, 1.3647686832740213, 1.1734028683181226, 1.1244444444444444, 1.0909090909090908, 1.0896739130434783, 1.0798004987531171, 1.1185527328714395, 1.075705437026841, 1.1004478566858604, 1.0959302325581395, 1.0816976127320954, 1.0686611083864639, 1.1023405231757688, 1.0845129059117402, 1.072936660268714, 1.049016100178891, 1.1210777626193724, 1.1107392759355035, 1.1046288688030677, 1.1063724274733449, 1.1057821604661586, 1.0881637616538307, 1.0918234308064816, 1.0883657454793585, 1.119435736677116, 1.158499019882386, 1.1314962533236645, 1.119846186712241, 1.1094048073254483, 1.098099905425157, 1.0906670842467898, 1.08413496051687, 1.0792610250297974, 1.0750352782379287, 1.073564661568314, 1.067301047259582, 1.0659959157244607, 1.0631249415942434, 1.0590691337406057, 1.0565215587002532, 1.060960760438352, 1.060901114360816, 1.0556602456728086, 1.0557667515123468, 1.0561400212912517, 1.0504283893154664, 1.048092120117408, 1.0514864282636796, 1.0503482892849827, 1.0465938460038036, 1.044379732090856, 1.0454829355342405, 1.049222300454458, 1.0577517488205628, 1.0525992002460782, 1.0473590005844535, 1.0437527247362455, 1.04495940120961, 1.0404828523463105, 1.0405980607587935, 1.0360607805785673, 1.034192785165548, 1.0308020948180816, 1.025817233772311, 1.0236556056617052, 1.0209317426567015, 1.0197169046579784, 1.0197881760144802]}, {\"mode\": \"lines\", \"name\": \"Growth Factor of Recovered Cases\", \"type\": \"scatter\", \"x\": [\"2020-01-22T00:00:00\", \"2020-01-23T00:00:00\", \"2020-01-24T00:00:00\", \"2020-01-25T00:00:00\", \"2020-01-26T00:00:00\", \"2020-01-27T00:00:00\", \"2020-01-28T00:00:00\", \"2020-01-29T00:00:00\", \"2020-01-30T00:00:00\", \"2020-01-31T00:00:00\", \"2020-02-01T00:00:00\", \"2020-02-02T00:00:00\", \"2020-02-03T00:00:00\", \"2020-02-04T00:00:00\", \"2020-02-05T00:00:00\", \"2020-02-06T00:00:00\", \"2020-02-07T00:00:00\", \"2020-02-08T00:00:00\", \"2020-02-09T00:00:00\", \"2020-02-10T00:00:00\", \"2020-02-11T00:00:00\", \"2020-02-12T00:00:00\", \"2020-02-13T00:00:00\", \"2020-02-14T00:00:00\", \"2020-02-15T00:00:00\", \"2020-02-16T00:00:00\", \"2020-02-17T00:00:00\", \"2020-02-18T00:00:00\", \"2020-02-19T00:00:00\", \"2020-02-20T00:00:00\", \"2020-02-21T00:00:00\", \"2020-02-22T00:00:00\", \"2020-02-23T00:00:00\", \"2020-02-24T00:00:00\", \"2020-02-25T00:00:00\", \"2020-02-26T00:00:00\", \"2020-02-27T00:00:00\", \"2020-02-28T00:00:00\", \"2020-02-29T00:00:00\", \"2020-03-01T00:00:00\", \"2020-03-02T00:00:00\", \"2020-03-03T00:00:00\", \"2020-03-04T00:00:00\", \"2020-03-05T00:00:00\", \"2020-03-06T00:00:00\", \"2020-03-07T00:00:00\", \"2020-03-08T00:00:00\", \"2020-03-09T00:00:00\", \"2020-03-10T00:00:00\", \"2020-03-11T00:00:00\", \"2020-03-12T00:00:00\", \"2020-03-13T00:00:00\", \"2020-03-14T00:00:00\", \"2020-03-15T00:00:00\", \"2020-03-16T00:00:00\", \"2020-03-17T00:00:00\", \"2020-03-18T00:00:00\", \"2020-03-19T00:00:00\", \"2020-03-20T00:00:00\", \"2020-03-21T00:00:00\", \"2020-03-22T00:00:00\", \"2020-03-23T00:00:00\", \"2020-03-24T00:00:00\", \"2020-03-25T00:00:00\", \"2020-03-26T00:00:00\", \"2020-03-27T00:00:00\", \"2020-03-28T00:00:00\", \"2020-03-29T00:00:00\", \"2020-03-30T00:00:00\", \"2020-03-31T00:00:00\", \"2020-04-01T00:00:00\", \"2020-04-02T00:00:00\", \"2020-04-03T00:00:00\", \"2020-04-04T00:00:00\", \"2020-04-05T00:00:00\", \"2020-04-06T00:00:00\", \"2020-04-07T00:00:00\", \"2020-04-08T00:00:00\", \"2020-04-09T00:00:00\", \"2020-04-10T00:00:00\", \"2020-04-11T00:00:00\", \"2020-04-12T00:00:00\", \"2020-04-13T00:00:00\", \"2020-04-14T00:00:00\", \"2020-04-15T00:00:00\", \"2020-04-16T00:00:00\", \"2020-04-17T00:00:00\", \"2020-04-18T00:00:00\", \"2020-04-19T00:00:00\", \"2020-04-20T00:00:00\", \"2020-04-21T00:00:00\", \"2020-04-22T00:00:00\", \"2020-04-23T00:00:00\", \"2020-04-24T00:00:00\", \"2020-04-25T00:00:00\", \"2020-04-26T00:00:00\", \"2020-04-27T00:00:00\", \"2020-04-28T00:00:00\", \"2020-04-29T00:00:00\", \"2020-04-30T00:00:00\", \"2020-05-01T00:00:00\", \"2020-05-02T00:00:00\", \"2020-05-03T00:00:00\", \"2020-05-04T00:00:00\", \"2020-05-05T00:00:00\", \"2020-05-06T00:00:00\", \"2020-05-07T00:00:00\", \"2020-05-08T00:00:00\", \"2020-05-09T00:00:00\", \"2020-05-10T00:00:00\", \"2020-05-11T00:00:00\", \"2020-05-12T00:00:00\", \"2020-05-13T00:00:00\", \"2020-05-14T00:00:00\", \"2020-05-15T00:00:00\", \"2020-05-16T00:00:00\", \"2020-05-17T00:00:00\", \"2020-05-18T00:00:00\", \"2020-05-19T00:00:00\", \"2020-05-20T00:00:00\", \"2020-05-21T00:00:00\", \"2020-05-22T00:00:00\", \"2020-05-23T00:00:00\", \"2020-05-24T00:00:00\", \"2020-05-25T00:00:00\", \"2020-05-26T00:00:00\", \"2020-05-27T00:00:00\", \"2020-05-28T00:00:00\", \"2020-05-29T00:00:00\", \"2020-05-30T00:00:00\"], \"y\": [null, null, null, null, null, null, null, null, null, null, null, null, null, null, null, null, null, null, null, null, null, null, null, null, null, null, null, null, null, null, null, null, null, null, null, null, null, null, null, null, null, null, null, null, null, null, null, null, null, 1.0, 1.0, 1.0, 1.0, 1.0, 2.0, 3.0, 1.0, 1.0, 1.3333333333333333, 2.0, 1.0, 1.0, 1.75, 1.0357142857142858, 1.1379310344827587, 1.0606060606060606, 1.0571428571428572, 1.7837837837837838, 1.7424242424242424, 1.434782608695652, 1.6, 1.2424242424242424, 1.0701219512195121, 1.1965811965811965, 1.161904761904762, 1.1290983606557377, 1.116152450090744, 1.0260162601626017, 1.0554675118858954, 1.0285285285285286, 1.051094890510949, 1.0569444444444445, 1.0578186596583443, 1.1043478260869566, 1.047244094488189, 1.0633727175080558, 1.0595959595959596, 1.2669208770257387, 1.0519187358916477, 1.0658082975679541, 1.1006711409395973, 1.104878048780488, 1.0623620309050772, 1.0644155844155845, 1.0810151293313812, 1.0641083521444694, 1.0738226559185404, 1.099960489924931, 1.0607040229885059, 1.0711141212326447, 1.1239329750237117, 1.0590717299578059, 1.0980079681274901, 1.0827285921625545, 1.2133601429848078, 1.248941263119131, 1.149638802889577, 1.1695306488843293, 1.1122807017543859, 1.129436119873817, 1.1117220912978965, 1.1978487869985084, 1.155010814708003, 1.0810918170468733, 1.147918744422865, 1.0821711097901139, 1.0868756866390603, 1.1176424850322682, 1.1003895923194658, 1.058291711449706, 1.0765278690483302, 1.082214206437292, 1.057252006255929, 1.0553884954893782, 1.0493566176470588, 1.0609179294035211, 1.0530856553147574, 1.0692054407902474, 1.045093762029586, 1.0327995369477136]}, {\"mode\": \"lines\", \"name\": \"Growth Factor of Death Cases\", \"type\": \"scatter\", \"x\": [\"2020-01-22T00:00:00\", \"2020-01-23T00:00:00\", \"2020-01-24T00:00:00\", \"2020-01-25T00:00:00\", \"2020-01-26T00:00:00\", \"2020-01-27T00:00:00\", \"2020-01-28T00:00:00\", \"2020-01-29T00:00:00\", \"2020-01-30T00:00:00\", \"2020-01-31T00:00:00\", \"2020-02-01T00:00:00\", \"2020-02-02T00:00:00\", \"2020-02-03T00:00:00\", \"2020-02-04T00:00:00\", \"2020-02-05T00:00:00\", \"2020-02-06T00:00:00\", \"2020-02-07T00:00:00\", \"2020-02-08T00:00:00\", \"2020-02-09T00:00:00\", \"2020-02-10T00:00:00\", \"2020-02-11T00:00:00\", \"2020-02-12T00:00:00\", \"2020-02-13T00:00:00\", \"2020-02-14T00:00:00\", \"2020-02-15T00:00:00\", \"2020-02-16T00:00:00\", \"2020-02-17T00:00:00\", \"2020-02-18T00:00:00\", \"2020-02-19T00:00:00\", \"2020-02-20T00:00:00\", \"2020-02-21T00:00:00\", \"2020-02-22T00:00:00\", \"2020-02-23T00:00:00\", \"2020-02-24T00:00:00\", \"2020-02-25T00:00:00\", \"2020-02-26T00:00:00\", \"2020-02-27T00:00:00\", \"2020-02-28T00:00:00\", \"2020-02-29T00:00:00\", \"2020-03-01T00:00:00\", \"2020-03-02T00:00:00\", \"2020-03-03T00:00:00\", \"2020-03-04T00:00:00\", \"2020-03-05T00:00:00\", \"2020-03-06T00:00:00\", \"2020-03-07T00:00:00\", \"2020-03-08T00:00:00\", \"2020-03-09T00:00:00\", \"2020-03-10T00:00:00\", \"2020-03-11T00:00:00\", \"2020-03-12T00:00:00\", \"2020-03-13T00:00:00\", \"2020-03-14T00:00:00\", \"2020-03-15T00:00:00\", \"2020-03-16T00:00:00\", \"2020-03-17T00:00:00\", \"2020-03-18T00:00:00\", \"2020-03-19T00:00:00\", \"2020-03-20T00:00:00\", \"2020-03-21T00:00:00\", \"2020-03-22T00:00:00\", \"2020-03-23T00:00:00\", \"2020-03-24T00:00:00\", \"2020-03-25T00:00:00\", \"2020-03-26T00:00:00\", \"2020-03-27T00:00:00\", \"2020-03-28T00:00:00\", \"2020-03-29T00:00:00\", \"2020-03-30T00:00:00\", \"2020-03-31T00:00:00\", \"2020-04-01T00:00:00\", \"2020-04-02T00:00:00\", \"2020-04-03T00:00:00\", \"2020-04-04T00:00:00\", \"2020-04-05T00:00:00\", \"2020-04-06T00:00:00\", \"2020-04-07T00:00:00\", \"2020-04-08T00:00:00\", \"2020-04-09T00:00:00\", \"2020-04-10T00:00:00\", \"2020-04-11T00:00:00\", \"2020-04-12T00:00:00\", \"2020-04-13T00:00:00\", \"2020-04-14T00:00:00\", \"2020-04-15T00:00:00\", \"2020-04-16T00:00:00\", \"2020-04-17T00:00:00\", \"2020-04-18T00:00:00\", \"2020-04-19T00:00:00\", \"2020-04-20T00:00:00\", \"2020-04-21T00:00:00\", \"2020-04-22T00:00:00\", \"2020-04-23T00:00:00\", \"2020-04-24T00:00:00\", \"2020-04-25T00:00:00\", \"2020-04-26T00:00:00\", \"2020-04-27T00:00:00\", \"2020-04-28T00:00:00\", \"2020-04-29T00:00:00\", \"2020-04-30T00:00:00\", \"2020-05-01T00:00:00\", \"2020-05-02T00:00:00\", \"2020-05-03T00:00:00\", \"2020-05-04T00:00:00\", \"2020-05-05T00:00:00\", \"2020-05-06T00:00:00\", \"2020-05-07T00:00:00\", \"2020-05-08T00:00:00\", \"2020-05-09T00:00:00\", \"2020-05-10T00:00:00\", \"2020-05-11T00:00:00\", \"2020-05-12T00:00:00\", \"2020-05-13T00:00:00\", \"2020-05-14T00:00:00\", \"2020-05-15T00:00:00\", \"2020-05-16T00:00:00\", \"2020-05-17T00:00:00\", \"2020-05-18T00:00:00\", \"2020-05-19T00:00:00\", \"2020-05-20T00:00:00\", \"2020-05-21T00:00:00\", \"2020-05-22T00:00:00\", \"2020-05-23T00:00:00\", \"2020-05-24T00:00:00\", \"2020-05-25T00:00:00\", \"2020-05-26T00:00:00\", \"2020-05-27T00:00:00\", \"2020-05-28T00:00:00\", \"2020-05-29T00:00:00\", \"2020-05-30T00:00:00\"], \"y\": [null, null, null, null, null, null, null, null, null, null, null, null, null, null, null, null, null, null, null, null, null, null, null, null, null, null, null, null, null, null, null, null, null, null, null, null, null, null, null, null, null, null, null, null, null, null, null, null, null, null, null, null, null, null, null, null, null, null, null, null, null, null, null, 2.0, 1.5, 1.0, 1.3333333333333333, 2.0, 1.0, 1.25, 1.6, 1.3125, 1.1904761904761905, 1.16, 1.1724137931034482, 1.1176470588235294, 1.0789473684210527, 1.0, 1.0731707317073171, 1.0681818181818181, 1.1063829787234043, 1.1346153846153846, 1.1016949152542372, 1.123076923076923, 1.082191780821918, 1.0506329113924051, 1.0481927710843373, 1.0574712643678161, 1.0543478260869565, 1.0618556701030928, 1.058252427184466, 1.0458715596330275, 1.0614035087719298, 1.0495867768595042, 1.0708661417322836, 1.0220588235294117, 1.0359712230215827, 1.0555555555555556, 1.0328947368421053, 1.0318471337579618, 1.0432098765432098, 1.0414201183431953, 1.0454545454545454, 1.0380434782608696, 1.0471204188481675, 1.045, 1.0478468899521531, 1.0456621004566211, 1.0436681222707425, 1.0292887029288702, 1.0365853658536586, 1.035294117647059, 1.0340909090909092, 1.0366300366300367, 1.0318021201413428, 1.0342465753424657, 1.033112582781457, 1.0256410256410255, 1.028125, 1.0303951367781155, 1.0353982300884956, 1.037037037037037, 1.0412087912087913, 1.029023746701847, 1.023076923076923, 1.0300751879699248, 1.0340632603406326, 1.0376470588235294, 1.038548752834467, 1.0480349344978166]}],\n",
              "                        {\"legend\": {\"traceorder\": \"normal\", \"x\": 0, \"y\": 1}, \"template\": {\"data\": {\"bar\": [{\"error_x\": {\"color\": \"#2a3f5f\"}, \"error_y\": {\"color\": \"#2a3f5f\"}, \"marker\": {\"line\": {\"color\": \"#E5ECF6\", \"width\": 0.5}}, \"type\": \"bar\"}], \"barpolar\": [{\"marker\": {\"line\": {\"color\": \"#E5ECF6\", \"width\": 0.5}}, \"type\": \"barpolar\"}], \"carpet\": [{\"aaxis\": {\"endlinecolor\": \"#2a3f5f\", \"gridcolor\": \"white\", \"linecolor\": \"white\", \"minorgridcolor\": \"white\", \"startlinecolor\": \"#2a3f5f\"}, \"baxis\": {\"endlinecolor\": \"#2a3f5f\", \"gridcolor\": \"white\", \"linecolor\": \"white\", \"minorgridcolor\": \"white\", \"startlinecolor\": \"#2a3f5f\"}, \"type\": \"carpet\"}], \"choropleth\": [{\"colorbar\": {\"outlinewidth\": 0, \"ticks\": \"\"}, \"type\": \"choropleth\"}], \"contour\": [{\"colorbar\": {\"outlinewidth\": 0, \"ticks\": \"\"}, \"colorscale\": [[0.0, \"#0d0887\"], [0.1111111111111111, \"#46039f\"], [0.2222222222222222, \"#7201a8\"], [0.3333333333333333, \"#9c179e\"], [0.4444444444444444, \"#bd3786\"], [0.5555555555555556, \"#d8576b\"], [0.6666666666666666, \"#ed7953\"], [0.7777777777777778, \"#fb9f3a\"], [0.8888888888888888, \"#fdca26\"], [1.0, \"#f0f921\"]], \"type\": \"contour\"}], \"contourcarpet\": [{\"colorbar\": {\"outlinewidth\": 0, \"ticks\": \"\"}, \"type\": \"contourcarpet\"}], \"heatmap\": [{\"colorbar\": {\"outlinewidth\": 0, \"ticks\": \"\"}, \"colorscale\": [[0.0, \"#0d0887\"], [0.1111111111111111, \"#46039f\"], [0.2222222222222222, \"#7201a8\"], [0.3333333333333333, \"#9c179e\"], [0.4444444444444444, \"#bd3786\"], [0.5555555555555556, \"#d8576b\"], [0.6666666666666666, \"#ed7953\"], [0.7777777777777778, \"#fb9f3a\"], [0.8888888888888888, \"#fdca26\"], [1.0, \"#f0f921\"]], \"type\": \"heatmap\"}], \"heatmapgl\": [{\"colorbar\": {\"outlinewidth\": 0, \"ticks\": \"\"}, \"colorscale\": [[0.0, \"#0d0887\"], [0.1111111111111111, \"#46039f\"], [0.2222222222222222, \"#7201a8\"], [0.3333333333333333, \"#9c179e\"], [0.4444444444444444, \"#bd3786\"], [0.5555555555555556, \"#d8576b\"], [0.6666666666666666, \"#ed7953\"], [0.7777777777777778, \"#fb9f3a\"], [0.8888888888888888, \"#fdca26\"], [1.0, \"#f0f921\"]], \"type\": \"heatmapgl\"}], \"histogram\": [{\"marker\": {\"colorbar\": {\"outlinewidth\": 0, \"ticks\": \"\"}}, \"type\": \"histogram\"}], \"histogram2d\": [{\"colorbar\": {\"outlinewidth\": 0, \"ticks\": \"\"}, \"colorscale\": [[0.0, \"#0d0887\"], [0.1111111111111111, \"#46039f\"], [0.2222222222222222, \"#7201a8\"], [0.3333333333333333, \"#9c179e\"], [0.4444444444444444, \"#bd3786\"], [0.5555555555555556, \"#d8576b\"], [0.6666666666666666, \"#ed7953\"], [0.7777777777777778, \"#fb9f3a\"], [0.8888888888888888, \"#fdca26\"], [1.0, \"#f0f921\"]], \"type\": \"histogram2d\"}], \"histogram2dcontour\": [{\"colorbar\": {\"outlinewidth\": 0, \"ticks\": \"\"}, \"colorscale\": [[0.0, \"#0d0887\"], [0.1111111111111111, \"#46039f\"], [0.2222222222222222, \"#7201a8\"], [0.3333333333333333, \"#9c179e\"], [0.4444444444444444, \"#bd3786\"], [0.5555555555555556, \"#d8576b\"], [0.6666666666666666, \"#ed7953\"], [0.7777777777777778, \"#fb9f3a\"], [0.8888888888888888, \"#fdca26\"], [1.0, \"#f0f921\"]], \"type\": \"histogram2dcontour\"}], \"mesh3d\": [{\"colorbar\": {\"outlinewidth\": 0, \"ticks\": \"\"}, \"type\": \"mesh3d\"}], \"parcoords\": [{\"line\": {\"colorbar\": {\"outlinewidth\": 0, \"ticks\": \"\"}}, \"type\": \"parcoords\"}], \"pie\": [{\"automargin\": true, \"type\": \"pie\"}], \"scatter\": [{\"marker\": {\"colorbar\": {\"outlinewidth\": 0, \"ticks\": \"\"}}, \"type\": \"scatter\"}], \"scatter3d\": [{\"line\": {\"colorbar\": {\"outlinewidth\": 0, \"ticks\": \"\"}}, \"marker\": {\"colorbar\": {\"outlinewidth\": 0, \"ticks\": \"\"}}, \"type\": \"scatter3d\"}], \"scattercarpet\": [{\"marker\": {\"colorbar\": {\"outlinewidth\": 0, \"ticks\": \"\"}}, \"type\": \"scattercarpet\"}], \"scattergeo\": [{\"marker\": {\"colorbar\": {\"outlinewidth\": 0, \"ticks\": \"\"}}, \"type\": \"scattergeo\"}], \"scattergl\": [{\"marker\": {\"colorbar\": {\"outlinewidth\": 0, \"ticks\": \"\"}}, \"type\": \"scattergl\"}], \"scattermapbox\": [{\"marker\": {\"colorbar\": {\"outlinewidth\": 0, \"ticks\": \"\"}}, \"type\": \"scattermapbox\"}], \"scatterpolar\": [{\"marker\": {\"colorbar\": {\"outlinewidth\": 0, \"ticks\": \"\"}}, \"type\": \"scatterpolar\"}], \"scatterpolargl\": [{\"marker\": {\"colorbar\": {\"outlinewidth\": 0, \"ticks\": \"\"}}, \"type\": \"scatterpolargl\"}], \"scatterternary\": [{\"marker\": {\"colorbar\": {\"outlinewidth\": 0, \"ticks\": \"\"}}, \"type\": \"scatterternary\"}], \"surface\": [{\"colorbar\": {\"outlinewidth\": 0, \"ticks\": \"\"}, \"colorscale\": [[0.0, \"#0d0887\"], [0.1111111111111111, \"#46039f\"], [0.2222222222222222, \"#7201a8\"], [0.3333333333333333, \"#9c179e\"], [0.4444444444444444, \"#bd3786\"], [0.5555555555555556, \"#d8576b\"], [0.6666666666666666, \"#ed7953\"], [0.7777777777777778, \"#fb9f3a\"], [0.8888888888888888, \"#fdca26\"], [1.0, \"#f0f921\"]], \"type\": \"surface\"}], \"table\": [{\"cells\": {\"fill\": {\"color\": \"#EBF0F8\"}, \"line\": {\"color\": \"white\"}}, \"header\": {\"fill\": {\"color\": \"#C8D4E3\"}, \"line\": {\"color\": \"white\"}}, \"type\": \"table\"}]}, \"layout\": {\"annotationdefaults\": {\"arrowcolor\": \"#2a3f5f\", \"arrowhead\": 0, \"arrowwidth\": 1}, \"coloraxis\": {\"colorbar\": {\"outlinewidth\": 0, \"ticks\": \"\"}}, \"colorscale\": {\"diverging\": [[0, \"#8e0152\"], [0.1, \"#c51b7d\"], [0.2, \"#de77ae\"], [0.3, \"#f1b6da\"], [0.4, \"#fde0ef\"], [0.5, \"#f7f7f7\"], [0.6, \"#e6f5d0\"], [0.7, \"#b8e186\"], [0.8, \"#7fbc41\"], [0.9, \"#4d9221\"], [1, \"#276419\"]], \"sequential\": [[0.0, \"#0d0887\"], [0.1111111111111111, \"#46039f\"], [0.2222222222222222, \"#7201a8\"], [0.3333333333333333, \"#9c179e\"], [0.4444444444444444, \"#bd3786\"], [0.5555555555555556, \"#d8576b\"], [0.6666666666666666, \"#ed7953\"], [0.7777777777777778, \"#fb9f3a\"], [0.8888888888888888, \"#fdca26\"], [1.0, \"#f0f921\"]], \"sequentialminus\": [[0.0, \"#0d0887\"], [0.1111111111111111, \"#46039f\"], [0.2222222222222222, \"#7201a8\"], [0.3333333333333333, \"#9c179e\"], [0.4444444444444444, \"#bd3786\"], [0.5555555555555556, \"#d8576b\"], [0.6666666666666666, \"#ed7953\"], [0.7777777777777778, \"#fb9f3a\"], [0.8888888888888888, \"#fdca26\"], [1.0, \"#f0f921\"]]}, \"colorway\": [\"#636efa\", \"#EF553B\", \"#00cc96\", \"#ab63fa\", \"#FFA15A\", \"#19d3f3\", \"#FF6692\", \"#B6E880\", \"#FF97FF\", \"#FECB52\"], \"font\": {\"color\": \"#2a3f5f\"}, \"geo\": {\"bgcolor\": \"white\", \"lakecolor\": \"white\", \"landcolor\": \"#E5ECF6\", \"showlakes\": true, \"showland\": true, \"subunitcolor\": \"white\"}, \"hoverlabel\": {\"align\": \"left\"}, \"hovermode\": \"closest\", \"mapbox\": {\"style\": \"light\"}, \"paper_bgcolor\": \"white\", \"plot_bgcolor\": \"#E5ECF6\", \"polar\": {\"angularaxis\": {\"gridcolor\": \"white\", \"linecolor\": \"white\", \"ticks\": \"\"}, \"bgcolor\": \"#E5ECF6\", \"radialaxis\": {\"gridcolor\": \"white\", \"linecolor\": \"white\", \"ticks\": \"\"}}, \"scene\": {\"xaxis\": {\"backgroundcolor\": \"#E5ECF6\", \"gridcolor\": \"white\", \"gridwidth\": 2, \"linecolor\": \"white\", \"showbackground\": true, \"ticks\": \"\", \"zerolinecolor\": \"white\"}, \"yaxis\": {\"backgroundcolor\": \"#E5ECF6\", \"gridcolor\": \"white\", \"gridwidth\": 2, \"linecolor\": \"white\", \"showbackground\": true, \"ticks\": \"\", \"zerolinecolor\": \"white\"}, \"zaxis\": {\"backgroundcolor\": \"#E5ECF6\", \"gridcolor\": \"white\", \"gridwidth\": 2, \"linecolor\": \"white\", \"showbackground\": true, \"ticks\": \"\", \"zerolinecolor\": \"white\"}}, \"shapedefaults\": {\"line\": {\"color\": \"#2a3f5f\"}}, \"ternary\": {\"aaxis\": {\"gridcolor\": \"white\", \"linecolor\": \"white\", \"ticks\": \"\"}, \"baxis\": {\"gridcolor\": \"white\", \"linecolor\": \"white\", \"ticks\": \"\"}, \"bgcolor\": \"#E5ECF6\", \"caxis\": {\"gridcolor\": \"white\", \"linecolor\": \"white\", \"ticks\": \"\"}}, \"title\": {\"x\": 0.05}, \"xaxis\": {\"automargin\": true, \"gridcolor\": \"white\", \"linecolor\": \"white\", \"ticks\": \"\", \"title\": {\"standoff\": 15}, \"zerolinecolor\": \"white\", \"zerolinewidth\": 2}, \"yaxis\": {\"automargin\": true, \"gridcolor\": \"white\", \"linecolor\": \"white\", \"ticks\": \"\", \"title\": {\"standoff\": 15}, \"zerolinecolor\": \"white\", \"zerolinewidth\": 2}}}, \"title\": {\"text\": \"Datewise Growth Factor of different types of cases in Saudi Arabia\"}, \"xaxis\": {\"title\": {\"text\": \"Date\"}}, \"yaxis\": {\"title\": {\"text\": \"Growth Factor\"}}},\n",
              "                        {\"responsive\": true}\n",
              "                    ).then(function(){\n",
              "                            \n",
              "var gd = document.getElementById('25cf1f0d-84e1-406d-bb49-e893ba7b37ae');\n",
              "var x = new MutationObserver(function (mutations, observer) {{\n",
              "        var display = window.getComputedStyle(gd).display;\n",
              "        if (!display || display === 'none') {{\n",
              "            console.log([gd, 'removed!']);\n",
              "            Plotly.purge(gd);\n",
              "            observer.disconnect();\n",
              "        }}\n",
              "}});\n",
              "\n",
              "// Listen for the removal of the full notebook cells\n",
              "var notebookContainer = gd.closest('#notebook-container');\n",
              "if (notebookContainer) {{\n",
              "    x.observe(notebookContainer, {childList: true});\n",
              "}}\n",
              "\n",
              "// Listen for the clearing of the current output cell\n",
              "var outputEl = gd.closest('.output');\n",
              "if (outputEl) {{\n",
              "    x.observe(outputEl, {childList: true});\n",
              "}}\n",
              "\n",
              "                        })\n",
              "                };\n",
              "                \n",
              "            </script>\n",
              "        </div>\n",
              "</body>\n",
              "</html>"
            ]
          },
          "metadata": {
            "tags": []
          }
        }
      ]
    },
    {
      "cell_type": "code",
      "metadata": {
        "id": "gMsuQLiPXzpd",
        "colab_type": "code",
        "colab": {}
      },
      "source": [
        "week_num_saudi=[]\n",
        "saudi_weekwise_confirmed=[]\n",
        "saudi_weekwise_recovered=[]\n",
        "saudi_weekwise_deaths=[]\n",
        "w=1\n",
        "for i in list(saudi_datewise[\"WeekofYear\"].unique()):\n",
        "    saudi_weekwise_confirmed.append(saudi_datewise[saudi_datewise[\"WeekofYear\"]==i][\"Confirmed\"].iloc[-1])\n",
        "    saudi_weekwise_recovered.append(saudi_datewise[saudi_datewise[\"WeekofYear\"]==i][\"Recovered\"].iloc[-1])\n",
        "    saudi_weekwise_deaths.append(saudi_datewise[saudi_datewise[\"WeekofYear\"]==i][\"Deaths\"].iloc[-1])\n",
        "    week_num_saudi.append(w)\n",
        "    w=w+1\n",
        "\n"
      ],
      "execution_count": 0,
      "outputs": []
    },
    {
      "cell_type": "code",
      "metadata": {
        "id": "F9mNLj5QYR2e",
        "colab_type": "code",
        "outputId": "03104764-7416-4986-a899-8f64908868f9",
        "colab": {
          "base_uri": "https://localhost:8080/",
          "height": 542
        }
      },
      "source": [
        "fig=go.Figure()\n",
        "fig.add_trace(go.Scatter(x=week_num_saudi, y=saudi_weekwise_confirmed,\n",
        "                    mode='lines+markers',\n",
        "                    name='Weekly Growth of Confirmed Cases'))\n",
        "fig.add_trace(go.Scatter(x=week_num_saudi, y=saudi_weekwise_recovered,\n",
        "                    mode='lines+markers',\n",
        "                    name='Weekly Growth of Recovered Cases'))\n",
        "fig.add_trace(go.Scatter(x=week_num_saudi, y=saudi_weekwise_deaths,\n",
        "                    mode='lines+markers',\n",
        "                    name='Weekly Growth of Death Cases'))\n",
        "fig.update_layout(title=\"Weekly Growth of different types of Cases in Saudi\",\n",
        "                 xaxis_title=\"Week Number\",yaxis_title=\"Number of Cases\",legend=dict(x=0,y=1,traceorder=\"normal\"))\n",
        "fig.show()"
      ],
      "execution_count": 0,
      "outputs": [
        {
          "output_type": "display_data",
          "data": {
            "text/html": [
              "<html>\n",
              "<head><meta charset=\"utf-8\" /></head>\n",
              "<body>\n",
              "    <div>\n",
              "            <script src=\"https://cdnjs.cloudflare.com/ajax/libs/mathjax/2.7.5/MathJax.js?config=TeX-AMS-MML_SVG\"></script><script type=\"text/javascript\">if (window.MathJax) {MathJax.Hub.Config({SVG: {font: \"STIX-Web\"}});}</script>\n",
              "                <script type=\"text/javascript\">window.PlotlyConfig = {MathJaxConfig: 'local'};</script>\n",
              "        <script src=\"https://cdn.plot.ly/plotly-latest.min.js\"></script>    \n",
              "            <div id=\"295fdd07-d5e9-41e5-8725-93268ec577d9\" class=\"plotly-graph-div\" style=\"height:525px; width:100%;\"></div>\n",
              "            <script type=\"text/javascript\">\n",
              "                \n",
              "                    window.PLOTLYENV=window.PLOTLYENV || {};\n",
              "                    \n",
              "                if (document.getElementById(\"295fdd07-d5e9-41e5-8725-93268ec577d9\")) {\n",
              "                    Plotly.newPlot(\n",
              "                        '295fdd07-d5e9-41e5-8725-93268ec577d9',\n",
              "                        [{\"mode\": \"lines+markers\", \"name\": \"Weekly Growth of Confirmed Cases\", \"type\": \"scatter\", \"x\": [1, 2, 3, 4, 5, 6, 7, 8, 9, 10, 11, 12, 13, 14, 15, 16, 17, 18, 19], \"y\": [0, 0, 0, 0, 0, 0, 11, 103, 511, 1299, 2402, 4462, 9362, 17522, 27011, 39048, 54752, 72560, 83384]}, {\"mode\": \"lines+markers\", \"name\": \"Weekly Growth of Recovered Cases\", \"type\": \"scatter\", \"x\": [1, 2, 3, 4, 5, 6, 7, 8, 9, 10, 11, 12, 13, 14, 15, 16, 17, 18, 19], \"y\": [0, 0, 0, 0, 0, 0, 0, 1, 16, 66, 488, 761, 1398, 2357, 4134, 11457, 25722, 43520, 58883]}, {\"mode\": \"lines+markers\", \"name\": \"Weekly Growth of Death Cases\", \"type\": \"scatter\", \"x\": [1, 2, 3, 4, 5, 6, 7, 8, 9, 10, 11, 12, 13, 14, 15, 16, 17, 18, 19], \"y\": [0, 0, 0, 0, 0, 0, 0, 0, 0, 8, 34, 59, 97, 139, 184, 246, 312, 390, 480]}],\n",
              "                        {\"legend\": {\"traceorder\": \"normal\", \"x\": 0, \"y\": 1}, \"template\": {\"data\": {\"bar\": [{\"error_x\": {\"color\": \"#2a3f5f\"}, \"error_y\": {\"color\": \"#2a3f5f\"}, \"marker\": {\"line\": {\"color\": \"#E5ECF6\", \"width\": 0.5}}, \"type\": \"bar\"}], \"barpolar\": [{\"marker\": {\"line\": {\"color\": \"#E5ECF6\", \"width\": 0.5}}, \"type\": \"barpolar\"}], \"carpet\": [{\"aaxis\": {\"endlinecolor\": \"#2a3f5f\", \"gridcolor\": \"white\", \"linecolor\": \"white\", \"minorgridcolor\": \"white\", \"startlinecolor\": \"#2a3f5f\"}, \"baxis\": {\"endlinecolor\": \"#2a3f5f\", \"gridcolor\": \"white\", \"linecolor\": \"white\", \"minorgridcolor\": \"white\", \"startlinecolor\": \"#2a3f5f\"}, \"type\": \"carpet\"}], \"choropleth\": [{\"colorbar\": {\"outlinewidth\": 0, \"ticks\": \"\"}, \"type\": \"choropleth\"}], \"contour\": [{\"colorbar\": {\"outlinewidth\": 0, \"ticks\": \"\"}, \"colorscale\": [[0.0, \"#0d0887\"], [0.1111111111111111, \"#46039f\"], [0.2222222222222222, \"#7201a8\"], [0.3333333333333333, \"#9c179e\"], [0.4444444444444444, \"#bd3786\"], [0.5555555555555556, \"#d8576b\"], [0.6666666666666666, \"#ed7953\"], [0.7777777777777778, \"#fb9f3a\"], [0.8888888888888888, \"#fdca26\"], [1.0, \"#f0f921\"]], \"type\": \"contour\"}], \"contourcarpet\": [{\"colorbar\": {\"outlinewidth\": 0, \"ticks\": \"\"}, \"type\": \"contourcarpet\"}], \"heatmap\": [{\"colorbar\": {\"outlinewidth\": 0, \"ticks\": \"\"}, \"colorscale\": [[0.0, \"#0d0887\"], [0.1111111111111111, \"#46039f\"], [0.2222222222222222, \"#7201a8\"], [0.3333333333333333, \"#9c179e\"], [0.4444444444444444, \"#bd3786\"], [0.5555555555555556, \"#d8576b\"], [0.6666666666666666, \"#ed7953\"], [0.7777777777777778, \"#fb9f3a\"], [0.8888888888888888, \"#fdca26\"], [1.0, \"#f0f921\"]], \"type\": \"heatmap\"}], \"heatmapgl\": [{\"colorbar\": {\"outlinewidth\": 0, \"ticks\": \"\"}, \"colorscale\": [[0.0, \"#0d0887\"], [0.1111111111111111, \"#46039f\"], [0.2222222222222222, \"#7201a8\"], [0.3333333333333333, \"#9c179e\"], [0.4444444444444444, \"#bd3786\"], [0.5555555555555556, \"#d8576b\"], [0.6666666666666666, \"#ed7953\"], [0.7777777777777778, \"#fb9f3a\"], [0.8888888888888888, \"#fdca26\"], [1.0, \"#f0f921\"]], \"type\": \"heatmapgl\"}], \"histogram\": [{\"marker\": {\"colorbar\": {\"outlinewidth\": 0, \"ticks\": \"\"}}, \"type\": \"histogram\"}], \"histogram2d\": [{\"colorbar\": {\"outlinewidth\": 0, \"ticks\": \"\"}, \"colorscale\": [[0.0, \"#0d0887\"], [0.1111111111111111, \"#46039f\"], [0.2222222222222222, \"#7201a8\"], [0.3333333333333333, \"#9c179e\"], [0.4444444444444444, \"#bd3786\"], [0.5555555555555556, \"#d8576b\"], [0.6666666666666666, \"#ed7953\"], [0.7777777777777778, \"#fb9f3a\"], [0.8888888888888888, \"#fdca26\"], [1.0, \"#f0f921\"]], \"type\": \"histogram2d\"}], \"histogram2dcontour\": [{\"colorbar\": {\"outlinewidth\": 0, \"ticks\": \"\"}, \"colorscale\": [[0.0, \"#0d0887\"], [0.1111111111111111, \"#46039f\"], [0.2222222222222222, \"#7201a8\"], [0.3333333333333333, \"#9c179e\"], [0.4444444444444444, \"#bd3786\"], [0.5555555555555556, \"#d8576b\"], [0.6666666666666666, \"#ed7953\"], [0.7777777777777778, \"#fb9f3a\"], [0.8888888888888888, \"#fdca26\"], [1.0, \"#f0f921\"]], \"type\": \"histogram2dcontour\"}], \"mesh3d\": [{\"colorbar\": {\"outlinewidth\": 0, \"ticks\": \"\"}, \"type\": \"mesh3d\"}], \"parcoords\": [{\"line\": {\"colorbar\": {\"outlinewidth\": 0, \"ticks\": \"\"}}, \"type\": \"parcoords\"}], \"pie\": [{\"automargin\": true, \"type\": \"pie\"}], \"scatter\": [{\"marker\": {\"colorbar\": {\"outlinewidth\": 0, \"ticks\": \"\"}}, \"type\": \"scatter\"}], \"scatter3d\": [{\"line\": {\"colorbar\": {\"outlinewidth\": 0, \"ticks\": \"\"}}, \"marker\": {\"colorbar\": {\"outlinewidth\": 0, \"ticks\": \"\"}}, \"type\": \"scatter3d\"}], \"scattercarpet\": [{\"marker\": {\"colorbar\": {\"outlinewidth\": 0, \"ticks\": \"\"}}, \"type\": \"scattercarpet\"}], \"scattergeo\": [{\"marker\": {\"colorbar\": {\"outlinewidth\": 0, \"ticks\": \"\"}}, \"type\": \"scattergeo\"}], \"scattergl\": [{\"marker\": {\"colorbar\": {\"outlinewidth\": 0, \"ticks\": \"\"}}, \"type\": \"scattergl\"}], \"scattermapbox\": [{\"marker\": {\"colorbar\": {\"outlinewidth\": 0, \"ticks\": \"\"}}, \"type\": \"scattermapbox\"}], \"scatterpolar\": [{\"marker\": {\"colorbar\": {\"outlinewidth\": 0, \"ticks\": \"\"}}, \"type\": \"scatterpolar\"}], \"scatterpolargl\": [{\"marker\": {\"colorbar\": {\"outlinewidth\": 0, \"ticks\": \"\"}}, \"type\": \"scatterpolargl\"}], \"scatterternary\": [{\"marker\": {\"colorbar\": {\"outlinewidth\": 0, \"ticks\": \"\"}}, \"type\": \"scatterternary\"}], \"surface\": [{\"colorbar\": {\"outlinewidth\": 0, \"ticks\": \"\"}, \"colorscale\": [[0.0, \"#0d0887\"], [0.1111111111111111, \"#46039f\"], [0.2222222222222222, \"#7201a8\"], [0.3333333333333333, \"#9c179e\"], [0.4444444444444444, \"#bd3786\"], [0.5555555555555556, \"#d8576b\"], [0.6666666666666666, \"#ed7953\"], [0.7777777777777778, \"#fb9f3a\"], [0.8888888888888888, \"#fdca26\"], [1.0, \"#f0f921\"]], \"type\": \"surface\"}], \"table\": [{\"cells\": {\"fill\": {\"color\": \"#EBF0F8\"}, \"line\": {\"color\": \"white\"}}, \"header\": {\"fill\": {\"color\": \"#C8D4E3\"}, \"line\": {\"color\": \"white\"}}, \"type\": \"table\"}]}, \"layout\": {\"annotationdefaults\": {\"arrowcolor\": \"#2a3f5f\", \"arrowhead\": 0, \"arrowwidth\": 1}, \"coloraxis\": {\"colorbar\": {\"outlinewidth\": 0, \"ticks\": \"\"}}, \"colorscale\": {\"diverging\": [[0, \"#8e0152\"], [0.1, \"#c51b7d\"], [0.2, \"#de77ae\"], [0.3, \"#f1b6da\"], [0.4, \"#fde0ef\"], [0.5, \"#f7f7f7\"], [0.6, \"#e6f5d0\"], [0.7, \"#b8e186\"], [0.8, \"#7fbc41\"], [0.9, \"#4d9221\"], [1, \"#276419\"]], \"sequential\": [[0.0, \"#0d0887\"], [0.1111111111111111, \"#46039f\"], [0.2222222222222222, \"#7201a8\"], [0.3333333333333333, \"#9c179e\"], [0.4444444444444444, \"#bd3786\"], [0.5555555555555556, \"#d8576b\"], [0.6666666666666666, \"#ed7953\"], [0.7777777777777778, \"#fb9f3a\"], [0.8888888888888888, \"#fdca26\"], [1.0, \"#f0f921\"]], \"sequentialminus\": [[0.0, \"#0d0887\"], [0.1111111111111111, \"#46039f\"], [0.2222222222222222, \"#7201a8\"], [0.3333333333333333, \"#9c179e\"], [0.4444444444444444, \"#bd3786\"], [0.5555555555555556, \"#d8576b\"], [0.6666666666666666, \"#ed7953\"], [0.7777777777777778, \"#fb9f3a\"], [0.8888888888888888, \"#fdca26\"], [1.0, \"#f0f921\"]]}, \"colorway\": [\"#636efa\", \"#EF553B\", \"#00cc96\", \"#ab63fa\", \"#FFA15A\", \"#19d3f3\", \"#FF6692\", \"#B6E880\", \"#FF97FF\", \"#FECB52\"], \"font\": {\"color\": \"#2a3f5f\"}, \"geo\": {\"bgcolor\": \"white\", \"lakecolor\": \"white\", \"landcolor\": \"#E5ECF6\", \"showlakes\": true, \"showland\": true, \"subunitcolor\": \"white\"}, \"hoverlabel\": {\"align\": \"left\"}, \"hovermode\": \"closest\", \"mapbox\": {\"style\": \"light\"}, \"paper_bgcolor\": \"white\", \"plot_bgcolor\": \"#E5ECF6\", \"polar\": {\"angularaxis\": {\"gridcolor\": \"white\", \"linecolor\": \"white\", \"ticks\": \"\"}, \"bgcolor\": \"#E5ECF6\", \"radialaxis\": {\"gridcolor\": \"white\", \"linecolor\": \"white\", \"ticks\": \"\"}}, \"scene\": {\"xaxis\": {\"backgroundcolor\": \"#E5ECF6\", \"gridcolor\": \"white\", \"gridwidth\": 2, \"linecolor\": \"white\", \"showbackground\": true, \"ticks\": \"\", \"zerolinecolor\": \"white\"}, \"yaxis\": {\"backgroundcolor\": \"#E5ECF6\", \"gridcolor\": \"white\", \"gridwidth\": 2, \"linecolor\": \"white\", \"showbackground\": true, \"ticks\": \"\", \"zerolinecolor\": \"white\"}, \"zaxis\": {\"backgroundcolor\": \"#E5ECF6\", \"gridcolor\": \"white\", \"gridwidth\": 2, \"linecolor\": \"white\", \"showbackground\": true, \"ticks\": \"\", \"zerolinecolor\": \"white\"}}, \"shapedefaults\": {\"line\": {\"color\": \"#2a3f5f\"}}, \"ternary\": {\"aaxis\": {\"gridcolor\": \"white\", \"linecolor\": \"white\", \"ticks\": \"\"}, \"baxis\": {\"gridcolor\": \"white\", \"linecolor\": \"white\", \"ticks\": \"\"}, \"bgcolor\": \"#E5ECF6\", \"caxis\": {\"gridcolor\": \"white\", \"linecolor\": \"white\", \"ticks\": \"\"}}, \"title\": {\"x\": 0.05}, \"xaxis\": {\"automargin\": true, \"gridcolor\": \"white\", \"linecolor\": \"white\", \"ticks\": \"\", \"title\": {\"standoff\": 15}, \"zerolinecolor\": \"white\", \"zerolinewidth\": 2}, \"yaxis\": {\"automargin\": true, \"gridcolor\": \"white\", \"linecolor\": \"white\", \"ticks\": \"\", \"title\": {\"standoff\": 15}, \"zerolinecolor\": \"white\", \"zerolinewidth\": 2}}}, \"title\": {\"text\": \"Weekly Growth of different types of Cases in Saudi\"}, \"xaxis\": {\"title\": {\"text\": \"Week Number\"}}, \"yaxis\": {\"title\": {\"text\": \"Number of Cases\"}}},\n",
              "                        {\"responsive\": true}\n",
              "                    ).then(function(){\n",
              "                            \n",
              "var gd = document.getElementById('295fdd07-d5e9-41e5-8725-93268ec577d9');\n",
              "var x = new MutationObserver(function (mutations, observer) {{\n",
              "        var display = window.getComputedStyle(gd).display;\n",
              "        if (!display || display === 'none') {{\n",
              "            console.log([gd, 'removed!']);\n",
              "            Plotly.purge(gd);\n",
              "            observer.disconnect();\n",
              "        }}\n",
              "}});\n",
              "\n",
              "// Listen for the removal of the full notebook cells\n",
              "var notebookContainer = gd.closest('#notebook-container');\n",
              "if (notebookContainer) {{\n",
              "    x.observe(notebookContainer, {childList: true});\n",
              "}}\n",
              "\n",
              "// Listen for the clearing of the current output cell\n",
              "var outputEl = gd.closest('.output');\n",
              "if (outputEl) {{\n",
              "    x.observe(outputEl, {childList: true});\n",
              "}}\n",
              "\n",
              "                        })\n",
              "                };\n",
              "                \n",
              "            </script>\n",
              "        </div>\n",
              "</body>\n",
              "</html>"
            ]
          },
          "metadata": {
            "tags": []
          }
        }
      ]
    },
    {
      "cell_type": "code",
      "metadata": {
        "id": "khCwemGdYgoZ",
        "colab_type": "code",
        "outputId": "2bcdb077-9f41-4fcf-e629-2a9dcf3b1b9b",
        "colab": {
          "base_uri": "https://localhost:8080/",
          "height": 599
        }
      },
      "source": [
        "print(\"Average weekly increase in number of Confirmed Cases\",round(pd.Series(saudi_weekwise_confirmed).diff().fillna(0).mean()))\n",
        "print(\"Average weekly increase in number of Recovered Cases\",round(pd.Series(saudi_weekwise_recovered).diff().fillna(0).mean()))\n",
        "print(\"Average weekly increase in number of Death Cases\",round(pd.Series(saudi_weekwise_deaths).diff().fillna(0).mean()))\n",
        "\n",
        "fig = make_subplots(rows=1, cols=2)\n",
        "fig.add_trace(\n",
        "    go.Bar(x=week_num_saudi, y=pd.Series(saudi_weekwise_confirmed).diff().fillna(0),\n",
        "          name=\"Weekly rise in number of Confirmed Cases\"),\n",
        "    row=1, col=1\n",
        ")\n",
        "fig.add_trace(\n",
        "    go.Bar(x=week_num_saudi, y=pd.Series(saudi_weekwise_deaths).diff().fillna(0),\n",
        "          name=\"Weekly rise in number of Death Cases\"),\n",
        "    row=1, col=2\n",
        ")\n",
        "fig.update_layout(title=\"Saudi Arabia's Weekly increas in Number of Confirmed and Death Cases\",\n",
        "    font=dict(\n",
        "        size=10,\n",
        "    )\n",
        ")\n",
        "fig.update_layout(width=800,legend=dict(x=0,y=-0.5,traceorder=\"normal\"))\n",
        "fig.update_xaxes(title_text=\"Date\", row=1, col=1)\n",
        "fig.update_yaxes(title_text=\"Number of Cases\", row=1, col=1)\n",
        "fig.update_xaxes(title_text=\"Date\", row=1, col=2)\n",
        "fig.update_yaxes(title_text=\"Number of Cases\", row=1, col=2)\n",
        "fig.show()"
      ],
      "execution_count": 0,
      "outputs": [
        {
          "output_type": "stream",
          "text": [
            "Average weekly increase in number of Confirmed Cases 4389\n",
            "Average weekly increase in number of Recovered Cases 3099\n",
            "Average weekly increase in number of Death Cases 25\n"
          ],
          "name": "stdout"
        },
        {
          "output_type": "display_data",
          "data": {
            "text/html": [
              "<html>\n",
              "<head><meta charset=\"utf-8\" /></head>\n",
              "<body>\n",
              "    <div>\n",
              "            <script src=\"https://cdnjs.cloudflare.com/ajax/libs/mathjax/2.7.5/MathJax.js?config=TeX-AMS-MML_SVG\"></script><script type=\"text/javascript\">if (window.MathJax) {MathJax.Hub.Config({SVG: {font: \"STIX-Web\"}});}</script>\n",
              "                <script type=\"text/javascript\">window.PlotlyConfig = {MathJaxConfig: 'local'};</script>\n",
              "        <script src=\"https://cdn.plot.ly/plotly-latest.min.js\"></script>    \n",
              "            <div id=\"b1a810ab-ff56-4d5e-91cb-02a005356176\" class=\"plotly-graph-div\" style=\"height:525px; width:800px;\"></div>\n",
              "            <script type=\"text/javascript\">\n",
              "                \n",
              "                    window.PLOTLYENV=window.PLOTLYENV || {};\n",
              "                    \n",
              "                if (document.getElementById(\"b1a810ab-ff56-4d5e-91cb-02a005356176\")) {\n",
              "                    Plotly.newPlot(\n",
              "                        'b1a810ab-ff56-4d5e-91cb-02a005356176',\n",
              "                        [{\"name\": \"Weekly rise in number of Confirmed Cases\", \"type\": \"bar\", \"x\": [1, 2, 3, 4, 5, 6, 7, 8, 9, 10, 11, 12, 13, 14, 15, 16, 17, 18, 19], \"xaxis\": \"x\", \"y\": [0.0, 0.0, 0.0, 0.0, 0.0, 0.0, 11.0, 92.0, 408.0, 788.0, 1103.0, 2060.0, 4900.0, 8160.0, 9489.0, 12037.0, 15704.0, 17808.0, 10824.0], \"yaxis\": \"y\"}, {\"name\": \"Weekly rise in number of Death Cases\", \"type\": \"bar\", \"x\": [1, 2, 3, 4, 5, 6, 7, 8, 9, 10, 11, 12, 13, 14, 15, 16, 17, 18, 19], \"xaxis\": \"x2\", \"y\": [0.0, 0.0, 0.0, 0.0, 0.0, 0.0, 0.0, 0.0, 0.0, 8.0, 26.0, 25.0, 38.0, 42.0, 45.0, 62.0, 66.0, 78.0, 90.0], \"yaxis\": \"y2\"}],\n",
              "                        {\"font\": {\"size\": 10}, \"legend\": {\"traceorder\": \"normal\", \"x\": 0, \"y\": -0.5}, \"template\": {\"data\": {\"bar\": [{\"error_x\": {\"color\": \"#2a3f5f\"}, \"error_y\": {\"color\": \"#2a3f5f\"}, \"marker\": {\"line\": {\"color\": \"#E5ECF6\", \"width\": 0.5}}, \"type\": \"bar\"}], \"barpolar\": [{\"marker\": {\"line\": {\"color\": \"#E5ECF6\", \"width\": 0.5}}, \"type\": \"barpolar\"}], \"carpet\": [{\"aaxis\": {\"endlinecolor\": \"#2a3f5f\", \"gridcolor\": \"white\", \"linecolor\": \"white\", \"minorgridcolor\": \"white\", \"startlinecolor\": \"#2a3f5f\"}, \"baxis\": {\"endlinecolor\": \"#2a3f5f\", \"gridcolor\": \"white\", \"linecolor\": \"white\", \"minorgridcolor\": \"white\", \"startlinecolor\": \"#2a3f5f\"}, \"type\": \"carpet\"}], \"choropleth\": [{\"colorbar\": {\"outlinewidth\": 0, \"ticks\": \"\"}, \"type\": \"choropleth\"}], \"contour\": [{\"colorbar\": {\"outlinewidth\": 0, \"ticks\": \"\"}, \"colorscale\": [[0.0, \"#0d0887\"], [0.1111111111111111, \"#46039f\"], [0.2222222222222222, \"#7201a8\"], [0.3333333333333333, \"#9c179e\"], [0.4444444444444444, \"#bd3786\"], [0.5555555555555556, \"#d8576b\"], [0.6666666666666666, \"#ed7953\"], [0.7777777777777778, \"#fb9f3a\"], [0.8888888888888888, \"#fdca26\"], [1.0, \"#f0f921\"]], \"type\": \"contour\"}], \"contourcarpet\": [{\"colorbar\": {\"outlinewidth\": 0, \"ticks\": \"\"}, \"type\": \"contourcarpet\"}], \"heatmap\": [{\"colorbar\": {\"outlinewidth\": 0, \"ticks\": \"\"}, \"colorscale\": [[0.0, \"#0d0887\"], [0.1111111111111111, \"#46039f\"], [0.2222222222222222, \"#7201a8\"], [0.3333333333333333, \"#9c179e\"], [0.4444444444444444, \"#bd3786\"], [0.5555555555555556, \"#d8576b\"], [0.6666666666666666, \"#ed7953\"], [0.7777777777777778, \"#fb9f3a\"], [0.8888888888888888, \"#fdca26\"], [1.0, \"#f0f921\"]], \"type\": \"heatmap\"}], \"heatmapgl\": [{\"colorbar\": {\"outlinewidth\": 0, \"ticks\": \"\"}, \"colorscale\": [[0.0, \"#0d0887\"], [0.1111111111111111, \"#46039f\"], [0.2222222222222222, \"#7201a8\"], [0.3333333333333333, \"#9c179e\"], [0.4444444444444444, \"#bd3786\"], [0.5555555555555556, \"#d8576b\"], [0.6666666666666666, \"#ed7953\"], [0.7777777777777778, \"#fb9f3a\"], [0.8888888888888888, \"#fdca26\"], [1.0, \"#f0f921\"]], \"type\": \"heatmapgl\"}], \"histogram\": [{\"marker\": {\"colorbar\": {\"outlinewidth\": 0, \"ticks\": \"\"}}, \"type\": \"histogram\"}], \"histogram2d\": [{\"colorbar\": {\"outlinewidth\": 0, \"ticks\": \"\"}, \"colorscale\": [[0.0, \"#0d0887\"], [0.1111111111111111, \"#46039f\"], [0.2222222222222222, \"#7201a8\"], [0.3333333333333333, \"#9c179e\"], [0.4444444444444444, \"#bd3786\"], [0.5555555555555556, \"#d8576b\"], [0.6666666666666666, \"#ed7953\"], [0.7777777777777778, \"#fb9f3a\"], [0.8888888888888888, \"#fdca26\"], [1.0, \"#f0f921\"]], \"type\": \"histogram2d\"}], \"histogram2dcontour\": [{\"colorbar\": {\"outlinewidth\": 0, \"ticks\": \"\"}, \"colorscale\": [[0.0, \"#0d0887\"], [0.1111111111111111, \"#46039f\"], [0.2222222222222222, \"#7201a8\"], [0.3333333333333333, \"#9c179e\"], [0.4444444444444444, \"#bd3786\"], [0.5555555555555556, \"#d8576b\"], [0.6666666666666666, \"#ed7953\"], [0.7777777777777778, \"#fb9f3a\"], [0.8888888888888888, \"#fdca26\"], [1.0, \"#f0f921\"]], \"type\": \"histogram2dcontour\"}], \"mesh3d\": [{\"colorbar\": {\"outlinewidth\": 0, \"ticks\": \"\"}, \"type\": \"mesh3d\"}], \"parcoords\": [{\"line\": {\"colorbar\": {\"outlinewidth\": 0, \"ticks\": \"\"}}, \"type\": \"parcoords\"}], \"pie\": [{\"automargin\": true, \"type\": \"pie\"}], \"scatter\": [{\"marker\": {\"colorbar\": {\"outlinewidth\": 0, \"ticks\": \"\"}}, \"type\": \"scatter\"}], \"scatter3d\": [{\"line\": {\"colorbar\": {\"outlinewidth\": 0, \"ticks\": \"\"}}, \"marker\": {\"colorbar\": {\"outlinewidth\": 0, \"ticks\": \"\"}}, \"type\": \"scatter3d\"}], \"scattercarpet\": [{\"marker\": {\"colorbar\": {\"outlinewidth\": 0, \"ticks\": \"\"}}, \"type\": \"scattercarpet\"}], \"scattergeo\": [{\"marker\": {\"colorbar\": {\"outlinewidth\": 0, \"ticks\": \"\"}}, \"type\": \"scattergeo\"}], \"scattergl\": [{\"marker\": {\"colorbar\": {\"outlinewidth\": 0, \"ticks\": \"\"}}, \"type\": \"scattergl\"}], \"scattermapbox\": [{\"marker\": {\"colorbar\": {\"outlinewidth\": 0, \"ticks\": \"\"}}, \"type\": \"scattermapbox\"}], \"scatterpolar\": [{\"marker\": {\"colorbar\": {\"outlinewidth\": 0, \"ticks\": \"\"}}, \"type\": \"scatterpolar\"}], \"scatterpolargl\": [{\"marker\": {\"colorbar\": {\"outlinewidth\": 0, \"ticks\": \"\"}}, \"type\": \"scatterpolargl\"}], \"scatterternary\": [{\"marker\": {\"colorbar\": {\"outlinewidth\": 0, \"ticks\": \"\"}}, \"type\": \"scatterternary\"}], \"surface\": [{\"colorbar\": {\"outlinewidth\": 0, \"ticks\": \"\"}, \"colorscale\": [[0.0, \"#0d0887\"], [0.1111111111111111, \"#46039f\"], [0.2222222222222222, \"#7201a8\"], [0.3333333333333333, \"#9c179e\"], [0.4444444444444444, \"#bd3786\"], [0.5555555555555556, \"#d8576b\"], [0.6666666666666666, \"#ed7953\"], [0.7777777777777778, \"#fb9f3a\"], [0.8888888888888888, \"#fdca26\"], [1.0, \"#f0f921\"]], \"type\": \"surface\"}], \"table\": [{\"cells\": {\"fill\": {\"color\": \"#EBF0F8\"}, \"line\": {\"color\": \"white\"}}, \"header\": {\"fill\": {\"color\": \"#C8D4E3\"}, \"line\": {\"color\": \"white\"}}, \"type\": \"table\"}]}, \"layout\": {\"annotationdefaults\": {\"arrowcolor\": \"#2a3f5f\", \"arrowhead\": 0, \"arrowwidth\": 1}, \"coloraxis\": {\"colorbar\": {\"outlinewidth\": 0, \"ticks\": \"\"}}, \"colorscale\": {\"diverging\": [[0, \"#8e0152\"], [0.1, \"#c51b7d\"], [0.2, \"#de77ae\"], [0.3, \"#f1b6da\"], [0.4, \"#fde0ef\"], [0.5, \"#f7f7f7\"], [0.6, \"#e6f5d0\"], [0.7, \"#b8e186\"], [0.8, \"#7fbc41\"], [0.9, \"#4d9221\"], [1, \"#276419\"]], \"sequential\": [[0.0, \"#0d0887\"], [0.1111111111111111, \"#46039f\"], [0.2222222222222222, \"#7201a8\"], [0.3333333333333333, \"#9c179e\"], [0.4444444444444444, \"#bd3786\"], [0.5555555555555556, \"#d8576b\"], [0.6666666666666666, \"#ed7953\"], [0.7777777777777778, \"#fb9f3a\"], [0.8888888888888888, \"#fdca26\"], [1.0, \"#f0f921\"]], \"sequentialminus\": [[0.0, \"#0d0887\"], [0.1111111111111111, \"#46039f\"], [0.2222222222222222, \"#7201a8\"], [0.3333333333333333, \"#9c179e\"], [0.4444444444444444, \"#bd3786\"], [0.5555555555555556, \"#d8576b\"], [0.6666666666666666, \"#ed7953\"], [0.7777777777777778, \"#fb9f3a\"], [0.8888888888888888, \"#fdca26\"], [1.0, \"#f0f921\"]]}, \"colorway\": [\"#636efa\", \"#EF553B\", \"#00cc96\", \"#ab63fa\", \"#FFA15A\", \"#19d3f3\", \"#FF6692\", \"#B6E880\", \"#FF97FF\", \"#FECB52\"], \"font\": {\"color\": \"#2a3f5f\"}, \"geo\": {\"bgcolor\": \"white\", \"lakecolor\": \"white\", \"landcolor\": \"#E5ECF6\", \"showlakes\": true, \"showland\": true, \"subunitcolor\": \"white\"}, \"hoverlabel\": {\"align\": \"left\"}, \"hovermode\": \"closest\", \"mapbox\": {\"style\": \"light\"}, \"paper_bgcolor\": \"white\", \"plot_bgcolor\": \"#E5ECF6\", \"polar\": {\"angularaxis\": {\"gridcolor\": \"white\", \"linecolor\": \"white\", \"ticks\": \"\"}, \"bgcolor\": \"#E5ECF6\", \"radialaxis\": {\"gridcolor\": \"white\", \"linecolor\": \"white\", \"ticks\": \"\"}}, \"scene\": {\"xaxis\": {\"backgroundcolor\": \"#E5ECF6\", \"gridcolor\": \"white\", \"gridwidth\": 2, \"linecolor\": \"white\", \"showbackground\": true, \"ticks\": \"\", \"zerolinecolor\": \"white\"}, \"yaxis\": {\"backgroundcolor\": \"#E5ECF6\", \"gridcolor\": \"white\", \"gridwidth\": 2, \"linecolor\": \"white\", \"showbackground\": true, \"ticks\": \"\", \"zerolinecolor\": \"white\"}, \"zaxis\": {\"backgroundcolor\": \"#E5ECF6\", \"gridcolor\": \"white\", \"gridwidth\": 2, \"linecolor\": \"white\", \"showbackground\": true, \"ticks\": \"\", \"zerolinecolor\": \"white\"}}, \"shapedefaults\": {\"line\": {\"color\": \"#2a3f5f\"}}, \"ternary\": {\"aaxis\": {\"gridcolor\": \"white\", \"linecolor\": \"white\", \"ticks\": \"\"}, \"baxis\": {\"gridcolor\": \"white\", \"linecolor\": \"white\", \"ticks\": \"\"}, \"bgcolor\": \"#E5ECF6\", \"caxis\": {\"gridcolor\": \"white\", \"linecolor\": \"white\", \"ticks\": \"\"}}, \"title\": {\"x\": 0.05}, \"xaxis\": {\"automargin\": true, \"gridcolor\": \"white\", \"linecolor\": \"white\", \"ticks\": \"\", \"title\": {\"standoff\": 15}, \"zerolinecolor\": \"white\", \"zerolinewidth\": 2}, \"yaxis\": {\"automargin\": true, \"gridcolor\": \"white\", \"linecolor\": \"white\", \"ticks\": \"\", \"title\": {\"standoff\": 15}, \"zerolinecolor\": \"white\", \"zerolinewidth\": 2}}}, \"title\": {\"text\": \"Saudi Arabia's Weekly increas in Number of Confirmed and Death Cases\"}, \"width\": 800, \"xaxis\": {\"anchor\": \"y\", \"domain\": [0.0, 0.45], \"title\": {\"text\": \"Date\"}}, \"xaxis2\": {\"anchor\": \"y2\", \"domain\": [0.55, 1.0], \"title\": {\"text\": \"Date\"}}, \"yaxis\": {\"anchor\": \"x\", \"domain\": [0.0, 1.0], \"title\": {\"text\": \"Number of Cases\"}}, \"yaxis2\": {\"anchor\": \"x2\", \"domain\": [0.0, 1.0], \"title\": {\"text\": \"Number of Cases\"}}},\n",
              "                        {\"responsive\": true}\n",
              "                    ).then(function(){\n",
              "                            \n",
              "var gd = document.getElementById('b1a810ab-ff56-4d5e-91cb-02a005356176');\n",
              "var x = new MutationObserver(function (mutations, observer) {{\n",
              "        var display = window.getComputedStyle(gd).display;\n",
              "        if (!display || display === 'none') {{\n",
              "            console.log([gd, 'removed!']);\n",
              "            Plotly.purge(gd);\n",
              "            observer.disconnect();\n",
              "        }}\n",
              "}});\n",
              "\n",
              "// Listen for the removal of the full notebook cells\n",
              "var notebookContainer = gd.closest('#notebook-container');\n",
              "if (notebookContainer) {{\n",
              "    x.observe(notebookContainer, {childList: true});\n",
              "}}\n",
              "\n",
              "// Listen for the clearing of the current output cell\n",
              "var outputEl = gd.closest('.output');\n",
              "if (outputEl) {{\n",
              "    x.observe(outputEl, {childList: true});\n",
              "}}\n",
              "\n",
              "                        })\n",
              "                };\n",
              "                \n",
              "            </script>\n",
              "        </div>\n",
              "</body>\n",
              "</html>"
            ]
          },
          "metadata": {
            "tags": []
          }
        }
      ]
    },
    {
      "cell_type": "code",
      "metadata": {
        "id": "Yte7kHPZaEhG",
        "colab_type": "code",
        "outputId": "312b1cc2-aad6-4259-a8e8-d52c77887084",
        "colab": {
          "base_uri": "https://localhost:8080/",
          "height": 271
        }
      },
      "source": [
        "cases=65\n",
        "double_days=[]\n",
        "C=[]\n",
        "while(1):\n",
        "    double_days.append(int(saudi_datewise[saudi_datewise[\"Confirmed\"]<=cases].iloc[[-1]][\"Days Since\"]))\n",
        "    C.append(cases)\n",
        "    cases=cases*2\n",
        "    if(cases<saudi_datewise[\"Confirmed\"].max()):\n",
        "        continue\n",
        "    else:\n",
        "        break\n",
        "        \n",
        "cases=65\n",
        "tipling_days=[]\n",
        "C1=[]\n",
        "while(1):\n",
        "    tipling_days.append(int(saudi_datewise[saudi_datewise[\"Confirmed\"]<=cases].iloc[[-1]][\"Days Since\"]))\n",
        "    C1.append(cases)\n",
        "    cases=cases*3\n",
        "    if(cases<saudi_datewise[\"Confirmed\"].max()):\n",
        "        continue\n",
        "    else:\n",
        "        break\n",
        "        \n",
        "saudi_doubling=pd.DataFrame(list(zip(C,double_days)),columns=[\"No. of cases\",\"Days since first case\"])\n",
        "saudi_doubling[\"Number of days required to Double the cases\"]=saudi_doubling[\"Days since first case\"].diff().fillna(saudi_doubling[\"Days since first case\"].iloc[0])\n",
        "\n",
        "saudi_tripling=pd.DataFrame(list(zip(C1,tipling_days)),columns=[\"No. of cases\",\"Days since first case\"])\n",
        "saudi_tripling[\"Number of days required to Triple the cases\"]=saudi_tripling[\"Days since first case\"].diff().fillna(saudi_tripling[\"Days since first case\"].iloc[0])\n",
        "\n",
        "saudi_doubling.style.background_gradient(cmap='Reds')"
      ],
      "execution_count": 0,
      "outputs": [
        {
          "output_type": "execute_result",
          "data": {
            "text/html": [
              "<style  type=\"text/css\" >\n",
              "    #T_0a7cc590_a348_11ea_8f0f_0242ac1c0002row0_col0 {\n",
              "            background-color:  #fff5f0;\n",
              "            color:  #000000;\n",
              "        }    #T_0a7cc590_a348_11ea_8f0f_0242ac1c0002row0_col1 {\n",
              "            background-color:  #fff5f0;\n",
              "            color:  #000000;\n",
              "        }    #T_0a7cc590_a348_11ea_8f0f_0242ac1c0002row0_col2 {\n",
              "            background-color:  #67000d;\n",
              "            color:  #f1f1f1;\n",
              "        }    #T_0a7cc590_a348_11ea_8f0f_0242ac1c0002row1_col0 {\n",
              "            background-color:  #fff5f0;\n",
              "            color:  #000000;\n",
              "        }    #T_0a7cc590_a348_11ea_8f0f_0242ac1c0002row1_col1 {\n",
              "            background-color:  #ffece3;\n",
              "            color:  #000000;\n",
              "        }    #T_0a7cc590_a348_11ea_8f0f_0242ac1c0002row1_col2 {\n",
              "            background-color:  #ffeee7;\n",
              "            color:  #000000;\n",
              "        }    #T_0a7cc590_a348_11ea_8f0f_0242ac1c0002row2_col0 {\n",
              "            background-color:  #fff5f0;\n",
              "            color:  #000000;\n",
              "        }    #T_0a7cc590_a348_11ea_8f0f_0242ac1c0002row2_col1 {\n",
              "            background-color:  #fee7dc;\n",
              "            color:  #000000;\n",
              "        }    #T_0a7cc590_a348_11ea_8f0f_0242ac1c0002row2_col2 {\n",
              "            background-color:  #fff5f0;\n",
              "            color:  #000000;\n",
              "        }    #T_0a7cc590_a348_11ea_8f0f_0242ac1c0002row3_col0 {\n",
              "            background-color:  #fff4ef;\n",
              "            color:  #000000;\n",
              "        }    #T_0a7cc590_a348_11ea_8f0f_0242ac1c0002row3_col1 {\n",
              "            background-color:  #fedbcc;\n",
              "            color:  #000000;\n",
              "        }    #T_0a7cc590_a348_11ea_8f0f_0242ac1c0002row3_col2 {\n",
              "            background-color:  #ffeee7;\n",
              "            color:  #000000;\n",
              "        }    #T_0a7cc590_a348_11ea_8f0f_0242ac1c0002row4_col0 {\n",
              "            background-color:  #fff3ed;\n",
              "            color:  #000000;\n",
              "        }    #T_0a7cc590_a348_11ea_8f0f_0242ac1c0002row4_col1 {\n",
              "            background-color:  #fdcab5;\n",
              "            color:  #000000;\n",
              "        }    #T_0a7cc590_a348_11ea_8f0f_0242ac1c0002row4_col2 {\n",
              "            background-color:  #ffeee7;\n",
              "            color:  #000000;\n",
              "        }    #T_0a7cc590_a348_11ea_8f0f_0242ac1c0002row5_col0 {\n",
              "            background-color:  #fff0e9;\n",
              "            color:  #000000;\n",
              "        }    #T_0a7cc590_a348_11ea_8f0f_0242ac1c0002row5_col1 {\n",
              "            background-color:  #fca689;\n",
              "            color:  #000000;\n",
              "        }    #T_0a7cc590_a348_11ea_8f0f_0242ac1c0002row5_col2 {\n",
              "            background-color:  #fee0d2;\n",
              "            color:  #000000;\n",
              "        }    #T_0a7cc590_a348_11ea_8f0f_0242ac1c0002row6_col0 {\n",
              "            background-color:  #ffebe2;\n",
              "            color:  #000000;\n",
              "        }    #T_0a7cc590_a348_11ea_8f0f_0242ac1c0002row6_col1 {\n",
              "            background-color:  #fc8161;\n",
              "            color:  #000000;\n",
              "        }    #T_0a7cc590_a348_11ea_8f0f_0242ac1c0002row6_col2 {\n",
              "            background-color:  #fee0d2;\n",
              "            color:  #000000;\n",
              "        }    #T_0a7cc590_a348_11ea_8f0f_0242ac1c0002row7_col0 {\n",
              "            background-color:  #fee1d3;\n",
              "            color:  #000000;\n",
              "        }    #T_0a7cc590_a348_11ea_8f0f_0242ac1c0002row7_col1 {\n",
              "            background-color:  #f85f43;\n",
              "            color:  #000000;\n",
              "        }    #T_0a7cc590_a348_11ea_8f0f_0242ac1c0002row7_col2 {\n",
              "            background-color:  #fee4d8;\n",
              "            color:  #000000;\n",
              "        }    #T_0a7cc590_a348_11ea_8f0f_0242ac1c0002row8_col0 {\n",
              "            background-color:  #fcbca2;\n",
              "            color:  #000000;\n",
              "        }    #T_0a7cc590_a348_11ea_8f0f_0242ac1c0002row8_col1 {\n",
              "            background-color:  #ee3a2c;\n",
              "            color:  #f1f1f1;\n",
              "        }    #T_0a7cc590_a348_11ea_8f0f_0242ac1c0002row8_col2 {\n",
              "            background-color:  #fee4d8;\n",
              "            color:  #000000;\n",
              "        }    #T_0a7cc590_a348_11ea_8f0f_0242ac1c0002row9_col0 {\n",
              "            background-color:  #fb6b4b;\n",
              "            color:  #000000;\n",
              "        }    #T_0a7cc590_a348_11ea_8f0f_0242ac1c0002row9_col1 {\n",
              "            background-color:  #bf151b;\n",
              "            color:  #f1f1f1;\n",
              "        }    #T_0a7cc590_a348_11ea_8f0f_0242ac1c0002row9_col2 {\n",
              "            background-color:  #fdcdb9;\n",
              "            color:  #000000;\n",
              "        }    #T_0a7cc590_a348_11ea_8f0f_0242ac1c0002row10_col0 {\n",
              "            background-color:  #67000d;\n",
              "            color:  #f1f1f1;\n",
              "        }    #T_0a7cc590_a348_11ea_8f0f_0242ac1c0002row10_col1 {\n",
              "            background-color:  #67000d;\n",
              "            color:  #f1f1f1;\n",
              "        }    #T_0a7cc590_a348_11ea_8f0f_0242ac1c0002row10_col2 {\n",
              "            background-color:  #fcb499;\n",
              "            color:  #000000;\n",
              "        }</style><table id=\"T_0a7cc590_a348_11ea_8f0f_0242ac1c0002\" ><thead>    <tr>        <th class=\"blank level0\" ></th>        <th class=\"col_heading level0 col0\" >No. of cases</th>        <th class=\"col_heading level0 col1\" >Days since first case</th>        <th class=\"col_heading level0 col2\" >Number of days required to Double the cases</th>    </tr></thead><tbody>\n",
              "                <tr>\n",
              "                        <th id=\"T_0a7cc590_a348_11ea_8f0f_0242ac1c0002level0_row0\" class=\"row_heading level0 row0\" >0</th>\n",
              "                        <td id=\"T_0a7cc590_a348_11ea_8f0f_0242ac1c0002row0_col0\" class=\"data row0 col0\" >65</td>\n",
              "                        <td id=\"T_0a7cc590_a348_11ea_8f0f_0242ac1c0002row0_col1\" class=\"data row0 col1\" >50</td>\n",
              "                        <td id=\"T_0a7cc590_a348_11ea_8f0f_0242ac1c0002row0_col2\" class=\"data row0 col2\" >50.000000</td>\n",
              "            </tr>\n",
              "            <tr>\n",
              "                        <th id=\"T_0a7cc590_a348_11ea_8f0f_0242ac1c0002level0_row1\" class=\"row_heading level0 row1\" >1</th>\n",
              "                        <td id=\"T_0a7cc590_a348_11ea_8f0f_0242ac1c0002row1_col0\" class=\"data row1 col0\" >130</td>\n",
              "                        <td id=\"T_0a7cc590_a348_11ea_8f0f_0242ac1c0002row1_col1\" class=\"data row1 col1\" >54</td>\n",
              "                        <td id=\"T_0a7cc590_a348_11ea_8f0f_0242ac1c0002row1_col2\" class=\"data row1 col2\" >4.000000</td>\n",
              "            </tr>\n",
              "            <tr>\n",
              "                        <th id=\"T_0a7cc590_a348_11ea_8f0f_0242ac1c0002level0_row2\" class=\"row_heading level0 row2\" >2</th>\n",
              "                        <td id=\"T_0a7cc590_a348_11ea_8f0f_0242ac1c0002row2_col0\" class=\"data row2 col0\" >260</td>\n",
              "                        <td id=\"T_0a7cc590_a348_11ea_8f0f_0242ac1c0002row2_col1\" class=\"data row2 col1\" >56</td>\n",
              "                        <td id=\"T_0a7cc590_a348_11ea_8f0f_0242ac1c0002row2_col2\" class=\"data row2 col2\" >2.000000</td>\n",
              "            </tr>\n",
              "            <tr>\n",
              "                        <th id=\"T_0a7cc590_a348_11ea_8f0f_0242ac1c0002level0_row3\" class=\"row_heading level0 row3\" >3</th>\n",
              "                        <td id=\"T_0a7cc590_a348_11ea_8f0f_0242ac1c0002row3_col0\" class=\"data row3 col0\" >520</td>\n",
              "                        <td id=\"T_0a7cc590_a348_11ea_8f0f_0242ac1c0002row3_col1\" class=\"data row3 col1\" >60</td>\n",
              "                        <td id=\"T_0a7cc590_a348_11ea_8f0f_0242ac1c0002row3_col2\" class=\"data row3 col2\" >4.000000</td>\n",
              "            </tr>\n",
              "            <tr>\n",
              "                        <th id=\"T_0a7cc590_a348_11ea_8f0f_0242ac1c0002level0_row4\" class=\"row_heading level0 row4\" >4</th>\n",
              "                        <td id=\"T_0a7cc590_a348_11ea_8f0f_0242ac1c0002row4_col0\" class=\"data row4 col0\" >1040</td>\n",
              "                        <td id=\"T_0a7cc590_a348_11ea_8f0f_0242ac1c0002row4_col1\" class=\"data row4 col1\" >64</td>\n",
              "                        <td id=\"T_0a7cc590_a348_11ea_8f0f_0242ac1c0002row4_col2\" class=\"data row4 col2\" >4.000000</td>\n",
              "            </tr>\n",
              "            <tr>\n",
              "                        <th id=\"T_0a7cc590_a348_11ea_8f0f_0242ac1c0002level0_row5\" class=\"row_heading level0 row5\" >5</th>\n",
              "                        <td id=\"T_0a7cc590_a348_11ea_8f0f_0242ac1c0002row5_col0\" class=\"data row5 col0\" >2080</td>\n",
              "                        <td id=\"T_0a7cc590_a348_11ea_8f0f_0242ac1c0002row5_col1\" class=\"data row5 col1\" >72</td>\n",
              "                        <td id=\"T_0a7cc590_a348_11ea_8f0f_0242ac1c0002row5_col2\" class=\"data row5 col2\" >8.000000</td>\n",
              "            </tr>\n",
              "            <tr>\n",
              "                        <th id=\"T_0a7cc590_a348_11ea_8f0f_0242ac1c0002level0_row6\" class=\"row_heading level0 row6\" >6</th>\n",
              "                        <td id=\"T_0a7cc590_a348_11ea_8f0f_0242ac1c0002row6_col0\" class=\"data row6 col0\" >4160</td>\n",
              "                        <td id=\"T_0a7cc590_a348_11ea_8f0f_0242ac1c0002row6_col1\" class=\"data row6 col1\" >80</td>\n",
              "                        <td id=\"T_0a7cc590_a348_11ea_8f0f_0242ac1c0002row6_col2\" class=\"data row6 col2\" >8.000000</td>\n",
              "            </tr>\n",
              "            <tr>\n",
              "                        <th id=\"T_0a7cc590_a348_11ea_8f0f_0242ac1c0002level0_row7\" class=\"row_heading level0 row7\" >7</th>\n",
              "                        <td id=\"T_0a7cc590_a348_11ea_8f0f_0242ac1c0002row7_col0\" class=\"data row7 col0\" >8320</td>\n",
              "                        <td id=\"T_0a7cc590_a348_11ea_8f0f_0242ac1c0002row7_col1\" class=\"data row7 col1\" >87</td>\n",
              "                        <td id=\"T_0a7cc590_a348_11ea_8f0f_0242ac1c0002row7_col2\" class=\"data row7 col2\" >7.000000</td>\n",
              "            </tr>\n",
              "            <tr>\n",
              "                        <th id=\"T_0a7cc590_a348_11ea_8f0f_0242ac1c0002level0_row8\" class=\"row_heading level0 row8\" >8</th>\n",
              "                        <td id=\"T_0a7cc590_a348_11ea_8f0f_0242ac1c0002row8_col0\" class=\"data row8 col0\" >16640</td>\n",
              "                        <td id=\"T_0a7cc590_a348_11ea_8f0f_0242ac1c0002row8_col1\" class=\"data row8 col1\" >94</td>\n",
              "                        <td id=\"T_0a7cc590_a348_11ea_8f0f_0242ac1c0002row8_col2\" class=\"data row8 col2\" >7.000000</td>\n",
              "            </tr>\n",
              "            <tr>\n",
              "                        <th id=\"T_0a7cc590_a348_11ea_8f0f_0242ac1c0002level0_row9\" class=\"row_heading level0 row9\" >9</th>\n",
              "                        <td id=\"T_0a7cc590_a348_11ea_8f0f_0242ac1c0002row9_col0\" class=\"data row9 col0\" >33280</td>\n",
              "                        <td id=\"T_0a7cc590_a348_11ea_8f0f_0242ac1c0002row9_col1\" class=\"data row9 col1\" >105</td>\n",
              "                        <td id=\"T_0a7cc590_a348_11ea_8f0f_0242ac1c0002row9_col2\" class=\"data row9 col2\" >11.000000</td>\n",
              "            </tr>\n",
              "            <tr>\n",
              "                        <th id=\"T_0a7cc590_a348_11ea_8f0f_0242ac1c0002level0_row10\" class=\"row_heading level0 row10\" >10</th>\n",
              "                        <td id=\"T_0a7cc590_a348_11ea_8f0f_0242ac1c0002row10_col0\" class=\"data row10 col0\" >66560</td>\n",
              "                        <td id=\"T_0a7cc590_a348_11ea_8f0f_0242ac1c0002row10_col1\" class=\"data row10 col1\" >120</td>\n",
              "                        <td id=\"T_0a7cc590_a348_11ea_8f0f_0242ac1c0002row10_col2\" class=\"data row10 col2\" >15.000000</td>\n",
              "            </tr>\n",
              "    </tbody></table>"
            ],
            "text/plain": [
              "<pandas.io.formats.style.Styler at 0x7fa52a6a7d68>"
            ]
          },
          "metadata": {
            "tags": []
          },
          "execution_count": 82
        }
      ]
    },
    {
      "cell_type": "code",
      "metadata": {
        "id": "cKI1YB-iaiVq",
        "colab_type": "code",
        "outputId": "70d753dc-97df-42e3-8d6a-9f7f714674aa",
        "colab": {
          "base_uri": "https://localhost:8080/",
          "height": 187
        }
      },
      "source": [
        "#Tripling Rate of COVID-19 Confirmed Cases\n",
        "saudi_tripling.style.background_gradient(cmap='Reds')"
      ],
      "execution_count": 0,
      "outputs": [
        {
          "output_type": "execute_result",
          "data": {
            "text/html": [
              "<style  type=\"text/css\" >\n",
              "    #T_0a816d0c_a348_11ea_8f0f_0242ac1c0002row0_col0 {\n",
              "            background-color:  #fff5f0;\n",
              "            color:  #000000;\n",
              "        }    #T_0a816d0c_a348_11ea_8f0f_0242ac1c0002row0_col1 {\n",
              "            background-color:  #fff5f0;\n",
              "            color:  #000000;\n",
              "        }    #T_0a816d0c_a348_11ea_8f0f_0242ac1c0002row0_col2 {\n",
              "            background-color:  #67000d;\n",
              "            color:  #f1f1f1;\n",
              "        }    #T_0a816d0c_a348_11ea_8f0f_0242ac1c0002row1_col0 {\n",
              "            background-color:  #fff5f0;\n",
              "            color:  #000000;\n",
              "        }    #T_0a816d0c_a348_11ea_8f0f_0242ac1c0002row1_col1 {\n",
              "            background-color:  #fee5d9;\n",
              "            color:  #000000;\n",
              "        }    #T_0a816d0c_a348_11ea_8f0f_0242ac1c0002row1_col2 {\n",
              "            background-color:  #fff2eb;\n",
              "            color:  #000000;\n",
              "        }    #T_0a816d0c_a348_11ea_8f0f_0242ac1c0002row2_col0 {\n",
              "            background-color:  #fff4ee;\n",
              "            color:  #000000;\n",
              "        }    #T_0a816d0c_a348_11ea_8f0f_0242ac1c0002row2_col1 {\n",
              "            background-color:  #fdd2bf;\n",
              "            color:  #000000;\n",
              "        }    #T_0a816d0c_a348_11ea_8f0f_0242ac1c0002row2_col2 {\n",
              "            background-color:  #fff5f0;\n",
              "            color:  #000000;\n",
              "        }    #T_0a816d0c_a348_11ea_8f0f_0242ac1c0002row3_col0 {\n",
              "            background-color:  #ffefe8;\n",
              "            color:  #000000;\n",
              "        }    #T_0a816d0c_a348_11ea_8f0f_0242ac1c0002row3_col1 {\n",
              "            background-color:  #fca588;\n",
              "            color:  #000000;\n",
              "        }    #T_0a816d0c_a348_11ea_8f0f_0242ac1c0002row3_col2 {\n",
              "            background-color:  #fee7db;\n",
              "            color:  #000000;\n",
              "        }    #T_0a816d0c_a348_11ea_8f0f_0242ac1c0002row4_col0 {\n",
              "            background-color:  #fee3d6;\n",
              "            color:  #000000;\n",
              "        }    #T_0a816d0c_a348_11ea_8f0f_0242ac1c0002row4_col1 {\n",
              "            background-color:  #fa6648;\n",
              "            color:  #000000;\n",
              "        }    #T_0a816d0c_a348_11ea_8f0f_0242ac1c0002row4_col2 {\n",
              "            background-color:  #fed8c7;\n",
              "            color:  #000000;\n",
              "        }    #T_0a816d0c_a348_11ea_8f0f_0242ac1c0002row5_col0 {\n",
              "            background-color:  #fca082;\n",
              "            color:  #000000;\n",
              "        }    #T_0a816d0c_a348_11ea_8f0f_0242ac1c0002row5_col1 {\n",
              "            background-color:  #de2b25;\n",
              "            color:  #f1f1f1;\n",
              "        }    #T_0a816d0c_a348_11ea_8f0f_0242ac1c0002row5_col2 {\n",
              "            background-color:  #fedecf;\n",
              "            color:  #000000;\n",
              "        }    #T_0a816d0c_a348_11ea_8f0f_0242ac1c0002row6_col0 {\n",
              "            background-color:  #67000d;\n",
              "            color:  #f1f1f1;\n",
              "        }    #T_0a816d0c_a348_11ea_8f0f_0242ac1c0002row6_col1 {\n",
              "            background-color:  #67000d;\n",
              "            color:  #f1f1f1;\n",
              "        }    #T_0a816d0c_a348_11ea_8f0f_0242ac1c0002row6_col2 {\n",
              "            background-color:  #fca082;\n",
              "            color:  #000000;\n",
              "        }</style><table id=\"T_0a816d0c_a348_11ea_8f0f_0242ac1c0002\" ><thead>    <tr>        <th class=\"blank level0\" ></th>        <th class=\"col_heading level0 col0\" >No. of cases</th>        <th class=\"col_heading level0 col1\" >Days since first case</th>        <th class=\"col_heading level0 col2\" >Number of days required to Triple the cases</th>    </tr></thead><tbody>\n",
              "                <tr>\n",
              "                        <th id=\"T_0a816d0c_a348_11ea_8f0f_0242ac1c0002level0_row0\" class=\"row_heading level0 row0\" >0</th>\n",
              "                        <td id=\"T_0a816d0c_a348_11ea_8f0f_0242ac1c0002row0_col0\" class=\"data row0 col0\" >65</td>\n",
              "                        <td id=\"T_0a816d0c_a348_11ea_8f0f_0242ac1c0002row0_col1\" class=\"data row0 col1\" >50</td>\n",
              "                        <td id=\"T_0a816d0c_a348_11ea_8f0f_0242ac1c0002row0_col2\" class=\"data row0 col2\" >50.000000</td>\n",
              "            </tr>\n",
              "            <tr>\n",
              "                        <th id=\"T_0a816d0c_a348_11ea_8f0f_0242ac1c0002level0_row1\" class=\"row_heading level0 row1\" >1</th>\n",
              "                        <td id=\"T_0a816d0c_a348_11ea_8f0f_0242ac1c0002row1_col0\" class=\"data row1 col0\" >195</td>\n",
              "                        <td id=\"T_0a816d0c_a348_11ea_8f0f_0242ac1c0002row1_col1\" class=\"data row1 col1\" >56</td>\n",
              "                        <td id=\"T_0a816d0c_a348_11ea_8f0f_0242ac1c0002row1_col2\" class=\"data row1 col2\" >6.000000</td>\n",
              "            </tr>\n",
              "            <tr>\n",
              "                        <th id=\"T_0a816d0c_a348_11ea_8f0f_0242ac1c0002level0_row2\" class=\"row_heading level0 row2\" >2</th>\n",
              "                        <td id=\"T_0a816d0c_a348_11ea_8f0f_0242ac1c0002row2_col0\" class=\"data row2 col0\" >585</td>\n",
              "                        <td id=\"T_0a816d0c_a348_11ea_8f0f_0242ac1c0002row2_col1\" class=\"data row2 col1\" >61</td>\n",
              "                        <td id=\"T_0a816d0c_a348_11ea_8f0f_0242ac1c0002row2_col2\" class=\"data row2 col2\" >5.000000</td>\n",
              "            </tr>\n",
              "            <tr>\n",
              "                        <th id=\"T_0a816d0c_a348_11ea_8f0f_0242ac1c0002level0_row3\" class=\"row_heading level0 row3\" >3</th>\n",
              "                        <td id=\"T_0a816d0c_a348_11ea_8f0f_0242ac1c0002row3_col0\" class=\"data row3 col0\" >1755</td>\n",
              "                        <td id=\"T_0a816d0c_a348_11ea_8f0f_0242ac1c0002row3_col1\" class=\"data row3 col1\" >70</td>\n",
              "                        <td id=\"T_0a816d0c_a348_11ea_8f0f_0242ac1c0002row3_col2\" class=\"data row3 col2\" >9.000000</td>\n",
              "            </tr>\n",
              "            <tr>\n",
              "                        <th id=\"T_0a816d0c_a348_11ea_8f0f_0242ac1c0002level0_row4\" class=\"row_heading level0 row4\" >4</th>\n",
              "                        <td id=\"T_0a816d0c_a348_11ea_8f0f_0242ac1c0002row4_col0\" class=\"data row4 col0\" >5265</td>\n",
              "                        <td id=\"T_0a816d0c_a348_11ea_8f0f_0242ac1c0002row4_col1\" class=\"data row4 col1\" >82</td>\n",
              "                        <td id=\"T_0a816d0c_a348_11ea_8f0f_0242ac1c0002row4_col2\" class=\"data row4 col2\" >12.000000</td>\n",
              "            </tr>\n",
              "            <tr>\n",
              "                        <th id=\"T_0a816d0c_a348_11ea_8f0f_0242ac1c0002level0_row5\" class=\"row_heading level0 row5\" >5</th>\n",
              "                        <td id=\"T_0a816d0c_a348_11ea_8f0f_0242ac1c0002row5_col0\" class=\"data row5 col0\" >15795</td>\n",
              "                        <td id=\"T_0a816d0c_a348_11ea_8f0f_0242ac1c0002row5_col1\" class=\"data row5 col1\" >93</td>\n",
              "                        <td id=\"T_0a816d0c_a348_11ea_8f0f_0242ac1c0002row5_col2\" class=\"data row5 col2\" >11.000000</td>\n",
              "            </tr>\n",
              "            <tr>\n",
              "                        <th id=\"T_0a816d0c_a348_11ea_8f0f_0242ac1c0002level0_row6\" class=\"row_heading level0 row6\" >6</th>\n",
              "                        <td id=\"T_0a816d0c_a348_11ea_8f0f_0242ac1c0002row6_col0\" class=\"data row6 col0\" >47385</td>\n",
              "                        <td id=\"T_0a816d0c_a348_11ea_8f0f_0242ac1c0002row6_col1\" class=\"data row6 col1\" >113</td>\n",
              "                        <td id=\"T_0a816d0c_a348_11ea_8f0f_0242ac1c0002row6_col2\" class=\"data row6 col2\" >20.000000</td>\n",
              "            </tr>\n",
              "    </tbody></table>"
            ],
            "text/plain": [
              "<pandas.io.formats.style.Styler at 0x7fa52a03e128>"
            ]
          },
          "metadata": {
            "tags": []
          },
          "execution_count": 83
        }
      ]
    },
    {
      "cell_type": "markdown",
      "metadata": {
        "id": "3OAhQkO3QnV-",
        "colab_type": "text"
      },
      "source": [
        "Comparison of Saudi Arabia with other Countries"
      ]
    },
    {
      "cell_type": "code",
      "metadata": {
        "id": "_VehbPRoc-c2",
        "colab_type": "code",
        "colab": {}
      },
      "source": [
        "#Adding week column to perfom weekly analysis further ahead\n",
        "saudi_datewise[\"WeekofYear\"]=saudi_datewise.index.weekofyear\n",
        "spain_datewise[\"WeekofYear\"]=spain_datewise.index.weekofyear\n",
        "us_datewise[\"WeekofYear\"]=us_datewise.index.weekofyear\n",
        "italy_datewise[\"WeekofYear\"]=italy_datewise.index.weekofyear\n",
        "iran_datewise[\"WeekofYear\"]=iran_datewise.index.weekofyear\n",
        "france_datewise[\"WeekofYear\"]=france_datewise.index.weekofyear\n",
        "uk_datewise[\"WeekofYear\"]=uk_datewise.index.weekofyear\n",
        "brazil_datewise[\"WeekofYear\"]=brazil_datewise.index.weekofyear"
      ],
      "execution_count": 0,
      "outputs": []
    },
    {
      "cell_type": "code",
      "metadata": {
        "id": "7tY7U0hid8G6",
        "colab_type": "code",
        "outputId": "27943334-fd65-4aa2-f65a-66a455adc450",
        "colab": {
          "base_uri": "https://localhost:8080/",
          "height": 145
        }
      },
      "source": [
        "comp_data=pd.concat([saudi_datewise.iloc[[-1]],spain_datewise.iloc[[-1]],us_datewise.iloc[[-1]],\n",
        "                     italy_datewise.iloc[[-1]],iran_datewise.iloc[[-1]],\n",
        "                     ])\n",
        "n_countries=[\"Saudi Arabia\",\"Spain\",\"US\",\"Italy\",\"Iran\"]\n",
        "comp_data.drop([\"Days Since\",\"WeekofYear\"],1,inplace=True)\n",
        "comp_data.index=n_countries\n",
        "comp_data[\"Mortality\"]=(comp_data[\"Deaths\"]/comp_data[\"Confirmed\"])*100\n",
        "comp_data[\"Recovery\"]=(comp_data[\"Recovered\"]/comp_data[\"Confirmed\"])*100\n",
        "comp_data[\"Survival Probability\"]=(1-(comp_data[\"Deaths\"]/comp_data[\"Confirmed\"]))*100\n",
        "comp_data.sort_values([\"Confirmed\"],ascending=False)\n",
        "comp_data.style.background_gradient(cmap='Reds')"
      ],
      "execution_count": 0,
      "outputs": [
        {
          "output_type": "execute_result",
          "data": {
            "text/html": [
              "<style  type=\"text/css\" >\n",
              "    #T_0a8cc9c2_a348_11ea_8f0f_0242ac1c0002row0_col0 {\n",
              "            background-color:  #fff5f0;\n",
              "            color:  #000000;\n",
              "        }    #T_0a8cc9c2_a348_11ea_8f0f_0242ac1c0002row0_col1 {\n",
              "            background-color:  #fff5f0;\n",
              "            color:  #000000;\n",
              "        }    #T_0a8cc9c2_a348_11ea_8f0f_0242ac1c0002row0_col2 {\n",
              "            background-color:  #fff5f0;\n",
              "            color:  #000000;\n",
              "        }    #T_0a8cc9c2_a348_11ea_8f0f_0242ac1c0002row0_col3 {\n",
              "            background-color:  #fff5f0;\n",
              "            color:  #000000;\n",
              "        }    #T_0a8cc9c2_a348_11ea_8f0f_0242ac1c0002row0_col4 {\n",
              "            background-color:  #aa1016;\n",
              "            color:  #f1f1f1;\n",
              "        }    #T_0a8cc9c2_a348_11ea_8f0f_0242ac1c0002row0_col5 {\n",
              "            background-color:  #67000d;\n",
              "            color:  #f1f1f1;\n",
              "        }    #T_0a8cc9c2_a348_11ea_8f0f_0242ac1c0002row1_col0 {\n",
              "            background-color:  #fee6da;\n",
              "            color:  #000000;\n",
              "        }    #T_0a8cc9c2_a348_11ea_8f0f_0242ac1c0002row1_col1 {\n",
              "            background-color:  #fcb99f;\n",
              "            color:  #000000;\n",
              "        }    #T_0a8cc9c2_a348_11ea_8f0f_0242ac1c0002row1_col2 {\n",
              "            background-color:  #fcb89e;\n",
              "            color:  #000000;\n",
              "        }    #T_0a8cc9c2_a348_11ea_8f0f_0242ac1c0002row1_col3 {\n",
              "            background-color:  #c1161b;\n",
              "            color:  #f1f1f1;\n",
              "        }    #T_0a8cc9c2_a348_11ea_8f0f_0242ac1c0002row1_col4 {\n",
              "            background-color:  #d42121;\n",
              "            color:  #f1f1f1;\n",
              "        }    #T_0a8cc9c2_a348_11ea_8f0f_0242ac1c0002row1_col5 {\n",
              "            background-color:  #fdc5ae;\n",
              "            color:  #000000;\n",
              "        }    #T_0a8cc9c2_a348_11ea_8f0f_0242ac1c0002row2_col0 {\n",
              "            background-color:  #67000d;\n",
              "            color:  #f1f1f1;\n",
              "        }    #T_0a8cc9c2_a348_11ea_8f0f_0242ac1c0002row2_col1 {\n",
              "            background-color:  #67000d;\n",
              "            color:  #f1f1f1;\n",
              "        }    #T_0a8cc9c2_a348_11ea_8f0f_0242ac1c0002row2_col2 {\n",
              "            background-color:  #67000d;\n",
              "            color:  #f1f1f1;\n",
              "        }    #T_0a8cc9c2_a348_11ea_8f0f_0242ac1c0002row2_col3 {\n",
              "            background-color:  #fc8f6f;\n",
              "            color:  #000000;\n",
              "        }    #T_0a8cc9c2_a348_11ea_8f0f_0242ac1c0002row2_col4 {\n",
              "            background-color:  #fff5f0;\n",
              "            color:  #000000;\n",
              "        }    #T_0a8cc9c2_a348_11ea_8f0f_0242ac1c0002row2_col5 {\n",
              "            background-color:  #f03f2e;\n",
              "            color:  #f1f1f1;\n",
              "        }    #T_0a8cc9c2_a348_11ea_8f0f_0242ac1c0002row3_col0 {\n",
              "            background-color:  #fee7db;\n",
              "            color:  #000000;\n",
              "        }    #T_0a8cc9c2_a348_11ea_8f0f_0242ac1c0002row3_col1 {\n",
              "            background-color:  #fcb499;\n",
              "            color:  #000000;\n",
              "        }    #T_0a8cc9c2_a348_11ea_8f0f_0242ac1c0002row3_col2 {\n",
              "            background-color:  #fca588;\n",
              "            color:  #000000;\n",
              "        }    #T_0a8cc9c2_a348_11ea_8f0f_0242ac1c0002row3_col3 {\n",
              "            background-color:  #67000d;\n",
              "            color:  #f1f1f1;\n",
              "        }    #T_0a8cc9c2_a348_11ea_8f0f_0242ac1c0002row3_col4 {\n",
              "            background-color:  #be151a;\n",
              "            color:  #f1f1f1;\n",
              "        }    #T_0a8cc9c2_a348_11ea_8f0f_0242ac1c0002row3_col5 {\n",
              "            background-color:  #fff5f0;\n",
              "            color:  #000000;\n",
              "        }    #T_0a8cc9c2_a348_11ea_8f0f_0242ac1c0002row4_col0 {\n",
              "            background-color:  #ffefe8;\n",
              "            color:  #000000;\n",
              "        }    #T_0a8cc9c2_a348_11ea_8f0f_0242ac1c0002row4_col1 {\n",
              "            background-color:  #fdd5c4;\n",
              "            color:  #000000;\n",
              "        }    #T_0a8cc9c2_a348_11ea_8f0f_0242ac1c0002row4_col2 {\n",
              "            background-color:  #feeae0;\n",
              "            color:  #000000;\n",
              "        }    #T_0a8cc9c2_a348_11ea_8f0f_0242ac1c0002row4_col3 {\n",
              "            background-color:  #fca082;\n",
              "            color:  #000000;\n",
              "        }    #T_0a8cc9c2_a348_11ea_8f0f_0242ac1c0002row4_col4 {\n",
              "            background-color:  #67000d;\n",
              "            color:  #f1f1f1;\n",
              "        }    #T_0a8cc9c2_a348_11ea_8f0f_0242ac1c0002row4_col5 {\n",
              "            background-color:  #e32f27;\n",
              "            color:  #f1f1f1;\n",
              "        }</style><table id=\"T_0a8cc9c2_a348_11ea_8f0f_0242ac1c0002\" ><thead>    <tr>        <th class=\"blank level0\" ></th>        <th class=\"col_heading level0 col0\" >Confirmed</th>        <th class=\"col_heading level0 col1\" >Recovered</th>        <th class=\"col_heading level0 col2\" >Deaths</th>        <th class=\"col_heading level0 col3\" >Mortality</th>        <th class=\"col_heading level0 col4\" >Recovery</th>        <th class=\"col_heading level0 col5\" >Survival Probability</th>    </tr></thead><tbody>\n",
              "                <tr>\n",
              "                        <th id=\"T_0a8cc9c2_a348_11ea_8f0f_0242ac1c0002level0_row0\" class=\"row_heading level0 row0\" >Saudi Arabia</th>\n",
              "                        <td id=\"T_0a8cc9c2_a348_11ea_8f0f_0242ac1c0002row0_col0\" class=\"data row0 col0\" >83384</td>\n",
              "                        <td id=\"T_0a8cc9c2_a348_11ea_8f0f_0242ac1c0002row0_col1\" class=\"data row0 col1\" >58883</td>\n",
              "                        <td id=\"T_0a8cc9c2_a348_11ea_8f0f_0242ac1c0002row0_col2\" class=\"data row0 col2\" >480</td>\n",
              "                        <td id=\"T_0a8cc9c2_a348_11ea_8f0f_0242ac1c0002row0_col3\" class=\"data row0 col3\" >0.575650</td>\n",
              "                        <td id=\"T_0a8cc9c2_a348_11ea_8f0f_0242ac1c0002row0_col4\" class=\"data row0 col4\" >70.616665</td>\n",
              "                        <td id=\"T_0a8cc9c2_a348_11ea_8f0f_0242ac1c0002row0_col5\" class=\"data row0 col5\" >99.424350</td>\n",
              "            </tr>\n",
              "            <tr>\n",
              "                        <th id=\"T_0a8cc9c2_a348_11ea_8f0f_0242ac1c0002level0_row1\" class=\"row_heading level0 row1\" >Spain</th>\n",
              "                        <td id=\"T_0a8cc9c2_a348_11ea_8f0f_0242ac1c0002row1_col0\" class=\"data row1 col0\" >239228</td>\n",
              "                        <td id=\"T_0a8cc9c2_a348_11ea_8f0f_0242ac1c0002row1_col1\" class=\"data row1 col1\" >150376</td>\n",
              "                        <td id=\"T_0a8cc9c2_a348_11ea_8f0f_0242ac1c0002row1_col2\" class=\"data row1 col2\" >27125</td>\n",
              "                        <td id=\"T_0a8cc9c2_a348_11ea_8f0f_0242ac1c0002row1_col3\" class=\"data row1 col3\" >11.338556</td>\n",
              "                        <td id=\"T_0a8cc9c2_a348_11ea_8f0f_0242ac1c0002row1_col4\" class=\"data row1 col4\" >62.858863</td>\n",
              "                        <td id=\"T_0a8cc9c2_a348_11ea_8f0f_0242ac1c0002row1_col5\" class=\"data row1 col5\" >88.661444</td>\n",
              "            </tr>\n",
              "            <tr>\n",
              "                        <th id=\"T_0a8cc9c2_a348_11ea_8f0f_0242ac1c0002level0_row2\" class=\"row_heading level0 row2\" >US</th>\n",
              "                        <td id=\"T_0a8cc9c2_a348_11ea_8f0f_0242ac1c0002row2_col0\" class=\"data row2 col0\" >1770165</td>\n",
              "                        <td id=\"T_0a8cc9c2_a348_11ea_8f0f_0242ac1c0002row2_col1\" class=\"data row2 col1\" >416461</td>\n",
              "                        <td id=\"T_0a8cc9c2_a348_11ea_8f0f_0242ac1c0002row2_col2\" class=\"data row2 col2\" >103776</td>\n",
              "                        <td id=\"T_0a8cc9c2_a348_11ea_8f0f_0242ac1c0002row2_col3\" class=\"data row2 col3\" >5.862504</td>\n",
              "                        <td id=\"T_0a8cc9c2_a348_11ea_8f0f_0242ac1c0002row2_col4\" class=\"data row2 col4\" >23.526677</td>\n",
              "                        <td id=\"T_0a8cc9c2_a348_11ea_8f0f_0242ac1c0002row2_col5\" class=\"data row2 col5\" >94.137496</td>\n",
              "            </tr>\n",
              "            <tr>\n",
              "                        <th id=\"T_0a8cc9c2_a348_11ea_8f0f_0242ac1c0002level0_row3\" class=\"row_heading level0 row3\" >Italy</th>\n",
              "                        <td id=\"T_0a8cc9c2_a348_11ea_8f0f_0242ac1c0002row3_col0\" class=\"data row3 col0\" >232664</td>\n",
              "                        <td id=\"T_0a8cc9c2_a348_11ea_8f0f_0242ac1c0002row3_col1\" class=\"data row3 col1\" >155633</td>\n",
              "                        <td id=\"T_0a8cc9c2_a348_11ea_8f0f_0242ac1c0002row3_col2\" class=\"data row3 col2\" >33340</td>\n",
              "                        <td id=\"T_0a8cc9c2_a348_11ea_8f0f_0242ac1c0002row3_col3\" class=\"data row3 col3\" >14.329677</td>\n",
              "                        <td id=\"T_0a8cc9c2_a348_11ea_8f0f_0242ac1c0002row3_col4\" class=\"data row3 col4\" >66.891741</td>\n",
              "                        <td id=\"T_0a8cc9c2_a348_11ea_8f0f_0242ac1c0002row3_col5\" class=\"data row3 col5\" >85.670323</td>\n",
              "            </tr>\n",
              "            <tr>\n",
              "                        <th id=\"T_0a8cc9c2_a348_11ea_8f0f_0242ac1c0002level0_row4\" class=\"row_heading level0 row4\" >Iran</th>\n",
              "                        <td id=\"T_0a8cc9c2_a348_11ea_8f0f_0242ac1c0002row4_col0\" class=\"data row4 col0\" >148950</td>\n",
              "                        <td id=\"T_0a8cc9c2_a348_11ea_8f0f_0242ac1c0002row4_col1\" class=\"data row4 col1\" >116827</td>\n",
              "                        <td id=\"T_0a8cc9c2_a348_11ea_8f0f_0242ac1c0002row4_col2\" class=\"data row4 col2\" >7734</td>\n",
              "                        <td id=\"T_0a8cc9c2_a348_11ea_8f0f_0242ac1c0002row4_col3\" class=\"data row4 col3\" >5.192346</td>\n",
              "                        <td id=\"T_0a8cc9c2_a348_11ea_8f0f_0242ac1c0002row4_col4\" class=\"data row4 col4\" >78.433703</td>\n",
              "                        <td id=\"T_0a8cc9c2_a348_11ea_8f0f_0242ac1c0002row4_col5\" class=\"data row4 col5\" >94.807654</td>\n",
              "            </tr>\n",
              "    </tbody></table>"
            ],
            "text/plain": [
              "<pandas.io.formats.style.Styler at 0x7fa5397a2518>"
            ]
          },
          "metadata": {
            "tags": []
          },
          "execution_count": 85
        }
      ]
    },
    {
      "cell_type": "markdown",
      "metadata": {
        "id": "F1Q3KxV0radM",
        "colab_type": "text"
      },
      "source": [
        "Saudi Arabia has the highest survival probability among other countries"
      ]
    },
    {
      "cell_type": "code",
      "metadata": {
        "id": "zVkkBFSIY3O-",
        "colab_type": "code",
        "outputId": "f8e56d02-273d-4bc6-ad0b-cdd78ff62d66",
        "colab": {
          "base_uri": "https://localhost:8080/",
          "height": 542
        }
      },
      "source": [
        "fig=go.Figure()\n",
        "for country in n_countries:\n",
        "    fig.add_trace(go.Scatter(x=grouped_country.loc[country].index, y=grouped_country.loc[country][\"Confirmed\"].rolling(window=7).mean().diff(),\n",
        "                    mode='lines',name=country))\n",
        "fig.update_layout(title=\"7 Days Rolling Average of Daily increase of Confirmed Cases\",\n",
        "                 xaxis_title=\"Date\",yaxis_title=\"Confirmed Cases\",\n",
        "                 legend=dict(x=0,y=1,traceorder=\"normal\"))\n",
        "fig.show()\n",
        "\n"
      ],
      "execution_count": 0,
      "outputs": [
        {
          "output_type": "display_data",
          "data": {
            "text/html": [
              "<html>\n",
              "<head><meta charset=\"utf-8\" /></head>\n",
              "<body>\n",
              "    <div>\n",
              "            <script src=\"https://cdnjs.cloudflare.com/ajax/libs/mathjax/2.7.5/MathJax.js?config=TeX-AMS-MML_SVG\"></script><script type=\"text/javascript\">if (window.MathJax) {MathJax.Hub.Config({SVG: {font: \"STIX-Web\"}});}</script>\n",
              "                <script type=\"text/javascript\">window.PlotlyConfig = {MathJaxConfig: 'local'};</script>\n",
              "        <script src=\"https://cdn.plot.ly/plotly-latest.min.js\"></script>    \n",
              "            <div id=\"287c4c37-ea35-488a-a494-19ea36f42a02\" class=\"plotly-graph-div\" style=\"height:525px; width:100%;\"></div>\n",
              "            <script type=\"text/javascript\">\n",
              "                \n",
              "                    window.PLOTLYENV=window.PLOTLYENV || {};\n",
              "                    \n",
              "                if (document.getElementById(\"287c4c37-ea35-488a-a494-19ea36f42a02\")) {\n",
              "                    Plotly.newPlot(\n",
              "                        '287c4c37-ea35-488a-a494-19ea36f42a02',\n",
              "                        [{\"mode\": \"lines\", \"name\": \"Saudi Arabia\", \"type\": \"scatter\", \"x\": [\"2020-01-22T00:00:00\", \"2020-01-23T00:00:00\", \"2020-01-24T00:00:00\", \"2020-01-25T00:00:00\", \"2020-01-26T00:00:00\", \"2020-01-27T00:00:00\", \"2020-01-28T00:00:00\", \"2020-01-29T00:00:00\", \"2020-01-30T00:00:00\", \"2020-01-31T00:00:00\", \"2020-02-01T00:00:00\", \"2020-02-02T00:00:00\", \"2020-02-03T00:00:00\", \"2020-02-04T00:00:00\", \"2020-02-05T00:00:00\", \"2020-02-06T00:00:00\", \"2020-02-07T00:00:00\", \"2020-02-08T00:00:00\", \"2020-02-09T00:00:00\", \"2020-02-10T00:00:00\", \"2020-02-11T00:00:00\", \"2020-02-12T00:00:00\", \"2020-02-13T00:00:00\", \"2020-02-14T00:00:00\", \"2020-02-15T00:00:00\", \"2020-02-16T00:00:00\", \"2020-02-17T00:00:00\", \"2020-02-18T00:00:00\", \"2020-02-19T00:00:00\", \"2020-02-20T00:00:00\", \"2020-02-21T00:00:00\", \"2020-02-22T00:00:00\", \"2020-02-23T00:00:00\", \"2020-02-24T00:00:00\", \"2020-02-25T00:00:00\", \"2020-02-26T00:00:00\", \"2020-02-27T00:00:00\", \"2020-02-28T00:00:00\", \"2020-02-29T00:00:00\", \"2020-03-01T00:00:00\", \"2020-03-02T00:00:00\", \"2020-03-03T00:00:00\", \"2020-03-04T00:00:00\", \"2020-03-05T00:00:00\", \"2020-03-06T00:00:00\", \"2020-03-07T00:00:00\", \"2020-03-08T00:00:00\", \"2020-03-09T00:00:00\", \"2020-03-10T00:00:00\", \"2020-03-11T00:00:00\", \"2020-03-12T00:00:00\", \"2020-03-13T00:00:00\", \"2020-03-14T00:00:00\", \"2020-03-15T00:00:00\", \"2020-03-16T00:00:00\", \"2020-03-17T00:00:00\", \"2020-03-18T00:00:00\", \"2020-03-19T00:00:00\", \"2020-03-20T00:00:00\", \"2020-03-21T00:00:00\", \"2020-03-22T00:00:00\", \"2020-03-23T00:00:00\", \"2020-03-24T00:00:00\", \"2020-03-25T00:00:00\", \"2020-03-26T00:00:00\", \"2020-03-27T00:00:00\", \"2020-03-28T00:00:00\", \"2020-03-29T00:00:00\", \"2020-03-30T00:00:00\", \"2020-03-31T00:00:00\", \"2020-04-01T00:00:00\", \"2020-04-02T00:00:00\", \"2020-04-03T00:00:00\", \"2020-04-04T00:00:00\", \"2020-04-05T00:00:00\", \"2020-04-06T00:00:00\", \"2020-04-07T00:00:00\", \"2020-04-08T00:00:00\", \"2020-04-09T00:00:00\", \"2020-04-10T00:00:00\", \"2020-04-11T00:00:00\", \"2020-04-12T00:00:00\", \"2020-04-13T00:00:00\", \"2020-04-14T00:00:00\", \"2020-04-15T00:00:00\", \"2020-04-16T00:00:00\", \"2020-04-17T00:00:00\", \"2020-04-18T00:00:00\", \"2020-04-19T00:00:00\", \"2020-04-20T00:00:00\", \"2020-04-21T00:00:00\", \"2020-04-22T00:00:00\", \"2020-04-23T00:00:00\", \"2020-04-24T00:00:00\", \"2020-04-25T00:00:00\", \"2020-04-26T00:00:00\", \"2020-04-27T00:00:00\", \"2020-04-28T00:00:00\", \"2020-04-29T00:00:00\", \"2020-04-30T00:00:00\", \"2020-05-01T00:00:00\", \"2020-05-02T00:00:00\", \"2020-05-03T00:00:00\", \"2020-05-04T00:00:00\", \"2020-05-05T00:00:00\", \"2020-05-06T00:00:00\", \"2020-05-07T00:00:00\", \"2020-05-08T00:00:00\", \"2020-05-09T00:00:00\", \"2020-05-10T00:00:00\", \"2020-05-11T00:00:00\", \"2020-05-12T00:00:00\", \"2020-05-13T00:00:00\", \"2020-05-14T00:00:00\", \"2020-05-15T00:00:00\", \"2020-05-16T00:00:00\", \"2020-05-17T00:00:00\", \"2020-05-18T00:00:00\", \"2020-05-19T00:00:00\", \"2020-05-20T00:00:00\", \"2020-05-21T00:00:00\", \"2020-05-22T00:00:00\", \"2020-05-23T00:00:00\", \"2020-05-24T00:00:00\", \"2020-05-25T00:00:00\", \"2020-05-26T00:00:00\", \"2020-05-27T00:00:00\", \"2020-05-28T00:00:00\", \"2020-05-29T00:00:00\", \"2020-05-30T00:00:00\"], \"y\": [null, null, null, null, null, null, null, 0.0, 0.0, 0.0, 0.0, 0.0, 0.0, 0.0, 0.0, 0.0, 0.0, 0.0, 0.0, 0.0, 0.0, 0.0, 0.0, 0.0, 0.0, 0.0, 0.0, 0.0, 0.0, 0.0, 0.0, 0.0, 0.0, 0.0, 0.0, 0.0, 0.0, 0.0, 0.0, 0.0, 0.14285714285714285, 0.14285714285714285, 0.14285714285714285, 0.7142857142857142, 0.7142857142857144, 0.7142857142857144, 1.5714285714285716, 2.0, 2.7142857142857144, 2.857142857142856, 5.7142857142857135, 11.571428571428573, 14.0, 13.142857142857146, 14.714285714285715, 21.57142857142857, 21.42857142857143, 32.71428571428572, 36.85714285714283, 41.285714285714306, 58.28571428571428, 63.428571428571445, 85.14285714285711, 104.14285714285711, 105.42857142857144, 108.57142857142856, 115.85714285714289, 112.57142857142856, 127.28571428571422, 113.71428571428578, 117.14285714285711, 124.71428571428578, 133.57142857142867, 139.42857142857133, 157.57142857142867, 164.57142857142867, 176.0, 173.14285714285688, 200.28571428571422, 230.28571428571422, 264.8571428571431, 294.2857142857142, 332.7142857142858, 367.7142857142858, 418.57142857142844, 441.8571428571431, 498.7142857142853, 605.8571428571431, 700.0, 792.8571428571431, 894.5714285714284, 987.1428571428569, 1078.5714285714294, 1137.1428571428569, 1146.4285714285706, 1165.7142857142862, 1189.5714285714275, 1206.5714285714294, 1232.8571428571413, 1260.4285714285725, 1285.0, 1308.5714285714275, 1355.5714285714312, 1406.4285714285688, 1453.4285714285725, 1505.1428571428587, 1568.2857142857138, 1619.2857142857138, 1668.1428571428587, 1719.571428571424, 1765.4285714285725, 1810.5714285714275, 1841.7142857142899, 1876.857142857145, 1963.4285714285652, 2125.71428571429, 2243.4285714285725, 2333.0, 2418.4285714285725, 2530.7142857142826, 2601.142857142855, 2649.0, 2592.1428571428623, 2544.0, 2492.8571428571377, 2410.28571428571, 2285.1428571428696, 2158.28571428571, 2006.7142857142899, 1889.0]}, {\"mode\": \"lines\", \"name\": \"Spain\", \"type\": \"scatter\", \"x\": [\"2020-01-22T00:00:00\", \"2020-01-23T00:00:00\", \"2020-01-24T00:00:00\", \"2020-01-25T00:00:00\", \"2020-01-26T00:00:00\", \"2020-01-27T00:00:00\", \"2020-01-28T00:00:00\", \"2020-01-29T00:00:00\", \"2020-01-30T00:00:00\", \"2020-01-31T00:00:00\", \"2020-02-01T00:00:00\", \"2020-02-02T00:00:00\", \"2020-02-03T00:00:00\", \"2020-02-04T00:00:00\", \"2020-02-05T00:00:00\", \"2020-02-06T00:00:00\", \"2020-02-07T00:00:00\", \"2020-02-08T00:00:00\", \"2020-02-09T00:00:00\", \"2020-02-10T00:00:00\", \"2020-02-11T00:00:00\", \"2020-02-12T00:00:00\", \"2020-02-13T00:00:00\", \"2020-02-14T00:00:00\", \"2020-02-15T00:00:00\", \"2020-02-16T00:00:00\", \"2020-02-17T00:00:00\", \"2020-02-18T00:00:00\", \"2020-02-19T00:00:00\", \"2020-02-20T00:00:00\", \"2020-02-21T00:00:00\", \"2020-02-22T00:00:00\", \"2020-02-23T00:00:00\", \"2020-02-24T00:00:00\", \"2020-02-25T00:00:00\", \"2020-02-26T00:00:00\", \"2020-02-27T00:00:00\", \"2020-02-28T00:00:00\", \"2020-02-29T00:00:00\", \"2020-03-01T00:00:00\", \"2020-03-02T00:00:00\", \"2020-03-03T00:00:00\", \"2020-03-04T00:00:00\", \"2020-03-05T00:00:00\", \"2020-03-06T00:00:00\", \"2020-03-07T00:00:00\", \"2020-03-08T00:00:00\", \"2020-03-09T00:00:00\", \"2020-03-10T00:00:00\", \"2020-03-11T00:00:00\", \"2020-03-12T00:00:00\", \"2020-03-13T00:00:00\", \"2020-03-14T00:00:00\", \"2020-03-15T00:00:00\", \"2020-03-16T00:00:00\", \"2020-03-17T00:00:00\", \"2020-03-18T00:00:00\", \"2020-03-19T00:00:00\", \"2020-03-20T00:00:00\", \"2020-03-21T00:00:00\", \"2020-03-22T00:00:00\", \"2020-03-23T00:00:00\", \"2020-03-24T00:00:00\", \"2020-03-25T00:00:00\", \"2020-03-26T00:00:00\", \"2020-03-27T00:00:00\", \"2020-03-28T00:00:00\", \"2020-03-29T00:00:00\", \"2020-03-30T00:00:00\", \"2020-03-31T00:00:00\", \"2020-04-01T00:00:00\", \"2020-04-02T00:00:00\", \"2020-04-03T00:00:00\", \"2020-04-04T00:00:00\", \"2020-04-05T00:00:00\", \"2020-04-06T00:00:00\", \"2020-04-07T00:00:00\", \"2020-04-08T00:00:00\", \"2020-04-09T00:00:00\", \"2020-04-10T00:00:00\", \"2020-04-11T00:00:00\", \"2020-04-12T00:00:00\", \"2020-04-13T00:00:00\", \"2020-04-14T00:00:00\", \"2020-04-15T00:00:00\", \"2020-04-16T00:00:00\", \"2020-04-17T00:00:00\", \"2020-04-18T00:00:00\", \"2020-04-19T00:00:00\", \"2020-04-20T00:00:00\", \"2020-04-21T00:00:00\", \"2020-04-22T00:00:00\", \"2020-04-23T00:00:00\", \"2020-04-24T00:00:00\", \"2020-04-25T00:00:00\", \"2020-04-26T00:00:00\", \"2020-04-27T00:00:00\", \"2020-04-28T00:00:00\", \"2020-04-29T00:00:00\", \"2020-04-30T00:00:00\", \"2020-05-01T00:00:00\", \"2020-05-02T00:00:00\", \"2020-05-03T00:00:00\", \"2020-05-04T00:00:00\", \"2020-05-05T00:00:00\", \"2020-05-06T00:00:00\", \"2020-05-07T00:00:00\", \"2020-05-08T00:00:00\", \"2020-05-09T00:00:00\", \"2020-05-10T00:00:00\", \"2020-05-11T00:00:00\", \"2020-05-12T00:00:00\", \"2020-05-13T00:00:00\", \"2020-05-14T00:00:00\", \"2020-05-15T00:00:00\", \"2020-05-16T00:00:00\", \"2020-05-17T00:00:00\", \"2020-05-18T00:00:00\", \"2020-05-19T00:00:00\", \"2020-05-20T00:00:00\", \"2020-05-21T00:00:00\", \"2020-05-22T00:00:00\", \"2020-05-23T00:00:00\", \"2020-05-24T00:00:00\", \"2020-05-25T00:00:00\", \"2020-05-26T00:00:00\", \"2020-05-27T00:00:00\", \"2020-05-28T00:00:00\", \"2020-05-29T00:00:00\", \"2020-05-30T00:00:00\"], \"y\": [null, null, null, null, null, null, null, 0.0, 0.0, 0.0, 0.14285714285714285, 0.14285714285714285, 0.14285714285714285, 0.14285714285714285, 0.1428571428571429, 0.1428571428571428, 0.1428571428571429, 0.0, 0.1428571428571428, 0.14285714285714302, 0.1428571428571428, 0.1428571428571428, 0.1428571428571428, 0.14285714285714302, 0.1428571428571428, 0.0, 0.0, 0.0, 0.0, 0.0, 0.0, 0.0, 0.0, 0.0, 0.5714285714285716, 1.5714285714285716, 1.8571428571428568, 4.2857142857142865, 6.142857142857141, 11.714285714285715, 16.857142857142858, 22.714285714285708, 29.85714285714286, 34.85714285714285, 52.571428571428584, 65.0, 84.14285714285717, 136.1428571428571, 218.5714285714286, 293.57142857142856, 288.28571428571433, 690.2857142857142, 841.5714285714284, 1017.8571428571431, 1267.0, 1436.1428571428569, 1661.8571428571431, 2240.857142857142, 2168.2857142857156, 2711.8571428571413, 2995.714285714288, 3599.142857142855, 4019.5714285714275, 5086.4285714285725, 5689.000000000004, 6472.714285714283, 6837.285714285717, 7334.5714285714275, 7545.714285714283, 8005.4285714285725, 7800.428571428565, 7754.14285714287, 7640.0, 7561.85714285713, 7362.285714285725, 6959.857142857145, 6574.142857142855, 6300.28571428571, 5879.57142857142, 5582.0, 5265.571428571449, 5026.428571428551, 4774.8571428571595, 4371.28571428571, 4203.42857142858, 4532.28571428571, 4652.28571428571, 4099.85714285713, 4549.0, 4301.571428571449, 4519.57142857142, 4392.1428571428405, 4010.8571428571595, 1735.8571428571304, 2025.5714285714494, 1280.0, 1322.1428571428405, 942.1428571428696, 646.8571428571304, 58.71428571428987, 1746.5714285714203, 1525.2857142857101, 1404.5714285714494, 1220.8571428571304, 1222.2857142857101, 1058.2857142857101, 1144.5714285714494, 1091.5714285714203, 999.4285714285797, 983.4285714285506, 1346.4285714285797, 1243.0, 1195.1428571428696, 1156.1428571428405, 1046.5714285714494, 1017.1428571428405, 906.8571428571595, 595.7142857142608, 572.4285714285797, 552.0, 499.57142857142026, 663.0, 656.0, 724.8571428571595, 542.0, 603.1428571428405, 529.1428571428696, 695.5714285714203, 534.2857142857101, 562.5714285714494]}, {\"mode\": \"lines\", \"name\": \"US\", \"type\": \"scatter\", \"x\": [\"2020-01-22T00:00:00\", \"2020-01-23T00:00:00\", \"2020-01-24T00:00:00\", \"2020-01-25T00:00:00\", \"2020-01-26T00:00:00\", \"2020-01-27T00:00:00\", \"2020-01-28T00:00:00\", \"2020-01-29T00:00:00\", \"2020-01-30T00:00:00\", \"2020-01-31T00:00:00\", \"2020-02-01T00:00:00\", \"2020-02-02T00:00:00\", \"2020-02-03T00:00:00\", \"2020-02-04T00:00:00\", \"2020-02-05T00:00:00\", \"2020-02-06T00:00:00\", \"2020-02-07T00:00:00\", \"2020-02-08T00:00:00\", \"2020-02-09T00:00:00\", \"2020-02-10T00:00:00\", \"2020-02-11T00:00:00\", \"2020-02-12T00:00:00\", \"2020-02-13T00:00:00\", \"2020-02-14T00:00:00\", \"2020-02-15T00:00:00\", \"2020-02-16T00:00:00\", \"2020-02-17T00:00:00\", \"2020-02-18T00:00:00\", \"2020-02-19T00:00:00\", \"2020-02-20T00:00:00\", \"2020-02-21T00:00:00\", \"2020-02-22T00:00:00\", \"2020-02-23T00:00:00\", \"2020-02-24T00:00:00\", \"2020-02-25T00:00:00\", \"2020-02-26T00:00:00\", \"2020-02-27T00:00:00\", \"2020-02-28T00:00:00\", \"2020-02-29T00:00:00\", \"2020-03-01T00:00:00\", \"2020-03-02T00:00:00\", \"2020-03-03T00:00:00\", \"2020-03-04T00:00:00\", \"2020-03-05T00:00:00\", \"2020-03-06T00:00:00\", \"2020-03-07T00:00:00\", \"2020-03-08T00:00:00\", \"2020-03-09T00:00:00\", \"2020-03-10T00:00:00\", \"2020-03-11T00:00:00\", \"2020-03-12T00:00:00\", \"2020-03-13T00:00:00\", \"2020-03-14T00:00:00\", \"2020-03-15T00:00:00\", \"2020-03-16T00:00:00\", \"2020-03-17T00:00:00\", \"2020-03-18T00:00:00\", \"2020-03-19T00:00:00\", \"2020-03-20T00:00:00\", \"2020-03-21T00:00:00\", \"2020-03-22T00:00:00\", \"2020-03-23T00:00:00\", \"2020-03-24T00:00:00\", \"2020-03-25T00:00:00\", \"2020-03-26T00:00:00\", \"2020-03-27T00:00:00\", \"2020-03-28T00:00:00\", \"2020-03-29T00:00:00\", \"2020-03-30T00:00:00\", \"2020-03-31T00:00:00\", \"2020-04-01T00:00:00\", \"2020-04-02T00:00:00\", \"2020-04-03T00:00:00\", \"2020-04-04T00:00:00\", \"2020-04-05T00:00:00\", \"2020-04-06T00:00:00\", \"2020-04-07T00:00:00\", \"2020-04-08T00:00:00\", \"2020-04-09T00:00:00\", \"2020-04-10T00:00:00\", \"2020-04-11T00:00:00\", \"2020-04-12T00:00:00\", \"2020-04-13T00:00:00\", \"2020-04-14T00:00:00\", \"2020-04-15T00:00:00\", \"2020-04-16T00:00:00\", \"2020-04-17T00:00:00\", \"2020-04-18T00:00:00\", \"2020-04-19T00:00:00\", \"2020-04-20T00:00:00\", \"2020-04-21T00:00:00\", \"2020-04-22T00:00:00\", \"2020-04-23T00:00:00\", \"2020-04-24T00:00:00\", \"2020-04-25T00:00:00\", \"2020-04-26T00:00:00\", \"2020-04-27T00:00:00\", \"2020-04-28T00:00:00\", \"2020-04-29T00:00:00\", \"2020-04-30T00:00:00\", \"2020-05-01T00:00:00\", \"2020-05-02T00:00:00\", \"2020-05-03T00:00:00\", \"2020-05-04T00:00:00\", \"2020-05-05T00:00:00\", \"2020-05-06T00:00:00\", \"2020-05-07T00:00:00\", \"2020-05-08T00:00:00\", \"2020-05-09T00:00:00\", \"2020-05-10T00:00:00\", \"2020-05-11T00:00:00\", \"2020-05-12T00:00:00\", \"2020-05-13T00:00:00\", \"2020-05-14T00:00:00\", \"2020-05-15T00:00:00\", \"2020-05-16T00:00:00\", \"2020-05-17T00:00:00\", \"2020-05-18T00:00:00\", \"2020-05-19T00:00:00\", \"2020-05-20T00:00:00\", \"2020-05-21T00:00:00\", \"2020-05-22T00:00:00\", \"2020-05-23T00:00:00\", \"2020-05-24T00:00:00\", \"2020-05-25T00:00:00\", \"2020-05-26T00:00:00\", \"2020-05-27T00:00:00\", \"2020-05-28T00:00:00\", \"2020-05-29T00:00:00\", \"2020-05-30T00:00:00\"], \"y\": [null, null, null, null, null, null, null, 0.5714285714285716, 0.5714285714285716, 0.7142857142857135, 0.8571428571428577, 0.4285714285714288, 0.8571428571428568, 0.8571428571428568, 0.8571428571428568, 0.8571428571428577, 0.5714285714285712, 0.4285714285714288, 0.4285714285714288, 0.0, 0.14285714285714235, 0.14285714285714413, 0.2857142857142847, 0.2857142857142865, 0.2857142857142847, 0.2857142857142865, 0.2857142857142847, 0.14285714285714413, 0.14285714285714235, 0.0, 0.2857142857142865, 0.2857142857142847, 0.2857142857142865, 5.428571428571427, 5.428571428571431, 6.285714285714285, 6.428571428571431, 6.4285714285714235, 7.5714285714285765, 8.428571428571423, 6.714285714285715, 9.57142857142857, 13.142857142857153, 23.0, 29.57142857142857, 47.85714285714286, 63.571428571428555, 70.0, 120.57142857142856, 162.28571428571428, 206.8571428571429, 273.42857142857133, 332.28571428571445, 431.0, 581.8571428571427, 782.1428571428573, 927.9999999999995, 1725.8571428571431, 2441.857142857142, 3267.2857142857156, 4249.142857142857, 5600.142857142857, 6784.0, 8294.714285714283, 10012.571428571435, 11812.571428571428, 13740.857142857145, 15375.714285714275, 16897.857142857145, 19178.142857142855, 21108.285714285725, 22881.71428571429, 24833.71428571429, 26748.71428571426, 27984.57142857145, 29167.14285714284, 29849.85714285716, 30721.71428571426, 31331.28571428574, 31578.28571428568, 31107.0, 31215.85714285716, 30615.28571428574, 30078.42857142858, 29717.142857142782, 29236.285714285797, 29030.85714285716, 29402.0, 29070.857142857043, 29154.85714285716, 29170.71428571432, 29096.71428571432, 28741.28571428568, 29328.0, 29366.28571428568, 29568.0, 29069.85714285716, 28673.85714285716, 28508.28571428568, 28607.71428571432, 28300.42857142852, 27769.285714285797, 27465.0, 27454.0, 27395.571428571362, 27060.28571428568, 26799.857142857276, 25781.142857142724, 25287.28571428568, 24460.0, 23929.428571428638, 23575.0, 23010.71428571432, 22964.428571428638, 22699.28571428568, 22610.0, 22499.571428571362, 22918.142857142957, 22741.71428571432, 23063.857142857043, 22767.571428571362, 22587.571428571595, 22113.142857142724, 22355.571428571362, 21999.142857142957, 21763.571428571362, 21046.142857142957, 20658.0, 20726.0, 21079.0]}, {\"mode\": \"lines\", \"name\": \"Italy\", \"type\": \"scatter\", \"x\": [\"2020-01-22T00:00:00\", \"2020-01-23T00:00:00\", \"2020-01-24T00:00:00\", \"2020-01-25T00:00:00\", \"2020-01-26T00:00:00\", \"2020-01-27T00:00:00\", \"2020-01-28T00:00:00\", \"2020-01-29T00:00:00\", \"2020-01-30T00:00:00\", \"2020-01-31T00:00:00\", \"2020-02-01T00:00:00\", \"2020-02-02T00:00:00\", \"2020-02-03T00:00:00\", \"2020-02-04T00:00:00\", \"2020-02-05T00:00:00\", \"2020-02-06T00:00:00\", \"2020-02-07T00:00:00\", \"2020-02-08T00:00:00\", \"2020-02-09T00:00:00\", \"2020-02-10T00:00:00\", \"2020-02-11T00:00:00\", \"2020-02-12T00:00:00\", \"2020-02-13T00:00:00\", \"2020-02-14T00:00:00\", \"2020-02-15T00:00:00\", \"2020-02-16T00:00:00\", \"2020-02-17T00:00:00\", \"2020-02-18T00:00:00\", \"2020-02-19T00:00:00\", \"2020-02-20T00:00:00\", \"2020-02-21T00:00:00\", \"2020-02-22T00:00:00\", \"2020-02-23T00:00:00\", \"2020-02-24T00:00:00\", \"2020-02-25T00:00:00\", \"2020-02-26T00:00:00\", \"2020-02-27T00:00:00\", \"2020-02-28T00:00:00\", \"2020-02-29T00:00:00\", \"2020-03-01T00:00:00\", \"2020-03-02T00:00:00\", \"2020-03-03T00:00:00\", \"2020-03-04T00:00:00\", \"2020-03-05T00:00:00\", \"2020-03-06T00:00:00\", \"2020-03-07T00:00:00\", \"2020-03-08T00:00:00\", \"2020-03-09T00:00:00\", \"2020-03-10T00:00:00\", \"2020-03-11T00:00:00\", \"2020-03-12T00:00:00\", \"2020-03-13T00:00:00\", \"2020-03-14T00:00:00\", \"2020-03-15T00:00:00\", \"2020-03-16T00:00:00\", \"2020-03-17T00:00:00\", \"2020-03-18T00:00:00\", \"2020-03-19T00:00:00\", \"2020-03-20T00:00:00\", \"2020-03-21T00:00:00\", \"2020-03-22T00:00:00\", \"2020-03-23T00:00:00\", \"2020-03-24T00:00:00\", \"2020-03-25T00:00:00\", \"2020-03-26T00:00:00\", \"2020-03-27T00:00:00\", \"2020-03-28T00:00:00\", \"2020-03-29T00:00:00\", \"2020-03-30T00:00:00\", \"2020-03-31T00:00:00\", \"2020-04-01T00:00:00\", \"2020-04-02T00:00:00\", \"2020-04-03T00:00:00\", \"2020-04-04T00:00:00\", \"2020-04-05T00:00:00\", \"2020-04-06T00:00:00\", \"2020-04-07T00:00:00\", \"2020-04-08T00:00:00\", \"2020-04-09T00:00:00\", \"2020-04-10T00:00:00\", \"2020-04-11T00:00:00\", \"2020-04-12T00:00:00\", \"2020-04-13T00:00:00\", \"2020-04-14T00:00:00\", \"2020-04-15T00:00:00\", \"2020-04-16T00:00:00\", \"2020-04-17T00:00:00\", \"2020-04-18T00:00:00\", \"2020-04-19T00:00:00\", \"2020-04-20T00:00:00\", \"2020-04-21T00:00:00\", \"2020-04-22T00:00:00\", \"2020-04-23T00:00:00\", \"2020-04-24T00:00:00\", \"2020-04-25T00:00:00\", \"2020-04-26T00:00:00\", \"2020-04-27T00:00:00\", \"2020-04-28T00:00:00\", \"2020-04-29T00:00:00\", \"2020-04-30T00:00:00\", \"2020-05-01T00:00:00\", \"2020-05-02T00:00:00\", \"2020-05-03T00:00:00\", \"2020-05-04T00:00:00\", \"2020-05-05T00:00:00\", \"2020-05-06T00:00:00\", \"2020-05-07T00:00:00\", \"2020-05-08T00:00:00\", \"2020-05-09T00:00:00\", \"2020-05-10T00:00:00\", \"2020-05-11T00:00:00\", \"2020-05-12T00:00:00\", \"2020-05-13T00:00:00\", \"2020-05-14T00:00:00\", \"2020-05-15T00:00:00\", \"2020-05-16T00:00:00\", \"2020-05-17T00:00:00\", \"2020-05-18T00:00:00\", \"2020-05-19T00:00:00\", \"2020-05-20T00:00:00\", \"2020-05-21T00:00:00\", \"2020-05-22T00:00:00\", \"2020-05-23T00:00:00\", \"2020-05-24T00:00:00\", \"2020-05-25T00:00:00\", \"2020-05-26T00:00:00\", \"2020-05-27T00:00:00\", \"2020-05-28T00:00:00\", \"2020-05-29T00:00:00\", \"2020-05-30T00:00:00\"], \"y\": [null, null, null, null, null, null, null, 0.0, 0.0, 0.2857142857142857, 0.2857142857142857, 0.2857142857142857, 0.2857142857142857, 0.2857142857142858, 0.2857142857142856, 0.2857142857142858, 0.1428571428571428, 0.1428571428571428, 0.1428571428571428, 0.14285714285714324, 0.1428571428571428, 0.1428571428571428, 0.1428571428571428, 0.0, 0.0, 0.0, 0.0, 0.0, 0.0, 0.0, 2.428571428571429, 8.428571428571429, 21.71428571428571, 32.28571428571429, 45.57142857142857, 64.28571428571429, 93.14285714285711, 124.0, 152.28571428571428, 219.8571428571429, 258.1428571428571, 311.42857142857156, 376.57142857142844, 457.57142857142867, 535.4285714285716, 679.2857142857142, 811.5714285714284, 1019.4285714285716, 1092.4285714285716, 1339.0, 1607.8571428571431, 1860.5714285714275, 2182.0, 2481.7142857142862, 2686.8571428571413, 3051.0, 3321.571428571431, 3703.142857142855, 4194.4285714285725, 4631.5714285714275, 4913.0, 5135.285714285717, 5381.4285714285725, 5524.714285714283, 5650.5714285714275, 5639.5714285714275, 5556.28571428571, 5507.285714285725, 5401.714285714275, 5230.857142857145, 5169.71428571429, 4950.428571428565, 4761.285714285725, 4594.28571428571, 4465.571428571435, 4401.142857142855, 4256.28571428571, 4121.142857142855, 4054.857142857145, 3964.28571428571, 3948.4285714285797, 3916.4285714285797, 3852.7142857142608, 3843.1428571428696, 3676.1428571428696, 3616.4285714285506, 3551.0, 3379.1428571428696, 3229.8571428571304, 3101.71428571429, 3067.0, 3167.4285714285797, 3004.5714285714203, 2937.1428571428696, 2775.1428571428405, 2671.8571428571595, 2598.0, 2506.8571428571304, 2323.4285714285797, 2212.8571428571304, 2062.0, 1996.7142857142899, 1863.1428571428696, 1789.1428571428405, 1644.0, 1552.2857142857101, 1485.0, 1393.8571428571595, 1277.1428571428405, 1193.2857142857392, 1125.1428571428405, 1171.8571428571595, 1092.4285714285506, 1034.0, 957.1428571428696, 927.4285714285797, 909.2857142857101, 867.4285714285506, 783.2857142857392, 751.4285714285506, 701.4285714285797, 681.8571428571304, 652.4285714285797, 631.8571428571595, 610.2857142857101, 550.8571428571304, 539.2857142857101, 532.2857142857101, 512.8571428571595, 476.7142857142899]}, {\"mode\": \"lines\", \"name\": \"Iran\", \"type\": \"scatter\", \"x\": [\"2020-01-22T00:00:00\", \"2020-01-23T00:00:00\", \"2020-01-24T00:00:00\", \"2020-01-25T00:00:00\", \"2020-01-26T00:00:00\", \"2020-01-27T00:00:00\", \"2020-01-28T00:00:00\", \"2020-01-29T00:00:00\", \"2020-01-30T00:00:00\", \"2020-01-31T00:00:00\", \"2020-02-01T00:00:00\", \"2020-02-02T00:00:00\", \"2020-02-03T00:00:00\", \"2020-02-04T00:00:00\", \"2020-02-05T00:00:00\", \"2020-02-06T00:00:00\", \"2020-02-07T00:00:00\", \"2020-02-08T00:00:00\", \"2020-02-09T00:00:00\", \"2020-02-10T00:00:00\", \"2020-02-11T00:00:00\", \"2020-02-12T00:00:00\", \"2020-02-13T00:00:00\", \"2020-02-14T00:00:00\", \"2020-02-15T00:00:00\", \"2020-02-16T00:00:00\", \"2020-02-17T00:00:00\", \"2020-02-18T00:00:00\", \"2020-02-19T00:00:00\", \"2020-02-20T00:00:00\", \"2020-02-21T00:00:00\", \"2020-02-22T00:00:00\", \"2020-02-23T00:00:00\", \"2020-02-24T00:00:00\", \"2020-02-25T00:00:00\", \"2020-02-26T00:00:00\", \"2020-02-27T00:00:00\", \"2020-02-28T00:00:00\", \"2020-02-29T00:00:00\", \"2020-03-01T00:00:00\", \"2020-03-02T00:00:00\", \"2020-03-03T00:00:00\", \"2020-03-04T00:00:00\", \"2020-03-05T00:00:00\", \"2020-03-06T00:00:00\", \"2020-03-07T00:00:00\", \"2020-03-08T00:00:00\", \"2020-03-09T00:00:00\", \"2020-03-10T00:00:00\", \"2020-03-11T00:00:00\", \"2020-03-12T00:00:00\", \"2020-03-13T00:00:00\", \"2020-03-14T00:00:00\", \"2020-03-15T00:00:00\", \"2020-03-16T00:00:00\", \"2020-03-17T00:00:00\", \"2020-03-18T00:00:00\", \"2020-03-19T00:00:00\", \"2020-03-20T00:00:00\", \"2020-03-21T00:00:00\", \"2020-03-22T00:00:00\", \"2020-03-23T00:00:00\", \"2020-03-24T00:00:00\", \"2020-03-25T00:00:00\", \"2020-03-26T00:00:00\", \"2020-03-27T00:00:00\", \"2020-03-28T00:00:00\", \"2020-03-29T00:00:00\", \"2020-03-30T00:00:00\", \"2020-03-31T00:00:00\", \"2020-04-01T00:00:00\", \"2020-04-02T00:00:00\", \"2020-04-03T00:00:00\", \"2020-04-04T00:00:00\", \"2020-04-05T00:00:00\", \"2020-04-06T00:00:00\", \"2020-04-07T00:00:00\", \"2020-04-08T00:00:00\", \"2020-04-09T00:00:00\", \"2020-04-10T00:00:00\", \"2020-04-11T00:00:00\", \"2020-04-12T00:00:00\", \"2020-04-13T00:00:00\", \"2020-04-14T00:00:00\", \"2020-04-15T00:00:00\", \"2020-04-16T00:00:00\", \"2020-04-17T00:00:00\", \"2020-04-18T00:00:00\", \"2020-04-19T00:00:00\", \"2020-04-20T00:00:00\", \"2020-04-21T00:00:00\", \"2020-04-22T00:00:00\", \"2020-04-23T00:00:00\", \"2020-04-24T00:00:00\", \"2020-04-25T00:00:00\", \"2020-04-26T00:00:00\", \"2020-04-27T00:00:00\", \"2020-04-28T00:00:00\", \"2020-04-29T00:00:00\", \"2020-04-30T00:00:00\", \"2020-05-01T00:00:00\", \"2020-05-02T00:00:00\", \"2020-05-03T00:00:00\", \"2020-05-04T00:00:00\", \"2020-05-05T00:00:00\", \"2020-05-06T00:00:00\", \"2020-05-07T00:00:00\", \"2020-05-08T00:00:00\", \"2020-05-09T00:00:00\", \"2020-05-10T00:00:00\", \"2020-05-11T00:00:00\", \"2020-05-12T00:00:00\", \"2020-05-13T00:00:00\", \"2020-05-14T00:00:00\", \"2020-05-15T00:00:00\", \"2020-05-16T00:00:00\", \"2020-05-17T00:00:00\", \"2020-05-18T00:00:00\", \"2020-05-19T00:00:00\", \"2020-05-20T00:00:00\", \"2020-05-21T00:00:00\", \"2020-05-22T00:00:00\", \"2020-05-23T00:00:00\", \"2020-05-24T00:00:00\", \"2020-05-25T00:00:00\", \"2020-05-26T00:00:00\", \"2020-05-27T00:00:00\", \"2020-05-28T00:00:00\", \"2020-05-29T00:00:00\", \"2020-05-30T00:00:00\"], \"y\": [null, null, null, null, null, null, null, 0.0, 0.0, 0.0, 0.0, 0.0, 0.0, 0.0, 0.0, 0.0, 0.0, 0.0, 0.0, 0.0, 0.0, 0.0, 0.0, 0.0, 0.0, 0.0, 0.0, 0.0, 0.2857142857142857, 0.7142857142857143, 2.5714285714285716, 3.9999999999999996, 6.142857142857142, 8.714285714285714, 13.571428571428573, 19.57142857142857, 34.28571428571429, 52.85714285714286, 80.7142857142857, 133.57142857142858, 205.71428571428567, 320.1428571428572, 397.57142857142844, 466.8571428571429, 622.7142857142858, 747.1428571428573, 798.2857142857142, 808.5714285714284, 815.1428571428569, 868.2857142857147, 937.4285714285716, 945.2857142857138, 986.5714285714294, 1053.1428571428569, 1118.5714285714275, 1161.0, 1194.4285714285725, 1190.2857142857138, 1182.8571428571431, 1125.8571428571413, 1100.0, 1151.1428571428587, 1234.5714285714275, 1379.4285714285725, 1571.2857142857138, 1812.5714285714275, 2114.0, 2381.571428571431, 2635.142857142855, 2827.71428571429, 2939.428571428565, 3008.857142857145, 2978.71428571429, 2905.0, 2845.28571428571, 2715.0, 2569.142857142855, 2427.571428571435, 2250.28571428571, 2144.142857142855, 2040.857142857145, 1922.8571428571377, 1829.0, 1755.4285714285797, 1686.142857142855, 1682.142857142855, 1614.5714285714348, 1548.4285714285652, 1503.5714285714348, 1457.4285714285652, 1417.857142857145, 1372.4285714285652, 1290.1428571428696, 1242.8571428571304, 1208.5714285714348, 1181.4285714285652, 1138.1428571428696, 1111.7142857142753, 1094.4285714285797, 1087.7142857142753, 1064.5714285714348, 1017.1428571428551, 991.8571428571449, 1025.0, 1055.142857142855, 1141.857142857145, 1213.5714285714348, 1292.142857142855, 1396.0, 1454.142857142855, 1519.857142857145, 1542.4285714285652, 1582.142857142855, 1628.2857142857247, 1706.2857142857101, 1738.857142857145, 1799.2857142857101, 1886.5714285714348, 1976.5714285714203, 2032.0, 2115.4285714285797, 2145.28571428571, 2161.28571428571, 2214.71428571429, 2175.9999999999854, 2129.71428571429, 2091.71428571429, 2072.5714285714203, 2145.1428571428696, 2204.1428571428696]}],\n",
              "                        {\"legend\": {\"traceorder\": \"normal\", \"x\": 0, \"y\": 1}, \"template\": {\"data\": {\"bar\": [{\"error_x\": {\"color\": \"#2a3f5f\"}, \"error_y\": {\"color\": \"#2a3f5f\"}, \"marker\": {\"line\": {\"color\": \"#E5ECF6\", \"width\": 0.5}}, \"type\": \"bar\"}], \"barpolar\": [{\"marker\": {\"line\": {\"color\": \"#E5ECF6\", \"width\": 0.5}}, \"type\": \"barpolar\"}], \"carpet\": [{\"aaxis\": {\"endlinecolor\": \"#2a3f5f\", \"gridcolor\": \"white\", \"linecolor\": \"white\", \"minorgridcolor\": \"white\", \"startlinecolor\": \"#2a3f5f\"}, \"baxis\": {\"endlinecolor\": \"#2a3f5f\", \"gridcolor\": \"white\", \"linecolor\": \"white\", \"minorgridcolor\": \"white\", \"startlinecolor\": \"#2a3f5f\"}, \"type\": \"carpet\"}], \"choropleth\": [{\"colorbar\": {\"outlinewidth\": 0, \"ticks\": \"\"}, \"type\": \"choropleth\"}], \"contour\": [{\"colorbar\": {\"outlinewidth\": 0, \"ticks\": \"\"}, \"colorscale\": [[0.0, \"#0d0887\"], [0.1111111111111111, \"#46039f\"], [0.2222222222222222, \"#7201a8\"], [0.3333333333333333, \"#9c179e\"], [0.4444444444444444, \"#bd3786\"], [0.5555555555555556, \"#d8576b\"], [0.6666666666666666, \"#ed7953\"], [0.7777777777777778, \"#fb9f3a\"], [0.8888888888888888, \"#fdca26\"], [1.0, \"#f0f921\"]], \"type\": \"contour\"}], \"contourcarpet\": [{\"colorbar\": {\"outlinewidth\": 0, \"ticks\": \"\"}, \"type\": \"contourcarpet\"}], \"heatmap\": [{\"colorbar\": {\"outlinewidth\": 0, \"ticks\": \"\"}, \"colorscale\": [[0.0, \"#0d0887\"], [0.1111111111111111, \"#46039f\"], [0.2222222222222222, \"#7201a8\"], [0.3333333333333333, \"#9c179e\"], [0.4444444444444444, \"#bd3786\"], [0.5555555555555556, \"#d8576b\"], [0.6666666666666666, \"#ed7953\"], [0.7777777777777778, \"#fb9f3a\"], [0.8888888888888888, \"#fdca26\"], [1.0, \"#f0f921\"]], \"type\": \"heatmap\"}], \"heatmapgl\": [{\"colorbar\": {\"outlinewidth\": 0, \"ticks\": \"\"}, \"colorscale\": [[0.0, \"#0d0887\"], [0.1111111111111111, \"#46039f\"], [0.2222222222222222, \"#7201a8\"], [0.3333333333333333, \"#9c179e\"], [0.4444444444444444, \"#bd3786\"], [0.5555555555555556, \"#d8576b\"], [0.6666666666666666, \"#ed7953\"], [0.7777777777777778, \"#fb9f3a\"], [0.8888888888888888, \"#fdca26\"], [1.0, \"#f0f921\"]], \"type\": \"heatmapgl\"}], \"histogram\": [{\"marker\": {\"colorbar\": {\"outlinewidth\": 0, \"ticks\": \"\"}}, \"type\": \"histogram\"}], \"histogram2d\": [{\"colorbar\": {\"outlinewidth\": 0, \"ticks\": \"\"}, \"colorscale\": [[0.0, \"#0d0887\"], [0.1111111111111111, \"#46039f\"], [0.2222222222222222, \"#7201a8\"], [0.3333333333333333, \"#9c179e\"], [0.4444444444444444, \"#bd3786\"], [0.5555555555555556, \"#d8576b\"], [0.6666666666666666, \"#ed7953\"], [0.7777777777777778, \"#fb9f3a\"], [0.8888888888888888, \"#fdca26\"], [1.0, \"#f0f921\"]], \"type\": \"histogram2d\"}], \"histogram2dcontour\": [{\"colorbar\": {\"outlinewidth\": 0, \"ticks\": \"\"}, \"colorscale\": [[0.0, \"#0d0887\"], [0.1111111111111111, \"#46039f\"], [0.2222222222222222, \"#7201a8\"], [0.3333333333333333, \"#9c179e\"], [0.4444444444444444, \"#bd3786\"], [0.5555555555555556, \"#d8576b\"], [0.6666666666666666, \"#ed7953\"], [0.7777777777777778, \"#fb9f3a\"], [0.8888888888888888, \"#fdca26\"], [1.0, \"#f0f921\"]], \"type\": \"histogram2dcontour\"}], \"mesh3d\": [{\"colorbar\": {\"outlinewidth\": 0, \"ticks\": \"\"}, \"type\": \"mesh3d\"}], \"parcoords\": [{\"line\": {\"colorbar\": {\"outlinewidth\": 0, \"ticks\": \"\"}}, \"type\": \"parcoords\"}], \"pie\": [{\"automargin\": true, \"type\": \"pie\"}], \"scatter\": [{\"marker\": {\"colorbar\": {\"outlinewidth\": 0, \"ticks\": \"\"}}, \"type\": \"scatter\"}], \"scatter3d\": [{\"line\": {\"colorbar\": {\"outlinewidth\": 0, \"ticks\": \"\"}}, \"marker\": {\"colorbar\": {\"outlinewidth\": 0, \"ticks\": \"\"}}, \"type\": \"scatter3d\"}], \"scattercarpet\": [{\"marker\": {\"colorbar\": {\"outlinewidth\": 0, \"ticks\": \"\"}}, \"type\": \"scattercarpet\"}], \"scattergeo\": [{\"marker\": {\"colorbar\": {\"outlinewidth\": 0, \"ticks\": \"\"}}, \"type\": \"scattergeo\"}], \"scattergl\": [{\"marker\": {\"colorbar\": {\"outlinewidth\": 0, \"ticks\": \"\"}}, \"type\": \"scattergl\"}], \"scattermapbox\": [{\"marker\": {\"colorbar\": {\"outlinewidth\": 0, \"ticks\": \"\"}}, \"type\": \"scattermapbox\"}], \"scatterpolar\": [{\"marker\": {\"colorbar\": {\"outlinewidth\": 0, \"ticks\": \"\"}}, \"type\": \"scatterpolar\"}], \"scatterpolargl\": [{\"marker\": {\"colorbar\": {\"outlinewidth\": 0, \"ticks\": \"\"}}, \"type\": \"scatterpolargl\"}], \"scatterternary\": [{\"marker\": {\"colorbar\": {\"outlinewidth\": 0, \"ticks\": \"\"}}, \"type\": \"scatterternary\"}], \"surface\": [{\"colorbar\": {\"outlinewidth\": 0, \"ticks\": \"\"}, \"colorscale\": [[0.0, \"#0d0887\"], [0.1111111111111111, \"#46039f\"], [0.2222222222222222, \"#7201a8\"], [0.3333333333333333, \"#9c179e\"], [0.4444444444444444, \"#bd3786\"], [0.5555555555555556, \"#d8576b\"], [0.6666666666666666, \"#ed7953\"], [0.7777777777777778, \"#fb9f3a\"], [0.8888888888888888, \"#fdca26\"], [1.0, \"#f0f921\"]], \"type\": \"surface\"}], \"table\": [{\"cells\": {\"fill\": {\"color\": \"#EBF0F8\"}, \"line\": {\"color\": \"white\"}}, \"header\": {\"fill\": {\"color\": \"#C8D4E3\"}, \"line\": {\"color\": \"white\"}}, \"type\": \"table\"}]}, \"layout\": {\"annotationdefaults\": {\"arrowcolor\": \"#2a3f5f\", \"arrowhead\": 0, \"arrowwidth\": 1}, \"coloraxis\": {\"colorbar\": {\"outlinewidth\": 0, \"ticks\": \"\"}}, \"colorscale\": {\"diverging\": [[0, \"#8e0152\"], [0.1, \"#c51b7d\"], [0.2, \"#de77ae\"], [0.3, \"#f1b6da\"], [0.4, \"#fde0ef\"], [0.5, \"#f7f7f7\"], [0.6, \"#e6f5d0\"], [0.7, \"#b8e186\"], [0.8, \"#7fbc41\"], [0.9, \"#4d9221\"], [1, \"#276419\"]], \"sequential\": [[0.0, \"#0d0887\"], [0.1111111111111111, \"#46039f\"], [0.2222222222222222, \"#7201a8\"], [0.3333333333333333, \"#9c179e\"], [0.4444444444444444, \"#bd3786\"], [0.5555555555555556, \"#d8576b\"], [0.6666666666666666, \"#ed7953\"], [0.7777777777777778, \"#fb9f3a\"], [0.8888888888888888, \"#fdca26\"], [1.0, \"#f0f921\"]], \"sequentialminus\": [[0.0, \"#0d0887\"], [0.1111111111111111, \"#46039f\"], [0.2222222222222222, \"#7201a8\"], [0.3333333333333333, \"#9c179e\"], [0.4444444444444444, \"#bd3786\"], [0.5555555555555556, \"#d8576b\"], [0.6666666666666666, \"#ed7953\"], [0.7777777777777778, \"#fb9f3a\"], [0.8888888888888888, \"#fdca26\"], [1.0, \"#f0f921\"]]}, \"colorway\": [\"#636efa\", \"#EF553B\", \"#00cc96\", \"#ab63fa\", \"#FFA15A\", \"#19d3f3\", \"#FF6692\", \"#B6E880\", \"#FF97FF\", \"#FECB52\"], \"font\": {\"color\": \"#2a3f5f\"}, \"geo\": {\"bgcolor\": \"white\", \"lakecolor\": \"white\", \"landcolor\": \"#E5ECF6\", \"showlakes\": true, \"showland\": true, \"subunitcolor\": \"white\"}, \"hoverlabel\": {\"align\": \"left\"}, \"hovermode\": \"closest\", \"mapbox\": {\"style\": \"light\"}, \"paper_bgcolor\": \"white\", \"plot_bgcolor\": \"#E5ECF6\", \"polar\": {\"angularaxis\": {\"gridcolor\": \"white\", \"linecolor\": \"white\", \"ticks\": \"\"}, \"bgcolor\": \"#E5ECF6\", \"radialaxis\": {\"gridcolor\": \"white\", \"linecolor\": \"white\", \"ticks\": \"\"}}, \"scene\": {\"xaxis\": {\"backgroundcolor\": \"#E5ECF6\", \"gridcolor\": \"white\", \"gridwidth\": 2, \"linecolor\": \"white\", \"showbackground\": true, \"ticks\": \"\", \"zerolinecolor\": \"white\"}, \"yaxis\": {\"backgroundcolor\": \"#E5ECF6\", \"gridcolor\": \"white\", \"gridwidth\": 2, \"linecolor\": \"white\", \"showbackground\": true, \"ticks\": \"\", \"zerolinecolor\": \"white\"}, \"zaxis\": {\"backgroundcolor\": \"#E5ECF6\", \"gridcolor\": \"white\", \"gridwidth\": 2, \"linecolor\": \"white\", \"showbackground\": true, \"ticks\": \"\", \"zerolinecolor\": \"white\"}}, \"shapedefaults\": {\"line\": {\"color\": \"#2a3f5f\"}}, \"ternary\": {\"aaxis\": {\"gridcolor\": \"white\", \"linecolor\": \"white\", \"ticks\": \"\"}, \"baxis\": {\"gridcolor\": \"white\", \"linecolor\": \"white\", \"ticks\": \"\"}, \"bgcolor\": \"#E5ECF6\", \"caxis\": {\"gridcolor\": \"white\", \"linecolor\": \"white\", \"ticks\": \"\"}}, \"title\": {\"x\": 0.05}, \"xaxis\": {\"automargin\": true, \"gridcolor\": \"white\", \"linecolor\": \"white\", \"ticks\": \"\", \"title\": {\"standoff\": 15}, \"zerolinecolor\": \"white\", \"zerolinewidth\": 2}, \"yaxis\": {\"automargin\": true, \"gridcolor\": \"white\", \"linecolor\": \"white\", \"ticks\": \"\", \"title\": {\"standoff\": 15}, \"zerolinecolor\": \"white\", \"zerolinewidth\": 2}}}, \"title\": {\"text\": \"7 Days Rolling Average of Daily increase of Confirmed Cases\"}, \"xaxis\": {\"title\": {\"text\": \"Date\"}}, \"yaxis\": {\"title\": {\"text\": \"Confirmed Cases\"}}},\n",
              "                        {\"responsive\": true}\n",
              "                    ).then(function(){\n",
              "                            \n",
              "var gd = document.getElementById('287c4c37-ea35-488a-a494-19ea36f42a02');\n",
              "var x = new MutationObserver(function (mutations, observer) {{\n",
              "        var display = window.getComputedStyle(gd).display;\n",
              "        if (!display || display === 'none') {{\n",
              "            console.log([gd, 'removed!']);\n",
              "            Plotly.purge(gd);\n",
              "            observer.disconnect();\n",
              "        }}\n",
              "}});\n",
              "\n",
              "// Listen for the removal of the full notebook cells\n",
              "var notebookContainer = gd.closest('#notebook-container');\n",
              "if (notebookContainer) {{\n",
              "    x.observe(notebookContainer, {childList: true});\n",
              "}}\n",
              "\n",
              "// Listen for the clearing of the current output cell\n",
              "var outputEl = gd.closest('.output');\n",
              "if (outputEl) {{\n",
              "    x.observe(outputEl, {childList: true});\n",
              "}}\n",
              "\n",
              "                        })\n",
              "                };\n",
              "                \n",
              "            </script>\n",
              "        </div>\n",
              "</body>\n",
              "</html>"
            ]
          },
          "metadata": {
            "tags": []
          }
        }
      ]
    },
    {
      "cell_type": "code",
      "metadata": {
        "id": "N8HGarCEZZ9I",
        "colab_type": "code",
        "outputId": "0461503f-e262-4610-8c17-500d2ebc04a0",
        "colab": {
          "base_uri": "https://localhost:8080/",
          "height": 166
        }
      },
      "source": [
        "pd.set_option('float_format', '{:f}'.format)\n",
        "country_names=[\"Spain\",\"US\",\"Italy\",\"Iran\",\"Brazil\",\"Saudi Arabia\"]\n",
        "\n",
        "country_data=pd.concat([spain_datewise.iloc[[-1]],us_datewise.iloc[[-1]],\n",
        "                        italy_datewise.iloc[[-1]],iran_datewise.iloc[[-1]],\n",
        "                        brazil_datewise.iloc[[-1]],saudi_datewise.iloc[[-1]]])\n",
        "country_data=country_data.drop([\"Days Since\",\"WeekofYear\"],1)\n",
        "country_data[\"Mortality\"]=(country_data[\"Deaths\"]/country_data[\"Confirmed\"])*100\n",
        "country_data[\"Recovery\"]=(country_data[\"Recovered\"]/country_data[\"Confirmed\"])*100\n",
        "country_data.index=country_names\n",
        "country_data.style.background_gradient(cmap='Blues').format(\"{:.2f}\")"
      ],
      "execution_count": 0,
      "outputs": [
        {
          "output_type": "execute_result",
          "data": {
            "text/html": [
              "<style  type=\"text/css\" >\n",
              "    #T_0ab68230_a348_11ea_8f0f_0242ac1c0002row0_col0 {\n",
              "            background-color:  #e5eff9;\n",
              "            color:  #000000;\n",
              "        }    #T_0ab68230_a348_11ea_8f0f_0242ac1c0002row0_col1 {\n",
              "            background-color:  #c4daee;\n",
              "            color:  #000000;\n",
              "        }    #T_0ab68230_a348_11ea_8f0f_0242ac1c0002row0_col2 {\n",
              "            background-color:  #c3daee;\n",
              "            color:  #000000;\n",
              "        }    #T_0ab68230_a348_11ea_8f0f_0242ac1c0002row0_col3 {\n",
              "            background-color:  #1a68ae;\n",
              "            color:  #f1f1f1;\n",
              "        }    #T_0ab68230_a348_11ea_8f0f_0242ac1c0002row0_col4 {\n",
              "            background-color:  #2a7ab9;\n",
              "            color:  #000000;\n",
              "        }    #T_0ab68230_a348_11ea_8f0f_0242ac1c0002row1_col0 {\n",
              "            background-color:  #08306b;\n",
              "            color:  #f1f1f1;\n",
              "        }    #T_0ab68230_a348_11ea_8f0f_0242ac1c0002row1_col1 {\n",
              "            background-color:  #08306b;\n",
              "            color:  #f1f1f1;\n",
              "        }    #T_0ab68230_a348_11ea_8f0f_0242ac1c0002row1_col2 {\n",
              "            background-color:  #08306b;\n",
              "            color:  #f1f1f1;\n",
              "        }    #T_0ab68230_a348_11ea_8f0f_0242ac1c0002row1_col3 {\n",
              "            background-color:  #9ac8e0;\n",
              "            color:  #000000;\n",
              "        }    #T_0ab68230_a348_11ea_8f0f_0242ac1c0002row1_col4 {\n",
              "            background-color:  #f7fbff;\n",
              "            color:  #000000;\n",
              "        }    #T_0ab68230_a348_11ea_8f0f_0242ac1c0002row2_col0 {\n",
              "            background-color:  #e6f0f9;\n",
              "            color:  #000000;\n",
              "        }    #T_0ab68230_a348_11ea_8f0f_0242ac1c0002row2_col1 {\n",
              "            background-color:  #bfd8ed;\n",
              "            color:  #000000;\n",
              "        }    #T_0ab68230_a348_11ea_8f0f_0242ac1c0002row2_col2 {\n",
              "            background-color:  #b0d2e7;\n",
              "            color:  #000000;\n",
              "        }    #T_0ab68230_a348_11ea_8f0f_0242ac1c0002row2_col3 {\n",
              "            background-color:  #08306b;\n",
              "            color:  #f1f1f1;\n",
              "        }    #T_0ab68230_a348_11ea_8f0f_0242ac1c0002row2_col4 {\n",
              "            background-color:  #1966ad;\n",
              "            color:  #f1f1f1;\n",
              "        }    #T_0ab68230_a348_11ea_8f0f_0242ac1c0002row3_col0 {\n",
              "            background-color:  #f0f6fd;\n",
              "            color:  #000000;\n",
              "        }    #T_0ab68230_a348_11ea_8f0f_0242ac1c0002row3_col1 {\n",
              "            background-color:  #d7e6f5;\n",
              "            color:  #000000;\n",
              "        }    #T_0ab68230_a348_11ea_8f0f_0242ac1c0002row3_col2 {\n",
              "            background-color:  #eaf2fb;\n",
              "            color:  #000000;\n",
              "        }    #T_0ab68230_a348_11ea_8f0f_0242ac1c0002row3_col3 {\n",
              "            background-color:  #abd0e6;\n",
              "            color:  #000000;\n",
              "        }    #T_0ab68230_a348_11ea_8f0f_0242ac1c0002row3_col4 {\n",
              "            background-color:  #08306b;\n",
              "            color:  #f1f1f1;\n",
              "        }    #T_0ab68230_a348_11ea_8f0f_0242ac1c0002row4_col0 {\n",
              "            background-color:  #c7dcef;\n",
              "            color:  #000000;\n",
              "        }    #T_0ab68230_a348_11ea_8f0f_0242ac1c0002row4_col1 {\n",
              "            background-color:  #95c5df;\n",
              "            color:  #000000;\n",
              "        }    #T_0ab68230_a348_11ea_8f0f_0242ac1c0002row4_col2 {\n",
              "            background-color:  #bed8ec;\n",
              "            color:  #000000;\n",
              "        }    #T_0ab68230_a348_11ea_8f0f_0242ac1c0002row4_col3 {\n",
              "            background-color:  #9dcae1;\n",
              "            color:  #000000;\n",
              "        }    #T_0ab68230_a348_11ea_8f0f_0242ac1c0002row4_col4 {\n",
              "            background-color:  #b4d3e9;\n",
              "            color:  #000000;\n",
              "        }    #T_0ab68230_a348_11ea_8f0f_0242ac1c0002row5_col0 {\n",
              "            background-color:  #f7fbff;\n",
              "            color:  #000000;\n",
              "        }    #T_0ab68230_a348_11ea_8f0f_0242ac1c0002row5_col1 {\n",
              "            background-color:  #f7fbff;\n",
              "            color:  #000000;\n",
              "        }    #T_0ab68230_a348_11ea_8f0f_0242ac1c0002row5_col2 {\n",
              "            background-color:  #f7fbff;\n",
              "            color:  #000000;\n",
              "        }    #T_0ab68230_a348_11ea_8f0f_0242ac1c0002row5_col3 {\n",
              "            background-color:  #f7fbff;\n",
              "            color:  #000000;\n",
              "        }    #T_0ab68230_a348_11ea_8f0f_0242ac1c0002row5_col4 {\n",
              "            background-color:  #0b559f;\n",
              "            color:  #f1f1f1;\n",
              "        }</style><table id=\"T_0ab68230_a348_11ea_8f0f_0242ac1c0002\" ><thead>    <tr>        <th class=\"blank level0\" ></th>        <th class=\"col_heading level0 col0\" >Confirmed</th>        <th class=\"col_heading level0 col1\" >Recovered</th>        <th class=\"col_heading level0 col2\" >Deaths</th>        <th class=\"col_heading level0 col3\" >Mortality</th>        <th class=\"col_heading level0 col4\" >Recovery</th>    </tr></thead><tbody>\n",
              "                <tr>\n",
              "                        <th id=\"T_0ab68230_a348_11ea_8f0f_0242ac1c0002level0_row0\" class=\"row_heading level0 row0\" >Spain</th>\n",
              "                        <td id=\"T_0ab68230_a348_11ea_8f0f_0242ac1c0002row0_col0\" class=\"data row0 col0\" >239228.00</td>\n",
              "                        <td id=\"T_0ab68230_a348_11ea_8f0f_0242ac1c0002row0_col1\" class=\"data row0 col1\" >150376.00</td>\n",
              "                        <td id=\"T_0ab68230_a348_11ea_8f0f_0242ac1c0002row0_col2\" class=\"data row0 col2\" >27125.00</td>\n",
              "                        <td id=\"T_0ab68230_a348_11ea_8f0f_0242ac1c0002row0_col3\" class=\"data row0 col3\" >11.34</td>\n",
              "                        <td id=\"T_0ab68230_a348_11ea_8f0f_0242ac1c0002row0_col4\" class=\"data row0 col4\" >62.86</td>\n",
              "            </tr>\n",
              "            <tr>\n",
              "                        <th id=\"T_0ab68230_a348_11ea_8f0f_0242ac1c0002level0_row1\" class=\"row_heading level0 row1\" >US</th>\n",
              "                        <td id=\"T_0ab68230_a348_11ea_8f0f_0242ac1c0002row1_col0\" class=\"data row1 col0\" >1770165.00</td>\n",
              "                        <td id=\"T_0ab68230_a348_11ea_8f0f_0242ac1c0002row1_col1\" class=\"data row1 col1\" >416461.00</td>\n",
              "                        <td id=\"T_0ab68230_a348_11ea_8f0f_0242ac1c0002row1_col2\" class=\"data row1 col2\" >103776.00</td>\n",
              "                        <td id=\"T_0ab68230_a348_11ea_8f0f_0242ac1c0002row1_col3\" class=\"data row1 col3\" >5.86</td>\n",
              "                        <td id=\"T_0ab68230_a348_11ea_8f0f_0242ac1c0002row1_col4\" class=\"data row1 col4\" >23.53</td>\n",
              "            </tr>\n",
              "            <tr>\n",
              "                        <th id=\"T_0ab68230_a348_11ea_8f0f_0242ac1c0002level0_row2\" class=\"row_heading level0 row2\" >Italy</th>\n",
              "                        <td id=\"T_0ab68230_a348_11ea_8f0f_0242ac1c0002row2_col0\" class=\"data row2 col0\" >232664.00</td>\n",
              "                        <td id=\"T_0ab68230_a348_11ea_8f0f_0242ac1c0002row2_col1\" class=\"data row2 col1\" >155633.00</td>\n",
              "                        <td id=\"T_0ab68230_a348_11ea_8f0f_0242ac1c0002row2_col2\" class=\"data row2 col2\" >33340.00</td>\n",
              "                        <td id=\"T_0ab68230_a348_11ea_8f0f_0242ac1c0002row2_col3\" class=\"data row2 col3\" >14.33</td>\n",
              "                        <td id=\"T_0ab68230_a348_11ea_8f0f_0242ac1c0002row2_col4\" class=\"data row2 col4\" >66.89</td>\n",
              "            </tr>\n",
              "            <tr>\n",
              "                        <th id=\"T_0ab68230_a348_11ea_8f0f_0242ac1c0002level0_row3\" class=\"row_heading level0 row3\" >Iran</th>\n",
              "                        <td id=\"T_0ab68230_a348_11ea_8f0f_0242ac1c0002row3_col0\" class=\"data row3 col0\" >148950.00</td>\n",
              "                        <td id=\"T_0ab68230_a348_11ea_8f0f_0242ac1c0002row3_col1\" class=\"data row3 col1\" >116827.00</td>\n",
              "                        <td id=\"T_0ab68230_a348_11ea_8f0f_0242ac1c0002row3_col2\" class=\"data row3 col2\" >7734.00</td>\n",
              "                        <td id=\"T_0ab68230_a348_11ea_8f0f_0242ac1c0002row3_col3\" class=\"data row3 col3\" >5.19</td>\n",
              "                        <td id=\"T_0ab68230_a348_11ea_8f0f_0242ac1c0002row3_col4\" class=\"data row3 col4\" >78.43</td>\n",
              "            </tr>\n",
              "            <tr>\n",
              "                        <th id=\"T_0ab68230_a348_11ea_8f0f_0242ac1c0002level0_row4\" class=\"row_heading level0 row4\" >Brazil</th>\n",
              "                        <td id=\"T_0ab68230_a348_11ea_8f0f_0242ac1c0002row4_col0\" class=\"data row4 col0\" >498440.00</td>\n",
              "                        <td id=\"T_0ab68230_a348_11ea_8f0f_0242ac1c0002row4_col1\" class=\"data row4 col1\" >200892.00</td>\n",
              "                        <td id=\"T_0ab68230_a348_11ea_8f0f_0242ac1c0002row4_col2\" class=\"data row4 col2\" >28834.00</td>\n",
              "                        <td id=\"T_0ab68230_a348_11ea_8f0f_0242ac1c0002row4_col3\" class=\"data row4 col3\" >5.78</td>\n",
              "                        <td id=\"T_0ab68230_a348_11ea_8f0f_0242ac1c0002row4_col4\" class=\"data row4 col4\" >40.30</td>\n",
              "            </tr>\n",
              "            <tr>\n",
              "                        <th id=\"T_0ab68230_a348_11ea_8f0f_0242ac1c0002level0_row5\" class=\"row_heading level0 row5\" >Saudi Arabia</th>\n",
              "                        <td id=\"T_0ab68230_a348_11ea_8f0f_0242ac1c0002row5_col0\" class=\"data row5 col0\" >83384.00</td>\n",
              "                        <td id=\"T_0ab68230_a348_11ea_8f0f_0242ac1c0002row5_col1\" class=\"data row5 col1\" >58883.00</td>\n",
              "                        <td id=\"T_0ab68230_a348_11ea_8f0f_0242ac1c0002row5_col2\" class=\"data row5 col2\" >480.00</td>\n",
              "                        <td id=\"T_0ab68230_a348_11ea_8f0f_0242ac1c0002row5_col3\" class=\"data row5 col3\" >0.58</td>\n",
              "                        <td id=\"T_0ab68230_a348_11ea_8f0f_0242ac1c0002row5_col4\" class=\"data row5 col4\" >70.62</td>\n",
              "            </tr>\n",
              "    </tbody></table>"
            ],
            "text/plain": [
              "<pandas.io.formats.style.Styler at 0x7fa52ca7bf60>"
            ]
          },
          "metadata": {
            "tags": []
          },
          "execution_count": 87
        }
      ]
    },
    {
      "cell_type": "code",
      "metadata": {
        "id": "2R3k7xb8aNvw",
        "colab_type": "code",
        "outputId": "0db0321c-1eca-43d2-f370-297d69d324bb",
        "colab": {
          "base_uri": "https://localhost:8080/",
          "height": 166
        }
      },
      "source": [
        "ac_median_age=[45.5,38.3,47.9,32.4,33.5,31.9]\n",
        "ac_bed=[2.9,2.7,3.1,1.5,2.2,2.7]\n",
        "ac_gdp=[34272,54225,35220,19082,14103,49045]\n",
        "ac_pd=[93,35,205,49,25,15]\n",
        "country_data[\"Median Age\"]=ac_median_age\n",
        "country_data[\"Hospital Bed\"]=ac_bed\n",
        "country_data[\"GDP\"]=ac_gdp\n",
        "country_data[\"Population Density (per sq km)\"]=ac_pd\n",
        "country_data.sort_values([\"Confirmed\"],ascending=False)\n",
        "country_data.style.background_gradient(cmap='Reds').format(\"{:.2f}\")"
      ],
      "execution_count": 0,
      "outputs": [
        {
          "output_type": "execute_result",
          "data": {
            "text/html": [
              "<style  type=\"text/css\" >\n",
              "    #T_0abf4c80_a348_11ea_8f0f_0242ac1c0002row0_col0 {\n",
              "            background-color:  #fee6da;\n",
              "            color:  #000000;\n",
              "        }    #T_0abf4c80_a348_11ea_8f0f_0242ac1c0002row0_col1 {\n",
              "            background-color:  #fcb99f;\n",
              "            color:  #000000;\n",
              "        }    #T_0abf4c80_a348_11ea_8f0f_0242ac1c0002row0_col2 {\n",
              "            background-color:  #fcb89e;\n",
              "            color:  #000000;\n",
              "        }    #T_0abf4c80_a348_11ea_8f0f_0242ac1c0002row0_col3 {\n",
              "            background-color:  #c1161b;\n",
              "            color:  #f1f1f1;\n",
              "        }    #T_0abf4c80_a348_11ea_8f0f_0242ac1c0002row0_col4 {\n",
              "            background-color:  #d42121;\n",
              "            color:  #f1f1f1;\n",
              "        }    #T_0abf4c80_a348_11ea_8f0f_0242ac1c0002row0_col5 {\n",
              "            background-color:  #ac1117;\n",
              "            color:  #f1f1f1;\n",
              "        }    #T_0abf4c80_a348_11ea_8f0f_0242ac1c0002row0_col6 {\n",
              "            background-color:  #a50f15;\n",
              "            color:  #f1f1f1;\n",
              "        }    #T_0abf4c80_a348_11ea_8f0f_0242ac1c0002row0_col7 {\n",
              "            background-color:  #fb694a;\n",
              "            color:  #000000;\n",
              "        }    #T_0abf4c80_a348_11ea_8f0f_0242ac1c0002row0_col8 {\n",
              "            background-color:  #fc8666;\n",
              "            color:  #000000;\n",
              "        }    #T_0abf4c80_a348_11ea_8f0f_0242ac1c0002row1_col0 {\n",
              "            background-color:  #67000d;\n",
              "            color:  #f1f1f1;\n",
              "        }    #T_0abf4c80_a348_11ea_8f0f_0242ac1c0002row1_col1 {\n",
              "            background-color:  #67000d;\n",
              "            color:  #f1f1f1;\n",
              "        }    #T_0abf4c80_a348_11ea_8f0f_0242ac1c0002row1_col2 {\n",
              "            background-color:  #67000d;\n",
              "            color:  #f1f1f1;\n",
              "        }    #T_0abf4c80_a348_11ea_8f0f_0242ac1c0002row1_col3 {\n",
              "            background-color:  #fc8f6f;\n",
              "            color:  #000000;\n",
              "        }    #T_0abf4c80_a348_11ea_8f0f_0242ac1c0002row1_col4 {\n",
              "            background-color:  #fff5f0;\n",
              "            color:  #000000;\n",
              "        }    #T_0abf4c80_a348_11ea_8f0f_0242ac1c0002row1_col5 {\n",
              "            background-color:  #fc8a6a;\n",
              "            color:  #000000;\n",
              "        }    #T_0abf4c80_a348_11ea_8f0f_0242ac1c0002row1_col6 {\n",
              "            background-color:  #ca181d;\n",
              "            color:  #f1f1f1;\n",
              "        }    #T_0abf4c80_a348_11ea_8f0f_0242ac1c0002row1_col7 {\n",
              "            background-color:  #67000d;\n",
              "            color:  #f1f1f1;\n",
              "        }    #T_0abf4c80_a348_11ea_8f0f_0242ac1c0002row1_col8 {\n",
              "            background-color:  #fee4d8;\n",
              "            color:  #000000;\n",
              "        }    #T_0abf4c80_a348_11ea_8f0f_0242ac1c0002row2_col0 {\n",
              "            background-color:  #fee7db;\n",
              "            color:  #000000;\n",
              "        }    #T_0abf4c80_a348_11ea_8f0f_0242ac1c0002row2_col1 {\n",
              "            background-color:  #fcb499;\n",
              "            color:  #000000;\n",
              "        }    #T_0abf4c80_a348_11ea_8f0f_0242ac1c0002row2_col2 {\n",
              "            background-color:  #fca588;\n",
              "            color:  #000000;\n",
              "        }    #T_0abf4c80_a348_11ea_8f0f_0242ac1c0002row2_col3 {\n",
              "            background-color:  #67000d;\n",
              "            color:  #f1f1f1;\n",
              "        }    #T_0abf4c80_a348_11ea_8f0f_0242ac1c0002row2_col4 {\n",
              "            background-color:  #be151a;\n",
              "            color:  #f1f1f1;\n",
              "        }    #T_0abf4c80_a348_11ea_8f0f_0242ac1c0002row2_col5 {\n",
              "            background-color:  #67000d;\n",
              "            color:  #f1f1f1;\n",
              "        }    #T_0abf4c80_a348_11ea_8f0f_0242ac1c0002row2_col6 {\n",
              "            background-color:  #67000d;\n",
              "            color:  #f1f1f1;\n",
              "        }    #T_0abf4c80_a348_11ea_8f0f_0242ac1c0002row2_col7 {\n",
              "            background-color:  #f96044;\n",
              "            color:  #000000;\n",
              "        }    #T_0abf4c80_a348_11ea_8f0f_0242ac1c0002row2_col8 {\n",
              "            background-color:  #67000d;\n",
              "            color:  #f1f1f1;\n",
              "        }    #T_0abf4c80_a348_11ea_8f0f_0242ac1c0002row3_col0 {\n",
              "            background-color:  #ffefe8;\n",
              "            color:  #000000;\n",
              "        }    #T_0abf4c80_a348_11ea_8f0f_0242ac1c0002row3_col1 {\n",
              "            background-color:  #fdd5c4;\n",
              "            color:  #000000;\n",
              "        }    #T_0abf4c80_a348_11ea_8f0f_0242ac1c0002row3_col2 {\n",
              "            background-color:  #feeae0;\n",
              "            color:  #000000;\n",
              "        }    #T_0abf4c80_a348_11ea_8f0f_0242ac1c0002row3_col3 {\n",
              "            background-color:  #fca082;\n",
              "            color:  #000000;\n",
              "        }    #T_0abf4c80_a348_11ea_8f0f_0242ac1c0002row3_col4 {\n",
              "            background-color:  #67000d;\n",
              "            color:  #f1f1f1;\n",
              "        }    #T_0abf4c80_a348_11ea_8f0f_0242ac1c0002row3_col5 {\n",
              "            background-color:  #fff0e8;\n",
              "            color:  #000000;\n",
              "        }    #T_0abf4c80_a348_11ea_8f0f_0242ac1c0002row3_col6 {\n",
              "            background-color:  #fff5f0;\n",
              "            color:  #000000;\n",
              "        }    #T_0abf4c80_a348_11ea_8f0f_0242ac1c0002row3_col7 {\n",
              "            background-color:  #fee1d3;\n",
              "            color:  #000000;\n",
              "        }    #T_0abf4c80_a348_11ea_8f0f_0242ac1c0002row3_col8 {\n",
              "            background-color:  #fdd1be;\n",
              "            color:  #000000;\n",
              "        }    #T_0abf4c80_a348_11ea_8f0f_0242ac1c0002row4_col0 {\n",
              "            background-color:  #fcbda4;\n",
              "            color:  #000000;\n",
              "        }    #T_0abf4c80_a348_11ea_8f0f_0242ac1c0002row4_col1 {\n",
              "            background-color:  #fc8b6b;\n",
              "            color:  #000000;\n",
              "        }    #T_0abf4c80_a348_11ea_8f0f_0242ac1c0002row4_col2 {\n",
              "            background-color:  #fcb398;\n",
              "            color:  #000000;\n",
              "        }    #T_0abf4c80_a348_11ea_8f0f_0242ac1c0002row4_col3 {\n",
              "            background-color:  #fc9272;\n",
              "            color:  #000000;\n",
              "        }    #T_0abf4c80_a348_11ea_8f0f_0242ac1c0002row4_col4 {\n",
              "            background-color:  #fca98c;\n",
              "            color:  #000000;\n",
              "        }    #T_0abf4c80_a348_11ea_8f0f_0242ac1c0002row4_col5 {\n",
              "            background-color:  #fee5d8;\n",
              "            color:  #000000;\n",
              "        }    #T_0abf4c80_a348_11ea_8f0f_0242ac1c0002row4_col6 {\n",
              "            background-color:  #fb7d5d;\n",
              "            color:  #000000;\n",
              "        }    #T_0abf4c80_a348_11ea_8f0f_0242ac1c0002row4_col7 {\n",
              "            background-color:  #fff5f0;\n",
              "            color:  #000000;\n",
              "        }    #T_0abf4c80_a348_11ea_8f0f_0242ac1c0002row4_col8 {\n",
              "            background-color:  #ffece4;\n",
              "            color:  #000000;\n",
              "        }    #T_0abf4c80_a348_11ea_8f0f_0242ac1c0002row5_col0 {\n",
              "            background-color:  #fff5f0;\n",
              "            color:  #000000;\n",
              "        }    #T_0abf4c80_a348_11ea_8f0f_0242ac1c0002row5_col1 {\n",
              "            background-color:  #fff5f0;\n",
              "            color:  #000000;\n",
              "        }    #T_0abf4c80_a348_11ea_8f0f_0242ac1c0002row5_col2 {\n",
              "            background-color:  #fff5f0;\n",
              "            color:  #000000;\n",
              "        }    #T_0abf4c80_a348_11ea_8f0f_0242ac1c0002row5_col3 {\n",
              "            background-color:  #fff5f0;\n",
              "            color:  #000000;\n",
              "        }    #T_0abf4c80_a348_11ea_8f0f_0242ac1c0002row5_col4 {\n",
              "            background-color:  #aa1016;\n",
              "            color:  #f1f1f1;\n",
              "        }    #T_0abf4c80_a348_11ea_8f0f_0242ac1c0002row5_col5 {\n",
              "            background-color:  #fff5f0;\n",
              "            color:  #000000;\n",
              "        }    #T_0abf4c80_a348_11ea_8f0f_0242ac1c0002row5_col6 {\n",
              "            background-color:  #ca181d;\n",
              "            color:  #f1f1f1;\n",
              "        }    #T_0abf4c80_a348_11ea_8f0f_0242ac1c0002row5_col7 {\n",
              "            background-color:  #a60f15;\n",
              "            color:  #f1f1f1;\n",
              "        }    #T_0abf4c80_a348_11ea_8f0f_0242ac1c0002row5_col8 {\n",
              "            background-color:  #fff5f0;\n",
              "            color:  #000000;\n",
              "        }</style><table id=\"T_0abf4c80_a348_11ea_8f0f_0242ac1c0002\" ><thead>    <tr>        <th class=\"blank level0\" ></th>        <th class=\"col_heading level0 col0\" >Confirmed</th>        <th class=\"col_heading level0 col1\" >Recovered</th>        <th class=\"col_heading level0 col2\" >Deaths</th>        <th class=\"col_heading level0 col3\" >Mortality</th>        <th class=\"col_heading level0 col4\" >Recovery</th>        <th class=\"col_heading level0 col5\" >Median Age</th>        <th class=\"col_heading level0 col6\" >Hospital Bed</th>        <th class=\"col_heading level0 col7\" >GDP</th>        <th class=\"col_heading level0 col8\" >Population Density (per sq km)</th>    </tr></thead><tbody>\n",
              "                <tr>\n",
              "                        <th id=\"T_0abf4c80_a348_11ea_8f0f_0242ac1c0002level0_row0\" class=\"row_heading level0 row0\" >Spain</th>\n",
              "                        <td id=\"T_0abf4c80_a348_11ea_8f0f_0242ac1c0002row0_col0\" class=\"data row0 col0\" >239228.00</td>\n",
              "                        <td id=\"T_0abf4c80_a348_11ea_8f0f_0242ac1c0002row0_col1\" class=\"data row0 col1\" >150376.00</td>\n",
              "                        <td id=\"T_0abf4c80_a348_11ea_8f0f_0242ac1c0002row0_col2\" class=\"data row0 col2\" >27125.00</td>\n",
              "                        <td id=\"T_0abf4c80_a348_11ea_8f0f_0242ac1c0002row0_col3\" class=\"data row0 col3\" >11.34</td>\n",
              "                        <td id=\"T_0abf4c80_a348_11ea_8f0f_0242ac1c0002row0_col4\" class=\"data row0 col4\" >62.86</td>\n",
              "                        <td id=\"T_0abf4c80_a348_11ea_8f0f_0242ac1c0002row0_col5\" class=\"data row0 col5\" >45.50</td>\n",
              "                        <td id=\"T_0abf4c80_a348_11ea_8f0f_0242ac1c0002row0_col6\" class=\"data row0 col6\" >2.90</td>\n",
              "                        <td id=\"T_0abf4c80_a348_11ea_8f0f_0242ac1c0002row0_col7\" class=\"data row0 col7\" >34272.00</td>\n",
              "                        <td id=\"T_0abf4c80_a348_11ea_8f0f_0242ac1c0002row0_col8\" class=\"data row0 col8\" >93.00</td>\n",
              "            </tr>\n",
              "            <tr>\n",
              "                        <th id=\"T_0abf4c80_a348_11ea_8f0f_0242ac1c0002level0_row1\" class=\"row_heading level0 row1\" >US</th>\n",
              "                        <td id=\"T_0abf4c80_a348_11ea_8f0f_0242ac1c0002row1_col0\" class=\"data row1 col0\" >1770165.00</td>\n",
              "                        <td id=\"T_0abf4c80_a348_11ea_8f0f_0242ac1c0002row1_col1\" class=\"data row1 col1\" >416461.00</td>\n",
              "                        <td id=\"T_0abf4c80_a348_11ea_8f0f_0242ac1c0002row1_col2\" class=\"data row1 col2\" >103776.00</td>\n",
              "                        <td id=\"T_0abf4c80_a348_11ea_8f0f_0242ac1c0002row1_col3\" class=\"data row1 col3\" >5.86</td>\n",
              "                        <td id=\"T_0abf4c80_a348_11ea_8f0f_0242ac1c0002row1_col4\" class=\"data row1 col4\" >23.53</td>\n",
              "                        <td id=\"T_0abf4c80_a348_11ea_8f0f_0242ac1c0002row1_col5\" class=\"data row1 col5\" >38.30</td>\n",
              "                        <td id=\"T_0abf4c80_a348_11ea_8f0f_0242ac1c0002row1_col6\" class=\"data row1 col6\" >2.70</td>\n",
              "                        <td id=\"T_0abf4c80_a348_11ea_8f0f_0242ac1c0002row1_col7\" class=\"data row1 col7\" >54225.00</td>\n",
              "                        <td id=\"T_0abf4c80_a348_11ea_8f0f_0242ac1c0002row1_col8\" class=\"data row1 col8\" >35.00</td>\n",
              "            </tr>\n",
              "            <tr>\n",
              "                        <th id=\"T_0abf4c80_a348_11ea_8f0f_0242ac1c0002level0_row2\" class=\"row_heading level0 row2\" >Italy</th>\n",
              "                        <td id=\"T_0abf4c80_a348_11ea_8f0f_0242ac1c0002row2_col0\" class=\"data row2 col0\" >232664.00</td>\n",
              "                        <td id=\"T_0abf4c80_a348_11ea_8f0f_0242ac1c0002row2_col1\" class=\"data row2 col1\" >155633.00</td>\n",
              "                        <td id=\"T_0abf4c80_a348_11ea_8f0f_0242ac1c0002row2_col2\" class=\"data row2 col2\" >33340.00</td>\n",
              "                        <td id=\"T_0abf4c80_a348_11ea_8f0f_0242ac1c0002row2_col3\" class=\"data row2 col3\" >14.33</td>\n",
              "                        <td id=\"T_0abf4c80_a348_11ea_8f0f_0242ac1c0002row2_col4\" class=\"data row2 col4\" >66.89</td>\n",
              "                        <td id=\"T_0abf4c80_a348_11ea_8f0f_0242ac1c0002row2_col5\" class=\"data row2 col5\" >47.90</td>\n",
              "                        <td id=\"T_0abf4c80_a348_11ea_8f0f_0242ac1c0002row2_col6\" class=\"data row2 col6\" >3.10</td>\n",
              "                        <td id=\"T_0abf4c80_a348_11ea_8f0f_0242ac1c0002row2_col7\" class=\"data row2 col7\" >35220.00</td>\n",
              "                        <td id=\"T_0abf4c80_a348_11ea_8f0f_0242ac1c0002row2_col8\" class=\"data row2 col8\" >205.00</td>\n",
              "            </tr>\n",
              "            <tr>\n",
              "                        <th id=\"T_0abf4c80_a348_11ea_8f0f_0242ac1c0002level0_row3\" class=\"row_heading level0 row3\" >Iran</th>\n",
              "                        <td id=\"T_0abf4c80_a348_11ea_8f0f_0242ac1c0002row3_col0\" class=\"data row3 col0\" >148950.00</td>\n",
              "                        <td id=\"T_0abf4c80_a348_11ea_8f0f_0242ac1c0002row3_col1\" class=\"data row3 col1\" >116827.00</td>\n",
              "                        <td id=\"T_0abf4c80_a348_11ea_8f0f_0242ac1c0002row3_col2\" class=\"data row3 col2\" >7734.00</td>\n",
              "                        <td id=\"T_0abf4c80_a348_11ea_8f0f_0242ac1c0002row3_col3\" class=\"data row3 col3\" >5.19</td>\n",
              "                        <td id=\"T_0abf4c80_a348_11ea_8f0f_0242ac1c0002row3_col4\" class=\"data row3 col4\" >78.43</td>\n",
              "                        <td id=\"T_0abf4c80_a348_11ea_8f0f_0242ac1c0002row3_col5\" class=\"data row3 col5\" >32.40</td>\n",
              "                        <td id=\"T_0abf4c80_a348_11ea_8f0f_0242ac1c0002row3_col6\" class=\"data row3 col6\" >1.50</td>\n",
              "                        <td id=\"T_0abf4c80_a348_11ea_8f0f_0242ac1c0002row3_col7\" class=\"data row3 col7\" >19082.00</td>\n",
              "                        <td id=\"T_0abf4c80_a348_11ea_8f0f_0242ac1c0002row3_col8\" class=\"data row3 col8\" >49.00</td>\n",
              "            </tr>\n",
              "            <tr>\n",
              "                        <th id=\"T_0abf4c80_a348_11ea_8f0f_0242ac1c0002level0_row4\" class=\"row_heading level0 row4\" >Brazil</th>\n",
              "                        <td id=\"T_0abf4c80_a348_11ea_8f0f_0242ac1c0002row4_col0\" class=\"data row4 col0\" >498440.00</td>\n",
              "                        <td id=\"T_0abf4c80_a348_11ea_8f0f_0242ac1c0002row4_col1\" class=\"data row4 col1\" >200892.00</td>\n",
              "                        <td id=\"T_0abf4c80_a348_11ea_8f0f_0242ac1c0002row4_col2\" class=\"data row4 col2\" >28834.00</td>\n",
              "                        <td id=\"T_0abf4c80_a348_11ea_8f0f_0242ac1c0002row4_col3\" class=\"data row4 col3\" >5.78</td>\n",
              "                        <td id=\"T_0abf4c80_a348_11ea_8f0f_0242ac1c0002row4_col4\" class=\"data row4 col4\" >40.30</td>\n",
              "                        <td id=\"T_0abf4c80_a348_11ea_8f0f_0242ac1c0002row4_col5\" class=\"data row4 col5\" >33.50</td>\n",
              "                        <td id=\"T_0abf4c80_a348_11ea_8f0f_0242ac1c0002row4_col6\" class=\"data row4 col6\" >2.20</td>\n",
              "                        <td id=\"T_0abf4c80_a348_11ea_8f0f_0242ac1c0002row4_col7\" class=\"data row4 col7\" >14103.00</td>\n",
              "                        <td id=\"T_0abf4c80_a348_11ea_8f0f_0242ac1c0002row4_col8\" class=\"data row4 col8\" >25.00</td>\n",
              "            </tr>\n",
              "            <tr>\n",
              "                        <th id=\"T_0abf4c80_a348_11ea_8f0f_0242ac1c0002level0_row5\" class=\"row_heading level0 row5\" >Saudi Arabia</th>\n",
              "                        <td id=\"T_0abf4c80_a348_11ea_8f0f_0242ac1c0002row5_col0\" class=\"data row5 col0\" >83384.00</td>\n",
              "                        <td id=\"T_0abf4c80_a348_11ea_8f0f_0242ac1c0002row5_col1\" class=\"data row5 col1\" >58883.00</td>\n",
              "                        <td id=\"T_0abf4c80_a348_11ea_8f0f_0242ac1c0002row5_col2\" class=\"data row5 col2\" >480.00</td>\n",
              "                        <td id=\"T_0abf4c80_a348_11ea_8f0f_0242ac1c0002row5_col3\" class=\"data row5 col3\" >0.58</td>\n",
              "                        <td id=\"T_0abf4c80_a348_11ea_8f0f_0242ac1c0002row5_col4\" class=\"data row5 col4\" >70.62</td>\n",
              "                        <td id=\"T_0abf4c80_a348_11ea_8f0f_0242ac1c0002row5_col5\" class=\"data row5 col5\" >31.90</td>\n",
              "                        <td id=\"T_0abf4c80_a348_11ea_8f0f_0242ac1c0002row5_col6\" class=\"data row5 col6\" >2.70</td>\n",
              "                        <td id=\"T_0abf4c80_a348_11ea_8f0f_0242ac1c0002row5_col7\" class=\"data row5 col7\" >49045.00</td>\n",
              "                        <td id=\"T_0abf4c80_a348_11ea_8f0f_0242ac1c0002row5_col8\" class=\"data row5 col8\" >15.00</td>\n",
              "            </tr>\n",
              "    </tbody></table>"
            ],
            "text/plain": [
              "<pandas.io.formats.style.Styler at 0x7fa52ca7bbe0>"
            ]
          },
          "metadata": {
            "tags": []
          },
          "execution_count": 88
        }
      ]
    },
    {
      "cell_type": "code",
      "metadata": {
        "id": "k3Pd0Ar4oSdx",
        "colab_type": "code",
        "outputId": "61251a05-94fd-438f-9e01-7a4e0709981a",
        "colab": {
          "base_uri": "https://localhost:8080/",
          "height": 483
        }
      },
      "source": [
        "new_req=country_data[[\"Confirmed\",\"Recovered\",\"Deaths\",\"Mortality\",\"Median Age\",\"Hospital Bed\",\n",
        "                     \"GDP\",\"Population Density (per sq km)\"]]\n",
        "plt.figure(figsize=(10,5))\n",
        "mask = np.triu(np.ones_like(new_req.corr(), dtype=np.bool))\n",
        "sns.heatmap(new_req.corr(),annot=True, mask=mask)"
      ],
      "execution_count": 0,
      "outputs": [
        {
          "output_type": "execute_result",
          "data": {
            "text/plain": [
              "<matplotlib.axes._subplots.AxesSubplot at 0x7fa539790320>"
            ]
          },
          "metadata": {
            "tags": []
          },
          "execution_count": 89
        },
        {
          "output_type": "display_data",
          "data": {
            "image/png": "[encoded data removed]",
            "text/plain": [
              "<Figure size 720x360 with 2 Axes>"
            ]
          },
          "metadata": {
            "tags": [],
            "needs_background": "light"
          }
        }
      ]
    },
    {
      "cell_type": "markdown",
      "metadata": {
        "id": "-xy3rT7BqnpX",
        "colab_type": "text"
      },
      "source": [
        "Popilation Density and Median Age's has correlation with number of Confirmed Cases."
      ]
    },
    {
      "cell_type": "code",
      "metadata": {
        "id": "ia6FgdQcqXOd",
        "colab_type": "code",
        "outputId": "9864968c-7d63-4091-f969-9b8d6ae7a8f9",
        "colab": {
          "base_uri": "https://localhost:8080/",
          "height": 617
        }
      },
      "source": [
        "fig=go.Figure()\n",
        "for country in country_names:\n",
        "    fig.add_trace(go.Scatter(x=grouped_country.loc[country][\"log_confirmed\"], y=grouped_country.loc[country][\"log_active\"],\n",
        "                    mode='lines',name=country))\n",
        "fig.update_layout(height=600,title=\"COVID-19 Journey of some worst affected countries and Saudi Arabia\",\n",
        "                 xaxis_title=\"Confirmed Cases (Logrithmic Scale)\",yaxis_title=\"Active Cases (Logarithmic Scale)\",\n",
        "                 legend=dict(x=0,y=1,traceorder=\"normal\"))\n",
        "fig.show()"
      ],
      "execution_count": 0,
      "outputs": [
        {
          "output_type": "display_data",
          "data": {
            "text/html": [
              "<html>\n",
              "<head><meta charset=\"utf-8\" /></head>\n",
              "<body>\n",
              "    <div>\n",
              "            <script src=\"https://cdnjs.cloudflare.com/ajax/libs/mathjax/2.7.5/MathJax.js?config=TeX-AMS-MML_SVG\"></script><script type=\"text/javascript\">if (window.MathJax) {MathJax.Hub.Config({SVG: {font: \"STIX-Web\"}});}</script>\n",
              "                <script type=\"text/javascript\">window.PlotlyConfig = {MathJaxConfig: 'local'};</script>\n",
              "        <script src=\"https://cdn.plot.ly/plotly-latest.min.js\"></script>    \n",
              "            <div id=\"52319fdb-5655-4ba6-a294-c226de0639cf\" class=\"plotly-graph-div\" style=\"height:600px; width:100%;\"></div>\n",
              "            <script type=\"text/javascript\">\n",
              "                \n",
              "                    window.PLOTLYENV=window.PLOTLYENV || {};\n",
              "                    \n",
              "                if (document.getElementById(\"52319fdb-5655-4ba6-a294-c226de0639cf\")) {\n",
              "                    Plotly.newPlot(\n",
              "                        '52319fdb-5655-4ba6-a294-c226de0639cf',\n",
              "                        [{\"mode\": \"lines\", \"name\": \"Spain\", \"type\": \"scatter\", \"x\": [null, null, null, null, null, null, null, null, null, null, 0.0, 0.0, 0.0, 0.0, 0.0, 0.0, 0.0, 0.0, 0.6931471805599453, 0.6931471805599453, 0.6931471805599453, 0.6931471805599453, 0.6931471805599453, 0.6931471805599453, 0.6931471805599453, 0.6931471805599453, 0.6931471805599453, 0.6931471805599453, 0.6931471805599453, 0.6931471805599453, 0.6931471805599453, 0.6931471805599453, 0.6931471805599453, 0.6931471805599453, 1.791759469228055, 2.5649493574615367, 2.70805020110221, 3.4657359027997265, 3.8066624897703196, 4.430816798843313, 4.787491742782046, 5.10594547390058, 5.402677381872279, 5.556828061699537, 5.991464547107982, 6.214608098422191, 6.511745329644728, 6.9782137426306985, 7.43543801981455, 7.7306140660637395, 7.7306140660637395, 8.562548893137034, 8.762646029650282, 8.961622569542543, 9.204523486654617, 9.37143829231851, 9.540363284917488, 9.796069365768835, 9.92378025580389, 10.141480306700544, 10.267018937271347, 10.466981524869203, 10.59375559234523, 10.810030932955403, 10.964501810788919, 11.093143355967271, 11.201428727752408, 11.291155969209163, 11.384591968418661, 11.471301065275696, 11.553280150318558, 11.62683433907801, 11.688549644316451, 11.745369631167394, 11.787871780870004, 11.8253611237632, 11.863173802440462, 11.90645293550535, 11.939643129111845, 11.972076669098087, 12.001671110243198, 12.024736602957512, 12.044135899471904, 12.05839016837128, 12.087536826603548, 12.12782998346869, 12.159185419624698, 12.163822548423344, 12.199420569449796, 12.207122094665745, 12.226747441396357, 12.247161804358866, 12.26916011440043, 12.220911995726814, 12.23517017635387, 12.243532193357222, 12.25231193994837, 12.258537003954492, 12.268657697388447, 12.271087615647902, 12.279397453948363, 12.28572450760275, 12.289797795452262, 12.292300799213825, 12.29832816460527, 12.30285900796786, 12.307938562183493, 12.31428558914456, 12.31751562544036, 12.320962611404129, 12.3346241591143, 12.337232478228195, 12.340127026372514, 12.34383258523466, 12.346629923715854, 12.34886477485682, 12.34886477485682, 12.352792931081154, 12.354652120691044, 12.356882035173632, 12.358952518223987, 12.366591576363284, 12.368574074874822, 12.3706205153358, 12.369041473808313, 12.372683939868478, 12.372683939868478, 12.379630916653971, 12.382392897128284, 12.385172351064181], \"y\": [null, null, null, null, null, null, null, null, null, null, 0.0, 0.0, 0.0, 0.0, 0.0, 0.0, 0.0, 0.0, 0.6931471805599453, 0.6931471805599453, 0.6931471805599453, 0.6931471805599453, 0.6931471805599453, 0.6931471805599453, null, null, null, null, null, null, null, null, null, null, 1.3862943611198906, 2.3978952727983707, 2.5649493574615367, 3.4011973816621555, 3.7612001156935624, 4.406719247264253, 4.770684624465665, 5.087596335232384, 5.384495062789089, 5.537334267018537, 5.973809611869261, 6.131226489483141, 6.439350371100098, 6.920671504248683, 7.395107546562485, 7.620705086838262, 7.620214770574455, 8.498214224818435, 8.644530439877432, 8.852521917335372, 9.112727543109182, 9.228867676590067, 9.40968291310444, 9.681967682338016, 9.785773264516571, 9.99305399589517, 10.103198696867215, 10.317251463458987, 10.412802035103168, 10.609081944147828, 10.745184040199312, 10.843963451198638, 10.914506476710912, 10.97845584528984, 11.058165065137187, 11.130199843831553, 11.185587384638161, 11.224896665749002, 11.25787836464301, 11.289806913343524, 11.301278078794445, 11.32535415229005, 11.34674100207642, 11.355183343630648, 11.357557377736532, 11.368177111083392, 11.377243189426013, 11.376315051307444, 11.38071890864812, 11.373444982981379, 11.38603483076204, 11.41681096178456, 11.47252005033519, 11.481290308596614, 11.521528353777496, 11.500559318382662, 11.516738187298145, 11.52046695630357, 11.52896612296426, 11.386352662245923, 11.377048466418875, 11.362939434273745, 11.351217970875567, 11.343358224976036, 11.285962127553153, 11.249506644654128, 11.272419556477303, 11.214977545228537, 11.202315887874743, 11.173809737403598, 11.159530849153066, 11.134092550662734, 11.11044589570243, 11.088430430955258, 11.053236456651618, 11.027816319708874, 11.05962948242707, 11.03698424305774, 11.014752787327554, 10.982662147311762, 10.967180530408093, 10.945335467367387, 10.945335467367387, 10.887829379231441, 10.89457030826157, 10.902113746328311, 10.91000282698325, 10.929887507090314, 10.937312400199797, 10.94454134734295, 10.971468797650715, 10.981318735354016, 10.981318735354016, 11.008926486546516, 11.019726901054444, 11.030476715470552]}, {\"mode\": \"lines\", \"name\": \"US\", \"type\": \"scatter\", \"x\": [0.0, 0.0, 0.6931471805599453, 0.6931471805599453, 1.6094379124341003, 1.6094379124341003, 1.6094379124341003, 1.6094379124341003, 1.6094379124341003, 1.9459101490553132, 2.0794415416798357, 2.0794415416798357, 2.3978952727983707, 2.3978952727983707, 2.3978952727983707, 2.3978952727983707, 2.3978952727983707, 2.3978952727983707, 2.3978952727983707, 2.3978952727983707, 2.4849066497880004, 2.4849066497880004, 2.5649493574615367, 2.5649493574615367, 2.5649493574615367, 2.5649493574615367, 2.5649493574615367, 2.5649493574615367, 2.5649493574615367, 2.5649493574615367, 2.70805020110221, 2.70805020110221, 2.70805020110221, 3.9318256327243257, 3.9318256327243257, 4.04305126783455, 4.060443010546419, 4.0943445622221, 4.219507705176107, 4.30406509320417, 4.584967478670572, 4.770684624465665, 5.003946305945459, 5.389071729816501, 5.58724865840025, 5.998936561946683, 6.251903883165888, 6.376726947898627, 6.8690144506657065, 7.158513997329321, 7.418780882750794, 7.687538766201629, 7.911690520708339, 8.170751423757535, 8.446985296372741, 8.769817872052617, 8.95944014361693, 9.528648637969724, 9.866512316411233, 10.150347630467653, 10.412711894935144, 10.68880362056745, 10.895349471257358, 11.095043586846975, 11.33661778849305, 11.532355473833174, 11.7100206851228, 11.85587666768915, 11.996258610176707, 12.145111717169032, 12.271869749320222, 12.404956290623106, 12.527423992683428, 12.641183930703368, 12.727250499574957, 12.811254357736402, 12.891996299125749, 12.968405345685898, 13.046188347280594, 13.116035397907568, 13.174530689726902, 13.227287197724625, 13.271858666266732, 13.317387250441167, 13.364013029612975, 13.412015009000497, 13.458924181531895, 13.504341479220038, 13.53950537780555, 13.573066953042568, 13.607089349164093, 13.64157494068437, 13.675294012272685, 13.716085724571377, 13.751669393616925, 13.780696521135097, 13.80363734956647, 13.828014062337829, 13.854643767289208, 13.882630743736057, 13.913962161961042, 13.939972572832476, 13.96223947883284, 13.98134274256537, 14.001451390604005, 14.021980676940988, 14.044256784938797, 14.06543546575301, 14.085194124713379, 14.100132954377594, 14.114044287625825, 14.129865719591757, 14.145106348788902, 14.164598593964346, 14.182112862195323, 14.199288864834852, 14.21210779581402, 14.226499050726897, 14.239841907383651, 14.254960258744566, 14.271128076566054, 14.286099640798607, 14.29954775445378, 14.312184111922342, 14.323713946675086, 14.334847656143628, 14.345653985636222, 14.35885351581867, 14.372848897338512, 14.386583320544249], \"y\": [0.0, 0.0, 0.6931471805599453, 0.6931471805599453, 1.6094379124341003, 1.6094379124341003, 1.6094379124341003, 1.6094379124341003, 1.6094379124341003, 1.9459101490553132, 2.0794415416798357, 2.0794415416798357, 2.3978952727983707, 2.3978952727983707, 2.3978952727983707, 2.3978952727983707, 2.3978952727983707, 2.3978952727983707, 2.0794415416798357, 2.0794415416798357, 2.1972245773362196, 2.1972245773362196, 2.302585092994046, 2.302585092994046, 2.302585092994046, 2.302585092994046, 2.302585092994046, 2.302585092994046, 2.302585092994046, 2.302585092994046, 2.302585092994046, 2.302585092994046, 2.302585092994046, 3.828641396489095, 3.8066624897703196, 3.9318256327243257, 3.9512437185814275, 3.970291913552122, 4.0943445622221, 4.189654742026425, 4.442651256490317, 4.6443908991413725, 4.875197323201151, 5.298317366548036, 5.5053315359323625, 5.937536205082426, 6.19644412779452, 6.326149473155099, 6.8308742346461795, 7.123672785204607, 7.385851078125209, 7.6586995582682995, 7.884952945759814, 8.146129510025405, 8.421562960400987, 8.746080217357513, 8.924123891686012, 9.50061907027523, 9.840387995592812, 10.125910844525855, 10.389456800303252, 10.66658048378274, 10.869824801894419, 11.069181999552008, 11.307486753899465, 11.501095769216649, 11.678185633835888, 11.811732920205428, 11.933653499744306, 12.076994181031798, 12.199133626124167, 12.333009215033321, 12.456173560023196, 12.554985038678723, 12.634534620320885, 12.715423181889475, 12.791542740365745, 12.865727673357874, 12.942348757583856, 13.007399115270474, 13.062910568746597, 13.11481294449101, 13.140737533941394, 13.179962249783728, 13.220973560747964, 13.268079730948287, 13.311476817055238, 13.350255635740742, 13.380915770528157, 13.414574677402122, 13.446726884075451, 13.480838899329145, 13.513381968613416, 13.534189544344793, 13.572198737515054, 13.597250065090996, 13.617735000875005, 13.639120574554957, 13.662618086261094, 13.655906200501413, 13.681411003966643, 13.699861743237344, 13.721426226500764, 13.736762761531176, 13.757347404248105, 13.780883915887866, 13.801741193878275, 13.823236634819292, 13.83356754486939, 13.848524549208035, 13.849395909508734, 13.870692631240258, 13.87647112334535, 13.897516260778469, 13.914945854128437, 13.92049200178345, 13.933231369462552, 13.941952001191298, 13.952882690495567, 13.967460532300315, 13.984431898220134, 13.959458509374493, 13.967619440455602, 13.979999894933599, 13.985190883344073, 13.995411687887012, 14.003856432064293, 14.014481081680449, 14.028008849017798, 14.03859650761954]}, {\"mode\": \"lines\", \"name\": \"Italy\", \"type\": \"scatter\", \"x\": [null, null, null, null, null, null, null, null, null, 0.6931471805599453, 0.6931471805599453, 0.6931471805599453, 0.6931471805599453, 0.6931471805599453, 0.6931471805599453, 0.6931471805599453, 1.0986122886681098, 1.0986122886681098, 1.0986122886681098, 1.0986122886681098, 1.0986122886681098, 1.0986122886681098, 1.0986122886681098, 1.0986122886681098, 1.0986122886681098, 1.0986122886681098, 1.0986122886681098, 1.0986122886681098, 1.0986122886681098, 1.0986122886681098, 2.995732273553991, 4.127134385045092, 5.043425116919247, 5.43372200355424, 5.7745515455444085, 6.115892125483034, 6.484635235635252, 6.78897174299217, 7.028201432058005, 7.434847875211999, 7.618742377670413, 7.824845691026856, 8.035602692918582, 8.257904193465674, 8.441607204459642, 8.679822114864455, 8.905851181208021, 9.123910643977796, 9.225130457448818, 9.430439293104167, 9.62331057957012, 9.77905747415795, 9.959726098983317, 10.11645954852884, 10.239245248219472, 10.357933282865915, 10.483270047141055, 10.622180640063812, 10.758349589413635, 10.88889381504096, 10.987628974775781, 11.065497086334029, 11.144409260640266, 11.217023031071593, 11.297117442754166, 11.367876571265384, 11.434661174974103, 11.489544242132316, 11.53016598935263, 11.569230181180696, 11.613440259060091, 11.654789544132907, 11.693804314896258, 11.733120674192264, 11.767164501301657, 11.79469257849235, 11.81736140432056, 11.845260584081668, 11.87496797770297, 11.902105352448023, 11.933417107095016, 11.959935506215542, 11.9798995096556, 11.998359431871322, 12.014639705867756, 12.037304820525245, 12.057769833544517, 12.07781304683475, 12.094984648006285, 12.107511186039511, 12.122457313627864, 12.140611031807039, 12.154637235781555, 12.170414379320876, 12.182553219487263, 12.194379546939128, 12.20313834467712, 12.213569473956797, 12.223868358359265, 12.233021248045919, 12.242539570486834, 12.251657678750657, 12.258271279973712, 12.264049058051292, 12.269108475692983, 12.275864531053708, 12.282376063071892, 12.288504803883631, 12.293478944527841, 12.297146592429545, 12.30053701319078, 12.306894878744991, 12.31090101962579, 12.315357451080153, 12.318887806148798, 12.322788445226134, 12.325787148036305, 12.327785726210685, 12.331378425369879, 12.334307536420363, 12.337127223379797, 12.33998271644702, 12.342904211586966, 12.345217005936492, 12.346521308580446, 12.348244724669259, 12.350774540137794, 12.353336810508726, 12.355561045228889, 12.357350631692666], \"y\": [null, null, null, null, null, null, null, null, null, 0.6931471805599453, 0.6931471805599453, 0.6931471805599453, 0.6931471805599453, 0.6931471805599453, 0.6931471805599453, 0.6931471805599453, 1.0986122886681098, 1.0986122886681098, 1.0986122886681098, 1.0986122886681098, 1.0986122886681098, 1.0986122886681098, 1.0986122886681098, 1.0986122886681098, 1.0986122886681098, 1.0986122886681098, 1.0986122886681098, 1.0986122886681098, 1.0986122886681098, 1.0986122886681098, 2.9444389791664403, 4.07753744390572, 5.0106352940962555, 5.3981627015177525, 5.739792912179234, 6.082218910376446, 6.385194398997726, 6.710523109452428, 6.959398512133975, 7.3632795869630385, 7.51479976048867, 7.724446645633537, 7.903226808730733, 8.100464891029363, 8.272826003650401, 8.529319371214077, 8.76201995356159, 8.985320060649112, 9.081824949740755, 9.267665438595452, 9.47669665771321, 9.612800971064049, 9.784140794903562, 9.933191975242458, 10.046418381725163, 10.168233593704851, 10.26500077311511, 10.41000390471402, 10.559685438317794, 10.661509135319276, 10.750170938458275, 10.836163313659606, 10.897294726838112, 10.959905377501109, 11.035099319467346, 11.10366315661368, 11.157178661604318, 11.210197434313177, 11.232258727412352, 11.25977363541527, 11.296906473598314, 11.327186074029756, 11.35496085468099, 11.388200892496794, 11.42131443486749, 11.442363505966208, 11.451762573312571, 11.464386269305567, 11.48119741160383, 11.495504599027264, 11.515611853395535, 11.535205413327944, 11.548447037037308, 11.554940347716329, 11.565688678497112, 11.576904454599237, 11.580228910179917, 11.587763884567963, 11.592263308901058, 11.592078546274315, 11.587188425112691, 11.587095578050306, 11.579162542743381, 11.576153753127327, 11.569749934167982, 11.572165599414403, 11.56942866420396, 11.563666106673413, 11.55844361526924, 11.528316414325875, 11.52231128007872, 11.519940799864134, 11.514713864829446, 11.512725444967561, 11.49747674564593, 11.42440021538078, 11.403378420238559, 11.384648813408075, 11.348545982186712, 11.330491901903805, 11.32040810719778, 11.305483003882102, 11.270305982988683, 11.24426139835421, 11.185393147918488, 11.158918387679824, 11.132411472622978, 11.105753901695289, 11.084125197515005, 11.046945728996073, 11.017973190360529, 10.990735511125187, 10.963913259818996, 10.94365825150499, 10.920528187510426, 10.8769522536848, 10.83891402271876, 10.778664580680367, 10.74019380506744, 10.684897410216388]}, {\"mode\": \"lines\", \"name\": \"Iran\", \"type\": \"scatter\", \"x\": [null, null, null, null, null, null, null, null, null, null, null, null, null, null, null, null, null, null, null, null, null, null, null, null, null, null, null, null, 0.6931471805599453, 1.6094379124341003, 2.8903717578961645, 3.332204510175204, 3.7612001156935624, 4.110873864173311, 4.553876891600541, 4.9344739331306915, 5.501258210544727, 5.961005339623274, 6.385194398997726, 6.885509670034818, 7.313886831633462, 7.756195343948118, 7.980023592310645, 8.164225652265827, 8.465268118551318, 8.66957087183712, 8.789660098061537, 8.87640491500694, 8.992433087457218, 9.104979856318357, 9.217812386814884, 9.338205742974079, 9.451638133870434, 9.542374201998465, 9.615205300012315, 9.690851107739814, 9.761981590241948, 9.820486306032722, 9.885527227159136, 9.933531673884504, 9.98220630724752, 10.045377663535744, 10.119042382201663, 10.204221576482523, 10.288954014137602, 10.383812730853736, 10.47469306229083, 10.553440134508799, 10.633328217032549, 10.705601239347883, 10.770440970581772, 10.829094751047633, 10.881494075390936, 10.928507120900864, 10.97208726935817, 11.010398644018933, 11.044344822797983, 11.075752948017643, 11.100737811101236, 11.130082534898344, 11.156664720953149, 11.180050749502858, 11.202356814731635, 11.223602046246322, 11.24359398573104, 11.26440000105297, 11.283436826096178, 11.300573474734218, 11.317044392042519, 11.332661789285718, 11.348074406407536, 11.362056062526039, 11.373962203564496, 11.387294212470042, 11.400070267550142, 11.412895162895152, 11.423788193503752, 11.435871619527914, 11.447394451475018, 11.457835498652269, 11.468409154861702, 11.476759281986167, 11.486827865848355, 11.49930310044603, 11.512625419961227, 11.529290819056493, 11.543794088632694, 11.558768433278479, 11.57326769397639, 11.586203807362045, 11.601723578129027, 11.615184174998967, 11.632706503289285, 11.648618270059007, 11.666804679382656, 11.681756431581684, 11.696895662009707, 11.715801000711933, 11.73288796209219, 11.751540709984825, 11.770207606530924, 11.787917356605492, 11.80201404782235, 11.818209214992565, 11.83300696146867, 11.845898730181414, 11.860697898899744, 11.876519417269748, 11.895926808094103, 11.911365958141428], \"y\": [null, null, null, null, null, null, null, null, null, null, null, null, null, null, null, null, null, null, null, null, null, null, null, null, null, null, null, null, null, 1.0986122886681098, 2.6390573296152584, 3.1354942159291497, 3.5553480614894135, 3.8918202981106265, 4.3694478524670215, 4.2626798770413155, 5.135798437050262, 5.638354669333745, 6.056784013228625, 6.618738983517219, 7.042286171939743, 7.584773077612199, 7.731053144007127, 7.888709524182015, 8.21878715560148, 8.296297112642508, 8.351846738828245, 8.41847721847708, 8.521185212685776, 8.645938147306799, 8.80792062205398, 8.973478148521036, 9.122492281402987, 9.06230429314878, 9.16408698745872, 9.189321004752108, 9.290721483922995, 9.3425083355536, 9.347141413468329, 9.343033913701648, 9.394493583599107, 9.495970340301833, 9.544237868224927, 9.636588019266876, 9.7240617988542, 9.842728546690564, 9.962322338257021, 10.055263987501922, 10.119687049615907, 10.205479252168017, 10.277943473769948, 10.328657243918627, 10.372052647587516, 10.390686245670963, 10.459869545961153, 10.389764303380707, 10.363377712622366, 10.334652895494106, 10.30229722897745, 10.2574839122691, 10.074284623478128, 10.056980873493236, 10.031660866259111, 10.001747921703648, 9.984099329028517, 9.947360886980098, 9.926813377839625, 9.895959286115337, 9.906981441790384, 9.853404052368141, 9.827685839119846, 9.76949891253281, 9.723283751713176, 9.681655640646714, 9.647627092407303, 9.623376745580666, 9.597845154707354, 9.565774546478782, 9.54029139160713, 9.51111140896968, 9.490771217713771, 9.468233115617211, 9.457122321855792, 9.472012088995733, 9.484557193474393, 9.521128433142438, 9.540003766668065, 9.568923494184217, 9.586513975448948, 9.603732898850078, 9.627668172626858, 9.659949949068531, 9.711963784977375, 9.749170192151771, 9.792388380017409, 9.815093401773533, 9.838735675306431, 9.892123222457078, 9.918917890191485, 9.950275714034888, 9.977109692406742, 10.002246324559392, 10.002880296414164, 10.020514747061002, 10.023933705611995, 10.024199627698392, 10.036750159040897, 10.05337200207342, 10.08830598952867, 10.101887489959422]}, {\"mode\": \"lines\", \"name\": \"Brazil\", \"type\": \"scatter\", \"x\": [null, null, null, null, null, null, null, null, null, null, null, null, null, null, null, null, null, null, null, null, null, null, null, null, null, null, null, null, null, null, null, null, null, null, null, 0.0, 0.0, 0.0, 0.6931471805599453, 0.6931471805599453, 0.6931471805599453, 0.6931471805599453, 1.3862943611198906, 1.3862943611198906, 2.5649493574615367, 2.5649493574615367, 2.995732273553991, 3.2188758248682006, 3.4339872044851463, 3.6375861597263857, 3.9512437185814275, 5.017279836814924, 5.017279836814924, 5.087596335232384, 5.298317366548036, 5.771441123130016, 5.918893854273146, 6.431331081933479, 6.675823221634848, 6.928537818164665, 7.343426229147367, 7.562161631225652, 7.717351272185329, 7.845416036592485, 8.001355025826703, 8.136518252115291, 8.269756947532983, 8.35608503102148, 8.429235912657095, 8.651199471263972, 8.829958044235482, 8.992681750892542, 9.111182800442965, 9.245707515813473, 9.31739944426959, 9.405989388981, 9.549238235812235, 9.690912952571152, 9.803225130597733, 9.885221743729236, 9.939192477156904, 10.007487142554613, 10.061772531501841, 10.13705656933392, 10.251323547807656, 10.323019917855728, 10.424718849016, 10.509386964531792, 10.562405541545413, 10.615039324772178, 10.670790918373239, 10.731100064464005, 10.820498025334633, 10.897535304967018, 10.990769224861854, 11.052476048529304, 11.119082556689852, 11.201428727752408, 11.285836641293734, 11.375810516214353, 11.431737101283387, 11.483496654279417, 11.53102075323932, 11.595610831588836, 11.656636122636527, 11.748874672753386, 11.8187396525423, 11.897466517216184, 11.958002235442097, 11.99965714690674, 12.041162624355655, 12.090740354344799, 12.155500143940648, 12.221773735756258, 12.30270467857416, 12.360984464189194, 12.39288410759698, 12.450460921073661, 12.513134461757854, 12.583066260062425, 12.644608182249133, 12.709541272842594, 12.75822637572018, 12.802739211594266, 12.834409267953838, 12.87703045278036, 12.92834406790454, 12.990517420777108, 13.050149610111305, 13.119238500056804], \"y\": [null, null, null, null, null, null, null, null, null, null, null, null, null, null, null, null, null, null, null, null, null, null, null, null, null, null, null, null, null, null, null, null, null, null, null, 0.0, 0.0, 0.0, 0.6931471805599453, 0.6931471805599453, 0.6931471805599453, 0.6931471805599453, 1.3862943611198906, 1.3862943611198906, 2.5649493574615367, 2.5649493574615367, 2.995732273553991, 3.2188758248682006, 3.4339872044851463, 3.6375861597263857, 3.9512437185814275, 5.017279836814924, 5.017279836814924, 5.087596335232384, 5.293304824724492, 5.762051382780177, 5.905361848054571, 6.418364935936212, 6.659293919683638, 6.911747300251674, 7.325807502595773, 7.543273346705446, 7.695757990554761, 7.821242083523558, 7.973155433444133, 8.107418811719974, 8.239329427901795, 8.322151070212902, 8.366370301681654, 8.592115117933497, 8.774776816043985, 8.934982049213234, 9.056023011591826, 9.188912424562563, 9.260748274520028, 9.347490210123416, 9.489561753510097, 9.630628408975985, 9.739143428972826, 9.820540631715202, 9.874573542371486, 9.942515939503606, 9.995565240737037, 9.937115733516112, 9.438113191674054, 9.580178302441196, 9.770812935631588, 9.917291833512525, 9.551231402759107, 9.681967682338016, 9.76117485976141, 9.771840098470129, 9.91006586789625, 10.029415109133918, 10.169958756585515, 10.263327482618017, 10.36410350510914, 10.48032561069569, 10.597634233429156, 10.719869547430703, 10.773755288097965, 10.807746188186444, 10.854836500225346, 10.92302055817699, 10.990297129085086, 11.107255335846691, 11.173711473170998, 11.259064940993959, 11.335233176559935, 11.369274470024074, 11.413734765679811, 11.44203078619368, 11.497537677909582, 11.605386134227373, 11.698234222301357, 11.761167400197028, 11.78173048165232, 11.835414678927416, 11.898922289882995, 11.957848437596246, 12.008109392746261, 12.06917559542935, 12.116136997023297, 12.158110638344063, 12.193959577646371, 12.24585570053963, 12.29945369302748, 12.362563442289607, 12.420425673154792, 12.501402895963068]}, {\"mode\": \"lines\", \"name\": \"Saudi Arabia\", \"type\": \"scatter\", \"x\": [null, null, null, null, null, null, null, null, null, null, null, null, null, null, null, null, null, null, null, null, null, null, null, null, null, null, null, null, null, null, null, null, null, null, null, null, null, null, null, null, 0.0, 0.0, 0.0, 1.6094379124341003, 1.6094379124341003, 1.6094379124341003, 2.3978952727983707, 2.70805020110221, 2.995732273553991, 3.044522437723423, 3.8066624897703196, 4.454347296253507, 4.634728988229636, 4.634728988229636, 4.770684624465665, 5.14166355650266, 5.14166355650266, 5.6131281063880705, 5.840641657373398, 5.971261839790462, 6.236369590203704, 6.331501849893691, 6.642486801367256, 6.802394763324311, 6.919683849847411, 7.00669522683704, 7.0925737159746784, 7.1693500166706, 7.2813856635702825, 7.354362330421477, 7.450079569807499, 7.541683099882111, 7.620214770574455, 7.68662133494462, 7.784057002639929, 7.865187954187467, 7.9355873855892, 7.983440063006542, 8.097730573664219, 8.202756381655638, 8.302265794873367, 8.403352374992478, 8.503905297089302, 8.58839695042257, 8.676246121270838, 8.760923376338836, 8.873748128154395, 9.020873347021357, 9.144414221860016, 9.257605564443297, 9.36142922633904, 9.455010553834672, 9.54180006677385, 9.62258246436337, 9.698859035219632, 9.77121251322631, 9.842197084093021, 9.90733016025358, 9.971239654586947, 10.032452283817127, 10.089842630402503, 10.144824594042303, 10.203999469426009, 10.263118124300494, 10.31728452076383, 10.371551802400813, 10.426172574814567, 10.475370645603034, 10.522342128514218, 10.572546937566983, 10.621668750815715, 10.667209685765677, 10.710632837149484, 10.755111755080012, 10.803160978586845, 10.859306642543686, 10.91056917669192, 10.956840934798622, 10.999663542503887, 11.043641576648842, 11.083326463159223, 11.123122069451687, 11.15854788008018, 11.192169084789018, 11.22250631680856, 11.247995912964422, 11.271376060416618, 11.29209174394291, 11.311616788263537, 11.331211723419159], \"y\": [null, null, null, null, null, null, null, null, null, null, null, null, null, null, null, null, null, null, null, null, null, null, null, null, null, null, null, null, null, null, null, null, null, null, null, null, null, null, null, null, 0.0, 0.0, 0.0, 1.6094379124341003, 1.6094379124341003, 1.6094379124341003, 2.3978952727983707, 2.70805020110221, 2.9444389791664403, 2.995732273553991, 3.784189633918261, 4.442651256490317, 4.624972813284271, 4.624972813284271, 4.7535901911063645, 5.10594547390058, 5.10594547390058, 5.5909869805108565, 5.817111159963204, 5.929589143389895, 6.20455776256869, 6.302618975744905, 6.6039438246004725, 6.767343125265392, 6.883462586413092, 6.97166860472579, 7.057897937411856, 7.110696122978827, 7.1929342212158, 7.23561914106675, 7.272398392570047, 7.336936913707618, 7.416378479192928, 7.455876687491824, 7.539027055823995, 7.60887062919126, 7.668093709082406, 7.723120092266331, 7.854381210652365, 7.978996370854115, 8.089789175789319, 8.200288260287554, 8.309922989258318, 8.390949464841986, 8.48714627006394, 8.576781982827894, 8.700514248543275, 8.832441791585824, 8.970432074329242, 9.09279480812114, 9.198470199405696, 9.291551627401006, 9.382948236582498, 9.46699606582284, 9.543091407795542, 9.617537312929105, 9.688808079634049, 9.749228533507058, 9.814219084777946, 9.874470603465635, 9.921965773781901, 9.976645073153854, 10.029811785869622, 10.085350670929921, 10.111314399738445, 10.124468767685654, 10.154790869644193, 10.169039040099916, 10.194401895568575, 10.216288975780873, 10.240745194931177, 10.21844426712279, 10.201181835114634, 10.223213201696582, 10.204147546278167, 10.241672607161016, 10.265279382854322, 10.249804032346637, 10.236059335123967, 10.265627535905919, 10.264164477854159, 10.252452853404808, 10.259272100189714, 10.262908722142885, 10.265627535905919, 10.235126700003637, 10.207067580140682, 10.134242066851673, 10.098025846840004, 10.086683726740743]}],\n",
              "                        {\"height\": 600, \"legend\": {\"traceorder\": \"normal\", \"x\": 0, \"y\": 1}, \"template\": {\"data\": {\"bar\": [{\"error_x\": {\"color\": \"#2a3f5f\"}, \"error_y\": {\"color\": \"#2a3f5f\"}, \"marker\": {\"line\": {\"color\": \"#E5ECF6\", \"width\": 0.5}}, \"type\": \"bar\"}], \"barpolar\": [{\"marker\": {\"line\": {\"color\": \"#E5ECF6\", \"width\": 0.5}}, \"type\": \"barpolar\"}], \"carpet\": [{\"aaxis\": {\"endlinecolor\": \"#2a3f5f\", \"gridcolor\": \"white\", \"linecolor\": \"white\", \"minorgridcolor\": \"white\", \"startlinecolor\": \"#2a3f5f\"}, \"baxis\": {\"endlinecolor\": \"#2a3f5f\", \"gridcolor\": \"white\", \"linecolor\": \"white\", \"minorgridcolor\": \"white\", \"startlinecolor\": \"#2a3f5f\"}, \"type\": \"carpet\"}], \"choropleth\": [{\"colorbar\": {\"outlinewidth\": 0, \"ticks\": \"\"}, \"type\": \"choropleth\"}], \"contour\": [{\"colorbar\": {\"outlinewidth\": 0, \"ticks\": \"\"}, \"colorscale\": [[0.0, \"#0d0887\"], [0.1111111111111111, \"#46039f\"], [0.2222222222222222, \"#7201a8\"], [0.3333333333333333, \"#9c179e\"], [0.4444444444444444, \"#bd3786\"], [0.5555555555555556, \"#d8576b\"], [0.6666666666666666, \"#ed7953\"], [0.7777777777777778, \"#fb9f3a\"], [0.8888888888888888, \"#fdca26\"], [1.0, \"#f0f921\"]], \"type\": \"contour\"}], \"contourcarpet\": [{\"colorbar\": {\"outlinewidth\": 0, \"ticks\": \"\"}, \"type\": \"contourcarpet\"}], \"heatmap\": [{\"colorbar\": {\"outlinewidth\": 0, \"ticks\": \"\"}, \"colorscale\": [[0.0, \"#0d0887\"], [0.1111111111111111, \"#46039f\"], [0.2222222222222222, \"#7201a8\"], [0.3333333333333333, \"#9c179e\"], [0.4444444444444444, \"#bd3786\"], [0.5555555555555556, \"#d8576b\"], [0.6666666666666666, \"#ed7953\"], [0.7777777777777778, \"#fb9f3a\"], [0.8888888888888888, \"#fdca26\"], [1.0, \"#f0f921\"]], \"type\": \"heatmap\"}], \"heatmapgl\": [{\"colorbar\": {\"outlinewidth\": 0, \"ticks\": \"\"}, \"colorscale\": [[0.0, \"#0d0887\"], [0.1111111111111111, \"#46039f\"], [0.2222222222222222, \"#7201a8\"], [0.3333333333333333, \"#9c179e\"], [0.4444444444444444, \"#bd3786\"], [0.5555555555555556, \"#d8576b\"], [0.6666666666666666, \"#ed7953\"], [0.7777777777777778, \"#fb9f3a\"], [0.8888888888888888, \"#fdca26\"], [1.0, \"#f0f921\"]], \"type\": \"heatmapgl\"}], \"histogram\": [{\"marker\": {\"colorbar\": {\"outlinewidth\": 0, \"ticks\": \"\"}}, \"type\": \"histogram\"}], \"histogram2d\": [{\"colorbar\": {\"outlinewidth\": 0, \"ticks\": \"\"}, \"colorscale\": [[0.0, \"#0d0887\"], [0.1111111111111111, \"#46039f\"], [0.2222222222222222, \"#7201a8\"], [0.3333333333333333, \"#9c179e\"], [0.4444444444444444, \"#bd3786\"], [0.5555555555555556, \"#d8576b\"], [0.6666666666666666, \"#ed7953\"], [0.7777777777777778, \"#fb9f3a\"], [0.8888888888888888, \"#fdca26\"], [1.0, \"#f0f921\"]], \"type\": \"histogram2d\"}], \"histogram2dcontour\": [{\"colorbar\": {\"outlinewidth\": 0, \"ticks\": \"\"}, \"colorscale\": [[0.0, \"#0d0887\"], [0.1111111111111111, \"#46039f\"], [0.2222222222222222, \"#7201a8\"], [0.3333333333333333, \"#9c179e\"], [0.4444444444444444, \"#bd3786\"], [0.5555555555555556, \"#d8576b\"], [0.6666666666666666, \"#ed7953\"], [0.7777777777777778, \"#fb9f3a\"], [0.8888888888888888, \"#fdca26\"], [1.0, \"#f0f921\"]], \"type\": \"histogram2dcontour\"}], \"mesh3d\": [{\"colorbar\": {\"outlinewidth\": 0, \"ticks\": \"\"}, \"type\": \"mesh3d\"}], \"parcoords\": [{\"line\": {\"colorbar\": {\"outlinewidth\": 0, \"ticks\": \"\"}}, \"type\": \"parcoords\"}], \"pie\": [{\"automargin\": true, \"type\": \"pie\"}], \"scatter\": [{\"marker\": {\"colorbar\": {\"outlinewidth\": 0, \"ticks\": \"\"}}, \"type\": \"scatter\"}], \"scatter3d\": [{\"line\": {\"colorbar\": {\"outlinewidth\": 0, \"ticks\": \"\"}}, \"marker\": {\"colorbar\": {\"outlinewidth\": 0, \"ticks\": \"\"}}, \"type\": \"scatter3d\"}], \"scattercarpet\": [{\"marker\": {\"colorbar\": {\"outlinewidth\": 0, \"ticks\": \"\"}}, \"type\": \"scattercarpet\"}], \"scattergeo\": [{\"marker\": {\"colorbar\": {\"outlinewidth\": 0, \"ticks\": \"\"}}, \"type\": \"scattergeo\"}], \"scattergl\": [{\"marker\": {\"colorbar\": {\"outlinewidth\": 0, \"ticks\": \"\"}}, \"type\": \"scattergl\"}], \"scattermapbox\": [{\"marker\": {\"colorbar\": {\"outlinewidth\": 0, \"ticks\": \"\"}}, \"type\": \"scattermapbox\"}], \"scatterpolar\": [{\"marker\": {\"colorbar\": {\"outlinewidth\": 0, \"ticks\": \"\"}}, \"type\": \"scatterpolar\"}], \"scatterpolargl\": [{\"marker\": {\"colorbar\": {\"outlinewidth\": 0, \"ticks\": \"\"}}, \"type\": \"scatterpolargl\"}], \"scatterternary\": [{\"marker\": {\"colorbar\": {\"outlinewidth\": 0, \"ticks\": \"\"}}, \"type\": \"scatterternary\"}], \"surface\": [{\"colorbar\": {\"outlinewidth\": 0, \"ticks\": \"\"}, \"colorscale\": [[0.0, \"#0d0887\"], [0.1111111111111111, \"#46039f\"], [0.2222222222222222, \"#7201a8\"], [0.3333333333333333, \"#9c179e\"], [0.4444444444444444, \"#bd3786\"], [0.5555555555555556, \"#d8576b\"], [0.6666666666666666, \"#ed7953\"], [0.7777777777777778, \"#fb9f3a\"], [0.8888888888888888, \"#fdca26\"], [1.0, \"#f0f921\"]], \"type\": \"surface\"}], \"table\": [{\"cells\": {\"fill\": {\"color\": \"#EBF0F8\"}, \"line\": {\"color\": \"white\"}}, \"header\": {\"fill\": {\"color\": \"#C8D4E3\"}, \"line\": {\"color\": \"white\"}}, \"type\": \"table\"}]}, \"layout\": {\"annotationdefaults\": {\"arrowcolor\": \"#2a3f5f\", \"arrowhead\": 0, \"arrowwidth\": 1}, \"coloraxis\": {\"colorbar\": {\"outlinewidth\": 0, \"ticks\": \"\"}}, \"colorscale\": {\"diverging\": [[0, \"#8e0152\"], [0.1, \"#c51b7d\"], [0.2, \"#de77ae\"], [0.3, \"#f1b6da\"], [0.4, \"#fde0ef\"], [0.5, \"#f7f7f7\"], [0.6, \"#e6f5d0\"], [0.7, \"#b8e186\"], [0.8, \"#7fbc41\"], [0.9, \"#4d9221\"], [1, \"#276419\"]], \"sequential\": [[0.0, \"#0d0887\"], [0.1111111111111111, \"#46039f\"], [0.2222222222222222, \"#7201a8\"], [0.3333333333333333, \"#9c179e\"], [0.4444444444444444, \"#bd3786\"], [0.5555555555555556, \"#d8576b\"], [0.6666666666666666, \"#ed7953\"], [0.7777777777777778, \"#fb9f3a\"], [0.8888888888888888, \"#fdca26\"], [1.0, \"#f0f921\"]], \"sequentialminus\": [[0.0, \"#0d0887\"], [0.1111111111111111, \"#46039f\"], [0.2222222222222222, \"#7201a8\"], [0.3333333333333333, \"#9c179e\"], [0.4444444444444444, \"#bd3786\"], [0.5555555555555556, \"#d8576b\"], [0.6666666666666666, \"#ed7953\"], [0.7777777777777778, \"#fb9f3a\"], [0.8888888888888888, \"#fdca26\"], [1.0, \"#f0f921\"]]}, \"colorway\": [\"#636efa\", \"#EF553B\", \"#00cc96\", \"#ab63fa\", \"#FFA15A\", \"#19d3f3\", \"#FF6692\", \"#B6E880\", \"#FF97FF\", \"#FECB52\"], \"font\": {\"color\": \"#2a3f5f\"}, \"geo\": {\"bgcolor\": \"white\", \"lakecolor\": \"white\", \"landcolor\": \"#E5ECF6\", \"showlakes\": true, \"showland\": true, \"subunitcolor\": \"white\"}, \"hoverlabel\": {\"align\": \"left\"}, \"hovermode\": \"closest\", \"mapbox\": {\"style\": \"light\"}, \"paper_bgcolor\": \"white\", \"plot_bgcolor\": \"#E5ECF6\", \"polar\": {\"angularaxis\": {\"gridcolor\": \"white\", \"linecolor\": \"white\", \"ticks\": \"\"}, \"bgcolor\": \"#E5ECF6\", \"radialaxis\": {\"gridcolor\": \"white\", \"linecolor\": \"white\", \"ticks\": \"\"}}, \"scene\": {\"xaxis\": {\"backgroundcolor\": \"#E5ECF6\", \"gridcolor\": \"white\", \"gridwidth\": 2, \"linecolor\": \"white\", \"showbackground\": true, \"ticks\": \"\", \"zerolinecolor\": \"white\"}, \"yaxis\": {\"backgroundcolor\": \"#E5ECF6\", \"gridcolor\": \"white\", \"gridwidth\": 2, \"linecolor\": \"white\", \"showbackground\": true, \"ticks\": \"\", \"zerolinecolor\": \"white\"}, \"zaxis\": {\"backgroundcolor\": \"#E5ECF6\", \"gridcolor\": \"white\", \"gridwidth\": 2, \"linecolor\": \"white\", \"showbackground\": true, \"ticks\": \"\", \"zerolinecolor\": \"white\"}}, \"shapedefaults\": {\"line\": {\"color\": \"#2a3f5f\"}}, \"ternary\": {\"aaxis\": {\"gridcolor\": \"white\", \"linecolor\": \"white\", \"ticks\": \"\"}, \"baxis\": {\"gridcolor\": \"white\", \"linecolor\": \"white\", \"ticks\": \"\"}, \"bgcolor\": \"#E5ECF6\", \"caxis\": {\"gridcolor\": \"white\", \"linecolor\": \"white\", \"ticks\": \"\"}}, \"title\": {\"x\": 0.05}, \"xaxis\": {\"automargin\": true, \"gridcolor\": \"white\", \"linecolor\": \"white\", \"ticks\": \"\", \"title\": {\"standoff\": 15}, \"zerolinecolor\": \"white\", \"zerolinewidth\": 2}, \"yaxis\": {\"automargin\": true, \"gridcolor\": \"white\", \"linecolor\": \"white\", \"ticks\": \"\", \"title\": {\"standoff\": 15}, \"zerolinecolor\": \"white\", \"zerolinewidth\": 2}}}, \"title\": {\"text\": \"COVID-19 Journey of some worst affected countries and Saudi Arabia\"}, \"xaxis\": {\"title\": {\"text\": \"Confirmed Cases (Logrithmic Scale)\"}}, \"yaxis\": {\"title\": {\"text\": \"Active Cases (Logarithmic Scale)\"}}},\n",
              "                        {\"responsive\": true}\n",
              "                    ).then(function(){\n",
              "                            \n",
              "var gd = document.getElementById('52319fdb-5655-4ba6-a294-c226de0639cf');\n",
              "var x = new MutationObserver(function (mutations, observer) {{\n",
              "        var display = window.getComputedStyle(gd).display;\n",
              "        if (!display || display === 'none') {{\n",
              "            console.log([gd, 'removed!']);\n",
              "            Plotly.purge(gd);\n",
              "            observer.disconnect();\n",
              "        }}\n",
              "}});\n",
              "\n",
              "// Listen for the removal of the full notebook cells\n",
              "var notebookContainer = gd.closest('#notebook-container');\n",
              "if (notebookContainer) {{\n",
              "    x.observe(notebookContainer, {childList: true});\n",
              "}}\n",
              "\n",
              "// Listen for the clearing of the current output cell\n",
              "var outputEl = gd.closest('.output');\n",
              "if (outputEl) {{\n",
              "    x.observe(outputEl, {childList: true});\n",
              "}}\n",
              "\n",
              "                        })\n",
              "                };\n",
              "                \n",
              "            </script>\n",
              "        </div>\n",
              "</body>\n",
              "</html>"
            ]
          },
          "metadata": {
            "tags": []
          }
        }
      ]
    },
    {
      "cell_type": "markdown",
      "metadata": {
        "id": "64yYYNNAbyqO",
        "colab_type": "text"
      },
      "source": [
        "# Machine Learning Predictions"
      ]
    },
    {
      "cell_type": "code",
      "metadata": {
        "id": "Rwmf8PnhcMJH",
        "colab_type": "code",
        "colab": {}
      },
      "source": [
        "from sklearn.preprocessing import PolynomialFeatures \n",
        "from sklearn.linear_model import LinearRegression\n",
        "from sklearn.svm import SVR\n",
        "from statsmodels.tsa.api import Holt,SimpleExpSmoothing,ExponentialSmoothing\n",
        "from sklearn.metrics import mean_squared_error,r2_score\n",
        "import statsmodels.api as sm\n",
        "from fbprophet import Prophet"
      ],
      "execution_count": 0,
      "outputs": []
    },
    {
      "cell_type": "markdown",
      "metadata": {
        "id": "BFUrtqOOcN8K",
        "colab_type": "text"
      },
      "source": [
        "Polynomial Regression"
      ]
    },
    {
      "cell_type": "code",
      "metadata": {
        "id": "Y_-quibsbrFi",
        "colab_type": "code",
        "colab": {}
      },
      "source": [
        "train_ml=saudi_datewise.iloc[:int(saudi_datewise.shape[0]*0.95)]\n",
        "valid_ml=saudi_datewise.iloc[int(saudi_datewise.shape[0]*0.95):]\n",
        "model_scores=[]"
      ],
      "execution_count": 0,
      "outputs": []
    },
    {
      "cell_type": "code",
      "metadata": {
        "id": "dbt0BlJScBqA",
        "colab_type": "code",
        "colab": {}
      },
      "source": [
        "poly = PolynomialFeatures(degree = 6)"
      ],
      "execution_count": 0,
      "outputs": []
    },
    {
      "cell_type": "code",
      "metadata": {
        "id": "ARghwItlcC2O",
        "colab_type": "code",
        "colab": {}
      },
      "source": [
        "train_poly=poly.fit_transform(np.array(train_ml[\"Days Since\"]).reshape(-1,1))\n",
        "valid_poly=poly.fit_transform(np.array(valid_ml[\"Days Since\"]).reshape(-1,1))\n",
        "y=train_ml[\"Confirmed\"]"
      ],
      "execution_count": 0,
      "outputs": []
    },
    {
      "cell_type": "code",
      "metadata": {
        "id": "ofjx3qwRcYki",
        "colab_type": "code",
        "outputId": "2fdaa4e9-8823-42c9-e4da-2f25cf9ef6ff",
        "colab": {
          "base_uri": "https://localhost:8080/",
          "height": 36
        }
      },
      "source": [
        "linreg=LinearRegression(normalize=True)\n",
        "linreg.fit(train_poly,y)"
      ],
      "execution_count": 0,
      "outputs": [
        {
          "output_type": "execute_result",
          "data": {
            "text/plain": [
              "LinearRegression(copy_X=True, fit_intercept=True, n_jobs=None, normalize=True)"
            ]
          },
          "metadata": {
            "tags": []
          },
          "execution_count": 95
        }
      ]
    },
    {
      "cell_type": "code",
      "metadata": {
        "id": "1JRv9a9Acb-j",
        "colab_type": "code",
        "outputId": "acfabb68-aa50-496f-ad35-4a553b84d9af",
        "colab": {
          "base_uri": "https://localhost:8080/",
          "height": 36
        }
      },
      "source": [
        "prediction_poly=linreg.predict(valid_poly)\n",
        "rmse_poly=np.sqrt(mean_squared_error(valid_ml[\"Confirmed\"],prediction_poly))\n",
        "model_scores.append(rmse_poly)\n",
        "print(\"Root Mean Squared Error for Polynomial Regression: \",rmse_poly) "
      ],
      "execution_count": 0,
      "outputs": [
        {
          "output_type": "stream",
          "text": [
            "Root Mean Squared Error for Polynomial Regression:  2793.849610433086\n"
          ],
          "name": "stdout"
        }
      ]
    },
    {
      "cell_type": "code",
      "metadata": {
        "id": "NILbG30KcfGH",
        "colab_type": "code",
        "outputId": "31f0b6c2-99b3-46b3-83d4-68443b85ae9d",
        "colab": {
          "base_uri": "https://localhost:8080/",
          "height": 561
        }
      },
      "source": [
        "comp_data=poly.fit_transform(np.array(saudi_datewise[\"Days Since\"]).reshape(-1,1))\n",
        "plt.figure(figsize=(11,6))\n",
        "predictions_poly=linreg.predict(comp_data)\n",
        "fig=go.Figure()\n",
        "fig.add_trace(go.Scatter(x=saudi_datewise.index, y=saudi_datewise[\"Confirmed\"],\n",
        "                    mode='lines+markers',name=\"Train Data for Confirmed Cases\"))\n",
        "fig.add_trace(go.Scatter(x=saudi_datewise.index, y=predictions_poly,\n",
        "                    mode='lines',name=\"Polynomial Regression Best Fit\",\n",
        "                    line=dict(color='black', dash='dot')))\n",
        "fig.update_layout(title=\"Confirmed Cases Polynomial Regression Prediction\",\n",
        "                 xaxis_title=\"Date\",yaxis_title=\"Confirmed Cases\",\n",
        "                 legend=dict(x=0,y=1,traceorder=\"normal\"))\n",
        "fig.show()"
      ],
      "execution_count": 0,
      "outputs": [
        {
          "output_type": "display_data",
          "data": {
            "text/html": [
              "<html>\n",
              "<head><meta charset=\"utf-8\" /></head>\n",
              "<body>\n",
              "    <div>\n",
              "            <script src=\"https://cdnjs.cloudflare.com/ajax/libs/mathjax/2.7.5/MathJax.js?config=TeX-AMS-MML_SVG\"></script><script type=\"text/javascript\">if (window.MathJax) {MathJax.Hub.Config({SVG: {font: \"STIX-Web\"}});}</script>\n",
              "                <script type=\"text/javascript\">window.PlotlyConfig = {MathJaxConfig: 'local'};</script>\n",
              "        <script src=\"https://cdn.plot.ly/plotly-latest.min.js\"></script>    \n",
              "            <div id=\"9912b3ea-d488-4e2c-97d3-83d9982e2044\" class=\"plotly-graph-div\" style=\"height:525px; width:100%;\"></div>\n",
              "            <script type=\"text/javascript\">\n",
              "                \n",
              "                    window.PLOTLYENV=window.PLOTLYENV || {};\n",
              "                    \n",
              "                if (document.getElementById(\"9912b3ea-d488-4e2c-97d3-83d9982e2044\")) {\n",
              "                    Plotly.newPlot(\n",
              "                        '9912b3ea-d488-4e2c-97d3-83d9982e2044',\n",
              "                        [{\"mode\": \"lines+markers\", \"name\": \"Train Data for Confirmed Cases\", \"type\": \"scatter\", \"x\": [\"2020-01-22T00:00:00\", \"2020-01-23T00:00:00\", \"2020-01-24T00:00:00\", \"2020-01-25T00:00:00\", \"2020-01-26T00:00:00\", \"2020-01-27T00:00:00\", \"2020-01-28T00:00:00\", \"2020-01-29T00:00:00\", \"2020-01-30T00:00:00\", \"2020-01-31T00:00:00\", \"2020-02-01T00:00:00\", \"2020-02-02T00:00:00\", \"2020-02-03T00:00:00\", \"2020-02-04T00:00:00\", \"2020-02-05T00:00:00\", \"2020-02-06T00:00:00\", \"2020-02-07T00:00:00\", \"2020-02-08T00:00:00\", \"2020-02-09T00:00:00\", \"2020-02-10T00:00:00\", \"2020-02-11T00:00:00\", \"2020-02-12T00:00:00\", \"2020-02-13T00:00:00\", \"2020-02-14T00:00:00\", \"2020-02-15T00:00:00\", \"2020-02-16T00:00:00\", \"2020-02-17T00:00:00\", \"2020-02-18T00:00:00\", \"2020-02-19T00:00:00\", \"2020-02-20T00:00:00\", \"2020-02-21T00:00:00\", \"2020-02-22T00:00:00\", \"2020-02-23T00:00:00\", \"2020-02-24T00:00:00\", \"2020-02-25T00:00:00\", \"2020-02-26T00:00:00\", \"2020-02-27T00:00:00\", \"2020-02-28T00:00:00\", \"2020-02-29T00:00:00\", \"2020-03-01T00:00:00\", \"2020-03-02T00:00:00\", \"2020-03-03T00:00:00\", \"2020-03-04T00:00:00\", \"2020-03-05T00:00:00\", \"2020-03-06T00:00:00\", \"2020-03-07T00:00:00\", \"2020-03-08T00:00:00\", \"2020-03-09T00:00:00\", \"2020-03-10T00:00:00\", \"2020-03-11T00:00:00\", \"2020-03-12T00:00:00\", \"2020-03-13T00:00:00\", \"2020-03-14T00:00:00\", \"2020-03-15T00:00:00\", \"2020-03-16T00:00:00\", \"2020-03-17T00:00:00\", \"2020-03-18T00:00:00\", \"2020-03-19T00:00:00\", \"2020-03-20T00:00:00\", \"2020-03-21T00:00:00\", \"2020-03-22T00:00:00\", \"2020-03-23T00:00:00\", \"2020-03-24T00:00:00\", \"2020-03-25T00:00:00\", \"2020-03-26T00:00:00\", \"2020-03-27T00:00:00\", \"2020-03-28T00:00:00\", \"2020-03-29T00:00:00\", \"2020-03-30T00:00:00\", \"2020-03-31T00:00:00\", \"2020-04-01T00:00:00\", \"2020-04-02T00:00:00\", \"2020-04-03T00:00:00\", \"2020-04-04T00:00:00\", \"2020-04-05T00:00:00\", \"2020-04-06T00:00:00\", \"2020-04-07T00:00:00\", \"2020-04-08T00:00:00\", \"2020-04-09T00:00:00\", \"2020-04-10T00:00:00\", \"2020-04-11T00:00:00\", \"2020-04-12T00:00:00\", \"2020-04-13T00:00:00\", \"2020-04-14T00:00:00\", \"2020-04-15T00:00:00\", \"2020-04-16T00:00:00\", \"2020-04-17T00:00:00\", \"2020-04-18T00:00:00\", \"2020-04-19T00:00:00\", \"2020-04-20T00:00:00\", \"2020-04-21T00:00:00\", \"2020-04-22T00:00:00\", \"2020-04-23T00:00:00\", \"2020-04-24T00:00:00\", \"2020-04-25T00:00:00\", \"2020-04-26T00:00:00\", \"2020-04-27T00:00:00\", \"2020-04-28T00:00:00\", \"2020-04-29T00:00:00\", \"2020-04-30T00:00:00\", \"2020-05-01T00:00:00\", \"2020-05-02T00:00:00\", \"2020-05-03T00:00:00\", \"2020-05-04T00:00:00\", \"2020-05-05T00:00:00\", \"2020-05-06T00:00:00\", \"2020-05-07T00:00:00\", \"2020-05-08T00:00:00\", \"2020-05-09T00:00:00\", \"2020-05-10T00:00:00\", \"2020-05-11T00:00:00\", \"2020-05-12T00:00:00\", \"2020-05-13T00:00:00\", \"2020-05-14T00:00:00\", \"2020-05-15T00:00:00\", \"2020-05-16T00:00:00\", \"2020-05-17T00:00:00\", \"2020-05-18T00:00:00\", \"2020-05-19T00:00:00\", \"2020-05-20T00:00:00\", \"2020-05-21T00:00:00\", \"2020-05-22T00:00:00\", \"2020-05-23T00:00:00\", \"2020-05-24T00:00:00\", \"2020-05-25T00:00:00\", \"2020-05-26T00:00:00\", \"2020-05-27T00:00:00\", \"2020-05-28T00:00:00\", \"2020-05-29T00:00:00\", \"2020-05-30T00:00:00\"], \"y\": [0, 0, 0, 0, 0, 0, 0, 0, 0, 0, 0, 0, 0, 0, 0, 0, 0, 0, 0, 0, 0, 0, 0, 0, 0, 0, 0, 0, 0, 0, 0, 0, 0, 0, 0, 0, 0, 0, 0, 0, 1, 1, 1, 5, 5, 5, 11, 15, 20, 21, 45, 86, 103, 103, 118, 171, 171, 274, 344, 392, 511, 562, 767, 900, 1012, 1104, 1203, 1299, 1453, 1563, 1720, 1885, 2039, 2179, 2402, 2605, 2795, 2932, 3287, 3651, 4033, 4462, 4934, 5369, 5862, 6380, 7142, 8274, 9362, 10484, 11631, 12772, 13930, 15102, 16299, 17522, 18811, 20077, 21402, 22753, 24097, 25459, 27011, 28656, 30251, 31938, 33731, 35432, 37136, 39048, 41014, 42925, 44830, 46869, 49176, 52016, 54752, 57345, 59854, 62545, 65077, 67719, 70161, 72560, 74795, 76726, 78541, 80185, 81766, 83384]}, {\"line\": {\"color\": \"black\", \"dash\": \"dot\"}, \"mode\": \"lines\", \"name\": \"Polynomial Regression Best Fit\", \"type\": \"scatter\", \"x\": [\"2020-01-22T00:00:00\", \"2020-01-23T00:00:00\", \"2020-01-24T00:00:00\", \"2020-01-25T00:00:00\", \"2020-01-26T00:00:00\", \"2020-01-27T00:00:00\", \"2020-01-28T00:00:00\", \"2020-01-29T00:00:00\", \"2020-01-30T00:00:00\", \"2020-01-31T00:00:00\", \"2020-02-01T00:00:00\", \"2020-02-02T00:00:00\", \"2020-02-03T00:00:00\", \"2020-02-04T00:00:00\", \"2020-02-05T00:00:00\", \"2020-02-06T00:00:00\", \"2020-02-07T00:00:00\", \"2020-02-08T00:00:00\", \"2020-02-09T00:00:00\", \"2020-02-10T00:00:00\", \"2020-02-11T00:00:00\", \"2020-02-12T00:00:00\", \"2020-02-13T00:00:00\", \"2020-02-14T00:00:00\", \"2020-02-15T00:00:00\", \"2020-02-16T00:00:00\", \"2020-02-17T00:00:00\", \"2020-02-18T00:00:00\", \"2020-02-19T00:00:00\", \"2020-02-20T00:00:00\", \"2020-02-21T00:00:00\", \"2020-02-22T00:00:00\", \"2020-02-23T00:00:00\", \"2020-02-24T00:00:00\", \"2020-02-25T00:00:00\", \"2020-02-26T00:00:00\", \"2020-02-27T00:00:00\", \"2020-02-28T00:00:00\", \"2020-02-29T00:00:00\", \"2020-03-01T00:00:00\", \"2020-03-02T00:00:00\", \"2020-03-03T00:00:00\", \"2020-03-04T00:00:00\", \"2020-03-05T00:00:00\", \"2020-03-06T00:00:00\", \"2020-03-07T00:00:00\", \"2020-03-08T00:00:00\", \"2020-03-09T00:00:00\", \"2020-03-10T00:00:00\", \"2020-03-11T00:00:00\", \"2020-03-12T00:00:00\", \"2020-03-13T00:00:00\", \"2020-03-14T00:00:00\", \"2020-03-15T00:00:00\", \"2020-03-16T00:00:00\", \"2020-03-17T00:00:00\", \"2020-03-18T00:00:00\", \"2020-03-19T00:00:00\", \"2020-03-20T00:00:00\", \"2020-03-21T00:00:00\", \"2020-03-22T00:00:00\", \"2020-03-23T00:00:00\", \"2020-03-24T00:00:00\", \"2020-03-25T00:00:00\", \"2020-03-26T00:00:00\", \"2020-03-27T00:00:00\", \"2020-03-28T00:00:00\", \"2020-03-29T00:00:00\", \"2020-03-30T00:00:00\", \"2020-03-31T00:00:00\", \"2020-04-01T00:00:00\", \"2020-04-02T00:00:00\", \"2020-04-03T00:00:00\", \"2020-04-04T00:00:00\", \"2020-04-05T00:00:00\", \"2020-04-06T00:00:00\", \"2020-04-07T00:00:00\", \"2020-04-08T00:00:00\", \"2020-04-09T00:00:00\", \"2020-04-10T00:00:00\", \"2020-04-11T00:00:00\", \"2020-04-12T00:00:00\", \"2020-04-13T00:00:00\", \"2020-04-14T00:00:00\", \"2020-04-15T00:00:00\", \"2020-04-16T00:00:00\", \"2020-04-17T00:00:00\", \"2020-04-18T00:00:00\", \"2020-04-19T00:00:00\", \"2020-04-20T00:00:00\", \"2020-04-21T00:00:00\", \"2020-04-22T00:00:00\", \"2020-04-23T00:00:00\", \"2020-04-24T00:00:00\", \"2020-04-25T00:00:00\", \"2020-04-26T00:00:00\", \"2020-04-27T00:00:00\", \"2020-04-28T00:00:00\", \"2020-04-29T00:00:00\", \"2020-04-30T00:00:00\", \"2020-05-01T00:00:00\", \"2020-05-02T00:00:00\", \"2020-05-03T00:00:00\", \"2020-05-04T00:00:00\", \"2020-05-05T00:00:00\", \"2020-05-06T00:00:00\", \"2020-05-07T00:00:00\", \"2020-05-08T00:00:00\", \"2020-05-09T00:00:00\", \"2020-05-10T00:00:00\", \"2020-05-11T00:00:00\", \"2020-05-12T00:00:00\", \"2020-05-13T00:00:00\", \"2020-05-14T00:00:00\", \"2020-05-15T00:00:00\", \"2020-05-16T00:00:00\", \"2020-05-17T00:00:00\", \"2020-05-18T00:00:00\", \"2020-05-19T00:00:00\", \"2020-05-20T00:00:00\", \"2020-05-21T00:00:00\", \"2020-05-22T00:00:00\", \"2020-05-23T00:00:00\", \"2020-05-24T00:00:00\", \"2020-05-25T00:00:00\", \"2020-05-26T00:00:00\", \"2020-05-27T00:00:00\", \"2020-05-28T00:00:00\", \"2020-05-29T00:00:00\", \"2020-05-30T00:00:00\"], \"y\": [-16.979292376010562, 10.518159011614614, 28.41082934891149, 38.337180927960695, 41.778191043608416, 40.065482987205236, 34.38929660444879, 25.80629841732987, 15.247231310182322, 3.5244037798368524, -8.660981250121836, -20.71165805099453, -32.127290146501906, -42.497622806216896, -51.495795974892815, -58.87181763768751, -64.44619762128332, -68.10374183090534, -69.78750692323342, -69.4929154152129, -67.26203122875961, -63.17799567136308, -57.359623852584264, -49.95616153644937, -41.14220242974466, -31.11276590619991, -20.078535166576785, -8.261255834640451, 4.110705010951278, 16.806639368885044, 29.5976184115234, 42.26045214532769, 54.581488635412825, 66.36025279417572, 77.41292473404337, 87.57565768433506, 96.70773547219324, 104.69456956765862, 111.45053569282209, 116.92164999508896, 121.08808478455467, 123.96652383545734, 125.61235725177357, 126.1217158968866, 125.63334538738127, 124.33031965090049, 122.44159404815946, 120.24339805905402, 118.06046753279952, 116.26711650229845, 115.28814856252575, 115.59960781299378, 117.72936936441693, 122.25756940941938, 129.816874857308, 141.09259253305936, 156.8226179402991, 177.79722358848085, 204.8586868840648, 238.900757585885, 280.86796482455975, 331.75476368612726, 392.6045213595571, 464.5083428486323, 548.6037362477, 646.0731175817054, 758.1421552102838, 886.0779537957424, 1031.1870778355224, 1194.8134147585952, 1378.3358775857341, 1583.1659471543244, 1810.7450539068232, 2062.5417992438015, 2340.049016440622, 2644.7806711285375, 2978.268601339747, 3342.059097116682, 3737.709319685222, 4166.783560192169, 4630.849338006694, 5131.473338585973, 5670.217190905023, 6248.633084450368, 6868.259225778005, 7530.615134635664, 8237.19677964838, 8989.471553569529, 9788.873088094479, 10636.795908239394, 11534.589926283676, 12483.554775276556, 13484.933982108181, 14539.90898014394, 15649.592961424074, 16815.02456842603, 18037.161425392245, 19316.87350922094, 20654.936359922096, 22052.02413063649, 23508.702477219093, 25025.421287387333, 26602.50724943234, 28240.156260495554, 29938.42567440805, 31697.226389094445, 33516.31477354253, 35395.28443433334, 37333.55782174012, 39330.37767538657, 41384.79830947328, 43495.67673756434, 45661.66363694328, 47881.19415252675, 50152.47854034738, 52473.49265059923, 54841.968250245045, 57255.38318519226, 59710.951382028245, 62205.61268932298, 64736.02255849466, 67298.54156423874, 69889.22476452334, 72503.81090014499, 75137.7114338528, 77785.9994290331, 80443.3982679613, 83104.2702096145, 85762.60478705117, 88412.00704435348]}],\n",
              "                        {\"legend\": {\"traceorder\": \"normal\", \"x\": 0, \"y\": 1}, \"template\": {\"data\": {\"bar\": [{\"error_x\": {\"color\": \"#2a3f5f\"}, \"error_y\": {\"color\": \"#2a3f5f\"}, \"marker\": {\"line\": {\"color\": \"#E5ECF6\", \"width\": 0.5}}, \"type\": \"bar\"}], \"barpolar\": [{\"marker\": {\"line\": {\"color\": \"#E5ECF6\", \"width\": 0.5}}, \"type\": \"barpolar\"}], \"carpet\": [{\"aaxis\": {\"endlinecolor\": \"#2a3f5f\", \"gridcolor\": \"white\", \"linecolor\": \"white\", \"minorgridcolor\": \"white\", \"startlinecolor\": \"#2a3f5f\"}, \"baxis\": {\"endlinecolor\": \"#2a3f5f\", \"gridcolor\": \"white\", \"linecolor\": \"white\", \"minorgridcolor\": \"white\", \"startlinecolor\": \"#2a3f5f\"}, \"type\": \"carpet\"}], \"choropleth\": [{\"colorbar\": {\"outlinewidth\": 0, \"ticks\": \"\"}, \"type\": \"choropleth\"}], \"contour\": [{\"colorbar\": {\"outlinewidth\": 0, \"ticks\": \"\"}, \"colorscale\": [[0.0, \"#0d0887\"], [0.1111111111111111, \"#46039f\"], [0.2222222222222222, \"#7201a8\"], [0.3333333333333333, \"#9c179e\"], [0.4444444444444444, \"#bd3786\"], [0.5555555555555556, \"#d8576b\"], [0.6666666666666666, \"#ed7953\"], [0.7777777777777778, \"#fb9f3a\"], [0.8888888888888888, \"#fdca26\"], [1.0, \"#f0f921\"]], \"type\": \"contour\"}], \"contourcarpet\": [{\"colorbar\": {\"outlinewidth\": 0, \"ticks\": \"\"}, \"type\": \"contourcarpet\"}], \"heatmap\": [{\"colorbar\": {\"outlinewidth\": 0, \"ticks\": \"\"}, \"colorscale\": [[0.0, \"#0d0887\"], [0.1111111111111111, \"#46039f\"], [0.2222222222222222, \"#7201a8\"], [0.3333333333333333, \"#9c179e\"], [0.4444444444444444, \"#bd3786\"], [0.5555555555555556, \"#d8576b\"], [0.6666666666666666, \"#ed7953\"], [0.7777777777777778, \"#fb9f3a\"], [0.8888888888888888, \"#fdca26\"], [1.0, \"#f0f921\"]], \"type\": \"heatmap\"}], \"heatmapgl\": [{\"colorbar\": {\"outlinewidth\": 0, \"ticks\": \"\"}, \"colorscale\": [[0.0, \"#0d0887\"], [0.1111111111111111, \"#46039f\"], [0.2222222222222222, \"#7201a8\"], [0.3333333333333333, \"#9c179e\"], [0.4444444444444444, \"#bd3786\"], [0.5555555555555556, \"#d8576b\"], [0.6666666666666666, \"#ed7953\"], [0.7777777777777778, \"#fb9f3a\"], [0.8888888888888888, \"#fdca26\"], [1.0, \"#f0f921\"]], \"type\": \"heatmapgl\"}], \"histogram\": [{\"marker\": {\"colorbar\": {\"outlinewidth\": 0, \"ticks\": \"\"}}, \"type\": \"histogram\"}], \"histogram2d\": [{\"colorbar\": {\"outlinewidth\": 0, \"ticks\": \"\"}, \"colorscale\": [[0.0, \"#0d0887\"], [0.1111111111111111, \"#46039f\"], [0.2222222222222222, \"#7201a8\"], [0.3333333333333333, \"#9c179e\"], [0.4444444444444444, \"#bd3786\"], [0.5555555555555556, \"#d8576b\"], [0.6666666666666666, \"#ed7953\"], [0.7777777777777778, \"#fb9f3a\"], [0.8888888888888888, \"#fdca26\"], [1.0, \"#f0f921\"]], \"type\": \"histogram2d\"}], \"histogram2dcontour\": [{\"colorbar\": {\"outlinewidth\": 0, \"ticks\": \"\"}, \"colorscale\": [[0.0, \"#0d0887\"], [0.1111111111111111, \"#46039f\"], [0.2222222222222222, \"#7201a8\"], [0.3333333333333333, \"#9c179e\"], [0.4444444444444444, \"#bd3786\"], [0.5555555555555556, \"#d8576b\"], [0.6666666666666666, \"#ed7953\"], [0.7777777777777778, \"#fb9f3a\"], [0.8888888888888888, \"#fdca26\"], [1.0, \"#f0f921\"]], \"type\": \"histogram2dcontour\"}], \"mesh3d\": [{\"colorbar\": {\"outlinewidth\": 0, \"ticks\": \"\"}, \"type\": \"mesh3d\"}], \"parcoords\": [{\"line\": {\"colorbar\": {\"outlinewidth\": 0, \"ticks\": \"\"}}, \"type\": \"parcoords\"}], \"pie\": [{\"automargin\": true, \"type\": \"pie\"}], \"scatter\": [{\"marker\": {\"colorbar\": {\"outlinewidth\": 0, \"ticks\": \"\"}}, \"type\": \"scatter\"}], \"scatter3d\": [{\"line\": {\"colorbar\": {\"outlinewidth\": 0, \"ticks\": \"\"}}, \"marker\": {\"colorbar\": {\"outlinewidth\": 0, \"ticks\": \"\"}}, \"type\": \"scatter3d\"}], \"scattercarpet\": [{\"marker\": {\"colorbar\": {\"outlinewidth\": 0, \"ticks\": \"\"}}, \"type\": \"scattercarpet\"}], \"scattergeo\": [{\"marker\": {\"colorbar\": {\"outlinewidth\": 0, \"ticks\": \"\"}}, \"type\": \"scattergeo\"}], \"scattergl\": [{\"marker\": {\"colorbar\": {\"outlinewidth\": 0, \"ticks\": \"\"}}, \"type\": \"scattergl\"}], \"scattermapbox\": [{\"marker\": {\"colorbar\": {\"outlinewidth\": 0, \"ticks\": \"\"}}, \"type\": \"scattermapbox\"}], \"scatterpolar\": [{\"marker\": {\"colorbar\": {\"outlinewidth\": 0, \"ticks\": \"\"}}, \"type\": \"scatterpolar\"}], \"scatterpolargl\": [{\"marker\": {\"colorbar\": {\"outlinewidth\": 0, \"ticks\": \"\"}}, \"type\": \"scatterpolargl\"}], \"scatterternary\": [{\"marker\": {\"colorbar\": {\"outlinewidth\": 0, \"ticks\": \"\"}}, \"type\": \"scatterternary\"}], \"surface\": [{\"colorbar\": {\"outlinewidth\": 0, \"ticks\": \"\"}, \"colorscale\": [[0.0, \"#0d0887\"], [0.1111111111111111, \"#46039f\"], [0.2222222222222222, \"#7201a8\"], [0.3333333333333333, \"#9c179e\"], [0.4444444444444444, \"#bd3786\"], [0.5555555555555556, \"#d8576b\"], [0.6666666666666666, \"#ed7953\"], [0.7777777777777778, \"#fb9f3a\"], [0.8888888888888888, \"#fdca26\"], [1.0, \"#f0f921\"]], \"type\": \"surface\"}], \"table\": [{\"cells\": {\"fill\": {\"color\": \"#EBF0F8\"}, \"line\": {\"color\": \"white\"}}, \"header\": {\"fill\": {\"color\": \"#C8D4E3\"}, \"line\": {\"color\": \"white\"}}, \"type\": \"table\"}]}, \"layout\": {\"annotationdefaults\": {\"arrowcolor\": \"#2a3f5f\", \"arrowhead\": 0, \"arrowwidth\": 1}, \"coloraxis\": {\"colorbar\": {\"outlinewidth\": 0, \"ticks\": \"\"}}, \"colorscale\": {\"diverging\": [[0, \"#8e0152\"], [0.1, \"#c51b7d\"], [0.2, \"#de77ae\"], [0.3, \"#f1b6da\"], [0.4, \"#fde0ef\"], [0.5, \"#f7f7f7\"], [0.6, \"#e6f5d0\"], [0.7, \"#b8e186\"], [0.8, \"#7fbc41\"], [0.9, \"#4d9221\"], [1, \"#276419\"]], \"sequential\": [[0.0, \"#0d0887\"], [0.1111111111111111, \"#46039f\"], [0.2222222222222222, \"#7201a8\"], [0.3333333333333333, \"#9c179e\"], [0.4444444444444444, \"#bd3786\"], [0.5555555555555556, \"#d8576b\"], [0.6666666666666666, \"#ed7953\"], [0.7777777777777778, \"#fb9f3a\"], [0.8888888888888888, \"#fdca26\"], [1.0, \"#f0f921\"]], \"sequentialminus\": [[0.0, \"#0d0887\"], [0.1111111111111111, \"#46039f\"], [0.2222222222222222, \"#7201a8\"], [0.3333333333333333, \"#9c179e\"], [0.4444444444444444, \"#bd3786\"], [0.5555555555555556, \"#d8576b\"], [0.6666666666666666, \"#ed7953\"], [0.7777777777777778, \"#fb9f3a\"], [0.8888888888888888, \"#fdca26\"], [1.0, \"#f0f921\"]]}, \"colorway\": [\"#636efa\", \"#EF553B\", \"#00cc96\", \"#ab63fa\", \"#FFA15A\", \"#19d3f3\", \"#FF6692\", \"#B6E880\", \"#FF97FF\", \"#FECB52\"], \"font\": {\"color\": \"#2a3f5f\"}, \"geo\": {\"bgcolor\": \"white\", \"lakecolor\": \"white\", \"landcolor\": \"#E5ECF6\", \"showlakes\": true, \"showland\": true, \"subunitcolor\": \"white\"}, \"hoverlabel\": {\"align\": \"left\"}, \"hovermode\": \"closest\", \"mapbox\": {\"style\": \"light\"}, \"paper_bgcolor\": \"white\", \"plot_bgcolor\": \"#E5ECF6\", \"polar\": {\"angularaxis\": {\"gridcolor\": \"white\", \"linecolor\": \"white\", \"ticks\": \"\"}, \"bgcolor\": \"#E5ECF6\", \"radialaxis\": {\"gridcolor\": \"white\", \"linecolor\": \"white\", \"ticks\": \"\"}}, \"scene\": {\"xaxis\": {\"backgroundcolor\": \"#E5ECF6\", \"gridcolor\": \"white\", \"gridwidth\": 2, \"linecolor\": \"white\", \"showbackground\": true, \"ticks\": \"\", \"zerolinecolor\": \"white\"}, \"yaxis\": {\"backgroundcolor\": \"#E5ECF6\", \"gridcolor\": \"white\", \"gridwidth\": 2, \"linecolor\": \"white\", \"showbackground\": true, \"ticks\": \"\", \"zerolinecolor\": \"white\"}, \"zaxis\": {\"backgroundcolor\": \"#E5ECF6\", \"gridcolor\": \"white\", \"gridwidth\": 2, \"linecolor\": \"white\", \"showbackground\": true, \"ticks\": \"\", \"zerolinecolor\": \"white\"}}, \"shapedefaults\": {\"line\": {\"color\": \"#2a3f5f\"}}, \"ternary\": {\"aaxis\": {\"gridcolor\": \"white\", \"linecolor\": \"white\", \"ticks\": \"\"}, \"baxis\": {\"gridcolor\": \"white\", \"linecolor\": \"white\", \"ticks\": \"\"}, \"bgcolor\": \"#E5ECF6\", \"caxis\": {\"gridcolor\": \"white\", \"linecolor\": \"white\", \"ticks\": \"\"}}, \"title\": {\"x\": 0.05}, \"xaxis\": {\"automargin\": true, \"gridcolor\": \"white\", \"linecolor\": \"white\", \"ticks\": \"\", \"title\": {\"standoff\": 15}, \"zerolinecolor\": \"white\", \"zerolinewidth\": 2}, \"yaxis\": {\"automargin\": true, \"gridcolor\": \"white\", \"linecolor\": \"white\", \"ticks\": \"\", \"title\": {\"standoff\": 15}, \"zerolinecolor\": \"white\", \"zerolinewidth\": 2}}}, \"title\": {\"text\": \"Confirmed Cases Polynomial Regression Prediction\"}, \"xaxis\": {\"title\": {\"text\": \"Date\"}}, \"yaxis\": {\"title\": {\"text\": \"Confirmed Cases\"}}},\n",
              "                        {\"responsive\": true}\n",
              "                    ).then(function(){\n",
              "                            \n",
              "var gd = document.getElementById('9912b3ea-d488-4e2c-97d3-83d9982e2044');\n",
              "var x = new MutationObserver(function (mutations, observer) {{\n",
              "        var display = window.getComputedStyle(gd).display;\n",
              "        if (!display || display === 'none') {{\n",
              "            console.log([gd, 'removed!']);\n",
              "            Plotly.purge(gd);\n",
              "            observer.disconnect();\n",
              "        }}\n",
              "}});\n",
              "\n",
              "// Listen for the removal of the full notebook cells\n",
              "var notebookContainer = gd.closest('#notebook-container');\n",
              "if (notebookContainer) {{\n",
              "    x.observe(notebookContainer, {childList: true});\n",
              "}}\n",
              "\n",
              "// Listen for the clearing of the current output cell\n",
              "var outputEl = gd.closest('.output');\n",
              "if (outputEl) {{\n",
              "    x.observe(outputEl, {childList: true});\n",
              "}}\n",
              "\n",
              "                        })\n",
              "                };\n",
              "                \n",
              "            </script>\n",
              "        </div>\n",
              "</body>\n",
              "</html>"
            ]
          },
          "metadata": {
            "tags": []
          }
        },
        {
          "output_type": "display_data",
          "data": {
            "text/plain": [
              "<Figure size 792x432 with 0 Axes>"
            ]
          },
          "metadata": {
            "tags": []
          }
        }
      ]
    },
    {
      "cell_type": "code",
      "metadata": {
        "id": "-lMhx1ixcmXZ",
        "colab_type": "code",
        "colab": {}
      },
      "source": [
        "new_date=[]\n",
        "new_prediction_poly=[]\n",
        "for i in range(1,18):\n",
        "    new_date.append(saudi_datewise.index[-1]+timedelta(days=i))\n",
        "    new_date_poly=poly.fit_transform(np.array(saudi_datewise[\"Days Since\"].max()+i).reshape(-1,1))\n",
        "    new_prediction_poly.append(linreg.predict(new_date_poly)[0])"
      ],
      "execution_count": 0,
      "outputs": []
    },
    {
      "cell_type": "code",
      "metadata": {
        "id": "Ge0_3xanczfz",
        "colab_type": "code",
        "outputId": "eafe5c03-54ae-4f2f-f9e7-2a0a42cac932",
        "colab": {
          "base_uri": "https://localhost:8080/",
          "height": 204
        }
      },
      "source": [
        "model_predictions=pd.DataFrame(zip(new_date,new_prediction_poly),columns=[\"Date\",\"Polynomial Regression Prediction\"])\n",
        "model_predictions.head()"
      ],
      "execution_count": 0,
      "outputs": [
        {
          "output_type": "execute_result",
          "data": {
            "text/html": [
              "<div>\n",
              "<style scoped>\n",
              "    .dataframe tbody tr th:only-of-type {\n",
              "        vertical-align: middle;\n",
              "    }\n",
              "\n",
              "    .dataframe tbody tr th {\n",
              "        vertical-align: top;\n",
              "    }\n",
              "\n",
              "    .dataframe thead th {\n",
              "        text-align: right;\n",
              "    }\n",
              "</style>\n",
              "<table border=\"1\" class=\"dataframe\">\n",
              "  <thead>\n",
              "    <tr style=\"text-align: right;\">\n",
              "      <th></th>\n",
              "      <th>Date</th>\n",
              "      <th>Polynomial Regression Prediction</th>\n",
              "    </tr>\n",
              "  </thead>\n",
              "  <tbody>\n",
              "    <tr>\n",
              "      <th>0</th>\n",
              "      <td>2020-05-31</td>\n",
              "      <td>91045.685613</td>\n",
              "    </tr>\n",
              "    <tr>\n",
              "      <th>1</th>\n",
              "      <td>2020-06-01</td>\n",
              "      <td>93656.440629</td>\n",
              "    </tr>\n",
              "    <tr>\n",
              "      <th>2</th>\n",
              "      <td>2020-06-02</td>\n",
              "      <td>96236.651485</td>\n",
              "    </tr>\n",
              "    <tr>\n",
              "      <th>3</th>\n",
              "      <td>2020-06-03</td>\n",
              "      <td>98778.264432</td>\n",
              "    </tr>\n",
              "    <tr>\n",
              "      <th>4</th>\n",
              "      <td>2020-06-04</td>\n",
              "      <td>101272.780007</td>\n",
              "    </tr>\n",
              "  </tbody>\n",
              "</table>\n",
              "</div>"
            ],
            "text/plain": [
              "        Date  Polynomial Regression Prediction\n",
              "0 2020-05-31                      91045.685613\n",
              "1 2020-06-01                      93656.440629\n",
              "2 2020-06-02                      96236.651485\n",
              "3 2020-06-03                      98778.264432\n",
              "4 2020-06-04                     101272.780007"
            ]
          },
          "metadata": {
            "tags": []
          },
          "execution_count": 99
        }
      ]
    },
    {
      "cell_type": "markdown",
      "metadata": {
        "id": "veAkRw3HdBTT",
        "colab_type": "text"
      },
      "source": [
        "Support Vector Machine Regressor"
      ]
    },
    {
      "cell_type": "code",
      "metadata": {
        "id": "cV-pAe-Rc722",
        "colab_type": "code",
        "colab": {}
      },
      "source": [
        "train_ml=saudi_datewise.iloc[:int(saudi_datewise.shape[0]*0.95)]\n",
        "valid_ml=saudi_datewise.iloc[int(saudi_datewise.shape[0]*0.95):]"
      ],
      "execution_count": 0,
      "outputs": []
    },
    {
      "cell_type": "code",
      "metadata": {
        "id": "YylXcf1sdE4R",
        "colab_type": "code",
        "colab": {}
      },
      "source": [
        "svm=SVR(kernel='poly',C=0.01,degree=6)"
      ],
      "execution_count": 0,
      "outputs": []
    },
    {
      "cell_type": "code",
      "metadata": {
        "id": "oiHvOe2-dODO",
        "colab_type": "code",
        "outputId": "4835fdd7-ac9b-47a2-804a-d61b0242d9d4",
        "colab": {
          "base_uri": "https://localhost:8080/",
          "height": 55
        }
      },
      "source": [
        "svm.fit(np.array(train_ml[\"Days Since\"]).reshape(-1,1),train_ml[\"Confirmed\"])"
      ],
      "execution_count": 0,
      "outputs": [
        {
          "output_type": "execute_result",
          "data": {
            "text/plain": [
              "SVR(C=0.01, cache_size=200, coef0=0.0, degree=6, epsilon=0.1, gamma='scale',\n",
              "    kernel='poly', max_iter=-1, shrinking=True, tol=0.001, verbose=False)"
            ]
          },
          "metadata": {
            "tags": []
          },
          "execution_count": 102
        }
      ]
    },
    {
      "cell_type": "code",
      "metadata": {
        "id": "A5dwCmNSdP7R",
        "colab_type": "code",
        "outputId": "37b01ae6-30da-4cd3-9d01-8e35147f9598",
        "colab": {
          "base_uri": "https://localhost:8080/",
          "height": 36
        }
      },
      "source": [
        "prediction_svm=svm.predict(np.array(valid_ml[\"Days Since\"]).reshape(-1,1))\n",
        "rmse_svm=np.sqrt(mean_squared_error(prediction_svm,valid_ml[\"Confirmed\"]))\n",
        "model_scores.append(rmse_svm)\n",
        "print(\"Root Mean Square Error for SVR Model: \",rmse_svm)"
      ],
      "execution_count": 0,
      "outputs": [
        {
          "output_type": "stream",
          "text": [
            "Root Mean Square Error for SVR Model:  12771.459524531425\n"
          ],
          "name": "stdout"
        }
      ]
    },
    {
      "cell_type": "code",
      "metadata": {
        "id": "iKJvFpy3dTWo",
        "colab_type": "code",
        "outputId": "72fd22aa-7207-4b86-930b-a10917e44026",
        "colab": {
          "base_uri": "https://localhost:8080/",
          "height": 561
        }
      },
      "source": [
        "plt.figure(figsize=(11,6))\n",
        "predictions=svm.predict(np.array(saudi_datewise[\"Days Since\"]).reshape(-1,1))\n",
        "fig=go.Figure()\n",
        "fig.add_trace(go.Scatter(x=saudi_datewise.index, y=saudi_datewise[\"Confirmed\"],\n",
        "                    mode='lines+markers',name=\"Train Data for Confirmed Cases\"))\n",
        "fig.add_trace(go.Scatter(x=saudi_datewise.index, y=predictions,\n",
        "                    mode='lines',name=\"Support Vector Machine Best fit Kernel\",\n",
        "                    line=dict(color='black', dash='dot')))\n",
        "fig.update_layout(title=\"Confirmed Cases Support Vectore Machine Regressor Prediction\",\n",
        "                 xaxis_title=\"Date\",yaxis_title=\"Confirmed Cases\",legend=dict(x=0,y=1,traceorder=\"normal\"))\n",
        "fig.show()"
      ],
      "execution_count": 0,
      "outputs": [
        {
          "output_type": "display_data",
          "data": {
            "text/html": [
              "<html>\n",
              "<head><meta charset=\"utf-8\" /></head>\n",
              "<body>\n",
              "    <div>\n",
              "            <script src=\"https://cdnjs.cloudflare.com/ajax/libs/mathjax/2.7.5/MathJax.js?config=TeX-AMS-MML_SVG\"></script><script type=\"text/javascript\">if (window.MathJax) {MathJax.Hub.Config({SVG: {font: \"STIX-Web\"}});}</script>\n",
              "                <script type=\"text/javascript\">window.PlotlyConfig = {MathJaxConfig: 'local'};</script>\n",
              "        <script src=\"https://cdn.plot.ly/plotly-latest.min.js\"></script>    \n",
              "            <div id=\"fa3adf55-0055-4256-beb2-0c905f89f2f3\" class=\"plotly-graph-div\" style=\"height:525px; width:100%;\"></div>\n",
              "            <script type=\"text/javascript\">\n",
              "                \n",
              "                    window.PLOTLYENV=window.PLOTLYENV || {};\n",
              "                    \n",
              "                if (document.getElementById(\"fa3adf55-0055-4256-beb2-0c905f89f2f3\")) {\n",
              "                    Plotly.newPlot(\n",
              "                        'fa3adf55-0055-4256-beb2-0c905f89f2f3',\n",
              "                        [{\"mode\": \"lines+markers\", \"name\": \"Train Data for Confirmed Cases\", \"type\": \"scatter\", \"x\": [\"2020-01-22T00:00:00\", \"2020-01-23T00:00:00\", \"2020-01-24T00:00:00\", \"2020-01-25T00:00:00\", \"2020-01-26T00:00:00\", \"2020-01-27T00:00:00\", \"2020-01-28T00:00:00\", \"2020-01-29T00:00:00\", \"2020-01-30T00:00:00\", \"2020-01-31T00:00:00\", \"2020-02-01T00:00:00\", \"2020-02-02T00:00:00\", \"2020-02-03T00:00:00\", \"2020-02-04T00:00:00\", \"2020-02-05T00:00:00\", \"2020-02-06T00:00:00\", \"2020-02-07T00:00:00\", \"2020-02-08T00:00:00\", \"2020-02-09T00:00:00\", \"2020-02-10T00:00:00\", \"2020-02-11T00:00:00\", \"2020-02-12T00:00:00\", \"2020-02-13T00:00:00\", \"2020-02-14T00:00:00\", \"2020-02-15T00:00:00\", \"2020-02-16T00:00:00\", \"2020-02-17T00:00:00\", \"2020-02-18T00:00:00\", \"2020-02-19T00:00:00\", \"2020-02-20T00:00:00\", \"2020-02-21T00:00:00\", \"2020-02-22T00:00:00\", \"2020-02-23T00:00:00\", \"2020-02-24T00:00:00\", \"2020-02-25T00:00:00\", \"2020-02-26T00:00:00\", \"2020-02-27T00:00:00\", \"2020-02-28T00:00:00\", \"2020-02-29T00:00:00\", \"2020-03-01T00:00:00\", \"2020-03-02T00:00:00\", \"2020-03-03T00:00:00\", \"2020-03-04T00:00:00\", \"2020-03-05T00:00:00\", \"2020-03-06T00:00:00\", \"2020-03-07T00:00:00\", \"2020-03-08T00:00:00\", \"2020-03-09T00:00:00\", \"2020-03-10T00:00:00\", \"2020-03-11T00:00:00\", \"2020-03-12T00:00:00\", \"2020-03-13T00:00:00\", \"2020-03-14T00:00:00\", \"2020-03-15T00:00:00\", \"2020-03-16T00:00:00\", \"2020-03-17T00:00:00\", \"2020-03-18T00:00:00\", \"2020-03-19T00:00:00\", \"2020-03-20T00:00:00\", \"2020-03-21T00:00:00\", \"2020-03-22T00:00:00\", \"2020-03-23T00:00:00\", \"2020-03-24T00:00:00\", \"2020-03-25T00:00:00\", \"2020-03-26T00:00:00\", \"2020-03-27T00:00:00\", \"2020-03-28T00:00:00\", \"2020-03-29T00:00:00\", \"2020-03-30T00:00:00\", \"2020-03-31T00:00:00\", \"2020-04-01T00:00:00\", \"2020-04-02T00:00:00\", \"2020-04-03T00:00:00\", \"2020-04-04T00:00:00\", \"2020-04-05T00:00:00\", \"2020-04-06T00:00:00\", \"2020-04-07T00:00:00\", \"2020-04-08T00:00:00\", \"2020-04-09T00:00:00\", \"2020-04-10T00:00:00\", \"2020-04-11T00:00:00\", \"2020-04-12T00:00:00\", \"2020-04-13T00:00:00\", \"2020-04-14T00:00:00\", \"2020-04-15T00:00:00\", \"2020-04-16T00:00:00\", \"2020-04-17T00:00:00\", \"2020-04-18T00:00:00\", \"2020-04-19T00:00:00\", \"2020-04-20T00:00:00\", \"2020-04-21T00:00:00\", \"2020-04-22T00:00:00\", \"2020-04-23T00:00:00\", \"2020-04-24T00:00:00\", \"2020-04-25T00:00:00\", \"2020-04-26T00:00:00\", \"2020-04-27T00:00:00\", \"2020-04-28T00:00:00\", \"2020-04-29T00:00:00\", \"2020-04-30T00:00:00\", \"2020-05-01T00:00:00\", \"2020-05-02T00:00:00\", \"2020-05-03T00:00:00\", \"2020-05-04T00:00:00\", \"2020-05-05T00:00:00\", \"2020-05-06T00:00:00\", \"2020-05-07T00:00:00\", \"2020-05-08T00:00:00\", \"2020-05-09T00:00:00\", \"2020-05-10T00:00:00\", \"2020-05-11T00:00:00\", \"2020-05-12T00:00:00\", \"2020-05-13T00:00:00\", \"2020-05-14T00:00:00\", \"2020-05-15T00:00:00\", \"2020-05-16T00:00:00\", \"2020-05-17T00:00:00\", \"2020-05-18T00:00:00\", \"2020-05-19T00:00:00\", \"2020-05-20T00:00:00\", \"2020-05-21T00:00:00\", \"2020-05-22T00:00:00\", \"2020-05-23T00:00:00\", \"2020-05-24T00:00:00\", \"2020-05-25T00:00:00\", \"2020-05-26T00:00:00\", \"2020-05-27T00:00:00\", \"2020-05-28T00:00:00\", \"2020-05-29T00:00:00\", \"2020-05-30T00:00:00\"], \"y\": [0, 0, 0, 0, 0, 0, 0, 0, 0, 0, 0, 0, 0, 0, 0, 0, 0, 0, 0, 0, 0, 0, 0, 0, 0, 0, 0, 0, 0, 0, 0, 0, 0, 0, 0, 0, 0, 0, 0, 0, 1, 1, 1, 5, 5, 5, 11, 15, 20, 21, 45, 86, 103, 103, 118, 171, 171, 274, 344, 392, 511, 562, 767, 900, 1012, 1104, 1203, 1299, 1453, 1563, 1720, 1885, 2039, 2179, 2402, 2605, 2795, 2932, 3287, 3651, 4033, 4462, 4934, 5369, 5862, 6380, 7142, 8274, 9362, 10484, 11631, 12772, 13930, 15102, 16299, 17522, 18811, 20077, 21402, 22753, 24097, 25459, 27011, 28656, 30251, 31938, 33731, 35432, 37136, 39048, 41014, 42925, 44830, 46869, 49176, 52016, 54752, 57345, 59854, 62545, 65077, 67719, 70161, 72560, 74795, 76726, 78541, 80185, 81766, 83384]}, {\"line\": {\"color\": \"black\", \"dash\": \"dot\"}, \"mode\": \"lines\", \"name\": \"Support Vector Machine Best fit Kernel\", \"type\": \"scatter\", \"x\": [\"2020-01-22T00:00:00\", \"2020-01-23T00:00:00\", \"2020-01-24T00:00:00\", \"2020-01-25T00:00:00\", \"2020-01-26T00:00:00\", \"2020-01-27T00:00:00\", \"2020-01-28T00:00:00\", \"2020-01-29T00:00:00\", \"2020-01-30T00:00:00\", \"2020-01-31T00:00:00\", \"2020-02-01T00:00:00\", \"2020-02-02T00:00:00\", \"2020-02-03T00:00:00\", \"2020-02-04T00:00:00\", \"2020-02-05T00:00:00\", \"2020-02-06T00:00:00\", \"2020-02-07T00:00:00\", \"2020-02-08T00:00:00\", \"2020-02-09T00:00:00\", \"2020-02-10T00:00:00\", \"2020-02-11T00:00:00\", \"2020-02-12T00:00:00\", \"2020-02-13T00:00:00\", \"2020-02-14T00:00:00\", \"2020-02-15T00:00:00\", \"2020-02-16T00:00:00\", \"2020-02-17T00:00:00\", \"2020-02-18T00:00:00\", \"2020-02-19T00:00:00\", \"2020-02-20T00:00:00\", \"2020-02-21T00:00:00\", \"2020-02-22T00:00:00\", \"2020-02-23T00:00:00\", \"2020-02-24T00:00:00\", \"2020-02-25T00:00:00\", \"2020-02-26T00:00:00\", \"2020-02-27T00:00:00\", \"2020-02-28T00:00:00\", \"2020-02-29T00:00:00\", \"2020-03-01T00:00:00\", \"2020-03-02T00:00:00\", \"2020-03-03T00:00:00\", \"2020-03-04T00:00:00\", \"2020-03-05T00:00:00\", \"2020-03-06T00:00:00\", \"2020-03-07T00:00:00\", \"2020-03-08T00:00:00\", \"2020-03-09T00:00:00\", \"2020-03-10T00:00:00\", \"2020-03-11T00:00:00\", \"2020-03-12T00:00:00\", \"2020-03-13T00:00:00\", \"2020-03-14T00:00:00\", \"2020-03-15T00:00:00\", \"2020-03-16T00:00:00\", \"2020-03-17T00:00:00\", \"2020-03-18T00:00:00\", \"2020-03-19T00:00:00\", \"2020-03-20T00:00:00\", \"2020-03-21T00:00:00\", \"2020-03-22T00:00:00\", \"2020-03-23T00:00:00\", \"2020-03-24T00:00:00\", \"2020-03-25T00:00:00\", \"2020-03-26T00:00:00\", \"2020-03-27T00:00:00\", \"2020-03-28T00:00:00\", \"2020-03-29T00:00:00\", \"2020-03-30T00:00:00\", \"2020-03-31T00:00:00\", \"2020-04-01T00:00:00\", \"2020-04-02T00:00:00\", \"2020-04-03T00:00:00\", \"2020-04-04T00:00:00\", \"2020-04-05T00:00:00\", \"2020-04-06T00:00:00\", \"2020-04-07T00:00:00\", \"2020-04-08T00:00:00\", \"2020-04-09T00:00:00\", \"2020-04-10T00:00:00\", \"2020-04-11T00:00:00\", \"2020-04-12T00:00:00\", \"2020-04-13T00:00:00\", \"2020-04-14T00:00:00\", \"2020-04-15T00:00:00\", \"2020-04-16T00:00:00\", \"2020-04-17T00:00:00\", \"2020-04-18T00:00:00\", \"2020-04-19T00:00:00\", \"2020-04-20T00:00:00\", \"2020-04-21T00:00:00\", \"2020-04-22T00:00:00\", \"2020-04-23T00:00:00\", \"2020-04-24T00:00:00\", \"2020-04-25T00:00:00\", \"2020-04-26T00:00:00\", \"2020-04-27T00:00:00\", \"2020-04-28T00:00:00\", \"2020-04-29T00:00:00\", \"2020-04-30T00:00:00\", \"2020-05-01T00:00:00\", \"2020-05-02T00:00:00\", \"2020-05-03T00:00:00\", \"2020-05-04T00:00:00\", \"2020-05-05T00:00:00\", \"2020-05-06T00:00:00\", \"2020-05-07T00:00:00\", \"2020-05-08T00:00:00\", \"2020-05-09T00:00:00\", \"2020-05-10T00:00:00\", \"2020-05-11T00:00:00\", \"2020-05-12T00:00:00\", \"2020-05-13T00:00:00\", \"2020-05-14T00:00:00\", \"2020-05-15T00:00:00\", \"2020-05-16T00:00:00\", \"2020-05-17T00:00:00\", \"2020-05-18T00:00:00\", \"2020-05-19T00:00:00\", \"2020-05-20T00:00:00\", \"2020-05-21T00:00:00\", \"2020-05-22T00:00:00\", \"2020-05-23T00:00:00\", \"2020-05-24T00:00:00\", \"2020-05-25T00:00:00\", \"2020-05-26T00:00:00\", \"2020-05-27T00:00:00\", \"2020-05-28T00:00:00\", \"2020-05-29T00:00:00\", \"2020-05-30T00:00:00\"], \"y\": [-41.31888194371107, -41.318881921288366, -41.31888050865809, -41.318865597560716, -41.318790100320314, -41.31853158897949, -41.31783579008825, -41.31624393514689, -41.31300396670278, -41.306965600101215, -41.296459240890144, -41.279158757878925, -41.25192811185103, -41.2106518399307, -41.15004939560361, -41.06347334439147, -40.94269141518059, -40.777652407204485, -40.55623595268032, -40.263986135099444, -39.883828963171844, -39.395773700424535, -38.77659805045401, -37.99951719783256, -37.033836704668616, -35.84458926282106, -34.39215530176749, -32.63186745212645, -30.513598864833646, -27.98133538597212, -24.97273158725642, -21.418650652170637, -17.242688117760615, -12.360679472079902, -6.680191607289792, -0.09999812841329003, 7.4904614822568405, 16.211638845096182, 26.19444980743281, 37.58086371217741, 50.524508810799524, 65.19129382064963, 81.76004562662709, 100.42316312719524, 121.3872872247407, 144.87398696028043, 171.1204617925134, 200.3802600212199, 232.92401335500585, 269.04018762339115, 309.0358496332494, 353.2374501695879, 401.99162314067803, 455.66600086752766, 514.6500455177045, 579.3558966835003, 650.2192351044441, 727.7001625341624, 812.2840977515817, 904.4826887164805, 1004.8347408693866, 1113.9071615758191, 1232.2959207148765, 1360.6270274121728, 1499.557522917118, 1649.776489624544, 1812.0060762406836, 1987.002539093478, 2175.557299587251, 2378.498017801723, 2596.689682235347, 2831.035715693046, 3082.4790973182353, 3352.0035007692186, 3640.634448539953, 3949.440482425104, 4279.534350129497, 4632.074208021908, 5008.264840033152, 5409.358892698608, 5836.658126344967, 6291.514682421474, 6775.332366975374, 7289.56795027179, 7835.732482557931, 8415.392625971645, 9030.172002594292, 9681.752558647988, 10371.875944837202, 11102.34491283468, 11875.024727911745, 12691.844597712845, 13554.799117174654, 14465.949729589256, 15427.42620381187, 16441.42812761291, 17510.22641717417, 18636.164842729726, 19821.66157035083, 21069.210719875417, 22381.38393898176, 23760.831993406537, 25210.28637330742, 26732.560915769605, 28330.55344345719, 30007.247419408377, 31765.713617975565, 33609.111811909344, 35540.69247558688, 37563.79850438517, 39681.866950197815, 41898.4307730968, 44217.12060913822, 46641.66655431277, 49175.899964640186, 51823.75527240797, 54589.271818555026, 57476.59570119905, 60489.98164030855, 63633.79485851923, 66912.51297809454, 70330.72793403093, 73893.14790330624, 77604.59925027523, 81470.0284882059, 85494.50425696262, 89683.21931683287, 94041.49255849802, 98574.77102914936, 103288.6319747469]}],\n",
              "                        {\"legend\": {\"traceorder\": \"normal\", \"x\": 0, \"y\": 1}, \"template\": {\"data\": {\"bar\": [{\"error_x\": {\"color\": \"#2a3f5f\"}, \"error_y\": {\"color\": \"#2a3f5f\"}, \"marker\": {\"line\": {\"color\": \"#E5ECF6\", \"width\": 0.5}}, \"type\": \"bar\"}], \"barpolar\": [{\"marker\": {\"line\": {\"color\": \"#E5ECF6\", \"width\": 0.5}}, \"type\": \"barpolar\"}], \"carpet\": [{\"aaxis\": {\"endlinecolor\": \"#2a3f5f\", \"gridcolor\": \"white\", \"linecolor\": \"white\", \"minorgridcolor\": \"white\", \"startlinecolor\": \"#2a3f5f\"}, \"baxis\": {\"endlinecolor\": \"#2a3f5f\", \"gridcolor\": \"white\", \"linecolor\": \"white\", \"minorgridcolor\": \"white\", \"startlinecolor\": \"#2a3f5f\"}, \"type\": \"carpet\"}], \"choropleth\": [{\"colorbar\": {\"outlinewidth\": 0, \"ticks\": \"\"}, \"type\": \"choropleth\"}], \"contour\": [{\"colorbar\": {\"outlinewidth\": 0, \"ticks\": \"\"}, \"colorscale\": [[0.0, \"#0d0887\"], [0.1111111111111111, \"#46039f\"], [0.2222222222222222, \"#7201a8\"], [0.3333333333333333, \"#9c179e\"], [0.4444444444444444, \"#bd3786\"], [0.5555555555555556, \"#d8576b\"], [0.6666666666666666, \"#ed7953\"], [0.7777777777777778, \"#fb9f3a\"], [0.8888888888888888, \"#fdca26\"], [1.0, \"#f0f921\"]], \"type\": \"contour\"}], \"contourcarpet\": [{\"colorbar\": {\"outlinewidth\": 0, \"ticks\": \"\"}, \"type\": \"contourcarpet\"}], \"heatmap\": [{\"colorbar\": {\"outlinewidth\": 0, \"ticks\": \"\"}, \"colorscale\": [[0.0, \"#0d0887\"], [0.1111111111111111, \"#46039f\"], [0.2222222222222222, \"#7201a8\"], [0.3333333333333333, \"#9c179e\"], [0.4444444444444444, \"#bd3786\"], [0.5555555555555556, \"#d8576b\"], [0.6666666666666666, \"#ed7953\"], [0.7777777777777778, \"#fb9f3a\"], [0.8888888888888888, \"#fdca26\"], [1.0, \"#f0f921\"]], \"type\": \"heatmap\"}], \"heatmapgl\": [{\"colorbar\": {\"outlinewidth\": 0, \"ticks\": \"\"}, \"colorscale\": [[0.0, \"#0d0887\"], [0.1111111111111111, \"#46039f\"], [0.2222222222222222, \"#7201a8\"], [0.3333333333333333, \"#9c179e\"], [0.4444444444444444, \"#bd3786\"], [0.5555555555555556, \"#d8576b\"], [0.6666666666666666, \"#ed7953\"], [0.7777777777777778, \"#fb9f3a\"], [0.8888888888888888, \"#fdca26\"], [1.0, \"#f0f921\"]], \"type\": \"heatmapgl\"}], \"histogram\": [{\"marker\": {\"colorbar\": {\"outlinewidth\": 0, \"ticks\": \"\"}}, \"type\": \"histogram\"}], \"histogram2d\": [{\"colorbar\": {\"outlinewidth\": 0, \"ticks\": \"\"}, \"colorscale\": [[0.0, \"#0d0887\"], [0.1111111111111111, \"#46039f\"], [0.2222222222222222, \"#7201a8\"], [0.3333333333333333, \"#9c179e\"], [0.4444444444444444, \"#bd3786\"], [0.5555555555555556, \"#d8576b\"], [0.6666666666666666, \"#ed7953\"], [0.7777777777777778, \"#fb9f3a\"], [0.8888888888888888, \"#fdca26\"], [1.0, \"#f0f921\"]], \"type\": \"histogram2d\"}], \"histogram2dcontour\": [{\"colorbar\": {\"outlinewidth\": 0, \"ticks\": \"\"}, \"colorscale\": [[0.0, \"#0d0887\"], [0.1111111111111111, \"#46039f\"], [0.2222222222222222, \"#7201a8\"], [0.3333333333333333, \"#9c179e\"], [0.4444444444444444, \"#bd3786\"], [0.5555555555555556, \"#d8576b\"], [0.6666666666666666, \"#ed7953\"], [0.7777777777777778, \"#fb9f3a\"], [0.8888888888888888, \"#fdca26\"], [1.0, \"#f0f921\"]], \"type\": \"histogram2dcontour\"}], \"mesh3d\": [{\"colorbar\": {\"outlinewidth\": 0, \"ticks\": \"\"}, \"type\": \"mesh3d\"}], \"parcoords\": [{\"line\": {\"colorbar\": {\"outlinewidth\": 0, \"ticks\": \"\"}}, \"type\": \"parcoords\"}], \"pie\": [{\"automargin\": true, \"type\": \"pie\"}], \"scatter\": [{\"marker\": {\"colorbar\": {\"outlinewidth\": 0, \"ticks\": \"\"}}, \"type\": \"scatter\"}], \"scatter3d\": [{\"line\": {\"colorbar\": {\"outlinewidth\": 0, \"ticks\": \"\"}}, \"marker\": {\"colorbar\": {\"outlinewidth\": 0, \"ticks\": \"\"}}, \"type\": \"scatter3d\"}], \"scattercarpet\": [{\"marker\": {\"colorbar\": {\"outlinewidth\": 0, \"ticks\": \"\"}}, \"type\": \"scattercarpet\"}], \"scattergeo\": [{\"marker\": {\"colorbar\": {\"outlinewidth\": 0, \"ticks\": \"\"}}, \"type\": \"scattergeo\"}], \"scattergl\": [{\"marker\": {\"colorbar\": {\"outlinewidth\": 0, \"ticks\": \"\"}}, \"type\": \"scattergl\"}], \"scattermapbox\": [{\"marker\": {\"colorbar\": {\"outlinewidth\": 0, \"ticks\": \"\"}}, \"type\": \"scattermapbox\"}], \"scatterpolar\": [{\"marker\": {\"colorbar\": {\"outlinewidth\": 0, \"ticks\": \"\"}}, \"type\": \"scatterpolar\"}], \"scatterpolargl\": [{\"marker\": {\"colorbar\": {\"outlinewidth\": 0, \"ticks\": \"\"}}, \"type\": \"scatterpolargl\"}], \"scatterternary\": [{\"marker\": {\"colorbar\": {\"outlinewidth\": 0, \"ticks\": \"\"}}, \"type\": \"scatterternary\"}], \"surface\": [{\"colorbar\": {\"outlinewidth\": 0, \"ticks\": \"\"}, \"colorscale\": [[0.0, \"#0d0887\"], [0.1111111111111111, \"#46039f\"], [0.2222222222222222, \"#7201a8\"], [0.3333333333333333, \"#9c179e\"], [0.4444444444444444, \"#bd3786\"], [0.5555555555555556, \"#d8576b\"], [0.6666666666666666, \"#ed7953\"], [0.7777777777777778, \"#fb9f3a\"], [0.8888888888888888, \"#fdca26\"], [1.0, \"#f0f921\"]], \"type\": \"surface\"}], \"table\": [{\"cells\": {\"fill\": {\"color\": \"#EBF0F8\"}, \"line\": {\"color\": \"white\"}}, \"header\": {\"fill\": {\"color\": \"#C8D4E3\"}, \"line\": {\"color\": \"white\"}}, \"type\": \"table\"}]}, \"layout\": {\"annotationdefaults\": {\"arrowcolor\": \"#2a3f5f\", \"arrowhead\": 0, \"arrowwidth\": 1}, \"coloraxis\": {\"colorbar\": {\"outlinewidth\": 0, \"ticks\": \"\"}}, \"colorscale\": {\"diverging\": [[0, \"#8e0152\"], [0.1, \"#c51b7d\"], [0.2, \"#de77ae\"], [0.3, \"#f1b6da\"], [0.4, \"#fde0ef\"], [0.5, \"#f7f7f7\"], [0.6, \"#e6f5d0\"], [0.7, \"#b8e186\"], [0.8, \"#7fbc41\"], [0.9, \"#4d9221\"], [1, \"#276419\"]], \"sequential\": [[0.0, \"#0d0887\"], [0.1111111111111111, \"#46039f\"], [0.2222222222222222, \"#7201a8\"], [0.3333333333333333, \"#9c179e\"], [0.4444444444444444, \"#bd3786\"], [0.5555555555555556, \"#d8576b\"], [0.6666666666666666, \"#ed7953\"], [0.7777777777777778, \"#fb9f3a\"], [0.8888888888888888, \"#fdca26\"], [1.0, \"#f0f921\"]], \"sequentialminus\": [[0.0, \"#0d0887\"], [0.1111111111111111, \"#46039f\"], [0.2222222222222222, \"#7201a8\"], [0.3333333333333333, \"#9c179e\"], [0.4444444444444444, \"#bd3786\"], [0.5555555555555556, \"#d8576b\"], [0.6666666666666666, \"#ed7953\"], [0.7777777777777778, \"#fb9f3a\"], [0.8888888888888888, \"#fdca26\"], [1.0, \"#f0f921\"]]}, \"colorway\": [\"#636efa\", \"#EF553B\", \"#00cc96\", \"#ab63fa\", \"#FFA15A\", \"#19d3f3\", \"#FF6692\", \"#B6E880\", \"#FF97FF\", \"#FECB52\"], \"font\": {\"color\": \"#2a3f5f\"}, \"geo\": {\"bgcolor\": \"white\", \"lakecolor\": \"white\", \"landcolor\": \"#E5ECF6\", \"showlakes\": true, \"showland\": true, \"subunitcolor\": \"white\"}, \"hoverlabel\": {\"align\": \"left\"}, \"hovermode\": \"closest\", \"mapbox\": {\"style\": \"light\"}, \"paper_bgcolor\": \"white\", \"plot_bgcolor\": \"#E5ECF6\", \"polar\": {\"angularaxis\": {\"gridcolor\": \"white\", \"linecolor\": \"white\", \"ticks\": \"\"}, \"bgcolor\": \"#E5ECF6\", \"radialaxis\": {\"gridcolor\": \"white\", \"linecolor\": \"white\", \"ticks\": \"\"}}, \"scene\": {\"xaxis\": {\"backgroundcolor\": \"#E5ECF6\", \"gridcolor\": \"white\", \"gridwidth\": 2, \"linecolor\": \"white\", \"showbackground\": true, \"ticks\": \"\", \"zerolinecolor\": \"white\"}, \"yaxis\": {\"backgroundcolor\": \"#E5ECF6\", \"gridcolor\": \"white\", \"gridwidth\": 2, \"linecolor\": \"white\", \"showbackground\": true, \"ticks\": \"\", \"zerolinecolor\": \"white\"}, \"zaxis\": {\"backgroundcolor\": \"#E5ECF6\", \"gridcolor\": \"white\", \"gridwidth\": 2, \"linecolor\": \"white\", \"showbackground\": true, \"ticks\": \"\", \"zerolinecolor\": \"white\"}}, \"shapedefaults\": {\"line\": {\"color\": \"#2a3f5f\"}}, \"ternary\": {\"aaxis\": {\"gridcolor\": \"white\", \"linecolor\": \"white\", \"ticks\": \"\"}, \"baxis\": {\"gridcolor\": \"white\", \"linecolor\": \"white\", \"ticks\": \"\"}, \"bgcolor\": \"#E5ECF6\", \"caxis\": {\"gridcolor\": \"white\", \"linecolor\": \"white\", \"ticks\": \"\"}}, \"title\": {\"x\": 0.05}, \"xaxis\": {\"automargin\": true, \"gridcolor\": \"white\", \"linecolor\": \"white\", \"ticks\": \"\", \"title\": {\"standoff\": 15}, \"zerolinecolor\": \"white\", \"zerolinewidth\": 2}, \"yaxis\": {\"automargin\": true, \"gridcolor\": \"white\", \"linecolor\": \"white\", \"ticks\": \"\", \"title\": {\"standoff\": 15}, \"zerolinecolor\": \"white\", \"zerolinewidth\": 2}}}, \"title\": {\"text\": \"Confirmed Cases Support Vectore Machine Regressor Prediction\"}, \"xaxis\": {\"title\": {\"text\": \"Date\"}}, \"yaxis\": {\"title\": {\"text\": \"Confirmed Cases\"}}},\n",
              "                        {\"responsive\": true}\n",
              "                    ).then(function(){\n",
              "                            \n",
              "var gd = document.getElementById('fa3adf55-0055-4256-beb2-0c905f89f2f3');\n",
              "var x = new MutationObserver(function (mutations, observer) {{\n",
              "        var display = window.getComputedStyle(gd).display;\n",
              "        if (!display || display === 'none') {{\n",
              "            console.log([gd, 'removed!']);\n",
              "            Plotly.purge(gd);\n",
              "            observer.disconnect();\n",
              "        }}\n",
              "}});\n",
              "\n",
              "// Listen for the removal of the full notebook cells\n",
              "var notebookContainer = gd.closest('#notebook-container');\n",
              "if (notebookContainer) {{\n",
              "    x.observe(notebookContainer, {childList: true});\n",
              "}}\n",
              "\n",
              "// Listen for the clearing of the current output cell\n",
              "var outputEl = gd.closest('.output');\n",
              "if (outputEl) {{\n",
              "    x.observe(outputEl, {childList: true});\n",
              "}}\n",
              "\n",
              "                        })\n",
              "                };\n",
              "                \n",
              "            </script>\n",
              "        </div>\n",
              "</body>\n",
              "</html>"
            ]
          },
          "metadata": {
            "tags": []
          }
        },
        {
          "output_type": "display_data",
          "data": {
            "text/plain": [
              "<Figure size 792x432 with 0 Axes>"
            ]
          },
          "metadata": {
            "tags": []
          }
        }
      ]
    },
    {
      "cell_type": "code",
      "metadata": {
        "id": "oRT5Byq8dbIK",
        "colab_type": "code",
        "colab": {}
      },
      "source": [
        "new_date=[]\n",
        "new_prediction_svm=[]\n",
        "for i in range(1,18):\n",
        "    new_date.append(saudi_datewise.index[-1]+timedelta(days=i))\n",
        "    new_prediction_svm.append(svm.predict(np.array(saudi_datewise[\"Days Since\"].max()+i).reshape(-1,1))[0])"
      ],
      "execution_count": 0,
      "outputs": []
    },
    {
      "cell_type": "code",
      "metadata": {
        "id": "LNhJ3d1VdkzF",
        "colab_type": "code",
        "outputId": "d781460f-5389-49cf-de77-15518ef7e725",
        "colab": {
          "base_uri": "https://localhost:8080/",
          "height": 204
        }
      },
      "source": [
        "model_predictions[\"SVM Prediction\"]=new_prediction_svm\n",
        "model_predictions.head()"
      ],
      "execution_count": 0,
      "outputs": [
        {
          "output_type": "execute_result",
          "data": {
            "text/html": [
              "<div>\n",
              "<style scoped>\n",
              "    .dataframe tbody tr th:only-of-type {\n",
              "        vertical-align: middle;\n",
              "    }\n",
              "\n",
              "    .dataframe tbody tr th {\n",
              "        vertical-align: top;\n",
              "    }\n",
              "\n",
              "    .dataframe thead th {\n",
              "        text-align: right;\n",
              "    }\n",
              "</style>\n",
              "<table border=\"1\" class=\"dataframe\">\n",
              "  <thead>\n",
              "    <tr style=\"text-align: right;\">\n",
              "      <th></th>\n",
              "      <th>Date</th>\n",
              "      <th>Polynomial Regression Prediction</th>\n",
              "      <th>SVM Prediction</th>\n",
              "    </tr>\n",
              "  </thead>\n",
              "  <tbody>\n",
              "    <tr>\n",
              "      <th>0</th>\n",
              "      <td>2020-05-31</td>\n",
              "      <td>91045.685613</td>\n",
              "      <td>108188.784898</td>\n",
              "    </tr>\n",
              "    <tr>\n",
              "      <th>1</th>\n",
              "      <td>2020-06-01</td>\n",
              "      <td>93656.440629</td>\n",
              "      <td>113281.073635</td>\n",
              "    </tr>\n",
              "    <tr>\n",
              "      <th>2</th>\n",
              "      <td>2020-06-02</td>\n",
              "      <td>96236.651485</td>\n",
              "      <td>118571.478442</td>\n",
              "    </tr>\n",
              "    <tr>\n",
              "      <th>3</th>\n",
              "      <td>2020-06-03</td>\n",
              "      <td>98778.264432</td>\n",
              "      <td>124066.118105</td>\n",
              "    </tr>\n",
              "    <tr>\n",
              "      <th>4</th>\n",
              "      <td>2020-06-04</td>\n",
              "      <td>101272.780007</td>\n",
              "      <td>129771.252064</td>\n",
              "    </tr>\n",
              "  </tbody>\n",
              "</table>\n",
              "</div>"
            ],
            "text/plain": [
              "        Date  Polynomial Regression Prediction  SVM Prediction\n",
              "0 2020-05-31                      91045.685613   108188.784898\n",
              "1 2020-06-01                      93656.440629   113281.073635\n",
              "2 2020-06-02                      96236.651485   118571.478442\n",
              "3 2020-06-03                      98778.264432   124066.118105\n",
              "4 2020-06-04                     101272.780007   129771.252064"
            ]
          },
          "metadata": {
            "tags": []
          },
          "execution_count": 106
        }
      ]
    },
    {
      "cell_type": "markdown",
      "metadata": {
        "id": "7gO7A8qafJQi",
        "colab_type": "text"
      },
      "source": [
        "Time Series Forecasting Models"
      ]
    },
    {
      "cell_type": "markdown",
      "metadata": {
        "id": "Ia2qL5e6fPoh",
        "colab_type": "text"
      },
      "source": [
        "Holt's Linear Model"
      ]
    },
    {
      "cell_type": "code",
      "metadata": {
        "id": "f6WFKAc5dnsz",
        "colab_type": "code",
        "colab": {}
      },
      "source": [
        "model_train=saudi_datewise.iloc[:int(saudi_datewise.shape[0]*0.95)]\n",
        "valid=saudi_datewise.iloc[int(saudi_datewise.shape[0]*0.95):]\n",
        "y_pred=valid.copy()"
      ],
      "execution_count": 0,
      "outputs": []
    },
    {
      "cell_type": "code",
      "metadata": {
        "id": "g7tVMolrfXhZ",
        "colab_type": "code",
        "colab": {}
      },
      "source": [
        "holt=Holt(np.asarray(model_train[\"Confirmed\"])).fit(smoothing_level=0.2, smoothing_slope=2.0)"
      ],
      "execution_count": 0,
      "outputs": []
    },
    {
      "cell_type": "code",
      "metadata": {
        "id": "Zq1i_e46fa6-",
        "colab_type": "code",
        "outputId": "2d51ae3c-627a-4075-bcad-10f44c6b1c1a",
        "colab": {
          "base_uri": "https://localhost:8080/",
          "height": 36
        }
      },
      "source": [
        "y_pred[\"Holt\"]=holt.forecast(len(valid))\n",
        "rmse_holt_linear=np.sqrt(mean_squared_error(y_pred[\"Confirmed\"],y_pred[\"Holt\"]))\n",
        "model_scores.append(rmse_holt_linear)\n",
        "print(\"Root Mean Square Error Holt's Linear Model: \",rmse_holt_linear)"
      ],
      "execution_count": 0,
      "outputs": [
        {
          "output_type": "stream",
          "text": [
            "Root Mean Square Error Holt's Linear Model:  1455.501655307507\n"
          ],
          "name": "stdout"
        }
      ]
    },
    {
      "cell_type": "code",
      "metadata": {
        "id": "2HkOi_OyfeKV",
        "colab_type": "code",
        "outputId": "3ea72455-251b-4ab6-ce4a-c2d6587aa3d4",
        "colab": {
          "base_uri": "https://localhost:8080/",
          "height": 542
        }
      },
      "source": [
        "fig=go.Figure()\n",
        "fig.add_trace(go.Scatter(x=model_train.index, y=model_train[\"Confirmed\"],\n",
        "                    mode='lines+markers',name=\"Train Data for Confirmed Cases\"))\n",
        "fig.add_trace(go.Scatter(x=valid.index, y=valid[\"Confirmed\"],\n",
        "                    mode='lines+markers',name=\"Validation Data for Confirmed Cases\",))\n",
        "fig.add_trace(go.Scatter(x=valid.index, y=y_pred[\"Holt\"],\n",
        "                    mode='lines+markers',name=\"Prediction of Confirmed Cases\",))\n",
        "fig.update_layout(title=\"Confirmed Cases Holt's Linear Model Prediction\",\n",
        "                 xaxis_title=\"Date\",yaxis_title=\"Confirmed Cases\",legend=dict(x=0,y=1,traceorder=\"normal\"))\n",
        "fig.show()"
      ],
      "execution_count": 0,
      "outputs": [
        {
          "output_type": "display_data",
          "data": {
            "text/html": [
              "<html>\n",
              "<head><meta charset=\"utf-8\" /></head>\n",
              "<body>\n",
              "    <div>\n",
              "            <script src=\"https://cdnjs.cloudflare.com/ajax/libs/mathjax/2.7.5/MathJax.js?config=TeX-AMS-MML_SVG\"></script><script type=\"text/javascript\">if (window.MathJax) {MathJax.Hub.Config({SVG: {font: \"STIX-Web\"}});}</script>\n",
              "                <script type=\"text/javascript\">window.PlotlyConfig = {MathJaxConfig: 'local'};</script>\n",
              "        <script src=\"https://cdn.plot.ly/plotly-latest.min.js\"></script>    \n",
              "            <div id=\"87fe748d-e575-4ea2-aae6-7b1d939c873e\" class=\"plotly-graph-div\" style=\"height:525px; width:100%;\"></div>\n",
              "            <script type=\"text/javascript\">\n",
              "                \n",
              "                    window.PLOTLYENV=window.PLOTLYENV || {};\n",
              "                    \n",
              "                if (document.getElementById(\"87fe748d-e575-4ea2-aae6-7b1d939c873e\")) {\n",
              "                    Plotly.newPlot(\n",
              "                        '87fe748d-e575-4ea2-aae6-7b1d939c873e',\n",
              "                        [{\"mode\": \"lines+markers\", \"name\": \"Train Data for Confirmed Cases\", \"type\": \"scatter\", \"x\": [\"2020-01-22T00:00:00\", \"2020-01-23T00:00:00\", \"2020-01-24T00:00:00\", \"2020-01-25T00:00:00\", \"2020-01-26T00:00:00\", \"2020-01-27T00:00:00\", \"2020-01-28T00:00:00\", \"2020-01-29T00:00:00\", \"2020-01-30T00:00:00\", \"2020-01-31T00:00:00\", \"2020-02-01T00:00:00\", \"2020-02-02T00:00:00\", \"2020-02-03T00:00:00\", \"2020-02-04T00:00:00\", \"2020-02-05T00:00:00\", \"2020-02-06T00:00:00\", \"2020-02-07T00:00:00\", \"2020-02-08T00:00:00\", \"2020-02-09T00:00:00\", \"2020-02-10T00:00:00\", \"2020-02-11T00:00:00\", \"2020-02-12T00:00:00\", \"2020-02-13T00:00:00\", \"2020-02-14T00:00:00\", \"2020-02-15T00:00:00\", \"2020-02-16T00:00:00\", \"2020-02-17T00:00:00\", \"2020-02-18T00:00:00\", \"2020-02-19T00:00:00\", \"2020-02-20T00:00:00\", \"2020-02-21T00:00:00\", \"2020-02-22T00:00:00\", \"2020-02-23T00:00:00\", \"2020-02-24T00:00:00\", \"2020-02-25T00:00:00\", \"2020-02-26T00:00:00\", \"2020-02-27T00:00:00\", \"2020-02-28T00:00:00\", \"2020-02-29T00:00:00\", \"2020-03-01T00:00:00\", \"2020-03-02T00:00:00\", \"2020-03-03T00:00:00\", \"2020-03-04T00:00:00\", \"2020-03-05T00:00:00\", \"2020-03-06T00:00:00\", \"2020-03-07T00:00:00\", \"2020-03-08T00:00:00\", \"2020-03-09T00:00:00\", \"2020-03-10T00:00:00\", \"2020-03-11T00:00:00\", \"2020-03-12T00:00:00\", \"2020-03-13T00:00:00\", \"2020-03-14T00:00:00\", \"2020-03-15T00:00:00\", \"2020-03-16T00:00:00\", \"2020-03-17T00:00:00\", \"2020-03-18T00:00:00\", \"2020-03-19T00:00:00\", \"2020-03-20T00:00:00\", \"2020-03-21T00:00:00\", \"2020-03-22T00:00:00\", \"2020-03-23T00:00:00\", \"2020-03-24T00:00:00\", \"2020-03-25T00:00:00\", \"2020-03-26T00:00:00\", \"2020-03-27T00:00:00\", \"2020-03-28T00:00:00\", \"2020-03-29T00:00:00\", \"2020-03-30T00:00:00\", \"2020-03-31T00:00:00\", \"2020-04-01T00:00:00\", \"2020-04-02T00:00:00\", \"2020-04-03T00:00:00\", \"2020-04-04T00:00:00\", \"2020-04-05T00:00:00\", \"2020-04-06T00:00:00\", \"2020-04-07T00:00:00\", \"2020-04-08T00:00:00\", \"2020-04-09T00:00:00\", \"2020-04-10T00:00:00\", \"2020-04-11T00:00:00\", \"2020-04-12T00:00:00\", \"2020-04-13T00:00:00\", \"2020-04-14T00:00:00\", \"2020-04-15T00:00:00\", \"2020-04-16T00:00:00\", \"2020-04-17T00:00:00\", \"2020-04-18T00:00:00\", \"2020-04-19T00:00:00\", \"2020-04-20T00:00:00\", \"2020-04-21T00:00:00\", \"2020-04-22T00:00:00\", \"2020-04-23T00:00:00\", \"2020-04-24T00:00:00\", \"2020-04-25T00:00:00\", \"2020-04-26T00:00:00\", \"2020-04-27T00:00:00\", \"2020-04-28T00:00:00\", \"2020-04-29T00:00:00\", \"2020-04-30T00:00:00\", \"2020-05-01T00:00:00\", \"2020-05-02T00:00:00\", \"2020-05-03T00:00:00\", \"2020-05-04T00:00:00\", \"2020-05-05T00:00:00\", \"2020-05-06T00:00:00\", \"2020-05-07T00:00:00\", \"2020-05-08T00:00:00\", \"2020-05-09T00:00:00\", \"2020-05-10T00:00:00\", \"2020-05-11T00:00:00\", \"2020-05-12T00:00:00\", \"2020-05-13T00:00:00\", \"2020-05-14T00:00:00\", \"2020-05-15T00:00:00\", \"2020-05-16T00:00:00\", \"2020-05-17T00:00:00\", \"2020-05-18T00:00:00\", \"2020-05-19T00:00:00\", \"2020-05-20T00:00:00\", \"2020-05-21T00:00:00\", \"2020-05-22T00:00:00\", \"2020-05-23T00:00:00\"], \"y\": [0, 0, 0, 0, 0, 0, 0, 0, 0, 0, 0, 0, 0, 0, 0, 0, 0, 0, 0, 0, 0, 0, 0, 0, 0, 0, 0, 0, 0, 0, 0, 0, 0, 0, 0, 0, 0, 0, 0, 0, 1, 1, 1, 5, 5, 5, 11, 15, 20, 21, 45, 86, 103, 103, 118, 171, 171, 274, 344, 392, 511, 562, 767, 900, 1012, 1104, 1203, 1299, 1453, 1563, 1720, 1885, 2039, 2179, 2402, 2605, 2795, 2932, 3287, 3651, 4033, 4462, 4934, 5369, 5862, 6380, 7142, 8274, 9362, 10484, 11631, 12772, 13930, 15102, 16299, 17522, 18811, 20077, 21402, 22753, 24097, 25459, 27011, 28656, 30251, 31938, 33731, 35432, 37136, 39048, 41014, 42925, 44830, 46869, 49176, 52016, 54752, 57345, 59854, 62545, 65077, 67719, 70161]}, {\"mode\": \"lines+markers\", \"name\": \"Validation Data for Confirmed Cases\", \"type\": \"scatter\", \"x\": [\"2020-05-24T00:00:00\", \"2020-05-25T00:00:00\", \"2020-05-26T00:00:00\", \"2020-05-27T00:00:00\", \"2020-05-28T00:00:00\", \"2020-05-29T00:00:00\", \"2020-05-30T00:00:00\"], \"y\": [72560, 74795, 76726, 78541, 80185, 81766, 83384]}, {\"mode\": \"lines+markers\", \"name\": \"Prediction of Confirmed Cases\", \"type\": \"scatter\", \"x\": [\"2020-05-24T00:00:00\", \"2020-05-25T00:00:00\", \"2020-05-26T00:00:00\", \"2020-05-27T00:00:00\", \"2020-05-28T00:00:00\", \"2020-05-29T00:00:00\", \"2020-05-30T00:00:00\"], \"y\": [72608.28912818164, 74860.84891010921, 77113.4086920368, 79365.96847396437, 81618.52825589194, 83871.08803781951, 86123.64781974709]}],\n",
              "                        {\"legend\": {\"traceorder\": \"normal\", \"x\": 0, \"y\": 1}, \"template\": {\"data\": {\"bar\": [{\"error_x\": {\"color\": \"#2a3f5f\"}, \"error_y\": {\"color\": \"#2a3f5f\"}, \"marker\": {\"line\": {\"color\": \"#E5ECF6\", \"width\": 0.5}}, \"type\": \"bar\"}], \"barpolar\": [{\"marker\": {\"line\": {\"color\": \"#E5ECF6\", \"width\": 0.5}}, \"type\": \"barpolar\"}], \"carpet\": [{\"aaxis\": {\"endlinecolor\": \"#2a3f5f\", \"gridcolor\": \"white\", \"linecolor\": \"white\", \"minorgridcolor\": \"white\", \"startlinecolor\": \"#2a3f5f\"}, \"baxis\": {\"endlinecolor\": \"#2a3f5f\", \"gridcolor\": \"white\", \"linecolor\": \"white\", \"minorgridcolor\": \"white\", \"startlinecolor\": \"#2a3f5f\"}, \"type\": \"carpet\"}], \"choropleth\": [{\"colorbar\": {\"outlinewidth\": 0, \"ticks\": \"\"}, \"type\": \"choropleth\"}], \"contour\": [{\"colorbar\": {\"outlinewidth\": 0, \"ticks\": \"\"}, \"colorscale\": [[0.0, \"#0d0887\"], [0.1111111111111111, \"#46039f\"], [0.2222222222222222, \"#7201a8\"], [0.3333333333333333, \"#9c179e\"], [0.4444444444444444, \"#bd3786\"], [0.5555555555555556, \"#d8576b\"], [0.6666666666666666, \"#ed7953\"], [0.7777777777777778, \"#fb9f3a\"], [0.8888888888888888, \"#fdca26\"], [1.0, \"#f0f921\"]], \"type\": \"contour\"}], \"contourcarpet\": [{\"colorbar\": {\"outlinewidth\": 0, \"ticks\": \"\"}, \"type\": \"contourcarpet\"}], \"heatmap\": [{\"colorbar\": {\"outlinewidth\": 0, \"ticks\": \"\"}, \"colorscale\": [[0.0, \"#0d0887\"], [0.1111111111111111, \"#46039f\"], [0.2222222222222222, \"#7201a8\"], [0.3333333333333333, \"#9c179e\"], [0.4444444444444444, \"#bd3786\"], [0.5555555555555556, \"#d8576b\"], [0.6666666666666666, \"#ed7953\"], [0.7777777777777778, \"#fb9f3a\"], [0.8888888888888888, \"#fdca26\"], [1.0, \"#f0f921\"]], \"type\": \"heatmap\"}], \"heatmapgl\": [{\"colorbar\": {\"outlinewidth\": 0, \"ticks\": \"\"}, \"colorscale\": [[0.0, \"#0d0887\"], [0.1111111111111111, \"#46039f\"], [0.2222222222222222, \"#7201a8\"], [0.3333333333333333, \"#9c179e\"], [0.4444444444444444, \"#bd3786\"], [0.5555555555555556, \"#d8576b\"], [0.6666666666666666, \"#ed7953\"], [0.7777777777777778, \"#fb9f3a\"], [0.8888888888888888, \"#fdca26\"], [1.0, \"#f0f921\"]], \"type\": \"heatmapgl\"}], \"histogram\": [{\"marker\": {\"colorbar\": {\"outlinewidth\": 0, \"ticks\": \"\"}}, \"type\": \"histogram\"}], \"histogram2d\": [{\"colorbar\": {\"outlinewidth\": 0, \"ticks\": \"\"}, \"colorscale\": [[0.0, \"#0d0887\"], [0.1111111111111111, \"#46039f\"], [0.2222222222222222, \"#7201a8\"], [0.3333333333333333, \"#9c179e\"], [0.4444444444444444, \"#bd3786\"], [0.5555555555555556, \"#d8576b\"], [0.6666666666666666, \"#ed7953\"], [0.7777777777777778, \"#fb9f3a\"], [0.8888888888888888, \"#fdca26\"], [1.0, \"#f0f921\"]], \"type\": \"histogram2d\"}], \"histogram2dcontour\": [{\"colorbar\": {\"outlinewidth\": 0, \"ticks\": \"\"}, \"colorscale\": [[0.0, \"#0d0887\"], [0.1111111111111111, \"#46039f\"], [0.2222222222222222, \"#7201a8\"], [0.3333333333333333, \"#9c179e\"], [0.4444444444444444, \"#bd3786\"], [0.5555555555555556, \"#d8576b\"], [0.6666666666666666, \"#ed7953\"], [0.7777777777777778, \"#fb9f3a\"], [0.8888888888888888, \"#fdca26\"], [1.0, \"#f0f921\"]], \"type\": \"histogram2dcontour\"}], \"mesh3d\": [{\"colorbar\": {\"outlinewidth\": 0, \"ticks\": \"\"}, \"type\": \"mesh3d\"}], \"parcoords\": [{\"line\": {\"colorbar\": {\"outlinewidth\": 0, \"ticks\": \"\"}}, \"type\": \"parcoords\"}], \"pie\": [{\"automargin\": true, \"type\": \"pie\"}], \"scatter\": [{\"marker\": {\"colorbar\": {\"outlinewidth\": 0, \"ticks\": \"\"}}, \"type\": \"scatter\"}], \"scatter3d\": [{\"line\": {\"colorbar\": {\"outlinewidth\": 0, \"ticks\": \"\"}}, \"marker\": {\"colorbar\": {\"outlinewidth\": 0, \"ticks\": \"\"}}, \"type\": \"scatter3d\"}], \"scattercarpet\": [{\"marker\": {\"colorbar\": {\"outlinewidth\": 0, \"ticks\": \"\"}}, \"type\": \"scattercarpet\"}], \"scattergeo\": [{\"marker\": {\"colorbar\": {\"outlinewidth\": 0, \"ticks\": \"\"}}, \"type\": \"scattergeo\"}], \"scattergl\": [{\"marker\": {\"colorbar\": {\"outlinewidth\": 0, \"ticks\": \"\"}}, \"type\": \"scattergl\"}], \"scattermapbox\": [{\"marker\": {\"colorbar\": {\"outlinewidth\": 0, \"ticks\": \"\"}}, \"type\": \"scattermapbox\"}], \"scatterpolar\": [{\"marker\": {\"colorbar\": {\"outlinewidth\": 0, \"ticks\": \"\"}}, \"type\": \"scatterpolar\"}], \"scatterpolargl\": [{\"marker\": {\"colorbar\": {\"outlinewidth\": 0, \"ticks\": \"\"}}, \"type\": \"scatterpolargl\"}], \"scatterternary\": [{\"marker\": {\"colorbar\": {\"outlinewidth\": 0, \"ticks\": \"\"}}, \"type\": \"scatterternary\"}], \"surface\": [{\"colorbar\": {\"outlinewidth\": 0, \"ticks\": \"\"}, \"colorscale\": [[0.0, \"#0d0887\"], [0.1111111111111111, \"#46039f\"], [0.2222222222222222, \"#7201a8\"], [0.3333333333333333, \"#9c179e\"], [0.4444444444444444, \"#bd3786\"], [0.5555555555555556, \"#d8576b\"], [0.6666666666666666, \"#ed7953\"], [0.7777777777777778, \"#fb9f3a\"], [0.8888888888888888, \"#fdca26\"], [1.0, \"#f0f921\"]], \"type\": \"surface\"}], \"table\": [{\"cells\": {\"fill\": {\"color\": \"#EBF0F8\"}, \"line\": {\"color\": \"white\"}}, \"header\": {\"fill\": {\"color\": \"#C8D4E3\"}, \"line\": {\"color\": \"white\"}}, \"type\": \"table\"}]}, \"layout\": {\"annotationdefaults\": {\"arrowcolor\": \"#2a3f5f\", \"arrowhead\": 0, \"arrowwidth\": 1}, \"coloraxis\": {\"colorbar\": {\"outlinewidth\": 0, \"ticks\": \"\"}}, \"colorscale\": {\"diverging\": [[0, \"#8e0152\"], [0.1, \"#c51b7d\"], [0.2, \"#de77ae\"], [0.3, \"#f1b6da\"], [0.4, \"#fde0ef\"], [0.5, \"#f7f7f7\"], [0.6, \"#e6f5d0\"], [0.7, \"#b8e186\"], [0.8, \"#7fbc41\"], [0.9, \"#4d9221\"], [1, \"#276419\"]], \"sequential\": [[0.0, \"#0d0887\"], [0.1111111111111111, \"#46039f\"], [0.2222222222222222, \"#7201a8\"], [0.3333333333333333, \"#9c179e\"], [0.4444444444444444, \"#bd3786\"], [0.5555555555555556, \"#d8576b\"], [0.6666666666666666, \"#ed7953\"], [0.7777777777777778, \"#fb9f3a\"], [0.8888888888888888, \"#fdca26\"], [1.0, \"#f0f921\"]], \"sequentialminus\": [[0.0, \"#0d0887\"], [0.1111111111111111, \"#46039f\"], [0.2222222222222222, \"#7201a8\"], [0.3333333333333333, \"#9c179e\"], [0.4444444444444444, \"#bd3786\"], [0.5555555555555556, \"#d8576b\"], [0.6666666666666666, \"#ed7953\"], [0.7777777777777778, \"#fb9f3a\"], [0.8888888888888888, \"#fdca26\"], [1.0, \"#f0f921\"]]}, \"colorway\": [\"#636efa\", \"#EF553B\", \"#00cc96\", \"#ab63fa\", \"#FFA15A\", \"#19d3f3\", \"#FF6692\", \"#B6E880\", \"#FF97FF\", \"#FECB52\"], \"font\": {\"color\": \"#2a3f5f\"}, \"geo\": {\"bgcolor\": \"white\", \"lakecolor\": \"white\", \"landcolor\": \"#E5ECF6\", \"showlakes\": true, \"showland\": true, \"subunitcolor\": \"white\"}, \"hoverlabel\": {\"align\": \"left\"}, \"hovermode\": \"closest\", \"mapbox\": {\"style\": \"light\"}, \"paper_bgcolor\": \"white\", \"plot_bgcolor\": \"#E5ECF6\", \"polar\": {\"angularaxis\": {\"gridcolor\": \"white\", \"linecolor\": \"white\", \"ticks\": \"\"}, \"bgcolor\": \"#E5ECF6\", \"radialaxis\": {\"gridcolor\": \"white\", \"linecolor\": \"white\", \"ticks\": \"\"}}, \"scene\": {\"xaxis\": {\"backgroundcolor\": \"#E5ECF6\", \"gridcolor\": \"white\", \"gridwidth\": 2, \"linecolor\": \"white\", \"showbackground\": true, \"ticks\": \"\", \"zerolinecolor\": \"white\"}, \"yaxis\": {\"backgroundcolor\": \"#E5ECF6\", \"gridcolor\": \"white\", \"gridwidth\": 2, \"linecolor\": \"white\", \"showbackground\": true, \"ticks\": \"\", \"zerolinecolor\": \"white\"}, \"zaxis\": {\"backgroundcolor\": \"#E5ECF6\", \"gridcolor\": \"white\", \"gridwidth\": 2, \"linecolor\": \"white\", \"showbackground\": true, \"ticks\": \"\", \"zerolinecolor\": \"white\"}}, \"shapedefaults\": {\"line\": {\"color\": \"#2a3f5f\"}}, \"ternary\": {\"aaxis\": {\"gridcolor\": \"white\", \"linecolor\": \"white\", \"ticks\": \"\"}, \"baxis\": {\"gridcolor\": \"white\", \"linecolor\": \"white\", \"ticks\": \"\"}, \"bgcolor\": \"#E5ECF6\", \"caxis\": {\"gridcolor\": \"white\", \"linecolor\": \"white\", \"ticks\": \"\"}}, \"title\": {\"x\": 0.05}, \"xaxis\": {\"automargin\": true, \"gridcolor\": \"white\", \"linecolor\": \"white\", \"ticks\": \"\", \"title\": {\"standoff\": 15}, \"zerolinecolor\": \"white\", \"zerolinewidth\": 2}, \"yaxis\": {\"automargin\": true, \"gridcolor\": \"white\", \"linecolor\": \"white\", \"ticks\": \"\", \"title\": {\"standoff\": 15}, \"zerolinecolor\": \"white\", \"zerolinewidth\": 2}}}, \"title\": {\"text\": \"Confirmed Cases Holt's Linear Model Prediction\"}, \"xaxis\": {\"title\": {\"text\": \"Date\"}}, \"yaxis\": {\"title\": {\"text\": \"Confirmed Cases\"}}},\n",
              "                        {\"responsive\": true}\n",
              "                    ).then(function(){\n",
              "                            \n",
              "var gd = document.getElementById('87fe748d-e575-4ea2-aae6-7b1d939c873e');\n",
              "var x = new MutationObserver(function (mutations, observer) {{\n",
              "        var display = window.getComputedStyle(gd).display;\n",
              "        if (!display || display === 'none') {{\n",
              "            console.log([gd, 'removed!']);\n",
              "            Plotly.purge(gd);\n",
              "            observer.disconnect();\n",
              "        }}\n",
              "}});\n",
              "\n",
              "// Listen for the removal of the full notebook cells\n",
              "var notebookContainer = gd.closest('#notebook-container');\n",
              "if (notebookContainer) {{\n",
              "    x.observe(notebookContainer, {childList: true});\n",
              "}}\n",
              "\n",
              "// Listen for the clearing of the current output cell\n",
              "var outputEl = gd.closest('.output');\n",
              "if (outputEl) {{\n",
              "    x.observe(outputEl, {childList: true});\n",
              "}}\n",
              "\n",
              "                        })\n",
              "                };\n",
              "                \n",
              "            </script>\n",
              "        </div>\n",
              "</body>\n",
              "</html>"
            ]
          },
          "metadata": {
            "tags": []
          }
        }
      ]
    },
    {
      "cell_type": "code",
      "metadata": {
        "id": "3LGUezFqfjPW",
        "colab_type": "code",
        "outputId": "a23fa95b-9dcd-4917-f02a-f9af0a4d0f06",
        "colab": {
          "base_uri": "https://localhost:8080/",
          "height": 204
        }
      },
      "source": [
        "holt_new_prediction=[]\n",
        "for i in range(1,18):\n",
        "    holt_new_prediction.append(holt.forecast((len(valid)+i))[-1])\n",
        "\n",
        "model_predictions[\"Holt's Linear Model Prediction\"]=holt_new_prediction\n",
        "model_predictions.head()"
      ],
      "execution_count": 0,
      "outputs": [
        {
          "output_type": "execute_result",
          "data": {
            "text/html": [
              "<div>\n",
              "<style scoped>\n",
              "    .dataframe tbody tr th:only-of-type {\n",
              "        vertical-align: middle;\n",
              "    }\n",
              "\n",
              "    .dataframe tbody tr th {\n",
              "        vertical-align: top;\n",
              "    }\n",
              "\n",
              "    .dataframe thead th {\n",
              "        text-align: right;\n",
              "    }\n",
              "</style>\n",
              "<table border=\"1\" class=\"dataframe\">\n",
              "  <thead>\n",
              "    <tr style=\"text-align: right;\">\n",
              "      <th></th>\n",
              "      <th>Date</th>\n",
              "      <th>Polynomial Regression Prediction</th>\n",
              "      <th>SVM Prediction</th>\n",
              "      <th>Holt's Linear Model Prediction</th>\n",
              "    </tr>\n",
              "  </thead>\n",
              "  <tbody>\n",
              "    <tr>\n",
              "      <th>0</th>\n",
              "      <td>2020-05-31</td>\n",
              "      <td>91045.685613</td>\n",
              "      <td>108188.784898</td>\n",
              "      <td>88376.207602</td>\n",
              "    </tr>\n",
              "    <tr>\n",
              "      <th>1</th>\n",
              "      <td>2020-06-01</td>\n",
              "      <td>93656.440629</td>\n",
              "      <td>113281.073635</td>\n",
              "      <td>90628.767384</td>\n",
              "    </tr>\n",
              "    <tr>\n",
              "      <th>2</th>\n",
              "      <td>2020-06-02</td>\n",
              "      <td>96236.651485</td>\n",
              "      <td>118571.478442</td>\n",
              "      <td>92881.327166</td>\n",
              "    </tr>\n",
              "    <tr>\n",
              "      <th>3</th>\n",
              "      <td>2020-06-03</td>\n",
              "      <td>98778.264432</td>\n",
              "      <td>124066.118105</td>\n",
              "      <td>95133.886947</td>\n",
              "    </tr>\n",
              "    <tr>\n",
              "      <th>4</th>\n",
              "      <td>2020-06-04</td>\n",
              "      <td>101272.780007</td>\n",
              "      <td>129771.252064</td>\n",
              "      <td>97386.446729</td>\n",
              "    </tr>\n",
              "  </tbody>\n",
              "</table>\n",
              "</div>"
            ],
            "text/plain": [
              "        Date  ...  Holt's Linear Model Prediction\n",
              "0 2020-05-31  ...                    88376.207602\n",
              "1 2020-06-01  ...                    90628.767384\n",
              "2 2020-06-02  ...                    92881.327166\n",
              "3 2020-06-03  ...                    95133.886947\n",
              "4 2020-06-04  ...                    97386.446729\n",
              "\n",
              "[5 rows x 4 columns]"
            ]
          },
          "metadata": {
            "tags": []
          },
          "execution_count": 111
        }
      ]
    },
    {
      "cell_type": "code",
      "metadata": {
        "id": "eDMjNfs8g1i2",
        "colab_type": "code",
        "colab": {}
      },
      "source": [
        "prophet_c=Prophet(interval_width=0.95,weekly_seasonality=True,)\n",
        "prophet_confirmed=pd.DataFrame(zip(list(saudi_datewise.index),list(saudi_datewise[\"Confirmed\"])),columns=['ds','y'])\n"
      ],
      "execution_count": 0,
      "outputs": []
    },
    {
      "cell_type": "code",
      "metadata": {
        "id": "rdPkXp9ThYuL",
        "colab_type": "code",
        "outputId": "7cea150f-8f43-4bf1-d866-9fe5120394e3",
        "colab": {
          "base_uri": "https://localhost:8080/",
          "height": 74
        }
      },
      "source": [
        "prophet_c.fit(prophet_confirmed)"
      ],
      "execution_count": 0,
      "outputs": [
        {
          "output_type": "stream",
          "text": [
            "INFO:fbprophet:Disabling yearly seasonality. Run prophet with yearly_seasonality=True to override this.\n",
            "INFO:fbprophet:Disabling daily seasonality. Run prophet with daily_seasonality=True to override this.\n"
          ],
          "name": "stderr"
        },
        {
          "output_type": "execute_result",
          "data": {
            "text/plain": [
              "<fbprophet.forecaster.Prophet at 0x7fa53a2585f8>"
            ]
          },
          "metadata": {
            "tags": []
          },
          "execution_count": 113
        }
      ]
    },
    {
      "cell_type": "code",
      "metadata": {
        "id": "42lq74Vnhbl9",
        "colab_type": "code",
        "colab": {}
      },
      "source": [
        "forecast_c=prophet_c.make_future_dataframe(periods=17)\n",
        "forecast_confirmed=forecast_c.copy()"
      ],
      "execution_count": 0,
      "outputs": []
    },
    {
      "cell_type": "code",
      "metadata": {
        "id": "9KfLNOKzhes7",
        "colab_type": "code",
        "colab": {}
      },
      "source": [
        "confirmed_forecast=prophet_c.predict(forecast_c)\n",
        "#print(confirmed_forecast[['ds','yhat', 'yhat_lower', 'yhat_upper']])"
      ],
      "execution_count": 0,
      "outputs": []
    },
    {
      "cell_type": "code",
      "metadata": {
        "id": "wUph62b4hg-i",
        "colab_type": "code",
        "outputId": "d1c2514d-dc8a-44ac-bda1-6a72874352a3",
        "colab": {
          "base_uri": "https://localhost:8080/",
          "height": 36
        }
      },
      "source": [
        "model_scores.append(np.sqrt(mean_squared_error(saudi_datewise[\"Confirmed\"],confirmed_forecast['yhat'].head(saudi_datewise.shape[0]))))\n",
        "print(\"Root Mean Squared Error for Prophet Model: \",np.sqrt(mean_squared_error(saudi_datewise[\"Confirmed\"],confirmed_forecast['yhat'].head(saudi_datewise.shape[0]))))"
      ],
      "execution_count": 0,
      "outputs": [
        {
          "output_type": "stream",
          "text": [
            "Root Mean Squared Error for Prophet Model:  564.7148814503457\n"
          ],
          "name": "stdout"
        }
      ]
    },
    {
      "cell_type": "code",
      "metadata": {
        "id": "lSu7cfX3hj3M",
        "colab_type": "code",
        "outputId": "3302be88-1f35-4e68-97c3-566775e1845c",
        "colab": {
          "base_uri": "https://localhost:8080/",
          "height": 460
        }
      },
      "source": [
        "print(prophet_c.plot(confirmed_forecast))"
      ],
      "execution_count": 0,
      "outputs": [
        {
          "output_type": "stream",
          "text": [
            "Figure(720x432)\n"
          ],
          "name": "stdout"
        },
        {
          "output_type": "display_data",
          "data": {
            "image/png": "[encoded data removed]",
            "text/plain": [
              "<Figure size 720x432 with 1 Axes>"
            ]
          },
          "metadata": {
            "tags": []
          }
        }
      ]
    },
    {
      "cell_type": "code",
      "metadata": {
        "id": "7Bf54Z2uhva3",
        "colab_type": "code",
        "outputId": "92528636-1096-49b3-947f-4d6c4e654ac7",
        "colab": {
          "base_uri": "https://localhost:8080/",
          "height": 460
        }
      },
      "source": [
        "print(prophet_c.plot_components(confirmed_forecast))"
      ],
      "execution_count": 0,
      "outputs": [
        {
          "output_type": "stream",
          "text": [
            "Figure(648x432)\n"
          ],
          "name": "stdout"
        },
        {
          "output_type": "display_data",
          "data": {
            "image/png": "[encoded data removed]",
            "text/plain": [
              "<Figure size 648x432 with 2 Axes>"
            ]
          },
          "metadata": {
            "tags": []
          }
        }
      ]
    },
    {
      "cell_type": "code",
      "metadata": {
        "id": "_uZX6fmph1W1",
        "colab_type": "code",
        "outputId": "4b6c4a1f-968e-42b4-d9a9-729b5717adbc",
        "colab": {
          "base_uri": "https://localhost:8080/",
          "height": 204
        }
      },
      "source": [
        "model_predictions[\"Prophet's Prediction\"]=list(confirmed_forecast[\"yhat\"].tail(17))\n",
        "model_predictions[\"Prophet's Upper Bound\"]=list(confirmed_forecast[\"yhat_upper\"].tail(17))\n",
        "model_predictions.head()"
      ],
      "execution_count": 0,
      "outputs": [
        {
          "output_type": "execute_result",
          "data": {
            "text/html": [
              "<div>\n",
              "<style scoped>\n",
              "    .dataframe tbody tr th:only-of-type {\n",
              "        vertical-align: middle;\n",
              "    }\n",
              "\n",
              "    .dataframe tbody tr th {\n",
              "        vertical-align: top;\n",
              "    }\n",
              "\n",
              "    .dataframe thead th {\n",
              "        text-align: right;\n",
              "    }\n",
              "</style>\n",
              "<table border=\"1\" class=\"dataframe\">\n",
              "  <thead>\n",
              "    <tr style=\"text-align: right;\">\n",
              "      <th></th>\n",
              "      <th>Date</th>\n",
              "      <th>Polynomial Regression Prediction</th>\n",
              "      <th>SVM Prediction</th>\n",
              "      <th>Holt's Linear Model Prediction</th>\n",
              "      <th>Prophet's Prediction</th>\n",
              "      <th>Prophet's Upper Bound</th>\n",
              "    </tr>\n",
              "  </thead>\n",
              "  <tbody>\n",
              "    <tr>\n",
              "      <th>0</th>\n",
              "      <td>2020-05-31</td>\n",
              "      <td>91045.685613</td>\n",
              "      <td>108188.784898</td>\n",
              "      <td>88376.207602</td>\n",
              "      <td>86572.566334</td>\n",
              "      <td>87674.358339</td>\n",
              "    </tr>\n",
              "    <tr>\n",
              "      <th>1</th>\n",
              "      <td>2020-06-01</td>\n",
              "      <td>93656.440629</td>\n",
              "      <td>113281.073635</td>\n",
              "      <td>90628.767384</td>\n",
              "      <td>88825.398995</td>\n",
              "      <td>89903.787502</td>\n",
              "    </tr>\n",
              "    <tr>\n",
              "      <th>2</th>\n",
              "      <td>2020-06-02</td>\n",
              "      <td>96236.651485</td>\n",
              "      <td>118571.478442</td>\n",
              "      <td>92881.327166</td>\n",
              "      <td>90976.197976</td>\n",
              "      <td>92162.076541</td>\n",
              "    </tr>\n",
              "    <tr>\n",
              "      <th>3</th>\n",
              "      <td>2020-06-03</td>\n",
              "      <td>98778.264432</td>\n",
              "      <td>124066.118105</td>\n",
              "      <td>95133.886947</td>\n",
              "      <td>93135.444303</td>\n",
              "      <td>94395.084554</td>\n",
              "    </tr>\n",
              "    <tr>\n",
              "      <th>4</th>\n",
              "      <td>2020-06-04</td>\n",
              "      <td>101272.780007</td>\n",
              "      <td>129771.252064</td>\n",
              "      <td>97386.446729</td>\n",
              "      <td>95307.982951</td>\n",
              "      <td>96746.183817</td>\n",
              "    </tr>\n",
              "  </tbody>\n",
              "</table>\n",
              "</div>"
            ],
            "text/plain": [
              "        Date  ...  Prophet's Upper Bound\n",
              "0 2020-05-31  ...           87674.358339\n",
              "1 2020-06-01  ...           89903.787502\n",
              "2 2020-06-02  ...           92162.076541\n",
              "3 2020-06-03  ...           94395.084554\n",
              "4 2020-06-04  ...           96746.183817\n",
              "\n",
              "[5 rows x 6 columns]"
            ]
          },
          "metadata": {
            "tags": []
          },
          "execution_count": 119
        }
      ]
    },
    {
      "cell_type": "code",
      "metadata": {
        "id": "k5i-K5RRiOmM",
        "colab_type": "code",
        "colab": {}
      },
      "source": [
        "models=[\"Polynomial Regression\",\"Support Vector Machine Regresssor\",\"Holt's Linear Model\",\n",
        "       \"Facebook's Prophet Model\"]"
      ],
      "execution_count": 0,
      "outputs": []
    },
    {
      "cell_type": "code",
      "metadata": {
        "id": "a1-jM4WRiZ5j",
        "colab_type": "code",
        "outputId": "8e5d4c81-1bde-4ce7-f26f-52dde340079e",
        "colab": {
          "base_uri": "https://localhost:8080/",
          "height": 124
        }
      },
      "source": [
        "model_evaluation=pd.DataFrame(list(zip(models,model_scores)),columns=[\"Model Name\",\"Root Mean Squared Error\"])\n",
        "model_evaluation=model_evaluation.sort_values([\"Root Mean Squared Error\"])\n",
        "model_evaluation.style.background_gradient(cmap='Reds')"
      ],
      "execution_count": 0,
      "outputs": [
        {
          "output_type": "execute_result",
          "data": {
            "text/html": [
              "<style  type=\"text/css\" >\n",
              "    #T_0d9f1390_a348_11ea_8f0f_0242ac1c0002row0_col1 {\n",
              "            background-color:  #fff5f0;\n",
              "            color:  #000000;\n",
              "        }    #T_0d9f1390_a348_11ea_8f0f_0242ac1c0002row1_col1 {\n",
              "            background-color:  #fee9df;\n",
              "            color:  #000000;\n",
              "        }    #T_0d9f1390_a348_11ea_8f0f_0242ac1c0002row2_col1 {\n",
              "            background-color:  #fdd0bc;\n",
              "            color:  #000000;\n",
              "        }    #T_0d9f1390_a348_11ea_8f0f_0242ac1c0002row3_col1 {\n",
              "            background-color:  #67000d;\n",
              "            color:  #f1f1f1;\n",
              "        }</style><table id=\"T_0d9f1390_a348_11ea_8f0f_0242ac1c0002\" ><thead>    <tr>        <th class=\"blank level0\" ></th>        <th class=\"col_heading level0 col0\" >Model Name</th>        <th class=\"col_heading level0 col1\" >Root Mean Squared Error</th>    </tr></thead><tbody>\n",
              "                <tr>\n",
              "                        <th id=\"T_0d9f1390_a348_11ea_8f0f_0242ac1c0002level0_row0\" class=\"row_heading level0 row0\" >3</th>\n",
              "                        <td id=\"T_0d9f1390_a348_11ea_8f0f_0242ac1c0002row0_col0\" class=\"data row0 col0\" >Facebook's Prophet Model</td>\n",
              "                        <td id=\"T_0d9f1390_a348_11ea_8f0f_0242ac1c0002row0_col1\" class=\"data row0 col1\" >564.714881</td>\n",
              "            </tr>\n",
              "            <tr>\n",
              "                        <th id=\"T_0d9f1390_a348_11ea_8f0f_0242ac1c0002level0_row1\" class=\"row_heading level0 row1\" >2</th>\n",
              "                        <td id=\"T_0d9f1390_a348_11ea_8f0f_0242ac1c0002row1_col0\" class=\"data row1 col0\" >Holt's Linear Model</td>\n",
              "                        <td id=\"T_0d9f1390_a348_11ea_8f0f_0242ac1c0002row1_col1\" class=\"data row1 col1\" >1455.501655</td>\n",
              "            </tr>\n",
              "            <tr>\n",
              "                        <th id=\"T_0d9f1390_a348_11ea_8f0f_0242ac1c0002level0_row2\" class=\"row_heading level0 row2\" >0</th>\n",
              "                        <td id=\"T_0d9f1390_a348_11ea_8f0f_0242ac1c0002row2_col0\" class=\"data row2 col0\" >Polynomial Regression</td>\n",
              "                        <td id=\"T_0d9f1390_a348_11ea_8f0f_0242ac1c0002row2_col1\" class=\"data row2 col1\" >2793.849610</td>\n",
              "            </tr>\n",
              "            <tr>\n",
              "                        <th id=\"T_0d9f1390_a348_11ea_8f0f_0242ac1c0002level0_row3\" class=\"row_heading level0 row3\" >1</th>\n",
              "                        <td id=\"T_0d9f1390_a348_11ea_8f0f_0242ac1c0002row3_col0\" class=\"data row3 col0\" >Support Vector Machine Regresssor</td>\n",
              "                        <td id=\"T_0d9f1390_a348_11ea_8f0f_0242ac1c0002row3_col1\" class=\"data row3 col1\" >12771.459525</td>\n",
              "            </tr>\n",
              "    </tbody></table>"
            ],
            "text/plain": [
              "<pandas.io.formats.style.Styler at 0x7fa53cd9c160>"
            ]
          },
          "metadata": {
            "tags": []
          },
          "execution_count": 121
        }
      ]
    },
    {
      "cell_type": "code",
      "metadata": {
        "id": "hBSoXGjricia",
        "colab_type": "code",
        "outputId": "957778c3-b4dd-4b9e-9e86-d9bbc0d28770",
        "colab": {
          "base_uri": "https://localhost:8080/",
          "height": 306
        }
      },
      "source": [
        "model_predictions[\"Average of Predictions Models\"]=model_predictions.mean(axis=1)\n",
        "show_predictions=model_predictions.head()\n",
        "show_predictions"
      ],
      "execution_count": 0,
      "outputs": [
        {
          "output_type": "execute_result",
          "data": {
            "text/html": [
              "<div>\n",
              "<style scoped>\n",
              "    .dataframe tbody tr th:only-of-type {\n",
              "        vertical-align: middle;\n",
              "    }\n",
              "\n",
              "    .dataframe tbody tr th {\n",
              "        vertical-align: top;\n",
              "    }\n",
              "\n",
              "    .dataframe thead th {\n",
              "        text-align: right;\n",
              "    }\n",
              "</style>\n",
              "<table border=\"1\" class=\"dataframe\">\n",
              "  <thead>\n",
              "    <tr style=\"text-align: right;\">\n",
              "      <th></th>\n",
              "      <th>Date</th>\n",
              "      <th>Polynomial Regression Prediction</th>\n",
              "      <th>SVM Prediction</th>\n",
              "      <th>Holt's Linear Model Prediction</th>\n",
              "      <th>Prophet's Prediction</th>\n",
              "      <th>Prophet's Upper Bound</th>\n",
              "      <th>Average of Predictions Models</th>\n",
              "    </tr>\n",
              "  </thead>\n",
              "  <tbody>\n",
              "    <tr>\n",
              "      <th>0</th>\n",
              "      <td>2020-05-31</td>\n",
              "      <td>91045.685613</td>\n",
              "      <td>108188.784898</td>\n",
              "      <td>88376.207602</td>\n",
              "      <td>86572.566334</td>\n",
              "      <td>87674.358339</td>\n",
              "      <td>92371.520557</td>\n",
              "    </tr>\n",
              "    <tr>\n",
              "      <th>1</th>\n",
              "      <td>2020-06-01</td>\n",
              "      <td>93656.440629</td>\n",
              "      <td>113281.073635</td>\n",
              "      <td>90628.767384</td>\n",
              "      <td>88825.398995</td>\n",
              "      <td>89903.787502</td>\n",
              "      <td>95259.093629</td>\n",
              "    </tr>\n",
              "    <tr>\n",
              "      <th>2</th>\n",
              "      <td>2020-06-02</td>\n",
              "      <td>96236.651485</td>\n",
              "      <td>118571.478442</td>\n",
              "      <td>92881.327166</td>\n",
              "      <td>90976.197976</td>\n",
              "      <td>92162.076541</td>\n",
              "      <td>98165.546322</td>\n",
              "    </tr>\n",
              "    <tr>\n",
              "      <th>3</th>\n",
              "      <td>2020-06-03</td>\n",
              "      <td>98778.264432</td>\n",
              "      <td>124066.118105</td>\n",
              "      <td>95133.886947</td>\n",
              "      <td>93135.444303</td>\n",
              "      <td>94395.084554</td>\n",
              "      <td>101101.759668</td>\n",
              "    </tr>\n",
              "    <tr>\n",
              "      <th>4</th>\n",
              "      <td>2020-06-04</td>\n",
              "      <td>101272.780007</td>\n",
              "      <td>129771.252064</td>\n",
              "      <td>97386.446729</td>\n",
              "      <td>95307.982951</td>\n",
              "      <td>96746.183817</td>\n",
              "      <td>104096.929114</td>\n",
              "    </tr>\n",
              "  </tbody>\n",
              "</table>\n",
              "</div>"
            ],
            "text/plain": [
              "        Date  ...  Average of Predictions Models\n",
              "0 2020-05-31  ...                   92371.520557\n",
              "1 2020-06-01  ...                   95259.093629\n",
              "2 2020-06-02  ...                   98165.546322\n",
              "3 2020-06-03  ...                  101101.759668\n",
              "4 2020-06-04  ...                  104096.929114\n",
              "\n",
              "[5 rows x 7 columns]"
            ]
          },
          "metadata": {
            "tags": []
          },
          "execution_count": 122
        }
      ]
    },
    {
      "cell_type": "code",
      "metadata": {
        "id": "SqTQvt14ihjE",
        "colab_type": "code",
        "colab": {}
      },
      "source": [
        ""
      ],
      "execution_count": 0,
      "outputs": []
    }
  ]
}